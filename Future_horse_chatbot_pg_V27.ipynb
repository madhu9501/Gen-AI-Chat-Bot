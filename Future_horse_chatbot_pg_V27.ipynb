{
 "cells": [
  {
   "cell_type": "markdown",
   "metadata": {
    "tags": []
   },
   "source": [
    "# Install dependencies"
   ]
  },
  {
   "cell_type": "code",
   "execution_count": 18,
   "metadata": {
    "tags": []
   },
   "outputs": [
    {
     "name": "stdout",
     "output_type": "stream",
     "text": [
      "\u001b[31mERROR: pip's dependency resolver does not currently take into account all the packages that are installed. This behaviour is the source of the following dependency conflicts.\n",
      "langchain-core 0.3.5 requires langsmith<0.2.0,>=0.1.125, but you have langsmith 0.0.92 which is incompatible.\n",
      "langchain-google-vertexai 1.0.10 requires langchain-core<0.3,>=0.2.33, but you have langchain-core 0.3.5 which is incompatible.\u001b[0m\u001b[31m\n",
      "\u001b[0m\u001b[31mERROR: pip's dependency resolver does not currently take into account all the packages that are installed. This behaviour is the source of the following dependency conflicts.\n",
      "google-api-python-client 1.8.0 requires google-api-core<2dev,>=1.13.0, but you have google-api-core 2.19.2 which is incompatible.\n",
      "langchain 0.0.340 requires langsmith<0.1.0,>=0.0.63, but you have langsmith 0.1.126 which is incompatible.\u001b[0m\u001b[31m\n",
      "\u001b[0m\u001b[31mERROR: pip's dependency resolver does not currently take into account all the packages that are installed. This behaviour is the source of the following dependency conflicts.\n",
      "google-auth-oauthlib 1.2.1 requires google-auth>=2.15.0, but you have google-auth 1.35.0 which is incompatible.\n",
      "google-cloud-aiplatform 1.67.1 requires google-auth<3.0.0dev,>=2.14.1, but you have google-auth 1.35.0 which is incompatible.\n",
      "google-cloud-artifact-registry 1.11.5 requires google-auth!=2.24.0,!=2.25.0,<3.0.0dev,>=2.14.1, but you have google-auth 1.35.0 which is incompatible.\n",
      "google-cloud-bigquery 3.25.0 requires google-auth<3.0.0dev,>=2.14.1, but you have google-auth 1.35.0 which is incompatible.\n",
      "google-cloud-bigquery-storage 2.25.0 requires google-auth<3.0.0dev,>=2.14.1, but you have google-auth 1.35.0 which is incompatible.\n",
      "google-cloud-language 2.14.0 requires google-auth!=2.24.0,!=2.25.0,<3.0.0dev,>=2.14.1, but you have google-auth 1.35.0 which is incompatible.\n",
      "google-cloud-monitoring 2.22.2 requires google-auth!=2.24.0,!=2.25.0,<3.0.0dev,>=2.14.1, but you have google-auth 1.35.0 which is incompatible.\n",
      "google-cloud-resource-manager 1.12.5 requires google-auth!=2.24.0,!=2.25.0,<3.0.0dev,>=2.14.1, but you have google-auth 1.35.0 which is incompatible.\n",
      "google-cloud-storage 2.18.2 requires google-api-core<3.0.0dev,>=2.15.0, but you have google-api-core 1.34.1 which is incompatible.\n",
      "google-cloud-storage 2.18.2 requires google-auth<3.0dev,>=2.26.1, but you have google-auth 1.35.0 which is incompatible.\n",
      "google-cloud-storage 2.18.2 requires google-cloud-core<3.0dev,>=2.3.0, but you have google-cloud-core 1.7.3 which is incompatible.\u001b[0m\u001b[31m\n",
      "\u001b[0m\u001b[31mERROR: pip's dependency resolver does not currently take into account all the packages that are installed. This behaviour is the source of the following dependency conflicts.\n",
      "google-cloud-core 1.7.3 requires google-auth<2.0dev,>=1.24.0, but you have google-auth 2.15.0 which is incompatible.\n",
      "google-cloud-storage 2.18.2 requires google-api-core<3.0.0dev,>=2.15.0, but you have google-api-core 1.34.1 which is incompatible.\n",
      "google-cloud-storage 2.18.2 requires google-auth<3.0dev,>=2.26.1, but you have google-auth 2.15.0 which is incompatible.\n",
      "google-cloud-storage 2.18.2 requires google-cloud-core<3.0dev,>=2.3.0, but you have google-cloud-core 1.7.3 which is incompatible.\u001b[0m\u001b[31m\n",
      "\u001b[0m\u001b[31mERROR: pip's dependency resolver does not currently take into account all the packages that are installed. This behaviour is the source of the following dependency conflicts.\n",
      "google-auth-oauthlib 1.2.1 requires google-auth>=2.15.0, but you have google-auth 1.35.0 which is incompatible.\n",
      "google-cloud-aiplatform 1.67.1 requires google-auth<3.0.0dev,>=2.14.1, but you have google-auth 1.35.0 which is incompatible.\n",
      "google-cloud-artifact-registry 1.11.5 requires google-auth!=2.24.0,!=2.25.0,<3.0.0dev,>=2.14.1, but you have google-auth 1.35.0 which is incompatible.\n",
      "google-cloud-bigquery 3.25.0 requires google-auth<3.0.0dev,>=2.14.1, but you have google-auth 1.35.0 which is incompatible.\n",
      "google-cloud-bigquery-storage 2.25.0 requires google-auth<3.0.0dev,>=2.14.1, but you have google-auth 1.35.0 which is incompatible.\n",
      "google-cloud-language 2.14.0 requires google-auth!=2.24.0,!=2.25.0,<3.0.0dev,>=2.14.1, but you have google-auth 1.35.0 which is incompatible.\n",
      "google-cloud-monitoring 2.22.2 requires google-auth!=2.24.0,!=2.25.0,<3.0.0dev,>=2.14.1, but you have google-auth 1.35.0 which is incompatible.\n",
      "google-cloud-resource-manager 1.12.5 requires google-auth!=2.24.0,!=2.25.0,<3.0.0dev,>=2.14.1, but you have google-auth 1.35.0 which is incompatible.\n",
      "google-cloud-storage 2.18.2 requires google-api-core<3.0.0dev,>=2.15.0, but you have google-api-core 1.34.1 which is incompatible.\n",
      "google-cloud-storage 2.18.2 requires google-auth<3.0dev,>=2.26.1, but you have google-auth 1.35.0 which is incompatible.\n",
      "google-cloud-storage 2.18.2 requires google-cloud-core<3.0dev,>=2.3.0, but you have google-cloud-core 1.7.3 which is incompatible.\u001b[0m\u001b[31m\n",
      "\u001b[0m"
     ]
    }
   ],
   "source": [
    "! pip install langchain==0.0.340 --quiet # Agent\n",
    "# ! pip install langsmith==0.1.84 --quiet\n",
    "!pip install -qU langchain-google-vertexai # gemini pro\n",
    "\n",
    "! pip install sentence-transformers --quiet # cross encoder\n",
    "\n",
    "! pip install numexpr --quiet # Math tool\n",
    "\n",
    "! pip install chromadb==0.4.13 --quiet # chroma vectore store\n",
    "\n",
    "! pip install google-cloud-bigquery[pandas] --quiet # BQ\n",
    "! pip install --upgrade google-cloud-aiplatform --quiet # vertex AI\n",
    "! pip install google-cloud-translate==2.0.1 --quiet # Translation\n",
    "! pip install google-auth==2.15.0 --quiet\n",
    "! pip install google-cloud-core==1.7.3 --quiet\n",
    "\n",
    "! pip install fuzzywuzzy --quiet # Fuzzy search for translator\n",
    "\n",
    "! pip install nltk --quiet # clean data for entity recognition\n",
    "\n",
    "! pip install sqlalchemy psycopg2-binary pandas --quiet # Postgres\n",
    "\n",
    "!pip install pyjwt # decode user token"
   ]
  },
  {
   "cell_type": "markdown",
   "metadata": {},
   "source": [
    "# Logging"
   ]
  },
  {
   "cell_type": "code",
   "execution_count": null,
   "metadata": {},
   "outputs": [],
   "source": [
    "import logging\n",
    "# logging.basicConfig(level=logging.INFO)\n",
    "logging.basicConfig(level=logging.INFO, format='%(asctime)s - %(levelname)s - %(message)s')"
   ]
  },
  {
   "cell_type": "markdown",
   "metadata": {
    "jp-MarkdownHeadingCollapsed": true,
    "tags": []
   },
   "source": [
    "# Vertex configuration"
   ]
  },
  {
   "cell_type": "code",
   "execution_count": 2,
   "metadata": {
    "id": "YqvnALApSYA-",
    "tags": []
   },
   "outputs": [],
   "source": [
    "VERTEX_PROJECT = \"future-hubs\"\n",
    "VERTEX_REGION = \"us-central1\""
   ]
  },
  {
   "cell_type": "markdown",
   "metadata": {
    "id": "j3AiF1f2Uxu6",
    "jp-MarkdownHeadingCollapsed": true,
    "tags": []
   },
   "source": [
    "# Postgres configuration"
   ]
  },
  {
   "cell_type": "code",
   "execution_count": 3,
   "metadata": {
    "cellView": "form",
    "id": "Hk57x-JuSbCP",
    "tags": []
   },
   "outputs": [],
   "source": [
    "import psycopg2\n",
    "from psycopg2 import sql, OperationalError, DatabaseError\n",
    "\n",
    "POSTGRES_CONN_PARAMS = {\n",
    "    \"database\" : 'FH_Sales_TestAI',\n",
    "    \"user\" : 'petroadmin',\n",
    "    \"password\" : 'Pswd$FH123',\n",
    "    \"host\" : '34.166.72.230',\n",
    "    \"port\" : 5432,\n",
    "    \"schema\" : 'SalesService'\n",
    "}\n",
    "# FH_Sales_Dev\n",
    "def connect_db(database = POSTGRES_CONN_PARAMS['database'], user = POSTGRES_CONN_PARAMS['user'], password = POSTGRES_CONN_PARAMS['password'], host = POSTGRES_CONN_PARAMS['host'], port = POSTGRES_CONN_PARAMS['port']):\n",
    "    try:\n",
    "        logging.info(f\"connecting to the database: {database}\")\n",
    "        logging.debug(f\"database: {database}\")\n",
    "        logging.debug(f\"host: {host}\")\n",
    "        logging.debug(f\"port: {port}\")\n",
    "\n",
    "        conn_string = f\"dbname={database} user={user} password={password} host={host} port={port}\"\n",
    "        conn = psycopg2.connect(conn_string)\n",
    "        logging.info(f\"Successfully connected to the database: {database}\")\n",
    "        return conn\n",
    "    except psycopg2.DatabaseError as e:\n",
    "        logging.error(f\"Error connecting to database: {e}\")\n",
    "        raise\n",
    "    except Exception as e:\n",
    "        logging.error(f\"Unexpected error: {e}\")\n",
    "        raise"
   ]
  },
  {
   "cell_type": "markdown",
   "metadata": {
    "id": "qqUs77DoU0Ho",
    "jp-MarkdownHeadingCollapsed": true,
    "tags": []
   },
   "source": [
    "# Authentication"
   ]
  },
  {
   "cell_type": "code",
   "execution_count": 4,
   "metadata": {
    "id": "wXnPJNPnVRbK",
    "tags": []
   },
   "outputs": [],
   "source": [
    "import vertexai\n",
    "import os\n",
    "\n",
    "os.environ[\"GOOGLE_APPLICATION_CREDENTIALS\"] = \"keys_fh.json\"\n",
    "vertexai.init(project=VERTEX_PROJECT, location=VERTEX_REGION)\n"
   ]
  },
  {
   "cell_type": "markdown",
   "metadata": {
    "id": "mY8OpGPMyeWZ",
    "jp-MarkdownHeadingCollapsed": true,
    "tags": []
   },
   "source": [
    "# Models"
   ]
  },
  {
   "cell_type": "code",
   "execution_count": 5,
   "metadata": {
    "id": "MD08GTeYyftN",
    "tags": []
   },
   "outputs": [],
   "source": [
    "from langchain.chat_models import ChatVertexAI\n",
    "from langchain.llms import VertexAI\n",
    "\n",
    "CODE_BISON = ChatVertexAI(model_name=\"codechat-bison\", max_output_tokens=1024)\n",
    "INTERPRETOR_MODEL = ChatVertexAI(max_output_tokens=1024)\n",
    "AGENT_MODEL agent_model = ChatVertexAI(max_output_tokens=1024)\n",
    "CHAT_BISON = ChatVertexAI(model_name=\"chat-bison@002\", max_output_tokens=1024)\n",
    "\n",
    "TEXT_BISON = VertexAI( model_name=\"text-bison@002\", max_output_tokens=1024)"
   ]
  },
  {
   "cell_type": "code",
   "execution_count": null,
   "metadata": {
    "tags": []
   },
   "outputs": [],
   "source": [
    "from langchain_google_vertexai import VertexAI\n",
    "GEMINI_PRO = VertexAI(model_name=\"gemini-pro\")\n",
    "\n",
    "# ! pip install langchain-core langchain-google-vertexai --upgrade --quiet\n",
    "\n",
    "# from langchain_google_vertexai import ChatVertexAI as GoogleChatVertexAI\n",
    "# gemini_model = GoogleChatVertexAI(model_name=\"gemini-1.5-pro-001\", max_output_tokens=1024) \n"
   ]
  },
  {
   "cell_type": "markdown",
   "metadata": {
    "tags": []
   },
   "source": [
    "# Docs"
   ]
  },
  {
   "cell_type": "markdown",
   "metadata": {
    "jp-MarkdownHeadingCollapsed": true,
    "tags": []
   },
   "source": [
    "### Descriptions"
   ]
  },
  {
   "cell_type": "code",
   "execution_count": null,
   "metadata": {
    "tags": []
   },
   "outputs": [],
   "source": [
    "TABLE_DESCRIPTIONS = {\n",
    "    \"AramcoStations\": \"This table contains information about Aramco stations. Each record represents a specific station with various attributes related to its identification, location, and administrative details.\",\n",
    "    \"Bills\": \"This table stores billing information, capturing details of each bill issued, including the type of bill, transaction details, payment information, and associated entities like vehicles and tenants.\",\n",
    "    \"DailySales\": \"This table contains records of daily sales, capturing detailed information about sales activities at various stations, including user and shift details.\",\n",
    "    \"DispenserConfiguration\": \"This table contains configuration details for dispensers at various stations, including technical specifications and warranty information.\",\n",
    "    \"FuelRequest\": \"This table records requests for fuel, including details of the requested fuel type, quantity, and delivery schedule.\",\n",
    "    \"FuelType\": \"This table stores information about different types of fuel, capturing basic details such as the fuel type name and record metadata.\",\n",
    "    \"JanitorData\": \"This table contains information related to janitorial data at various stations, including available amenities and services.\",\n",
    "    \"Location\": \"This table contains location details, capturing the name and metadata related to the locations.\",\n",
    "    \"Nozzles\": \"This table stores information about the nozzles used in fuel dispensers, capturing details such as nozzle numbers, associated dispensers, and fuel dispensed.\",\n",
    "    \"Ports\": \"This table contains information about the ports at various stations, including their numbers and names.\",\n",
    "    \"Regions\": \"This table contains details about different regions, including names and metadata related to the regions.\",\n",
    "    \"Shifts\": \"This table stores information about shifts at various stations, including shift timings and metadata.\",\n",
    "    \"StationMasters\": \"This table contains detailed information about fuel stations, including identification, location, and various metadata.\",\n",
    "    \"Tenants\": \"This table contains information about tenants, including contact details and commercial registration information.\",\n",
    "    \"TransactionDetails\": \"This table stores details about transactions or operations, including bill and fuel information.\",\n",
    "    \"Users\": \"This table contains information about users, including personal details and account metadata.\"}"
   ]
  },
  {
   "cell_type": "code",
   "execution_count": null,
   "metadata": {
    "tags": []
   },
   "outputs": [],
   "source": [
    "\n",
    "COLUMN_DESCRIPTIONS = {\"AramcoStations\":\n",
    "    {\"Id\": \"Unique identifier for the Aramco station.\",\n",
    "    \"TenantId\": \"Identifier for the tenant, referencing the tenants table.\",\n",
    "    \"StationNumber\": \"Number assigned to the Aramco station.\",\n",
    "    \"StationName\": \"Name of the Aramco station.\",\n",
    "    \"Location\": \"Physical location of the Aramco station.\",\n",
    "    \"IsDeleted\": \"Flag indicating if the station record is deleted.\",\n",
    "    \"CreatedDate\": \"Timestamp of when the station record was created.\",\n",
    "    \"ModifiedDate\": \"Timestamp of when the station record was last modified.\",\n",
    "    \"CreatedBy\": \"Identifier of the user who created the station record.\",\n",
    "    \"ModifiedBy\": \"Identifier of the user who last modified the station record.\"},\n",
    "    \"Bills\":\n",
    "    {\"Id\": \"Unique identifier for the bill.\",\n",
    "    \"BillTypeId\": \"Identifier for the type of bill.\",\n",
    "    \"TransactionTypeId\": \"Identifier for the type of transaction.\",\n",
    "    \"BilledTo\": \"Identifier of the entity the bill is issued to.\",\n",
    "    \"VehicleNumber\": \"Vehicle number associated with the bill.\",\n",
    "    \"CreatedDate\": \"Timestamp of when the bill was created.\",\n",
    "    \"ModifiedDate\": \"Timestamp of when the bill was last modified.\",\n",
    "    \"CreatedBy\": \"Identifier of the user who created the bill.\",\n",
    "    \"ModifiedBy\": \"Identifier of the user who last modified the bill.\",\n",
    "    \"IsDeleted\": \"Flag indicating if the bill record is deleted.\",\n",
    "    \"MeansOfPaymentTypeId\": \"Identifier for the means of payment.\",\n",
    "    \"StationId\": \"Identifier of the station associated with the bill.\",\n",
    "    \"TenantId\": \"Identifier of the tenant associated with the bill.\",\n",
    "    \"TotalBillWithVat\": \"Total amount of the bill including VAT.\",\n",
    "    \"TotalBillWithoutVat\": \"Total amount of the bill excluding VAT.\",\n",
    "    \"UserId\": \"Identifier of the user associated with the bill.\",\n",
    "    \"VehicleNo\": \"Vehicle number associated with the bill, potentially a duplicate of VehicleNumber.\"},\n",
    "    \"DailySales\":\n",
    "    {\"Id\": \"Unique identifier for the daily sales record.\",\n",
    "    \"TenantId\": \"Identifier for the tenant.\",\n",
    "    \"StationId\": \"Identifier for the station where the sales occurred.\",\n",
    "    \"UserId\": \"Identifier for the user associated with the sales.\",\n",
    "    \"ShiftId\": \"Identifier for the shift during which the sales were made.\",\n",
    "    \"DispenserId\": \"Identifier for the dispenser used in the sales.\",\n",
    "    \"OpeningBalance\": \"Opening balance of the sales for the day.\",\n",
    "    \"ClosingBalance\": \"Closing balance of the sales for the day.\",\n",
    "    \"TotalEmployeeSaleAmount\": \"Total amount of sales made by employees.\",\n",
    "    \"TotalPosSaleAmount\": \"Total amount of sales made through the POS system.\",\n",
    "    \"CreatedDate\": \"Date when the sales record was created.\",\n",
    "    \"ModifiedDate\": \"Date when the sales record was last modified.\",\n",
    "    \"CreatedBy\": \"Identifier of the user who created the sales record.\",\n",
    "    \"ModifiedBy\": \"Identifier of the user who last modified the sales record.\",\n",
    "    \"IsDeleted\": \"Flag indicating if the sales record is deleted.\"},\n",
    "    \"DispenserConfiguration\":\n",
    "    {\"Id\": \"Unique identifier for the dispenser configuration.\",\n",
    "    \"TenantId\": \"Identifier for the tenant.\",\n",
    "    \"StationId\": \"Identifier for the station where the dispenser is located.\",\n",
    "    \"PortId\": \"Identifier for the port associated with the dispenser.\",\n",
    "    \"DispenserNumber\": \"Number assigned to the dispenser.\",\n",
    "    \"DispenserSNo\": \"Serial number of the dispenser.\",\n",
    "    \"BrandId\": \"Identifier for the brand of the dispenser.\",\n",
    "    \"ModelId\": \"Identifier for the model of the dispenser.\",\n",
    "    \"SpeedOfDelivery\": \"Speed of delivery for the dispenser.\",\n",
    "    \"WarrantyStartDate\": \"Start date of the dispenser's warranty.\",\n",
    "    \"WarrantyEndDate\": \"End date of the dispenser's warranty.\",\n",
    "    \"SupplierId\": \"Identifier for the supplier of the dispenser.\",\n",
    "    \"IsDeleted\": \"Flag indicating if the dispenser configuration is deleted.\",\n",
    "    \"CreatedDate\": \"Timestamp of when the dispenser configuration was created.\",\n",
    "    \"ModifiedDate\": \"Timestamp of when the dispenser configuration was last modified.\",\n",
    "    \"CreatedBy\": \"Identifier of the user who created the dispenser configuration.\",\n",
    "    \"ModifiedBy\": \"Identifier of the user who last modified the dispenser configuration.\"},\n",
    "    \"FuelRequest\":\n",
    "    {\"int64_field_0\": \"Auxiliary field, potentially for internal use.\",\n",
    "    \"Id\": \"Unique identifier for the fuel request.\",\n",
    "    \"TenantId\": \"Identifier for the tenant making the request.\",\n",
    "    \"AramcoStationld\": \"Identifier for the Aramco station.\",\n",
    "    \"RequestNumber\": \"Number assigned to the fuel request.\",\n",
    "    \"RequestedOn\": \"Date when the fuel request was made.\",\n",
    "    \"SheduledDeliveryDate\": \"Scheduled date for the fuel delivery.\",\n",
    "    \"RequestType\": \"Type of the fuel request.\",\n",
    "    \"FuelTypeId\": \"Identifier for the type of fuel requested.\",\n",
    "    \"Quantity\": \"Quantity of fuel requested.\",\n",
    "    \"UnitPrice\": \"Unit price of the fuel.\",\n",
    "    \"TotalPrice\": \"Total price of the requested fuel.\",\n",
    "    \"Status\": \"Status of the fuel request.\",\n",
    "    \"Comment\": \"Additional comments or notes about the fuel request.\",\n",
    "    \"CreatedDate\": \"Timestamp of when the fuel request was created.\",\n",
    "    \"ModifiedDate\": \"Timestamp of when the fuel request was last modified.\",\n",
    "    \"CreatedBy\": \"Identifier of the user who created the fuel request.\",\n",
    "    \"ModifiedBy\": \"Identifier of the user who last modified the fuel request.\",\n",
    "    \"IsDeleted\": \"Flag indicating if the fuel request is deleted.\",\n",
    "    \"ApprovedBy\": \"Identifier of the user who approved the fuel request.\",\n",
    "    \"ApprovedOn\": \"Timestamp of when the fuel request was approved.\",\n",
    "    \"IsApproved\": \"Flag indicating if the fuel request is approved.\"},\n",
    "    \"FuelType\":\n",
    "    {\"Id\": \"Unique identifier for the fuel type.\",\n",
    "    \"Name\": \"Name of the fuel type.\",\n",
    "    \"IsDeleted\": \"Flag indicating if the fuel type record is deleted.\",\n",
    "    \"CreatedDate\": \"Timestamp of when the fuel type record was created.\",\n",
    "    \"ModifiedDate\": \"Timestamp of when the fuel type record was last modified.\",\n",
    "    \"CreatedBy\": \"Identifier of the user who created the fuel type record.\",\n",
    "    \"ModifiedBy\": \"Identifier of the user who last modified the fuel type record.\"},\n",
    "    \"JanitorData\":\n",
    "    {\"fuel_types\": \"Types of fuel available at the station.\",\n",
    "    \"location\": \"Location of the station.\",\n",
    "    \"station_name\": \"Name of the station.\",\n",
    "    \"restroom\": \"Indicates if restrooms are available at the station.\",\n",
    "    \"parking\": \"Indicates if parking facilities are available at the station.\",\n",
    "    \"charging_station\": \"Indicates if charging stations are available.\",\n",
    "    \"air_pump\": \"Indicates if air pumps are available at the station.\",\n",
    "    \"Fueling\": \"Indicates if fueling services are available.\",\n",
    "    \"Oil Services\": \"Indicates if oil services are available.\",\n",
    "    \"Convenience Store\": \"Indicates if a convenience store is present.\",\n",
    "    \"ATM Machines\": \"Indicates if ATM machines are available.\",\n",
    "    \"Car Wash\": \"Indicates if a car wash is available.\",\n",
    "    \"Fast Food Restaurants\": \"Indicates if fast food restaurants are available.\"},\n",
    "    \"Location\":\n",
    "    {\"Id\": \"Unique identifier for the location.\",\n",
    "    \"Name\": \"Name of the location.\",\n",
    "    \"IsDeleted\": \"Flag indicating if the location record is deleted.\",\n",
    "    \"CreatedDate\": \"Timestamp of when the location record was created.\",\n",
    "    \"ModifiedDate\": \"Timestamp of when the location record was last modified.\",\n",
    "    \"CreatedBy\": \"Identifier of the user who created the location record.\",\n",
    "    \"ModifiedBy\": \"Identifier of the user who last modified the location record.\"},\n",
    "    \"Nozzles\":\n",
    "    {\"Id\": \"Unique identifier for the nozzle.\",\n",
    "    \"NozzleNumber\": \"Number assigned to the nozzle.\",\n",
    "    \"TenantId\": \"Identifier for the tenant.\",\n",
    "    \"StationId\": \"Identifier for the station where the nozzle is located.\",\n",
    "    \"TankId\": \"Identifier for the tank associated with the nozzle.\",\n",
    "    \"DispenserId\": \"Identifier for the dispenser to which the nozzle is attached.\",\n",
    "    \"TotalFuelDispensedVolume\": \"Total volume of fuel dispensed by the nozzle.\",\n",
    "    \"LastInitialReading\": \"Last initial reading of the nozzle.\",\n",
    "    \"IsDeleted\": \"Flag indicating if the nozzle record is deleted.\",\n",
    "    \"CreatedDate\": \"Timestamp of when the nozzle record was created.\",\n",
    "    \"ModifiedDate\": \"Timestamp of when the nozzle record was last modified.\",\n",
    "    \"CreatedBy\": \"Identifier of the user who created the nozzle record.\",\n",
    "    \"ModifiedBy\": \"Identifier of the user who last modified the nozzle record.\"},\n",
    "    \"Ports\":\n",
    "    {\"Id\": \"Unique identifier for the port.\",\n",
    "    \"Number\": \"Number assigned to the port.\",\n",
    "    \"Name\": \"Name of the port.\",\n",
    "    \"TenantId\": \"Identifier for the tenant.\",\n",
    "    \"StationId\": \"Identifier for the station where the port is located.\",\n",
    "    \"IsDeleted\": \"Flag indicating if the port record is deleted.\",\n",
    "    \"CreatedDate\": \"Timestamp of when the port record was created.\",\n",
    "    \"ModifiedDate\": \"Timestamp of when the port record was last modified.\",\n",
    "    \"CreatedBy\": \"Identifier of the user who created the port record.\",\n",
    "    \"ModifiedBy\": \"Identifier of the user who last modified the port record.\"},\n",
    "    \"Regions\":\n",
    "    {\"Id\": \"Unique identifier for the region.\",\n",
    "    \"Name\": \"Name of the region.\",\n",
    "    \"IsDeleted\": \"Flag indicating if the region record is deleted.\",\n",
    "    \"CreatedDate\": \"Timestamp of when the region record was created.\",\n",
    "    \"ModifiedDate\": \"Timestamp of when the region record was last modified.\",\n",
    "    \"CreatedBy\": \"Identifier of the user who created the region record.\",\n",
    "    \"ModifiedBy\": \"Identifier of the user who last modified the region record.\",\n",
    "    \"ArabicName\": \"Arabic name of the region.\"},\n",
    "    \"Shifts\":\n",
    "    {\"Id\": \"Unique identifier for the shift.\",\n",
    "    \"TenantId\": \"Identifier for the tenant.\",\n",
    "    \"StationId\": \"Identifier for the station where the shift takes place.\",\n",
    "    \"Name\": \"Name of the shift.\",\n",
    "    \"FromTime\": \"Start time of the shift.\",\n",
    "    \"ToTime\": \"End time of the shift.\",\n",
    "    \"IsDeleted\": \"Flag indicating if the shift record is deleted.\",\n",
    "    \"IsNormalShift\": \"Flag indicating if the shift is a normal shift.\",\n",
    "    \"CreatedDate\": \"Timestamp of when the shift record was created.\",\n",
    "    \"ModifiedDate\": \"Timestamp of when the shift record was last modified.\",\n",
    "    \"CreatedBy\": \"Identifier of the user who created the shift record.\",\n",
    "    \"ModifiedBy\": \"Identifier of the user who last modified the shift record.\"},\n",
    "    \"StationMasters\":\n",
    "    {\"Id\": \"Unique identifier for the station.\",\n",
    "    \"StationNumber\": \"Number assigned to the station.\",\n",
    "    \"CRNumber\": \"Commercial Registration number of the station.\",\n",
    "    \"MainOfficeBranchId\": \"Identifier for the main office branch.\",\n",
    "    \"StationRelationShipId\": \"Identifier for the station relationship.\",\n",
    "    \"CRExpiry\": \"Expiry date of the Commercial Registration.\",\n",
    "    \"LocationId\": \"Identifier for the location.\",\n",
    "    \"RegionId\": \"Identifier for the region.\",\n",
    "    \"LatLong\": \"Latitude and Longitude coordinates.\",\n",
    "    \"Name\": \"Name of the station.\",\n",
    "    \"StationTypeId\": \"Identifier for the station type.\",\n",
    "    \"LastTaqyeessInspection\": \"Date of the last Taqyeess inspection.\",\n",
    "    \"TenantId\": \"Identifier for the tenant.\",\n",
    "    \"IsDeleted\": \"Flag indicating if the station record is deleted.\",\n",
    "    \"CreatedDate\": \"Timestamp of when the station record was created.\",\n",
    "    \"ModifiedDate\": \"Timestamp of when the station record was last modified.\",\n",
    "    \"CreatedBy\": \"Identifier of the user who created the station record.\",\n",
    "    \"ModifiedBy\": \"Identifier of the user who last modified the station record.\",\n",
    "    \"InternalInspectionReminderFrequency\": \"Frequency of internal inspection reminders.\",\n",
    "    \"LastInternalInspection\": \"Date of the last internal inspection.\",\n",
    "    \"TaqyeessInspectionReminderFrequency\": \"Frequency of Taqyeess inspection reminders.\",\n",
    "    \"IsActive\": \"Flag indicating if the station is active.\",\n",
    "    \"CityId\": \"Identifier for the city.\"},\n",
    "    \"Tenants\":\n",
    "    {\"Id\": \"Unique identifier for the tenant.\",\n",
    "    \"CRNumber\": \"Commercial Registration number of the tenant.\",\n",
    "    \"CompanyName\": \"Name of the company.\",\n",
    "    \"CRExpiryDate\": \"Expiry date of the Commercial Registration.\",\n",
    "    \"PostalCode\": \"Postal code of the registered address.\",\n",
    "    \"RegisteredAddress\": \"Full registered address of the tenant.\",\n",
    "    \"ShortAddress\": \"Short form of the registered address.\",\n",
    "    \"Street\": \"Street name of the registered address.\",\n",
    "    \"AccountOwnerName\": \"Name of the account owner.\",\n",
    "    \"AccountOwnerEmail\": \"Email address of the account owner.\",\n",
    "    \"AccountOwnerPhoneNumber\": \"Phone number of the account owner.\",\n",
    "    \"VAT\": \"VAT number of the tenant.\",\n",
    "    \"IsQualified\": \"Flag indicating if the tenant is qualified.\",\n",
    "    \"IsDeleted\": \"Flag indicating if the tenant record is deleted.\",\n",
    "    \"CreatedDate\": \"Timestamp of when the tenant record was created.\",\n",
    "    \"ModifiedDate\": \"Timestamp of when the tenant record was last modified.\",\n",
    "    \"CreatedBy\": \"Identifier of the user who created the tenant record.\",\n",
    "    \"ModifiedBy\": \"Identifier of the user who last modified the tenant record.\",\n",
    "    \"AccountOwnerNID\": \"National ID of the account owner.\",\n",
    "    \"AdditionalPhoneNumber\": \"Additional phone number for contact.\",\n",
    "    \"Building\": \"Building name or number.\",\n",
    "    \"City\": \"City name.\",\n",
    "    \"District\": \"District name.\",\n",
    "    \"NationalAdditionalPhoneNumber\": \"Additional national phone number.\",\n",
    "    \"NationalBuilding\": \"National building name or number.\",\n",
    "    \"NationalCity\": \"National city name.\",\n",
    "    \"NationalDistrict\": \"National district name.\",\n",
    "    \"NationalPostalCode\": \"National postal code.\",\n",
    "    \"NationalShortAddress\": \"Short national address.\",\n",
    "    \"NationalStreet\": \"National street name.\",\n",
    "    \"AccountOwnerGender\": \"Gender of the account owner.\"},\n",
    "    \"TransactionDetails\":\n",
    "    {\"Id\": \"Unique identifier for the transaction.\",\n",
    "    \"BillId\": \"Identifier for the bill associated with the transaction.\",\n",
    "    \"TransactionNumber\": \"Transaction number.\",\n",
    "    \"FuelTypeId\": \"Identifier for the type of fuel.\",\n",
    "    \"UnitCost\": \"Cost per unit of fuel.\",\n",
    "    \"Quantity\": \"Quantity of fuel dispensed.\",\n",
    "    \"TotalCost\": \"Total cost of the transaction.\",\n",
    "    \"CreatedDate\": \"Date of the transaction creation.\",\n",
    "    \"ModifiedDate\": \"Timestamp of when the transaction was last modified.\",\n",
    "    \"CreatedBy\": \"Identifier of the user who created the transaction.\",\n",
    "    \"ModifiedBy\": \"Identifier of the user who last modified the transaction.\",\n",
    "    \"IsDeleted\": \"Flag indicating if the transaction record is deleted.\",\n",
    "    \"NozzleId\": \"Identifier for the nozzle used in the transaction.\",\n",
    "    \"StationId\": \"Identifier for the station where the transaction took place.\",\n",
    "    \"TenantId\": \"Identifier for the tenant associated with the transaction.\"},\n",
    "    \"Users\":\n",
    "    {\"Id\": \"Unique identifier for the user.\",\n",
    "    \"TenantId\": \"Identifier for the tenant associated with the user.\",\n",
    "    \"UserUniqueId\": \"Unique identifier for the user.\",\n",
    "    \"FirstName\": \"First name of the user.\",\n",
    "    \"MiddleName\": \"Middle name of the user.\",\n",
    "    \"LastName\": \"Last name of the user.\",\n",
    "    \"UserName\": \"Username of the user.\",\n",
    "    \"Email\": \"Email address of the user.\",\n",
    "    \"PhoneNumber\": \"Phone number of the user.\",\n",
    "    \"IsDeleted\": \"Flag indicating if the user record is deleted.\",\n",
    "    \"NID\": \"National ID of the user.\",\n",
    "    \"Gender\": \"Gender of the user.\",\n",
    "    \"ProfilePicture\": \"URL of the user's profile picture.\",\n",
    "    \"CreatedDate\": \"Timestamp of when the user record was created.\",\n",
    "    \"ModifiedDate\": \"Timestamp of when the user record was last modified.\",\n",
    "    \"CreatedBy\": \"Identifier of the user who created the user record.\",\n",
    "    \"ModifiedBy\": \"Identifier of the user who last modified the user record.\",\n",
    "    \"IsActive\": \"Flag indicating if the user is active.\",\n",
    "    \"ReportingToId\": \"Identifier of the user to whom this user reports.\"}\n",
    "    }"
   ]
  },
  {
   "cell_type": "markdown",
   "metadata": {
    "jp-MarkdownHeadingCollapsed": true,
    "tags": []
   },
   "source": [
    "## Table schema docs "
   ]
  },
  {
   "cell_type": "code",
   "execution_count": null,
   "metadata": {
    "tags": []
   },
   "outputs": [],
   "source": [
    "\n",
    "def fetch_table_names(cursor, schema):\n",
    "    \"\"\"Fetch all table names in the given schema.\"\"\"\n",
    "    logging.info(f\"Fetching table names from {schema}.\")\n",
    "\n",
    "    table_query = \"\"\"\n",
    "        SELECT table_name \n",
    "        FROM information_schema.tables \n",
    "        WHERE table_schema = %s\n",
    "    \"\"\"\n",
    "    try:\n",
    "        cursor.execute(table_query, (schema,))\n",
    "        logging.info(f\"Fetched table names from {schema}.\")\n",
    "\n",
    "        return cursor.fetchall()\n",
    "    \n",
    "    except psycopg2.Error as e:\n",
    "        logging.error(f\"Error fetching table names: {e}\")\n",
    "        raise"
   ]
  },
  {
   "cell_type": "code",
   "execution_count": null,
   "metadata": {},
   "outputs": [],
   "source": [
    "def fetch_column_details(cursor, schema, table_name):\n",
    "    \"\"\"Fetch details of all columns in the specified table.\"\"\"\n",
    "    logging.info(f\"Fetching column deatils from {schema}, {table_name}.\")\n",
    "\n",
    "    column_query = \"\"\"\n",
    "    SELECT\n",
    "        c.column_name,\n",
    "        c.data_type,\n",
    "        tc.constraint_type,\n",
    "        ccu.table_name AS foreign_table_name,\n",
    "        ccu.column_name AS foreign_column_name\n",
    "    FROM\n",
    "        information_schema.columns AS c\n",
    "    LEFT JOIN\n",
    "        information_schema.key_column_usage AS kcu\n",
    "        ON c.table_name = kcu.table_name\n",
    "        AND c.column_name = kcu.column_name\n",
    "        AND c.table_schema = kcu.table_schema\n",
    "    LEFT JOIN\n",
    "        information_schema.table_constraints AS tc\n",
    "        ON kcu.constraint_name = tc.constraint_name\n",
    "        AND kcu.table_name = tc.table_name\n",
    "        AND kcu.table_schema = tc.table_schema\n",
    "    LEFT JOIN\n",
    "        information_schema.referential_constraints AS rc\n",
    "        ON kcu.constraint_name = rc.constraint_name\n",
    "    LEFT JOIN\n",
    "        information_schema.constraint_column_usage AS ccu\n",
    "        ON rc.unique_constraint_name = ccu.constraint_name\n",
    "    WHERE\n",
    "        c.table_schema = %s\n",
    "        AND c.table_name = %s\n",
    "    ORDER BY\n",
    "        c.ordinal_position;\n",
    "    \"\"\"\n",
    "    try:\n",
    "        cursor.execute(column_query, (schema, table_name))\n",
    "        return cursor.fetchall()\n",
    "    except psycopg2.Error as e:\n",
    "        logging.error(f\"Error fetching column details for table {table_name}: {e}\")\n",
    "        raise"
   ]
  },
  {
   "cell_type": "code",
   "execution_count": null,
   "metadata": {},
   "outputs": [],
   "source": [
    "TABLES_USED = [\n",
    "    \"AramcoStations\", \"Bills\", \"DailySales\", \"DispenserConfiguration\", \"FuelRequest\",\n",
    "    \"FuelType\", \"JanitorData\", \"Location\", \"Nozzles\", \"Ports\", \"Regions\", \"Shifts\",\n",
    "    \"StationMasters\", \"Tenants\", \"TransactionDetails\", \"Users\"\n",
    "]\n",
    "\n",
    "def get_parent_child_table_schemas(database, user, password, host, port, schema):\n",
    "    \"\"\"Fetch and organize parent-child table schemas for a given schema in the DB.\"\"\"\n",
    "    logging.info(f\"Fetching table schema from databse {database}.\")\n",
    "    logging.debug(f\"database: {database}\")\n",
    "    logging.debug(f\"host: {host}\")\n",
    "    logging.debug(f\"port: {port}\")\n",
    "\n",
    "    child_docs = []\n",
    "    parent_docs = []\n",
    "\n",
    "    # Initialize connection to the database\n",
    "    conn = None\n",
    "    try:\n",
    "        conn = connect_db(database, user, password, host, port)\n",
    "        cursor = conn.cursor()\n",
    "\n",
    "        # Fetch all table names in the schema\n",
    "        tables = fetch_table_names(cursor, schema)\n",
    "\n",
    "        for table in tables:\n",
    "            table_name = table[0]\n",
    "            if table_name in TABLES_USED:\n",
    "                # Fetch column details for each table\n",
    "                columns = fetch_column_details(cursor, schema, table_name)\n",
    "\n",
    "                schema_fields = []\n",
    "                column_description = \"\"\n",
    "\n",
    "                for col in columns:\n",
    "                    # Placeholder for column descriptions (if available)\n",
    "                    if table_name in COLUMN_DESCRIPTIONS and col[0] in COLUMN_DESCRIPTIONS[table_name]:\n",
    "                        column_description = COLUMN_DESCRIPTIONS[table_name][col[0]]\n",
    "\n",
    "                    col_info = {\n",
    "                        \"column_name\": col[0],\n",
    "                        \"data_type\": col[1],\n",
    "                        \"constraint_type\": col[2],\n",
    "                        \"foreign_table_name\": col[3],\n",
    "                        \"foreign_column_name\": col[4],\n",
    "                        \"column_description\": column_description\n",
    "                    }\n",
    "                    schema_fields.append(col_info)\n",
    "\n",
    "                    col_info_col = {\n",
    "                        \"column_name\": col[0],\n",
    "                        \"column_description\": column_description\n",
    "                    }\n",
    "                    child_doc = {\n",
    "                        \"table_name\": table_name,\n",
    "                        \"schema\": schema,\n",
    "                        \"column_details\": col_info_col\n",
    "                    }\n",
    "                    child_docs.append(child_doc)\n",
    "\n",
    "                # Placeholder for table descriptions (if available)\n",
    "                table_description = \"\"\n",
    "                if table_name in TABLE_DESCRIPTIONS:\n",
    "                    table_description = TABLE_DESCRIPTIONS[table_name]\n",
    "\n",
    "                parent_doc = {\n",
    "                    \"table_name\": table_name,\n",
    "                    \"schema\": schema,\n",
    "                    \"table_description\": table_description,\n",
    "                    \"table_details\": schema_fields\n",
    "                }\n",
    "                parent_docs.append(parent_doc)\n",
    "\n",
    "    except Exception as e:\n",
    "        logging.error(f\"An error occurred in get_parent_child_table_schemas : {e}\")\n",
    "        raise\n",
    "    finally:\n",
    "        # Ensure that the connection is closed\n",
    "        if conn:\n",
    "            conn.close()\n",
    "            logging.info(\"Database connection closed.\")\n",
    "\n",
    "    return parent_docs, child_docs"
   ]
  },
  {
   "cell_type": "code",
   "execution_count": null,
   "metadata": {
    "tags": []
   },
   "outputs": [],
   "source": []
  },
  {
   "cell_type": "code",
   "execution_count": null,
   "metadata": {
    "tags": []
   },
   "outputs": [],
   "source": [
    "parent_docs, child_docs =get_parent_child_table_schemas(database = POSTGRES_CONN_PARAMS['database'], user = POSTGRES_CONN_PARAMS['user'], password = POSTGRES_CONN_PARAMS['password'], host = POSTGRES_CONN_PARAMS['host'], port = POSTGRES_CONN_PARAMS['port'], schema= POSTGRES_CONN_PARAMS['schema'])\n",
    "#     database='FH_Sales_TestAI',\n",
    "#     user='petroadmin',\n",
    "#     password='Pswd$FH123',\n",
    "#     host='34.166.72.230',\n",
    "#     port=5432,\n",
    "#     schema='SalesService',\n",
    "# )"
   ]
  },
  {
   "cell_type": "code",
   "execution_count": null,
   "metadata": {
    "tags": []
   },
   "outputs": [],
   "source": [
    "# parent_docs = [{'table_name': '__MyMigrationsHistory', 'schema': 'SalesService', 'table_description': '', 'table_details': [{'column_name': 'MigrationId', 'data_type': 'character varying', 'constraint_type': 'PRIMARY KEY', 'foreign_table_name': None, 'foreign_column_name': None, 'column_description': ''}, {'column_name': 'ProductVersion', 'data_type': 'character varying', 'constraint_type': None, 'foreign_table_name': None, 'foreign_column_name': None, 'column_description': ''}]}, {'table_name': 'TransactionDetails', 'schema': 'SalesService', 'table_description': 'This table stores details about transactions or operations, including bill and fuel information.', 'table_details': [{'column_name': 'Id', 'data_type': 'text', 'constraint_type': 'PRIMARY KEY', 'foreign_table_name': None, 'foreign_column_name': None, 'column_description': 'Unique identifier for the transaction.'}, {'column_name': 'BillId', 'data_type': 'text', 'constraint_type': 'FOREIGN KEY', 'foreign_table_name': 'Bills', 'foreign_column_name': 'Id', 'column_description': 'Identifier for the bill associated with the transaction.'}, {'column_name': 'TransactionNumber', 'data_type': 'text', 'constraint_type': None, 'foreign_table_name': None, 'foreign_column_name': None, 'column_description': 'Transaction number.'}, {'column_name': 'FuelTypeId', 'data_type': 'text', 'constraint_type': 'FOREIGN KEY', 'foreign_table_name': 'FuelType', 'foreign_column_name': 'Id', 'column_description': 'Identifier for the type of fuel.'}, {'column_name': 'UnitCost', 'data_type': 'real', 'constraint_type': None, 'foreign_table_name': None, 'foreign_column_name': None, 'column_description': 'Cost per unit of fuel.'}, {'column_name': 'Quantity', 'data_type': 'real', 'constraint_type': None, 'foreign_table_name': None, 'foreign_column_name': None, 'column_description': 'Quantity of fuel dispensed.'}, {'column_name': 'TotalCost', 'data_type': 'real', 'constraint_type': None, 'foreign_table_name': None, 'foreign_column_name': None, 'column_description': 'Total cost of the transaction.'}, {'column_name': 'CreatedDate', 'data_type': 'timestamp with time zone', 'constraint_type': None, 'foreign_table_name': None, 'foreign_column_name': None, 'column_description': 'Date of the transaction creation.'}, {'column_name': 'ModifiedDate', 'data_type': 'timestamp with time zone', 'constraint_type': None, 'foreign_table_name': None, 'foreign_column_name': None, 'column_description': 'Timestamp of when the transaction was last modified.'}, {'column_name': 'CreatedBy', 'data_type': 'text', 'constraint_type': None, 'foreign_table_name': None, 'foreign_column_name': None, 'column_description': 'Identifier of the user who created the transaction.'}, {'column_name': 'ModifiedBy', 'data_type': 'text', 'constraint_type': None, 'foreign_table_name': None, 'foreign_column_name': None, 'column_description': 'Identifier of the user who last modified the transaction.'}, {'column_name': 'IsDeleted', 'data_type': 'boolean', 'constraint_type': None, 'foreign_table_name': None, 'foreign_column_name': None, 'column_description': 'Flag indicating if the transaction record is deleted.'}, {'column_name': 'NozzleId', 'data_type': 'text', 'constraint_type': 'FOREIGN KEY', 'foreign_table_name': 'Nozzles', 'foreign_column_name': 'Id', 'column_description': 'Identifier for the nozzle used in the transaction.'}, {'column_name': 'StationId', 'data_type': 'text', 'constraint_type': 'FOREIGN KEY', 'foreign_table_name': 'StationMasters', 'foreign_column_name': 'Id', 'column_description': 'Identifier for the station where the transaction took place.'}, {'column_name': 'TenantId', 'data_type': 'text', 'constraint_type': 'FOREIGN KEY', 'foreign_table_name': 'Tenants', 'foreign_column_name': 'Id', 'column_description': 'Identifier for the tenant associated with the transaction.'}]}, {'table_name': 'StationLockerTransactionType', 'schema': 'SalesService', 'table_description': '', 'table_details': [{'column_name': 'Id', 'data_type': 'text', 'constraint_type': 'PRIMARY KEY', 'foreign_table_name': None, 'foreign_column_name': None, 'column_description': ''}, {'column_name': 'Name', 'data_type': 'text', 'constraint_type': None, 'foreign_table_name': None, 'foreign_column_name': None, 'column_description': ''}, {'column_name': 'CreatedDate', 'data_type': 'timestamp with time zone', 'constraint_type': None, 'foreign_table_name': None, 'foreign_column_name': None, 'column_description': ''}, {'column_name': 'ModifiedDate', 'data_type': 'timestamp with time zone', 'constraint_type': None, 'foreign_table_name': None, 'foreign_column_name': None, 'column_description': ''}, {'column_name': 'CreatedBy', 'data_type': 'text', 'constraint_type': None, 'foreign_table_name': None, 'foreign_column_name': None, 'column_description': ''}, {'column_name': 'ModifiedBy', 'data_type': 'text', 'constraint_type': None, 'foreign_table_name': None, 'foreign_column_name': None, 'column_description': ''}, {'column_name': 'IsDeleted', 'data_type': 'boolean', 'constraint_type': None, 'foreign_table_name': None, 'foreign_column_name': None, 'column_description': ''}]}, {'table_name': 'Users', 'schema': 'SalesService', 'table_description': 'This table contains information about users, including personal details and account metadata.', 'table_details': [{'column_name': 'Id', 'data_type': 'text', 'constraint_type': 'PRIMARY KEY', 'foreign_table_name': None, 'foreign_column_name': None, 'column_description': 'Unique identifier for the user.'}, {'column_name': 'TenantId', 'data_type': 'text', 'constraint_type': 'FOREIGN KEY', 'foreign_table_name': 'Tenants', 'foreign_column_name': 'Id', 'column_description': 'Identifier for the tenant associated with the user.'}, {'column_name': 'UserUniqueId', 'data_type': 'text', 'constraint_type': None, 'foreign_table_name': None, 'foreign_column_name': None, 'column_description': 'Unique identifier for the user.'}, {'column_name': 'FirstName', 'data_type': 'text', 'constraint_type': None, 'foreign_table_name': None, 'foreign_column_name': None, 'column_description': 'First name of the user.'}, {'column_name': 'MiddleName', 'data_type': 'text', 'constraint_type': None, 'foreign_table_name': None, 'foreign_column_name': None, 'column_description': 'Middle name of the user.'}, {'column_name': 'LastName', 'data_type': 'text', 'constraint_type': None, 'foreign_table_name': None, 'foreign_column_name': None, 'column_description': 'Last name of the user.'}, {'column_name': 'UserName', 'data_type': 'text', 'constraint_type': None, 'foreign_table_name': None, 'foreign_column_name': None, 'column_description': 'Username of the user.'}, {'column_name': 'Email', 'data_type': 'text', 'constraint_type': None, 'foreign_table_name': None, 'foreign_column_name': None, 'column_description': 'Email address of the user.'}, {'column_name': 'PhoneNumber', 'data_type': 'text', 'constraint_type': None, 'foreign_table_name': None, 'foreign_column_name': None, 'column_description': 'Phone number of the user.'}, {'column_name': 'IsDeleted', 'data_type': 'boolean', 'constraint_type': None, 'foreign_table_name': None, 'foreign_column_name': None, 'column_description': 'Flag indicating if the user record is deleted.'}, {'column_name': 'NID', 'data_type': 'text', 'constraint_type': None, 'foreign_table_name': None, 'foreign_column_name': None, 'column_description': 'National ID of the user.'}, {'column_name': 'Gender', 'data_type': 'text', 'constraint_type': None, 'foreign_table_name': None, 'foreign_column_name': None, 'column_description': 'Gender of the user.'}, {'column_name': 'ProfilePicture', 'data_type': 'text', 'constraint_type': None, 'foreign_table_name': None, 'foreign_column_name': None, 'column_description': \"URL of the user's profile picture.\"}, {'column_name': 'CreatedDate', 'data_type': 'timestamp with time zone', 'constraint_type': None, 'foreign_table_name': None, 'foreign_column_name': None, 'column_description': 'Timestamp of when the user record was created.'}, {'column_name': 'ModifiedDate', 'data_type': 'timestamp with time zone', 'constraint_type': None, 'foreign_table_name': None, 'foreign_column_name': None, 'column_description': 'Timestamp of when the user record was last modified.'}, {'column_name': 'CreatedBy', 'data_type': 'text', 'constraint_type': None, 'foreign_table_name': None, 'foreign_column_name': None, 'column_description': 'Identifier of the user who created the user record.'}, {'column_name': 'ModifiedBy', 'data_type': 'text', 'constraint_type': None, 'foreign_table_name': None, 'foreign_column_name': None, 'column_description': 'Identifier of the user who last modified the user record.'}, {'column_name': 'IsActive', 'data_type': 'boolean', 'constraint_type': None, 'foreign_table_name': None, 'foreign_column_name': None, 'column_description': 'Flag indicating if the user is active.'}, {'column_name': 'ReportingToId', 'data_type': 'text', 'constraint_type': None, 'foreign_table_name': None, 'foreign_column_name': None, 'column_description': 'Identifier of the user to whom this user reports.'}]}, {'table_name': 'StationLockerTransactions', 'schema': 'SalesService', 'table_description': '', 'table_details': [{'column_name': 'Id', 'data_type': 'text', 'constraint_type': 'PRIMARY KEY', 'foreign_table_name': None, 'foreign_column_name': None, 'column_description': ''}, {'column_name': 'TenantId', 'data_type': 'text', 'constraint_type': 'FOREIGN KEY', 'foreign_table_name': 'Tenants', 'foreign_column_name': 'Id', 'column_description': ''}, {'column_name': 'StationId', 'data_type': 'text', 'constraint_type': 'FOREIGN KEY', 'foreign_table_name': 'StationMasters', 'foreign_column_name': 'Id', 'column_description': ''}, {'column_name': 'TransactionDoneBy', 'data_type': 'text', 'constraint_type': None, 'foreign_table_name': None, 'foreign_column_name': None, 'column_description': ''}, {'column_name': 'TransactionDateTime', 'data_type': 'timestamp with time zone', 'constraint_type': None, 'foreign_table_name': None, 'foreign_column_name': None, 'column_description': ''}, {'column_name': 'TransactionAmt', 'data_type': 'numeric', 'constraint_type': None, 'foreign_table_name': None, 'foreign_column_name': None, 'column_description': ''}, {'column_name': 'BalanceAmt', 'data_type': 'numeric', 'constraint_type': None, 'foreign_table_name': None, 'foreign_column_name': None, 'column_description': ''}, {'column_name': 'TransactionTypeId', 'data_type': 'text', 'constraint_type': 'FOREIGN KEY', 'foreign_table_name': 'StationLockerTransactionType', 'foreign_column_name': 'Id', 'column_description': ''}, {'column_name': 'CreatedDate', 'data_type': 'timestamp with time zone', 'constraint_type': None, 'foreign_table_name': None, 'foreign_column_name': None, 'column_description': ''}, {'column_name': 'ModifiedDate', 'data_type': 'timestamp with time zone', 'constraint_type': None, 'foreign_table_name': None, 'foreign_column_name': None, 'column_description': ''}, {'column_name': 'CreatedBy', 'data_type': 'text', 'constraint_type': None, 'foreign_table_name': None, 'foreign_column_name': None, 'column_description': ''}, {'column_name': 'ModifiedBy', 'data_type': 'text', 'constraint_type': None, 'foreign_table_name': None, 'foreign_column_name': None, 'column_description': ''}, {'column_name': 'IsDeleted', 'data_type': 'boolean', 'constraint_type': None, 'foreign_table_name': None, 'foreign_column_name': None, 'column_description': ''}]}, {'table_name': 'StationLocker', 'schema': 'SalesService', 'table_description': '', 'table_details': [{'column_name': 'Id', 'data_type': 'text', 'constraint_type': 'PRIMARY KEY', 'foreign_table_name': None, 'foreign_column_name': None, 'column_description': ''}, {'column_name': 'TenantId', 'data_type': 'text', 'constraint_type': 'FOREIGN KEY', 'foreign_table_name': 'Tenants', 'foreign_column_name': 'Id', 'column_description': ''}, {'column_name': 'StationId', 'data_type': 'text', 'constraint_type': 'FOREIGN KEY', 'foreign_table_name': 'StationMasters', 'foreign_column_name': 'Id', 'column_description': ''}, {'column_name': 'LockerAmt', 'data_type': 'numeric', 'constraint_type': None, 'foreign_table_name': None, 'foreign_column_name': None, 'column_description': ''}, {'column_name': 'CreatedDate', 'data_type': 'timestamp with time zone', 'constraint_type': None, 'foreign_table_name': None, 'foreign_column_name': None, 'column_description': ''}, {'column_name': 'ModifiedDate', 'data_type': 'timestamp with time zone', 'constraint_type': None, 'foreign_table_name': None, 'foreign_column_name': None, 'column_description': ''}, {'column_name': 'CreatedBy', 'data_type': 'text', 'constraint_type': None, 'foreign_table_name': None, 'foreign_column_name': None, 'column_description': ''}, {'column_name': 'ModifiedBy', 'data_type': 'text', 'constraint_type': None, 'foreign_table_name': None, 'foreign_column_name': None, 'column_description': ''}, {'column_name': 'IsDeleted', 'data_type': 'boolean', 'constraint_type': None, 'foreign_table_name': None, 'foreign_column_name': None, 'column_description': ''}, {'column_name': 'MaxLockerAmount', 'data_type': 'double precision', 'constraint_type': None, 'foreign_table_name': None, 'foreign_column_name': None, 'column_description': ''}]}, {'table_name': 'StationMasters', 'schema': 'SalesService', 'table_description': 'This table contains detailed information about fuel stations, including identification, location, and various metadata.', 'table_details': [{'column_name': 'Id', 'data_type': 'text', 'constraint_type': 'PRIMARY KEY', 'foreign_table_name': None, 'foreign_column_name': None, 'column_description': 'Unique identifier for the station.'}, {'column_name': 'StationNumber', 'data_type': 'text', 'constraint_type': None, 'foreign_table_name': None, 'foreign_column_name': None, 'column_description': 'Number assigned to the station.'}, {'column_name': 'CRNumber', 'data_type': 'text', 'constraint_type': None, 'foreign_table_name': None, 'foreign_column_name': None, 'column_description': 'Commercial Registration number of the station.'}, {'column_name': 'MainOfficeBranchId', 'data_type': 'text', 'constraint_type': None, 'foreign_table_name': None, 'foreign_column_name': None, 'column_description': 'Identifier for the main office branch.'}, {'column_name': 'StationRelationShipId', 'data_type': 'text', 'constraint_type': None, 'foreign_table_name': None, 'foreign_column_name': None, 'column_description': 'Identifier for the station relationship.'}, {'column_name': 'CRExpiry', 'data_type': 'timestamp with time zone', 'constraint_type': None, 'foreign_table_name': None, 'foreign_column_name': None, 'column_description': 'Expiry date of the Commercial Registration.'}, {'column_name': 'LocationId', 'data_type': 'text', 'constraint_type': 'FOREIGN KEY', 'foreign_table_name': 'Location', 'foreign_column_name': 'Id', 'column_description': 'Identifier for the location.'}, {'column_name': 'RegionId', 'data_type': 'text', 'constraint_type': 'FOREIGN KEY', 'foreign_table_name': 'Regions', 'foreign_column_name': 'Id', 'column_description': 'Identifier for the region.'}, {'column_name': 'LatLong', 'data_type': 'text', 'constraint_type': None, 'foreign_table_name': None, 'foreign_column_name': None, 'column_description': 'Latitude and Longitude coordinates.'}, {'column_name': 'Name', 'data_type': 'text', 'constraint_type': None, 'foreign_table_name': None, 'foreign_column_name': None, 'column_description': 'Name of the station.'}, {'column_name': 'StationTypeId', 'data_type': 'text', 'constraint_type': 'FOREIGN KEY', 'foreign_table_name': 'StationType', 'foreign_column_name': 'Id', 'column_description': 'Identifier for the station type.'}, {'column_name': 'LastTaqyeessInspection', 'data_type': 'timestamp with time zone', 'constraint_type': None, 'foreign_table_name': None, 'foreign_column_name': None, 'column_description': 'Date of the last Taqyeess inspection.'}, {'column_name': 'TenantId', 'data_type': 'text', 'constraint_type': 'FOREIGN KEY', 'foreign_table_name': 'Tenants', 'foreign_column_name': 'Id', 'column_description': 'Identifier for the tenant.'}, {'column_name': 'IsDeleted', 'data_type': 'boolean', 'constraint_type': None, 'foreign_table_name': None, 'foreign_column_name': None, 'column_description': 'Flag indicating if the station record is deleted.'}, {'column_name': 'CreatedDate', 'data_type': 'timestamp with time zone', 'constraint_type': None, 'foreign_table_name': None, 'foreign_column_name': None, 'column_description': 'Timestamp of when the station record was created.'}, {'column_name': 'ModifiedDate', 'data_type': 'timestamp with time zone', 'constraint_type': None, 'foreign_table_name': None, 'foreign_column_name': None, 'column_description': 'Timestamp of when the station record was last modified.'}, {'column_name': 'CreatedBy', 'data_type': 'text', 'constraint_type': None, 'foreign_table_name': None, 'foreign_column_name': None, 'column_description': 'Identifier of the user who created the station record.'}, {'column_name': 'ModifiedBy', 'data_type': 'text', 'constraint_type': None, 'foreign_table_name': None, 'foreign_column_name': None, 'column_description': 'Identifier of the user who last modified the station record.'}, {'column_name': 'InternalInspectionReminderFrequency', 'data_type': 'integer', 'constraint_type': None, 'foreign_table_name': None, 'foreign_column_name': None, 'column_description': 'Frequency of internal inspection reminders.'}, {'column_name': 'LastInternalInspection', 'data_type': 'timestamp with time zone', 'constraint_type': None, 'foreign_table_name': None, 'foreign_column_name': None, 'column_description': 'Date of the last internal inspection.'}, {'column_name': 'TaqyeessInspectionReminderFrequency', 'data_type': 'integer', 'constraint_type': None, 'foreign_table_name': None, 'foreign_column_name': None, 'column_description': 'Frequency of Taqyeess inspection reminders.'}, {'column_name': 'IsActive', 'data_type': 'boolean', 'constraint_type': None, 'foreign_table_name': None, 'foreign_column_name': None, 'column_description': 'Flag indicating if the station is active.'}, {'column_name': 'CityId', 'data_type': 'text', 'constraint_type': None, 'foreign_table_name': None, 'foreign_column_name': None, 'column_description': 'Identifier for the city.'}]}, {'table_name': 'Shifts', 'schema': 'SalesService', 'table_description': 'This table stores information about shifts at various stations, including shift timings and metadata.', 'table_details': [{'column_name': 'Id', 'data_type': 'text', 'constraint_type': 'PRIMARY KEY', 'foreign_table_name': None, 'foreign_column_name': None, 'column_description': 'Unique identifier for the shift.'}, {'column_name': 'TenantId', 'data_type': 'text', 'constraint_type': None, 'foreign_table_name': None, 'foreign_column_name': None, 'column_description': 'Identifier for the tenant.'}, {'column_name': 'StationId', 'data_type': 'text', 'constraint_type': 'FOREIGN KEY', 'foreign_table_name': 'StationMasters', 'foreign_column_name': 'Id', 'column_description': 'Identifier for the station where the shift takes place.'}, {'column_name': 'Name', 'data_type': 'text', 'constraint_type': None, 'foreign_table_name': None, 'foreign_column_name': None, 'column_description': 'Name of the shift.'}, {'column_name': 'FromTime', 'data_type': 'time without time zone', 'constraint_type': None, 'foreign_table_name': None, 'foreign_column_name': None, 'column_description': 'Start time of the shift.'}, {'column_name': 'ToTime', 'data_type': 'time without time zone', 'constraint_type': None, 'foreign_table_name': None, 'foreign_column_name': None, 'column_description': 'End time of the shift.'}, {'column_name': 'IsDeleted', 'data_type': 'boolean', 'constraint_type': None, 'foreign_table_name': None, 'foreign_column_name': None, 'column_description': 'Flag indicating if the shift record is deleted.'}, {'column_name': 'IsNormalShift', 'data_type': 'boolean', 'constraint_type': None, 'foreign_table_name': None, 'foreign_column_name': None, 'column_description': 'Flag indicating if the shift is a normal shift.'}, {'column_name': 'CreatedDate', 'data_type': 'timestamp with time zone', 'constraint_type': None, 'foreign_table_name': None, 'foreign_column_name': None, 'column_description': 'Timestamp of when the shift record was created.'}, {'column_name': 'ModifiedDate', 'data_type': 'timestamp with time zone', 'constraint_type': None, 'foreign_table_name': None, 'foreign_column_name': None, 'column_description': 'Timestamp of when the shift record was last modified.'}, {'column_name': 'CreatedBy', 'data_type': 'text', 'constraint_type': None, 'foreign_table_name': None, 'foreign_column_name': None, 'column_description': 'Identifier of the user who created the shift record.'}, {'column_name': 'ModifiedBy', 'data_type': 'text', 'constraint_type': None, 'foreign_table_name': None, 'foreign_column_name': None, 'column_description': 'Identifier of the user who last modified the shift record.'}]}, {'table_name': 'TankSupplier', 'schema': 'SalesService', 'table_description': '', 'table_details': [{'column_name': 'Id', 'data_type': 'text', 'constraint_type': 'PRIMARY KEY', 'foreign_table_name': None, 'foreign_column_name': None, 'column_description': ''}, {'column_name': 'Name', 'data_type': 'text', 'constraint_type': None, 'foreign_table_name': None, 'foreign_column_name': None, 'column_description': ''}, {'column_name': 'Email', 'data_type': 'text', 'constraint_type': None, 'foreign_table_name': None, 'foreign_column_name': None, 'column_description': ''}, {'column_name': 'Phone', 'data_type': 'text', 'constraint_type': None, 'foreign_table_name': None, 'foreign_column_name': None, 'column_description': ''}, {'column_name': 'IsDeleted', 'data_type': 'boolean', 'constraint_type': None, 'foreign_table_name': None, 'foreign_column_name': None, 'column_description': ''}, {'column_name': 'CreatedDate', 'data_type': 'timestamp with time zone', 'constraint_type': None, 'foreign_table_name': None, 'foreign_column_name': None, 'column_description': ''}, {'column_name': 'ModifiedDate', 'data_type': 'timestamp with time zone', 'constraint_type': None, 'foreign_table_name': None, 'foreign_column_name': None, 'column_description': ''}, {'column_name': 'CreatedBy', 'data_type': 'text', 'constraint_type': None, 'foreign_table_name': None, 'foreign_column_name': None, 'column_description': ''}, {'column_name': 'ModifiedBy', 'data_type': 'text', 'constraint_type': None, 'foreign_table_name': None, 'foreign_column_name': None, 'column_description': ''}]}, {'table_name': 'FuelType', 'schema': 'SalesService', 'table_description': 'This table stores information about different types of fuel, capturing basic details such as the fuel type name and record metadata.', 'table_details': [{'column_name': 'Id', 'data_type': 'text', 'constraint_type': 'PRIMARY KEY', 'foreign_table_name': None, 'foreign_column_name': None, 'column_description': 'Unique identifier for the fuel type.'}, {'column_name': 'Name', 'data_type': 'text', 'constraint_type': None, 'foreign_table_name': None, 'foreign_column_name': None, 'column_description': 'Name of the fuel type.'}, {'column_name': 'IsDeleted', 'data_type': 'boolean', 'constraint_type': None, 'foreign_table_name': None, 'foreign_column_name': None, 'column_description': 'Flag indicating if the fuel type record is deleted.'}, {'column_name': 'CreatedDate', 'data_type': 'timestamp with time zone', 'constraint_type': None, 'foreign_table_name': None, 'foreign_column_name': None, 'column_description': 'Timestamp of when the fuel type record was created.'}, {'column_name': 'ModifiedDate', 'data_type': 'timestamp with time zone', 'constraint_type': None, 'foreign_table_name': None, 'foreign_column_name': None, 'column_description': 'Timestamp of when the fuel type record was last modified.'}, {'column_name': 'CreatedBy', 'data_type': 'text', 'constraint_type': None, 'foreign_table_name': None, 'foreign_column_name': None, 'column_description': 'Identifier of the user who created the fuel type record.'}, {'column_name': 'ModifiedBy', 'data_type': 'text', 'constraint_type': None, 'foreign_table_name': None, 'foreign_column_name': None, 'column_description': 'Identifier of the user who last modified the fuel type record.'}]}, {'table_name': 'FuelPrice', 'schema': 'SalesService', 'table_description': '', 'table_details': [{'column_name': 'Id', 'data_type': 'text', 'constraint_type': 'PRIMARY KEY', 'foreign_table_name': None, 'foreign_column_name': None, 'column_description': ''}, {'column_name': 'FuelTypeId', 'data_type': 'text', 'constraint_type': 'FOREIGN KEY', 'foreign_table_name': 'FuelType', 'foreign_column_name': 'Id', 'column_description': ''}, {'column_name': 'RetailPrice', 'data_type': 'double precision', 'constraint_type': None, 'foreign_table_name': None, 'foreign_column_name': None, 'column_description': ''}, {'column_name': 'WholesalePrice', 'data_type': 'double precision', 'constraint_type': None, 'foreign_table_name': None, 'foreign_column_name': None, 'column_description': ''}, {'column_name': 'StationId', 'data_type': 'text', 'constraint_type': 'FOREIGN KEY', 'foreign_table_name': 'StationMasters', 'foreign_column_name': 'Id', 'column_description': ''}, {'column_name': 'TenantId', 'data_type': 'text', 'constraint_type': 'FOREIGN KEY', 'foreign_table_name': 'Tenants', 'foreign_column_name': 'Id', 'column_description': ''}, {'column_name': 'StartDate', 'data_type': 'timestamp with time zone', 'constraint_type': None, 'foreign_table_name': None, 'foreign_column_name': None, 'column_description': ''}, {'column_name': 'EndDate', 'data_type': 'timestamp with time zone', 'constraint_type': None, 'foreign_table_name': None, 'foreign_column_name': None, 'column_description': ''}, {'column_name': 'IsActive', 'data_type': 'boolean', 'constraint_type': None, 'foreign_table_name': None, 'foreign_column_name': None, 'column_description': ''}, {'column_name': 'IsDeleted', 'data_type': 'boolean', 'constraint_type': None, 'foreign_table_name': None, 'foreign_column_name': None, 'column_description': ''}, {'column_name': 'CreatedDate', 'data_type': 'timestamp with time zone', 'constraint_type': None, 'foreign_table_name': None, 'foreign_column_name': None, 'column_description': ''}, {'column_name': 'ModifiedDate', 'data_type': 'timestamp with time zone', 'constraint_type': None, 'foreign_table_name': None, 'foreign_column_name': None, 'column_description': ''}, {'column_name': 'CreatedBy', 'data_type': 'text', 'constraint_type': None, 'foreign_table_name': None, 'foreign_column_name': None, 'column_description': ''}, {'column_name': 'ModifiedBy', 'data_type': 'text', 'constraint_type': None, 'foreign_table_name': None, 'foreign_column_name': None, 'column_description': ''}]}, {'table_name': 'Tanks', 'schema': 'SalesService', 'table_description': '', 'table_details': [{'column_name': 'Id', 'data_type': 'text', 'constraint_type': 'PRIMARY KEY', 'foreign_table_name': None, 'foreign_column_name': None, 'column_description': ''}, {'column_name': 'TenantId', 'data_type': 'text', 'constraint_type': 'FOREIGN KEY', 'foreign_table_name': 'Tenants', 'foreign_column_name': 'Id', 'column_description': ''}, {'column_name': 'StationId', 'data_type': 'text', 'constraint_type': 'FOREIGN KEY', 'foreign_table_name': 'StationMasters', 'foreign_column_name': 'Id', 'column_description': ''}, {'column_name': 'TankMastersId', 'data_type': 'text', 'constraint_type': 'FOREIGN KEY', 'foreign_table_name': 'TankMasters', 'foreign_column_name': 'Id', 'column_description': ''}, {'column_name': 'TankSupplierId', 'data_type': 'text', 'constraint_type': 'FOREIGN KEY', 'foreign_table_name': 'TankSupplier', 'foreign_column_name': 'Id', 'column_description': ''}, {'column_name': 'FuelTypeId', 'data_type': 'text', 'constraint_type': 'FOREIGN KEY', 'foreign_table_name': 'FuelType', 'foreign_column_name': 'Id', 'column_description': ''}, {'column_name': 'WarrantyStartDate', 'data_type': 'timestamp with time zone', 'constraint_type': None, 'foreign_table_name': None, 'foreign_column_name': None, 'column_description': ''}, {'column_name': 'WarrantyExpiryDate', 'data_type': 'timestamp with time zone', 'constraint_type': None, 'foreign_table_name': None, 'foreign_column_name': None, 'column_description': ''}, {'column_name': 'UnusableVolume', 'data_type': 'double precision', 'constraint_type': None, 'foreign_table_name': None, 'foreign_column_name': None, 'column_description': ''}, {'column_name': 'LastInspectionDate', 'data_type': 'timestamp with time zone', 'constraint_type': None, 'foreign_table_name': None, 'foreign_column_name': None, 'column_description': ''}, {'column_name': 'InspectionReminderFrequency', 'data_type': 'integer', 'constraint_type': None, 'foreign_table_name': None, 'foreign_column_name': None, 'column_description': ''}, {'column_name': 'InspectionReminderBeforeDays', 'data_type': 'integer', 'constraint_type': None, 'foreign_table_name': None, 'foreign_column_name': None, 'column_description': ''}, {'column_name': 'DustVolume', 'data_type': 'double precision', 'constraint_type': None, 'foreign_table_name': None, 'foreign_column_name': None, 'column_description': ''}, {'column_name': 'HumidityVolume', 'data_type': 'double precision', 'constraint_type': None, 'foreign_table_name': None, 'foreign_column_name': None, 'column_description': ''}, {'column_name': 'CurentFuelVolume', 'data_type': 'numeric', 'constraint_type': None, 'foreign_table_name': None, 'foreign_column_name': None, 'column_description': ''}, {'column_name': 'IsDeleted', 'data_type': 'boolean', 'constraint_type': None, 'foreign_table_name': None, 'foreign_column_name': None, 'column_description': ''}, {'column_name': 'CreatedDate', 'data_type': 'timestamp with time zone', 'constraint_type': None, 'foreign_table_name': None, 'foreign_column_name': None, 'column_description': ''}, {'column_name': 'ModifiedDate', 'data_type': 'timestamp with time zone', 'constraint_type': None, 'foreign_table_name': None, 'foreign_column_name': None, 'column_description': ''}, {'column_name': 'CreatedBy', 'data_type': 'text', 'constraint_type': None, 'foreign_table_name': None, 'foreign_column_name': None, 'column_description': ''}, {'column_name': 'ModifiedBy', 'data_type': 'text', 'constraint_type': None, 'foreign_table_name': None, 'foreign_column_name': None, 'column_description': ''}, {'column_name': 'Number', 'data_type': 'text', 'constraint_type': None, 'foreign_table_name': None, 'foreign_column_name': None, 'column_description': ''}]}, {'table_name': 'Ports', 'schema': 'SalesService', 'table_description': 'This table contains information about the ports at various stations, including their numbers and names.', 'table_details': [{'column_name': 'Id', 'data_type': 'text', 'constraint_type': 'PRIMARY KEY', 'foreign_table_name': None, 'foreign_column_name': None, 'column_description': 'Unique identifier for the port.'}, {'column_name': 'Number', 'data_type': 'text', 'constraint_type': None, 'foreign_table_name': None, 'foreign_column_name': None, 'column_description': 'Number assigned to the port.'}, {'column_name': 'Name', 'data_type': 'text', 'constraint_type': None, 'foreign_table_name': None, 'foreign_column_name': None, 'column_description': 'Name of the port.'}, {'column_name': 'TenantId', 'data_type': 'text', 'constraint_type': 'FOREIGN KEY', 'foreign_table_name': 'Tenants', 'foreign_column_name': 'Id', 'column_description': 'Identifier for the tenant.'}, {'column_name': 'StationId', 'data_type': 'text', 'constraint_type': 'FOREIGN KEY', 'foreign_table_name': 'StationMasters', 'foreign_column_name': 'Id', 'column_description': 'Identifier for the station where the port is located.'}, {'column_name': 'IsDeleted', 'data_type': 'boolean', 'constraint_type': None, 'foreign_table_name': None, 'foreign_column_name': None, 'column_description': 'Flag indicating if the port record is deleted.'}, {'column_name': 'CreatedDate', 'data_type': 'timestamp with time zone', 'constraint_type': None, 'foreign_table_name': None, 'foreign_column_name': None, 'column_description': 'Timestamp of when the port record was created.'}, {'column_name': 'ModifiedDate', 'data_type': 'timestamp with time zone', 'constraint_type': None, 'foreign_table_name': None, 'foreign_column_name': None, 'column_description': 'Timestamp of when the port record was last modified.'}, {'column_name': 'CreatedBy', 'data_type': 'text', 'constraint_type': None, 'foreign_table_name': None, 'foreign_column_name': None, 'column_description': 'Identifier of the user who created the port record.'}, {'column_name': 'ModifiedBy', 'data_type': 'text', 'constraint_type': None, 'foreign_table_name': None, 'foreign_column_name': None, 'column_description': 'Identifier of the user who last modified the port record.'}]}, {'table_name': 'DispenserConfiguration', 'schema': 'SalesService', 'table_description': 'This table contains configuration details for dispensers at various stations, including technical specifications and warranty information.', 'table_details': [{'column_name': 'Id', 'data_type': 'text', 'constraint_type': 'PRIMARY KEY', 'foreign_table_name': None, 'foreign_column_name': None, 'column_description': 'Unique identifier for the dispenser configuration.'}, {'column_name': 'TenantId', 'data_type': 'text', 'constraint_type': 'FOREIGN KEY', 'foreign_table_name': 'Tenants', 'foreign_column_name': 'Id', 'column_description': 'Identifier for the tenant.'}, {'column_name': 'StationId', 'data_type': 'text', 'constraint_type': 'FOREIGN KEY', 'foreign_table_name': 'StationMasters', 'foreign_column_name': 'Id', 'column_description': 'Identifier for the station where the dispenser is located.'}, {'column_name': 'PortId', 'data_type': 'text', 'constraint_type': 'FOREIGN KEY', 'foreign_table_name': 'Ports', 'foreign_column_name': 'Id', 'column_description': 'Identifier for the port associated with the dispenser.'}, {'column_name': 'DispenserNumber', 'data_type': 'text', 'constraint_type': None, 'foreign_table_name': None, 'foreign_column_name': None, 'column_description': 'Number assigned to the dispenser.'}, {'column_name': 'DispenserSNo', 'data_type': 'text', 'constraint_type': None, 'foreign_table_name': None, 'foreign_column_name': None, 'column_description': 'Serial number of the dispenser.'}, {'column_name': 'BrandId', 'data_type': 'text', 'constraint_type': None, 'foreign_table_name': None, 'foreign_column_name': None, 'column_description': 'Identifier for the brand of the dispenser.'}, {'column_name': 'ModelId', 'data_type': 'text', 'constraint_type': None, 'foreign_table_name': None, 'foreign_column_name': None, 'column_description': 'Identifier for the model of the dispenser.'}, {'column_name': 'SpeedOfDelivery', 'data_type': 'numeric', 'constraint_type': None, 'foreign_table_name': None, 'foreign_column_name': None, 'column_description': 'Speed of delivery for the dispenser.'}, {'column_name': 'WarrantyStartDate', 'data_type': 'timestamp with time zone', 'constraint_type': None, 'foreign_table_name': None, 'foreign_column_name': None, 'column_description': \"Start date of the dispenser's warranty.\"}, {'column_name': 'WarrantyEndDate', 'data_type': 'timestamp with time zone', 'constraint_type': None, 'foreign_table_name': None, 'foreign_column_name': None, 'column_description': \"End date of the dispenser's warranty.\"}, {'column_name': 'SupplierId', 'data_type': 'text', 'constraint_type': None, 'foreign_table_name': None, 'foreign_column_name': None, 'column_description': 'Identifier for the supplier of the dispenser.'}, {'column_name': 'IsDeleted', 'data_type': 'boolean', 'constraint_type': None, 'foreign_table_name': None, 'foreign_column_name': None, 'column_description': 'Flag indicating if the dispenser configuration is deleted.'}, {'column_name': 'CreatedDate', 'data_type': 'timestamp with time zone', 'constraint_type': None, 'foreign_table_name': None, 'foreign_column_name': None, 'column_description': 'Timestamp of when the dispenser configuration was created.'}, {'column_name': 'ModifiedDate', 'data_type': 'timestamp with time zone', 'constraint_type': None, 'foreign_table_name': None, 'foreign_column_name': None, 'column_description': 'Timestamp of when the dispenser configuration was last modified.'}, {'column_name': 'CreatedBy', 'data_type': 'text', 'constraint_type': None, 'foreign_table_name': None, 'foreign_column_name': None, 'column_description': 'Identifier of the user who created the dispenser configuration.'}, {'column_name': 'ModifiedBy', 'data_type': 'text', 'constraint_type': None, 'foreign_table_name': None, 'foreign_column_name': None, 'column_description': 'Identifier of the user who last modified the dispenser configuration.'}]}, {'table_name': 'Nozzles', 'schema': 'SalesService', 'table_description': 'This table stores information about the nozzles used in fuel dispensers, capturing details such as nozzle numbers, associated dispensers, and fuel dispensed.', 'table_details': [{'column_name': 'Id', 'data_type': 'text', 'constraint_type': 'PRIMARY KEY', 'foreign_table_name': None, 'foreign_column_name': None, 'column_description': 'Unique identifier for the nozzle.'}, {'column_name': 'NozzleNumber', 'data_type': 'text', 'constraint_type': None, 'foreign_table_name': None, 'foreign_column_name': None, 'column_description': 'Number assigned to the nozzle.'}, {'column_name': 'TenantId', 'data_type': 'text', 'constraint_type': 'FOREIGN KEY', 'foreign_table_name': 'Tenants', 'foreign_column_name': 'Id', 'column_description': 'Identifier for the tenant.'}, {'column_name': 'StationId', 'data_type': 'text', 'constraint_type': 'FOREIGN KEY', 'foreign_table_name': 'StationMasters', 'foreign_column_name': 'Id', 'column_description': 'Identifier for the station where the nozzle is located.'}, {'column_name': 'TankId', 'data_type': 'text', 'constraint_type': 'FOREIGN KEY', 'foreign_table_name': 'Tanks', 'foreign_column_name': 'Id', 'column_description': 'Identifier for the tank associated with the nozzle.'}, {'column_name': 'DispenserId', 'data_type': 'text', 'constraint_type': 'FOREIGN KEY', 'foreign_table_name': 'DispenserConfiguration', 'foreign_column_name': 'Id', 'column_description': 'Identifier for the dispenser to which the nozzle is attached.'}, {'column_name': 'TotalFuelDispencedVolume', 'data_type': 'numeric', 'constraint_type': None, 'foreign_table_name': None, 'foreign_column_name': None, 'column_description': 'Identifier for the dispenser to which the nozzle is attached.'}, {'column_name': 'LastInitialReading', 'data_type': 'numeric', 'constraint_type': None, 'foreign_table_name': None, 'foreign_column_name': None, 'column_description': 'Last initial reading of the nozzle.'}, {'column_name': 'IsDeleted', 'data_type': 'boolean', 'constraint_type': None, 'foreign_table_name': None, 'foreign_column_name': None, 'column_description': 'Flag indicating if the nozzle record is deleted.'}, {'column_name': 'CreatedDate', 'data_type': 'timestamp with time zone', 'constraint_type': None, 'foreign_table_name': None, 'foreign_column_name': None, 'column_description': 'Timestamp of when the nozzle record was created.'}, {'column_name': 'ModifiedDate', 'data_type': 'timestamp with time zone', 'constraint_type': None, 'foreign_table_name': None, 'foreign_column_name': None, 'column_description': 'Timestamp of when the nozzle record was last modified.'}, {'column_name': 'CreatedBy', 'data_type': 'text', 'constraint_type': None, 'foreign_table_name': None, 'foreign_column_name': None, 'column_description': 'Identifier of the user who created the nozzle record.'}, {'column_name': 'ModifiedBy', 'data_type': 'text', 'constraint_type': None, 'foreign_table_name': None, 'foreign_column_name': None, 'column_description': 'Identifier of the user who last modified the nozzle record.'}]}, {'table_name': 'StationCollections', 'schema': 'SalesService', 'table_description': '', 'table_details': [{'column_name': 'Id', 'data_type': 'text', 'constraint_type': 'PRIMARY KEY', 'foreign_table_name': None, 'foreign_column_name': None, 'column_description': ''}, {'column_name': 'TenantId', 'data_type': 'text', 'constraint_type': 'FOREIGN KEY', 'foreign_table_name': 'Tenants', 'foreign_column_name': 'Id', 'column_description': ''}, {'column_name': 'StationId', 'data_type': 'text', 'constraint_type': 'FOREIGN KEY', 'foreign_table_name': 'StationMasters', 'foreign_column_name': 'Id', 'column_description': ''}, {'column_name': 'StationLockerTransactionId', 'data_type': 'text', 'constraint_type': 'FOREIGN KEY', 'foreign_table_name': 'StationLockerTransactions', 'foreign_column_name': 'Id', 'column_description': ''}, {'column_name': 'CollectedBy', 'data_type': 'text', 'constraint_type': None, 'foreign_table_name': None, 'foreign_column_name': None, 'column_description': ''}, {'column_name': 'CollectedDateTime', 'data_type': 'timestamp with time zone', 'constraint_type': None, 'foreign_table_name': None, 'foreign_column_name': None, 'column_description': ''}, {'column_name': 'ExistingAmt', 'data_type': 'numeric', 'constraint_type': None, 'foreign_table_name': None, 'foreign_column_name': None, 'column_description': ''}, {'column_name': 'CollectedAmt', 'data_type': 'numeric', 'constraint_type': None, 'foreign_table_name': None, 'foreign_column_name': None, 'column_description': ''}, {'column_name': 'BalanceAmt', 'data_type': 'numeric', 'constraint_type': None, 'foreign_table_name': None, 'foreign_column_name': None, 'column_description': ''}, {'column_name': 'IsDepositedtoBank', 'data_type': 'boolean', 'constraint_type': None, 'foreign_table_name': None, 'foreign_column_name': None, 'column_description': ''}, {'column_name': 'BankDepositedDate', 'data_type': 'timestamp with time zone', 'constraint_type': None, 'foreign_table_name': None, 'foreign_column_name': None, 'column_description': ''}, {'column_name': 'CreatedDate', 'data_type': 'timestamp with time zone', 'constraint_type': None, 'foreign_table_name': None, 'foreign_column_name': None, 'column_description': ''}, {'column_name': 'ModifiedDate', 'data_type': 'timestamp with time zone', 'constraint_type': None, 'foreign_table_name': None, 'foreign_column_name': None, 'column_description': ''}, {'column_name': 'CreatedBy', 'data_type': 'text', 'constraint_type': None, 'foreign_table_name': None, 'foreign_column_name': None, 'column_description': ''}, {'column_name': 'ModifiedBy', 'data_type': 'text', 'constraint_type': None, 'foreign_table_name': None, 'foreign_column_name': None, 'column_description': ''}, {'column_name': 'CollectedAmtBasedOnSupervisor', 'data_type': 'numeric', 'constraint_type': None, 'foreign_table_name': None, 'foreign_column_name': None, 'column_description': ''}, {'column_name': 'ExistingAmtBasedOnSupervisor', 'data_type': 'numeric', 'constraint_type': None, 'foreign_table_name': None, 'foreign_column_name': None, 'column_description': ''}, {'column_name': 'IsAgreedBySupervisor', 'data_type': 'boolean', 'constraint_type': None, 'foreign_table_name': None, 'foreign_column_name': None, 'column_description': ''}, {'column_name': 'IsDeleted', 'data_type': 'boolean', 'constraint_type': None, 'foreign_table_name': None, 'foreign_column_name': None, 'column_description': ''}, {'column_name': 'IsCashSaleTally', 'data_type': 'boolean', 'constraint_type': None, 'foreign_table_name': None, 'foreign_column_name': None, 'column_description': ''}, {'column_name': 'IsPOSSaleTally', 'data_type': 'boolean', 'constraint_type': None, 'foreign_table_name': None, 'foreign_column_name': None, 'column_description': ''}, {'column_name': 'Supervisor', 'data_type': 'text', 'constraint_type': None, 'foreign_table_name': None, 'foreign_column_name': None, 'column_description': ''}]}, {'table_name': 'BillTypes', 'schema': 'SalesService', 'table_description': '', 'table_details': [{'column_name': 'Id', 'data_type': 'text', 'constraint_type': 'PRIMARY KEY', 'foreign_table_name': None, 'foreign_column_name': None, 'column_description': ''}, {'column_name': 'Name', 'data_type': 'text', 'constraint_type': None, 'foreign_table_name': None, 'foreign_column_name': None, 'column_description': ''}, {'column_name': 'IsDeleted', 'data_type': 'boolean', 'constraint_type': None, 'foreign_table_name': None, 'foreign_column_name': None, 'column_description': ''}, {'column_name': 'CreatedDate', 'data_type': 'timestamp with time zone', 'constraint_type': None, 'foreign_table_name': None, 'foreign_column_name': None, 'column_description': ''}, {'column_name': 'ModifiedDate', 'data_type': 'timestamp with time zone', 'constraint_type': None, 'foreign_table_name': None, 'foreign_column_name': None, 'column_description': ''}, {'column_name': 'CreatedBy', 'data_type': 'text', 'constraint_type': None, 'foreign_table_name': None, 'foreign_column_name': None, 'column_description': ''}, {'column_name': 'ModifiedBy', 'data_type': 'text', 'constraint_type': None, 'foreign_table_name': None, 'foreign_column_name': None, 'column_description': ''}]}, {'table_name': 'MeansOfPaymentTypes', 'schema': 'SalesService', 'table_description': '', 'table_details': [{'column_name': 'Id', 'data_type': 'text', 'constraint_type': 'PRIMARY KEY', 'foreign_table_name': None, 'foreign_column_name': None, 'column_description': ''}, {'column_name': 'Name', 'data_type': 'text', 'constraint_type': None, 'foreign_table_name': None, 'foreign_column_name': None, 'column_description': ''}, {'column_name': 'IsDeleted', 'data_type': 'boolean', 'constraint_type': None, 'foreign_table_name': None, 'foreign_column_name': None, 'column_description': ''}, {'column_name': 'CreatedDate', 'data_type': 'timestamp with time zone', 'constraint_type': None, 'foreign_table_name': None, 'foreign_column_name': None, 'column_description': ''}, {'column_name': 'ModifiedDate', 'data_type': 'timestamp with time zone', 'constraint_type': None, 'foreign_table_name': None, 'foreign_column_name': None, 'column_description': ''}, {'column_name': 'CreatedBy', 'data_type': 'text', 'constraint_type': None, 'foreign_table_name': None, 'foreign_column_name': None, 'column_description': ''}, {'column_name': 'ModifiedBy', 'data_type': 'text', 'constraint_type': None, 'foreign_table_name': None, 'foreign_column_name': None, 'column_description': ''}]}, {'table_name': 'TransactionTypes', 'schema': 'SalesService', 'table_description': '', 'table_details': [{'column_name': 'Id', 'data_type': 'text', 'constraint_type': 'PRIMARY KEY', 'foreign_table_name': None, 'foreign_column_name': None, 'column_description': ''}, {'column_name': 'Name', 'data_type': 'text', 'constraint_type': None, 'foreign_table_name': None, 'foreign_column_name': None, 'column_description': ''}, {'column_name': 'IsDeleted', 'data_type': 'boolean', 'constraint_type': None, 'foreign_table_name': None, 'foreign_column_name': None, 'column_description': ''}, {'column_name': 'CreatedDate', 'data_type': 'timestamp with time zone', 'constraint_type': None, 'foreign_table_name': None, 'foreign_column_name': None, 'column_description': ''}, {'column_name': 'ModifiedDate', 'data_type': 'timestamp with time zone', 'constraint_type': None, 'foreign_table_name': None, 'foreign_column_name': None, 'column_description': ''}, {'column_name': 'CreatedBy', 'data_type': 'text', 'constraint_type': None, 'foreign_table_name': None, 'foreign_column_name': None, 'column_description': ''}, {'column_name': 'ModifiedBy', 'data_type': 'text', 'constraint_type': None, 'foreign_table_name': None, 'foreign_column_name': None, 'column_description': ''}]}, {'table_name': 'Bills', 'schema': 'SalesService', 'table_description': 'This table stores billing information, capturing details of each bill issued, including the type of bill, transaction details, payment information, and associated entities like vehicles and tenants.', 'table_details': [{'column_name': 'Id', 'data_type': 'text', 'constraint_type': 'PRIMARY KEY', 'foreign_table_name': None, 'foreign_column_name': None, 'column_description': 'Unique identifier for the bill.'}, {'column_name': 'BillTypeId', 'data_type': 'text', 'constraint_type': 'FOREIGN KEY', 'foreign_table_name': 'BillTypes', 'foreign_column_name': 'Id', 'column_description': 'Identifier for the type of bill.'}, {'column_name': 'TransactionTypeId', 'data_type': 'text', 'constraint_type': 'FOREIGN KEY', 'foreign_table_name': 'TransactionTypes', 'foreign_column_name': 'Id', 'column_description': 'Identifier for the type of transaction.'}, {'column_name': 'BilledTo', 'data_type': 'text', 'constraint_type': None, 'foreign_table_name': None, 'foreign_column_name': None, 'column_description': 'Identifier of the entity the bill is issued to.'}, {'column_name': 'VehicleNumber', 'data_type': 'text', 'constraint_type': None, 'foreign_table_name': None, 'foreign_column_name': None, 'column_description': 'Vehicle number associated with the bill.'}, {'column_name': 'CreatedDate', 'data_type': 'timestamp with time zone', 'constraint_type': None, 'foreign_table_name': None, 'foreign_column_name': None, 'column_description': 'Timestamp of when the bill was created.'}, {'column_name': 'ModifiedDate', 'data_type': 'timestamp with time zone', 'constraint_type': None, 'foreign_table_name': None, 'foreign_column_name': None, 'column_description': 'Timestamp of when the bill was last modified.'}, {'column_name': 'CreatedBy', 'data_type': 'text', 'constraint_type': None, 'foreign_table_name': None, 'foreign_column_name': None, 'column_description': 'Identifier of the user who created the bill.'}, {'column_name': 'ModifiedBy', 'data_type': 'text', 'constraint_type': None, 'foreign_table_name': None, 'foreign_column_name': None, 'column_description': 'Identifier of the user who last modified the bill.'}, {'column_name': 'IsDeleted', 'data_type': 'boolean', 'constraint_type': None, 'foreign_table_name': None, 'foreign_column_name': None, 'column_description': 'Flag indicating if the bill record is deleted.'}, {'column_name': 'MeansOfPaymentTypeId', 'data_type': 'text', 'constraint_type': 'FOREIGN KEY', 'foreign_table_name': 'MeansOfPaymentTypes', 'foreign_column_name': 'Id', 'column_description': 'Identifier for the means of payment.'}, {'column_name': 'StationId', 'data_type': 'text', 'constraint_type': 'FOREIGN KEY', 'foreign_table_name': 'StationMasters', 'foreign_column_name': 'Id', 'column_description': 'Identifier of the station associated with the bill.'}, {'column_name': 'TenantId', 'data_type': 'text', 'constraint_type': 'FOREIGN KEY', 'foreign_table_name': 'Tenants', 'foreign_column_name': 'Id', 'column_description': 'Identifier of the tenant associated with the bill.'}, {'column_name': 'TotalBillWithVat', 'data_type': 'real', 'constraint_type': None, 'foreign_table_name': None, 'foreign_column_name': None, 'column_description': 'Total amount of the bill including VAT.'}, {'column_name': 'TotalBillWithoutVat', 'data_type': 'real', 'constraint_type': None, 'foreign_table_name': None, 'foreign_column_name': None, 'column_description': 'Total amount of the bill excluding VAT.'}, {'column_name': 'UserId', 'data_type': 'text', 'constraint_type': 'FOREIGN KEY', 'foreign_table_name': 'Users', 'foreign_column_name': 'Id', 'column_description': 'Identifier of the user associated with the bill.'}, {'column_name': 'DispenserId', 'data_type': 'text', 'constraint_type': 'FOREIGN KEY', 'foreign_table_name': 'DispenserConfiguration', 'foreign_column_name': 'Id', 'column_description': 'Identifier of the user associated with the bill.'}]}, {'table_name': 'NozzleFuelOperations', 'schema': 'SalesService', 'table_description': '', 'table_details': [{'column_name': 'Id', 'data_type': 'text', 'constraint_type': 'PRIMARY KEY', 'foreign_table_name': None, 'foreign_column_name': None, 'column_description': ''}, {'column_name': 'TenantId', 'data_type': 'text', 'constraint_type': 'FOREIGN KEY', 'foreign_table_name': 'Tenants', 'foreign_column_name': 'Id', 'column_description': ''}, {'column_name': 'StationId', 'data_type': 'text', 'constraint_type': 'FOREIGN KEY', 'foreign_table_name': 'StationMasters', 'foreign_column_name': 'Id', 'column_description': ''}, {'column_name': 'OperationDoneBy', 'data_type': 'text', 'constraint_type': None, 'foreign_table_name': None, 'foreign_column_name': None, 'column_description': ''}, {'column_name': 'OperationDateTime', 'data_type': 'timestamp with time zone', 'constraint_type': None, 'foreign_table_name': None, 'foreign_column_name': None, 'column_description': ''}, {'column_name': 'ShiftId', 'data_type': 'text', 'constraint_type': 'FOREIGN KEY', 'foreign_table_name': 'Shifts', 'foreign_column_name': 'Id', 'column_description': ''}, {'column_name': 'DispenserId', 'data_type': 'text', 'constraint_type': 'FOREIGN KEY', 'foreign_table_name': 'DispenserConfiguration', 'foreign_column_name': 'Id', 'column_description': ''}, {'column_name': 'NozzleId', 'data_type': 'text', 'constraint_type': 'FOREIGN KEY', 'foreign_table_name': 'Nozzles', 'foreign_column_name': 'Id', 'column_description': ''}, {'column_name': 'TankId', 'data_type': 'text', 'constraint_type': 'FOREIGN KEY', 'foreign_table_name': 'Tanks', 'foreign_column_name': 'Id', 'column_description': ''}, {'column_name': 'PreviousReading', 'data_type': 'double precision', 'constraint_type': None, 'foreign_table_name': None, 'foreign_column_name': None, 'column_description': ''}, {'column_name': 'InitialReading', 'data_type': 'double precision', 'constraint_type': None, 'foreign_table_name': None, 'foreign_column_name': None, 'column_description': ''}, {'column_name': 'FinalReading', 'data_type': 'double precision', 'constraint_type': None, 'foreign_table_name': None, 'foreign_column_name': None, 'column_description': ''}, {'column_name': 'Difference', 'data_type': 'double precision', 'constraint_type': None, 'foreign_table_name': None, 'foreign_column_name': None, 'column_description': ''}, {'column_name': 'FuelTheftVolume', 'data_type': 'double precision', 'constraint_type': None, 'foreign_table_name': None, 'foreign_column_name': None, 'column_description': ''}, {'column_name': 'TestingOrInspectionVolume', 'data_type': 'double precision', 'constraint_type': None, 'foreign_table_name': None, 'foreign_column_name': None, 'column_description': ''}, {'column_name': 'FuelSaleQuantity', 'data_type': 'double precision', 'constraint_type': None, 'foreign_table_name': None, 'foreign_column_name': None, 'column_description': ''}, {'column_name': 'FuelSaleDoneBy', 'data_type': 'text', 'constraint_type': None, 'foreign_table_name': None, 'foreign_column_name': None, 'column_description': ''}, {'column_name': 'CreatedDate', 'data_type': 'timestamp with time zone', 'constraint_type': None, 'foreign_table_name': None, 'foreign_column_name': None, 'column_description': ''}, {'column_name': 'ModifiedDate', 'data_type': 'timestamp with time zone', 'constraint_type': None, 'foreign_table_name': None, 'foreign_column_name': None, 'column_description': ''}, {'column_name': 'CreatedBy', 'data_type': 'text', 'constraint_type': None, 'foreign_table_name': None, 'foreign_column_name': None, 'column_description': ''}, {'column_name': 'ModifiedBy', 'data_type': 'text', 'constraint_type': None, 'foreign_table_name': None, 'foreign_column_name': None, 'column_description': ''}, {'column_name': 'IsDeleted', 'data_type': 'boolean', 'constraint_type': None, 'foreign_table_name': None, 'foreign_column_name': None, 'column_description': ''}]}, {'table_name': 'DailySales', 'schema': 'SalesService', 'table_description': 'This table contains records of daily sales, capturing detailed information about sales activities at various stations, including user and shift details.', 'table_details': [{'column_name': 'Id', 'data_type': 'text', 'constraint_type': 'PRIMARY KEY', 'foreign_table_name': None, 'foreign_column_name': None, 'column_description': 'Unique identifier for the daily sales record.'}, {'column_name': 'TenantId', 'data_type': 'text', 'constraint_type': None, 'foreign_table_name': None, 'foreign_column_name': None, 'column_description': 'Identifier for the tenant.'}, {'column_name': 'StationId', 'data_type': 'text', 'constraint_type': 'FOREIGN KEY', 'foreign_table_name': 'StationMasters', 'foreign_column_name': 'Id', 'column_description': 'Identifier for the station where the sales occurred.'}, {'column_name': 'UserId', 'data_type': 'text', 'constraint_type': 'FOREIGN KEY', 'foreign_table_name': 'Users', 'foreign_column_name': 'Id', 'column_description': 'Identifier for the user associated with the sales.'}, {'column_name': 'ShiftId', 'data_type': 'text', 'constraint_type': 'FOREIGN KEY', 'foreign_table_name': 'Shifts', 'foreign_column_name': 'Id', 'column_description': 'Identifier for the shift during which the sales were made.'}, {'column_name': 'DailySaleId', 'data_type': 'text', 'constraint_type': None, 'foreign_table_name': None, 'foreign_column_name': None, 'column_description': 'Identifier for the shift during which the sales were made.'}, {'column_name': 'OpeningBalance', 'data_type': 'double precision', 'constraint_type': None, 'foreign_table_name': None, 'foreign_column_name': None, 'column_description': 'Opening balance of the sales for the day.'}, {'column_name': 'ClosingBalance', 'data_type': 'double precision', 'constraint_type': None, 'foreign_table_name': None, 'foreign_column_name': None, 'column_description': 'Closing balance of the sales for the day.'}, {'column_name': 'TotalEmployeeSaleAmount', 'data_type': 'double precision', 'constraint_type': None, 'foreign_table_name': None, 'foreign_column_name': None, 'column_description': 'Total amount of sales made by employees.'}, {'column_name': 'TotalPosSaleAmount', 'data_type': 'double precision', 'constraint_type': None, 'foreign_table_name': None, 'foreign_column_name': None, 'column_description': 'Total amount of sales made through the POS system.'}, {'column_name': 'CreatedDate', 'data_type': 'timestamp with time zone', 'constraint_type': None, 'foreign_table_name': None, 'foreign_column_name': None, 'column_description': 'Date when the sales record was created.'}, {'column_name': 'ModifiedDate', 'data_type': 'timestamp with time zone', 'constraint_type': None, 'foreign_table_name': None, 'foreign_column_name': None, 'column_description': 'Date when the sales record was last modified.'}, {'column_name': 'CreatedBy', 'data_type': 'text', 'constraint_type': None, 'foreign_table_name': None, 'foreign_column_name': None, 'column_description': 'Identifier of the user who created the sales record.'}, {'column_name': 'ModifiedBy', 'data_type': 'text', 'constraint_type': None, 'foreign_table_name': None, 'foreign_column_name': None, 'column_description': 'Identifier of the user who last modified the sales record.'}, {'column_name': 'IsDeleted', 'data_type': 'boolean', 'constraint_type': None, 'foreign_table_name': None, 'foreign_column_name': None, 'column_description': 'Flag indicating if the sales record is deleted.'}, {'column_name': 'SaleDate', 'data_type': 'timestamp with time zone', 'constraint_type': None, 'foreign_table_name': None, 'foreign_column_name': None, 'column_description': 'Flag indicating if the sales record is deleted.'}, {'column_name': 'TotalSaleAmount', 'data_type': 'double precision', 'constraint_type': None, 'foreign_table_name': None, 'foreign_column_name': None, 'column_description': 'Flag indicating if the sales record is deleted.'}]}, {'table_name': 'Tenants', 'schema': 'SalesService', 'table_description': 'This table contains information about tenants, including contact details and commercial registration information.', 'table_details': [{'column_name': 'Id', 'data_type': 'text', 'constraint_type': 'PRIMARY KEY', 'foreign_table_name': None, 'foreign_column_name': None, 'column_description': 'Unique identifier for the tenant.'}, {'column_name': 'CRNumber', 'data_type': 'text', 'constraint_type': None, 'foreign_table_name': None, 'foreign_column_name': None, 'column_description': 'Commercial Registration number of the tenant.'}, {'column_name': 'CompanyName', 'data_type': 'text', 'constraint_type': None, 'foreign_table_name': None, 'foreign_column_name': None, 'column_description': 'Name of the company.'}, {'column_name': 'CRExpiryDate', 'data_type': 'timestamp with time zone', 'constraint_type': None, 'foreign_table_name': None, 'foreign_column_name': None, 'column_description': 'Expiry date of the Commercial Registration.'}, {'column_name': 'PostalCode', 'data_type': 'text', 'constraint_type': None, 'foreign_table_name': None, 'foreign_column_name': None, 'column_description': 'Postal code of the registered address.'}, {'column_name': 'RegisteredAddress', 'data_type': 'text', 'constraint_type': None, 'foreign_table_name': None, 'foreign_column_name': None, 'column_description': 'Full registered address of the tenant.'}, {'column_name': 'ShortAddress', 'data_type': 'text', 'constraint_type': None, 'foreign_table_name': None, 'foreign_column_name': None, 'column_description': 'Short form of the registered address.'}, {'column_name': 'Street', 'data_type': 'text', 'constraint_type': None, 'foreign_table_name': None, 'foreign_column_name': None, 'column_description': 'Street name of the registered address.'}, {'column_name': 'AccountOwnerName', 'data_type': 'text', 'constraint_type': None, 'foreign_table_name': None, 'foreign_column_name': None, 'column_description': 'Name of the account owner.'}, {'column_name': 'AccountOwnerEmail', 'data_type': 'text', 'constraint_type': None, 'foreign_table_name': None, 'foreign_column_name': None, 'column_description': 'Email address of the account owner.'}, {'column_name': 'AccountOwnerPhoneNumber', 'data_type': 'text', 'constraint_type': None, 'foreign_table_name': None, 'foreign_column_name': None, 'column_description': 'Phone number of the account owner.'}, {'column_name': 'VAT', 'data_type': 'text', 'constraint_type': None, 'foreign_table_name': None, 'foreign_column_name': None, 'column_description': 'VAT number of the tenant.'}, {'column_name': 'IsQualified', 'data_type': 'boolean', 'constraint_type': None, 'foreign_table_name': None, 'foreign_column_name': None, 'column_description': 'Flag indicating if the tenant is qualified.'}, {'column_name': 'IsDeleted', 'data_type': 'boolean', 'constraint_type': None, 'foreign_table_name': None, 'foreign_column_name': None, 'column_description': 'Flag indicating if the tenant record is deleted.'}, {'column_name': 'CreatedDate', 'data_type': 'timestamp with time zone', 'constraint_type': None, 'foreign_table_name': None, 'foreign_column_name': None, 'column_description': 'Timestamp of when the tenant record was created.'}, {'column_name': 'ModifiedDate', 'data_type': 'timestamp with time zone', 'constraint_type': None, 'foreign_table_name': None, 'foreign_column_name': None, 'column_description': 'Timestamp of when the tenant record was last modified.'}, {'column_name': 'CreatedBy', 'data_type': 'text', 'constraint_type': None, 'foreign_table_name': None, 'foreign_column_name': None, 'column_description': 'Identifier of the user who created the tenant record.'}, {'column_name': 'ModifiedBy', 'data_type': 'text', 'constraint_type': None, 'foreign_table_name': None, 'foreign_column_name': None, 'column_description': 'Identifier of the user who last modified the tenant record.'}, {'column_name': 'AccountOwnerNID', 'data_type': 'text', 'constraint_type': None, 'foreign_table_name': None, 'foreign_column_name': None, 'column_description': 'National ID of the account owner.'}, {'column_name': 'AdditionalPhoneNumber', 'data_type': 'text', 'constraint_type': None, 'foreign_table_name': None, 'foreign_column_name': None, 'column_description': 'Additional phone number for contact.'}, {'column_name': 'Building', 'data_type': 'text', 'constraint_type': None, 'foreign_table_name': None, 'foreign_column_name': None, 'column_description': 'Building name or number.'}, {'column_name': 'City', 'data_type': 'text', 'constraint_type': None, 'foreign_table_name': None, 'foreign_column_name': None, 'column_description': 'City name.'}, {'column_name': 'District', 'data_type': 'text', 'constraint_type': None, 'foreign_table_name': None, 'foreign_column_name': None, 'column_description': 'District name.'}, {'column_name': 'NationalAdditionalPhoneNumber', 'data_type': 'text', 'constraint_type': None, 'foreign_table_name': None, 'foreign_column_name': None, 'column_description': 'Additional national phone number.'}, {'column_name': 'NationalBuilding', 'data_type': 'text', 'constraint_type': None, 'foreign_table_name': None, 'foreign_column_name': None, 'column_description': 'National building name or number.'}, {'column_name': 'NationalCity', 'data_type': 'text', 'constraint_type': None, 'foreign_table_name': None, 'foreign_column_name': None, 'column_description': 'National city name.'}, {'column_name': 'NationalDistrict', 'data_type': 'text', 'constraint_type': None, 'foreign_table_name': None, 'foreign_column_name': None, 'column_description': 'National district name.'}, {'column_name': 'NationalPostalCode', 'data_type': 'text', 'constraint_type': None, 'foreign_table_name': None, 'foreign_column_name': None, 'column_description': 'National postal code.'}, {'column_name': 'NationalShortAddress', 'data_type': 'text', 'constraint_type': None, 'foreign_table_name': None, 'foreign_column_name': None, 'column_description': 'Short national address.'}, {'column_name': 'NationalStreet', 'data_type': 'text', 'constraint_type': None, 'foreign_table_name': None, 'foreign_column_name': None, 'column_description': 'National street name.'}, {'column_name': 'AccountOwnerGender', 'data_type': 'text', 'constraint_type': None, 'foreign_table_name': None, 'foreign_column_name': None, 'column_description': 'Gender of the account owner.'}]}, {'table_name': 'Location', 'schema': 'SalesService', 'table_description': 'This table contains location details, capturing the name and metadata related to the locations.', 'table_details': [{'column_name': 'Id', 'data_type': 'text', 'constraint_type': 'PRIMARY KEY', 'foreign_table_name': None, 'foreign_column_name': None, 'column_description': 'Unique identifier for the location.'}, {'column_name': 'Name', 'data_type': 'text', 'constraint_type': None, 'foreign_table_name': None, 'foreign_column_name': None, 'column_description': 'Name of the location.'}, {'column_name': 'IsDeleted', 'data_type': 'boolean', 'constraint_type': None, 'foreign_table_name': None, 'foreign_column_name': None, 'column_description': 'Flag indicating if the location record is deleted.'}, {'column_name': 'CreatedDate', 'data_type': 'timestamp with time zone', 'constraint_type': None, 'foreign_table_name': None, 'foreign_column_name': None, 'column_description': 'Timestamp of when the location record was created.'}, {'column_name': 'ModifiedDate', 'data_type': 'timestamp with time zone', 'constraint_type': None, 'foreign_table_name': None, 'foreign_column_name': None, 'column_description': 'Timestamp of when the location record was last modified.'}, {'column_name': 'CreatedBy', 'data_type': 'text', 'constraint_type': None, 'foreign_table_name': None, 'foreign_column_name': None, 'column_description': 'Identifier of the user who created the location record.'}, {'column_name': 'ModifiedBy', 'data_type': 'text', 'constraint_type': None, 'foreign_table_name': None, 'foreign_column_name': None, 'column_description': 'Identifier of the user who last modified the location record.'}]}, {'table_name': 'StationType', 'schema': 'SalesService', 'table_description': '', 'table_details': [{'column_name': 'Id', 'data_type': 'text', 'constraint_type': 'PRIMARY KEY', 'foreign_table_name': None, 'foreign_column_name': None, 'column_description': ''}, {'column_name': 'Name', 'data_type': 'text', 'constraint_type': None, 'foreign_table_name': None, 'foreign_column_name': None, 'column_description': ''}, {'column_name': 'IsDeleted', 'data_type': 'boolean', 'constraint_type': None, 'foreign_table_name': None, 'foreign_column_name': None, 'column_description': ''}, {'column_name': 'CreatedDate', 'data_type': 'timestamp with time zone', 'constraint_type': None, 'foreign_table_name': None, 'foreign_column_name': None, 'column_description': ''}, {'column_name': 'ModifiedDate', 'data_type': 'timestamp with time zone', 'constraint_type': None, 'foreign_table_name': None, 'foreign_column_name': None, 'column_description': ''}, {'column_name': 'CreatedBy', 'data_type': 'text', 'constraint_type': None, 'foreign_table_name': None, 'foreign_column_name': None, 'column_description': ''}, {'column_name': 'ModifiedBy', 'data_type': 'text', 'constraint_type': None, 'foreign_table_name': None, 'foreign_column_name': None, 'column_description': ''}]}, {'table_name': 'UserStationShiftMaps', 'schema': 'SalesService', 'table_description': '', 'table_details': [{'column_name': 'Id', 'data_type': 'text', 'constraint_type': 'PRIMARY KEY', 'foreign_table_name': None, 'foreign_column_name': None, 'column_description': ''}, {'column_name': 'TenantId', 'data_type': 'text', 'constraint_type': 'FOREIGN KEY', 'foreign_table_name': 'Tenants', 'foreign_column_name': 'Id', 'column_description': ''}, {'column_name': 'StationId', 'data_type': 'text', 'constraint_type': 'FOREIGN KEY', 'foreign_table_name': 'StationMasters', 'foreign_column_name': 'Id', 'column_description': ''}, {'column_name': 'UserId', 'data_type': 'text', 'constraint_type': 'FOREIGN KEY', 'foreign_table_name': 'Users', 'foreign_column_name': 'Id', 'column_description': ''}, {'column_name': 'ShiftId', 'data_type': 'text', 'constraint_type': 'FOREIGN KEY', 'foreign_table_name': 'Shifts', 'foreign_column_name': 'Id', 'column_description': ''}, {'column_name': 'IsActive', 'data_type': 'boolean', 'constraint_type': None, 'foreign_table_name': None, 'foreign_column_name': None, 'column_description': ''}, {'column_name': 'CreatedDate', 'data_type': 'timestamp with time zone', 'constraint_type': None, 'foreign_table_name': None, 'foreign_column_name': None, 'column_description': ''}, {'column_name': 'ModifiedDate', 'data_type': 'timestamp with time zone', 'constraint_type': None, 'foreign_table_name': None, 'foreign_column_name': None, 'column_description': ''}, {'column_name': 'CreatedBy', 'data_type': 'text', 'constraint_type': None, 'foreign_table_name': None, 'foreign_column_name': None, 'column_description': ''}, {'column_name': 'ModifiedBy', 'data_type': 'text', 'constraint_type': None, 'foreign_table_name': None, 'foreign_column_name': None, 'column_description': ''}, {'column_name': 'IsDeleted', 'data_type': 'boolean', 'constraint_type': None, 'foreign_table_name': None, 'foreign_column_name': None, 'column_description': ''}]}, {'table_name': 'Regions', 'schema': 'SalesService', 'table_description': 'This table contains details about different regions, including names and metadata related to the regions.', 'table_details': [{'column_name': 'Id', 'data_type': 'text', 'constraint_type': 'PRIMARY KEY', 'foreign_table_name': None, 'foreign_column_name': None, 'column_description': 'Unique identifier for the region.'}, {'column_name': 'Name', 'data_type': 'text', 'constraint_type': None, 'foreign_table_name': None, 'foreign_column_name': None, 'column_description': 'Name of the region.'}, {'column_name': 'IsDeleted', 'data_type': 'boolean', 'constraint_type': None, 'foreign_table_name': None, 'foreign_column_name': None, 'column_description': 'Flag indicating if the region record is deleted.'}, {'column_name': 'CreatedDate', 'data_type': 'timestamp with time zone', 'constraint_type': None, 'foreign_table_name': None, 'foreign_column_name': None, 'column_description': 'Timestamp of when the region record was created.'}, {'column_name': 'ModifiedDate', 'data_type': 'timestamp with time zone', 'constraint_type': None, 'foreign_table_name': None, 'foreign_column_name': None, 'column_description': 'Timestamp of when the region record was last modified.'}, {'column_name': 'CreatedBy', 'data_type': 'text', 'constraint_type': None, 'foreign_table_name': None, 'foreign_column_name': None, 'column_description': 'Identifier of the user who created the region record.'}, {'column_name': 'ModifiedBy', 'data_type': 'text', 'constraint_type': None, 'foreign_table_name': None, 'foreign_column_name': None, 'column_description': 'Identifier of the user who last modified the region record.'}, {'column_name': 'ArabicName', 'data_type': 'text', 'constraint_type': None, 'foreign_table_name': None, 'foreign_column_name': None, 'column_description': 'Arabic name of the region.'}]}, {'table_name': 'DailySalesDispencerMap', 'schema': 'SalesService', 'table_description': '', 'table_details': [{'column_name': 'Id', 'data_type': 'text', 'constraint_type': 'PRIMARY KEY', 'foreign_table_name': None, 'foreign_column_name': None, 'column_description': ''}, {'column_name': 'DailySalesId', 'data_type': 'text', 'constraint_type': None, 'foreign_table_name': None, 'foreign_column_name': None, 'column_description': ''}, {'column_name': 'DispencerId', 'data_type': 'text', 'constraint_type': None, 'foreign_table_name': None, 'foreign_column_name': None, 'column_description': ''}, {'column_name': 'TenantId', 'data_type': 'text', 'constraint_type': None, 'foreign_table_name': None, 'foreign_column_name': None, 'column_description': ''}, {'column_name': 'CreatedDate', 'data_type': 'timestamp with time zone', 'constraint_type': None, 'foreign_table_name': None, 'foreign_column_name': None, 'column_description': ''}, {'column_name': 'ModifiedDate', 'data_type': 'timestamp with time zone', 'constraint_type': None, 'foreign_table_name': None, 'foreign_column_name': None, 'column_description': ''}, {'column_name': 'CreatedBy', 'data_type': 'text', 'constraint_type': None, 'foreign_table_name': None, 'foreign_column_name': None, 'column_description': ''}, {'column_name': 'ModifiedBy', 'data_type': 'text', 'constraint_type': None, 'foreign_table_name': None, 'foreign_column_name': None, 'column_description': ''}, {'column_name': 'IsDeleted', 'data_type': 'boolean', 'constraint_type': None, 'foreign_table_name': None, 'foreign_column_name': None, 'column_description': ''}]}, {'table_name': 'UserDispenserMaps', 'schema': 'SalesService', 'table_description': '', 'table_details': [{'column_name': 'Id', 'data_type': 'text', 'constraint_type': 'PRIMARY KEY', 'foreign_table_name': None, 'foreign_column_name': None, 'column_description': ''}, {'column_name': 'TenantId', 'data_type': 'text', 'constraint_type': 'FOREIGN KEY', 'foreign_table_name': 'Tenants', 'foreign_column_name': 'Id', 'column_description': ''}, {'column_name': 'UserRoleStationMapId', 'data_type': 'text', 'constraint_type': None, 'foreign_table_name': None, 'foreign_column_name': None, 'column_description': ''}, {'column_name': 'UserId', 'data_type': 'text', 'constraint_type': 'FOREIGN KEY', 'foreign_table_name': 'Users', 'foreign_column_name': 'Id', 'column_description': ''}, {'column_name': 'StationId', 'data_type': 'text', 'constraint_type': 'FOREIGN KEY', 'foreign_table_name': 'StationMasters', 'foreign_column_name': 'Id', 'column_description': ''}, {'column_name': 'ShiftId', 'data_type': 'text', 'constraint_type': 'FOREIGN KEY', 'foreign_table_name': 'Shifts', 'foreign_column_name': 'Id', 'column_description': ''}, {'column_name': 'DispenserId', 'data_type': 'text', 'constraint_type': 'FOREIGN KEY', 'foreign_table_name': 'DispenserConfiguration', 'foreign_column_name': 'Id', 'column_description': ''}, {'column_name': 'CreatedDate', 'data_type': 'timestamp with time zone', 'constraint_type': None, 'foreign_table_name': None, 'foreign_column_name': None, 'column_description': ''}, {'column_name': 'ModifiedDate', 'data_type': 'timestamp with time zone', 'constraint_type': None, 'foreign_table_name': None, 'foreign_column_name': None, 'column_description': ''}, {'column_name': 'CreatedBy', 'data_type': 'text', 'constraint_type': None, 'foreign_table_name': None, 'foreign_column_name': None, 'column_description': ''}, {'column_name': 'ModifiedBy', 'data_type': 'text', 'constraint_type': None, 'foreign_table_name': None, 'foreign_column_name': None, 'column_description': ''}, {'column_name': 'IsDeleted', 'data_type': 'boolean', 'constraint_type': None, 'foreign_table_name': None, 'foreign_column_name': None, 'column_description': ''}]}, {'table_name': 'TankMasters', 'schema': 'SalesService', 'table_description': '', 'table_details': [{'column_name': 'Id', 'data_type': 'text', 'constraint_type': 'PRIMARY KEY', 'foreign_table_name': None, 'foreign_column_name': None, 'column_description': ''}, {'column_name': 'Brand', 'data_type': 'text', 'constraint_type': None, 'foreign_table_name': None, 'foreign_column_name': None, 'column_description': ''}, {'column_name': 'Model', 'data_type': 'text', 'constraint_type': None, 'foreign_table_name': None, 'foreign_column_name': None, 'column_description': ''}, {'column_name': 'IsDeleted', 'data_type': 'boolean', 'constraint_type': None, 'foreign_table_name': None, 'foreign_column_name': None, 'column_description': ''}, {'column_name': 'CreatedDate', 'data_type': 'timestamp with time zone', 'constraint_type': None, 'foreign_table_name': None, 'foreign_column_name': None, 'column_description': ''}, {'column_name': 'ModifiedDate', 'data_type': 'timestamp with time zone', 'constraint_type': None, 'foreign_table_name': None, 'foreign_column_name': None, 'column_description': ''}, {'column_name': 'CreatedBy', 'data_type': 'text', 'constraint_type': None, 'foreign_table_name': None, 'foreign_column_name': None, 'column_description': ''}, {'column_name': 'ModifiedBy', 'data_type': 'text', 'constraint_type': None, 'foreign_table_name': None, 'foreign_column_name': None, 'column_description': ''}, {'column_name': 'Capacity', 'data_type': 'double precision', 'constraint_type': None, 'foreign_table_name': None, 'foreign_column_name': None, 'column_description': ''}, {'column_name': 'DoubleWalledTankInnerTankDiameter', 'data_type': 'numeric', 'constraint_type': None, 'foreign_table_name': None, 'foreign_column_name': None, 'column_description': ''}, {'column_name': 'DoubleWalledTankInnerTankLength', 'data_type': 'numeric', 'constraint_type': None, 'foreign_table_name': None, 'foreign_column_name': None, 'column_description': ''}, {'column_name': 'DoubleWalledTankOuterTankDiameter', 'data_type': 'numeric', 'constraint_type': None, 'foreign_table_name': None, 'foreign_column_name': None, 'column_description': ''}, {'column_name': 'DoubleWalledTankOuterTankLength', 'data_type': 'numeric', 'constraint_type': None, 'foreign_table_name': None, 'foreign_column_name': None, 'column_description': ''}, {'column_name': 'SingleWalledTankDiameter', 'data_type': 'numeric', 'constraint_type': None, 'foreign_table_name': None, 'foreign_column_name': None, 'column_description': ''}, {'column_name': 'SingleWalledTankLength', 'data_type': 'numeric', 'constraint_type': None, 'foreign_table_name': None, 'foreign_column_name': None, 'column_description': ''}]}]\n",
    "# child_docs = [{'table_name': '__MyMigrationsHistory', 'schema': 'SalesService', 'column_details': {'column_name': 'MigrationId', 'data_type': 'character varying', 'constraint_type': 'PRIMARY KEY', 'foreign_table_name': None, 'foreign_column_name': None, 'column_description': ''}}, {'table_name': '__MyMigrationsHistory', 'schema': 'SalesService', 'column_details': {'column_name': 'ProductVersion', 'data_type': 'character varying', 'constraint_type': None, 'foreign_table_name': None, 'foreign_column_name': None, 'column_description': ''}}, {'table_name': 'TransactionDetails', 'schema': 'SalesService', 'column_details': {'column_name': 'Id', 'data_type': 'text', 'constraint_type': 'PRIMARY KEY', 'foreign_table_name': None, 'foreign_column_name': None, 'column_description': 'Unique identifier for the transaction.'}}, {'table_name': 'TransactionDetails', 'schema': 'SalesService', 'column_details': {'column_name': 'BillId', 'data_type': 'text', 'constraint_type': 'FOREIGN KEY', 'foreign_table_name': 'Bills', 'foreign_column_name': 'Id', 'column_description': 'Identifier for the bill associated with the transaction.'}}, {'table_name': 'TransactionDetails', 'schema': 'SalesService', 'column_details': {'column_name': 'TransactionNumber', 'data_type': 'text', 'constraint_type': None, 'foreign_table_name': None, 'foreign_column_name': None, 'column_description': 'Transaction number.'}}, {'table_name': 'TransactionDetails', 'schema': 'SalesService', 'column_details': {'column_name': 'FuelTypeId', 'data_type': 'text', 'constraint_type': 'FOREIGN KEY', 'foreign_table_name': 'FuelType', 'foreign_column_name': 'Id', 'column_description': 'Identifier for the type of fuel.'}}, {'table_name': 'TransactionDetails', 'schema': 'SalesService', 'column_details': {'column_name': 'UnitCost', 'data_type': 'real', 'constraint_type': None, 'foreign_table_name': None, 'foreign_column_name': None, 'column_description': 'Cost per unit of fuel.'}}, {'table_name': 'TransactionDetails', 'schema': 'SalesService', 'column_details': {'column_name': 'Quantity', 'data_type': 'real', 'constraint_type': None, 'foreign_table_name': None, 'foreign_column_name': None, 'column_description': 'Quantity of fuel dispensed.'}}, {'table_name': 'TransactionDetails', 'schema': 'SalesService', 'column_details': {'column_name': 'TotalCost', 'data_type': 'real', 'constraint_type': None, 'foreign_table_name': None, 'foreign_column_name': None, 'column_description': 'Total cost of the transaction.'}}, {'table_name': 'TransactionDetails', 'schema': 'SalesService', 'column_details': {'column_name': 'CreatedDate', 'data_type': 'timestamp with time zone', 'constraint_type': None, 'foreign_table_name': None, 'foreign_column_name': None, 'column_description': 'Date of the transaction creation.'}}, {'table_name': 'TransactionDetails', 'schema': 'SalesService', 'column_details': {'column_name': 'ModifiedDate', 'data_type': 'timestamp with time zone', 'constraint_type': None, 'foreign_table_name': None, 'foreign_column_name': None, 'column_description': 'Timestamp of when the transaction was last modified.'}}, {'table_name': 'TransactionDetails', 'schema': 'SalesService', 'column_details': {'column_name': 'CreatedBy', 'data_type': 'text', 'constraint_type': None, 'foreign_table_name': None, 'foreign_column_name': None, 'column_description': 'Identifier of the user who created the transaction.'}}, {'table_name': 'TransactionDetails', 'schema': 'SalesService', 'column_details': {'column_name': 'ModifiedBy', 'data_type': 'text', 'constraint_type': None, 'foreign_table_name': None, 'foreign_column_name': None, 'column_description': 'Identifier of the user who last modified the transaction.'}}, {'table_name': 'TransactionDetails', 'schema': 'SalesService', 'column_details': {'column_name': 'IsDeleted', 'data_type': 'boolean', 'constraint_type': None, 'foreign_table_name': None, 'foreign_column_name': None, 'column_description': 'Flag indicating if the transaction record is deleted.'}}, {'table_name': 'TransactionDetails', 'schema': 'SalesService', 'column_details': {'column_name': 'NozzleId', 'data_type': 'text', 'constraint_type': 'FOREIGN KEY', 'foreign_table_name': 'Nozzles', 'foreign_column_name': 'Id', 'column_description': 'Identifier for the nozzle used in the transaction.'}}, {'table_name': 'TransactionDetails', 'schema': 'SalesService', 'column_details': {'column_name': 'StationId', 'data_type': 'text', 'constraint_type': 'FOREIGN KEY', 'foreign_table_name': 'StationMasters', 'foreign_column_name': 'Id', 'column_description': 'Identifier for the station where the transaction took place.'}}, {'table_name': 'TransactionDetails', 'schema': 'SalesService', 'column_details': {'column_name': 'TenantId', 'data_type': 'text', 'constraint_type': 'FOREIGN KEY', 'foreign_table_name': 'Tenants', 'foreign_column_name': 'Id', 'column_description': 'Identifier for the tenant associated with the transaction.'}}, {'table_name': 'StationLockerTransactionType', 'schema': 'SalesService', 'column_details': {'column_name': 'Id', 'data_type': 'text', 'constraint_type': 'PRIMARY KEY', 'foreign_table_name': None, 'foreign_column_name': None, 'column_description': ''}}, {'table_name': 'StationLockerTransactionType', 'schema': 'SalesService', 'column_details': {'column_name': 'Name', 'data_type': 'text', 'constraint_type': None, 'foreign_table_name': None, 'foreign_column_name': None, 'column_description': ''}}, {'table_name': 'StationLockerTransactionType', 'schema': 'SalesService', 'column_details': {'column_name': 'CreatedDate', 'data_type': 'timestamp with time zone', 'constraint_type': None, 'foreign_table_name': None, 'foreign_column_name': None, 'column_description': ''}}, {'table_name': 'StationLockerTransactionType', 'schema': 'SalesService', 'column_details': {'column_name': 'ModifiedDate', 'data_type': 'timestamp with time zone', 'constraint_type': None, 'foreign_table_name': None, 'foreign_column_name': None, 'column_description': ''}}, {'table_name': 'StationLockerTransactionType', 'schema': 'SalesService', 'column_details': {'column_name': 'CreatedBy', 'data_type': 'text', 'constraint_type': None, 'foreign_table_name': None, 'foreign_column_name': None, 'column_description': ''}}, {'table_name': 'StationLockerTransactionType', 'schema': 'SalesService', 'column_details': {'column_name': 'ModifiedBy', 'data_type': 'text', 'constraint_type': None, 'foreign_table_name': None, 'foreign_column_name': None, 'column_description': ''}}, {'table_name': 'StationLockerTransactionType', 'schema': 'SalesService', 'column_details': {'column_name': 'IsDeleted', 'data_type': 'boolean', 'constraint_type': None, 'foreign_table_name': None, 'foreign_column_name': None, 'column_description': ''}}, {'table_name': 'Users', 'schema': 'SalesService', 'column_details': {'column_name': 'Id', 'data_type': 'text', 'constraint_type': 'PRIMARY KEY', 'foreign_table_name': None, 'foreign_column_name': None, 'column_description': 'Unique identifier for the user.'}}, {'table_name': 'Users', 'schema': 'SalesService', 'column_details': {'column_name': 'TenantId', 'data_type': 'text', 'constraint_type': 'FOREIGN KEY', 'foreign_table_name': 'Tenants', 'foreign_column_name': 'Id', 'column_description': 'Identifier for the tenant associated with the user.'}}, {'table_name': 'Users', 'schema': 'SalesService', 'column_details': {'column_name': 'UserUniqueId', 'data_type': 'text', 'constraint_type': None, 'foreign_table_name': None, 'foreign_column_name': None, 'column_description': 'Unique identifier for the user.'}}, {'table_name': 'Users', 'schema': 'SalesService', 'column_details': {'column_name': 'FirstName', 'data_type': 'text', 'constraint_type': None, 'foreign_table_name': None, 'foreign_column_name': None, 'column_description': 'First name of the user.'}}, {'table_name': 'Users', 'schema': 'SalesService', 'column_details': {'column_name': 'MiddleName', 'data_type': 'text', 'constraint_type': None, 'foreign_table_name': None, 'foreign_column_name': None, 'column_description': 'Middle name of the user.'}}, {'table_name': 'Users', 'schema': 'SalesService', 'column_details': {'column_name': 'LastName', 'data_type': 'text', 'constraint_type': None, 'foreign_table_name': None, 'foreign_column_name': None, 'column_description': 'Last name of the user.'}}, {'table_name': 'Users', 'schema': 'SalesService', 'column_details': {'column_name': 'UserName', 'data_type': 'text', 'constraint_type': None, 'foreign_table_name': None, 'foreign_column_name': None, 'column_description': 'Username of the user.'}}, {'table_name': 'Users', 'schema': 'SalesService', 'column_details': {'column_name': 'Email', 'data_type': 'text', 'constraint_type': None, 'foreign_table_name': None, 'foreign_column_name': None, 'column_description': 'Email address of the user.'}}, {'table_name': 'Users', 'schema': 'SalesService', 'column_details': {'column_name': 'PhoneNumber', 'data_type': 'text', 'constraint_type': None, 'foreign_table_name': None, 'foreign_column_name': None, 'column_description': 'Phone number of the user.'}}, {'table_name': 'Users', 'schema': 'SalesService', 'column_details': {'column_name': 'IsDeleted', 'data_type': 'boolean', 'constraint_type': None, 'foreign_table_name': None, 'foreign_column_name': None, 'column_description': 'Flag indicating if the user record is deleted.'}}, {'table_name': 'Users', 'schema': 'SalesService', 'column_details': {'column_name': 'NID', 'data_type': 'text', 'constraint_type': None, 'foreign_table_name': None, 'foreign_column_name': None, 'column_description': 'National ID of the user.'}}, {'table_name': 'Users', 'schema': 'SalesService', 'column_details': {'column_name': 'Gender', 'data_type': 'text', 'constraint_type': None, 'foreign_table_name': None, 'foreign_column_name': None, 'column_description': 'Gender of the user.'}}, {'table_name': 'Users', 'schema': 'SalesService', 'column_details': {'column_name': 'ProfilePicture', 'data_type': 'text', 'constraint_type': None, 'foreign_table_name': None, 'foreign_column_name': None, 'column_description': \"URL of the user's profile picture.\"}}, {'table_name': 'Users', 'schema': 'SalesService', 'column_details': {'column_name': 'CreatedDate', 'data_type': 'timestamp with time zone', 'constraint_type': None, 'foreign_table_name': None, 'foreign_column_name': None, 'column_description': 'Timestamp of when the user record was created.'}}, {'table_name': 'Users', 'schema': 'SalesService', 'column_details': {'column_name': 'ModifiedDate', 'data_type': 'timestamp with time zone', 'constraint_type': None, 'foreign_table_name': None, 'foreign_column_name': None, 'column_description': 'Timestamp of when the user record was last modified.'}}, {'table_name': 'Users', 'schema': 'SalesService', 'column_details': {'column_name': 'CreatedBy', 'data_type': 'text', 'constraint_type': None, 'foreign_table_name': None, 'foreign_column_name': None, 'column_description': 'Identifier of the user who created the user record.'}}, {'table_name': 'Users', 'schema': 'SalesService', 'column_details': {'column_name': 'ModifiedBy', 'data_type': 'text', 'constraint_type': None, 'foreign_table_name': None, 'foreign_column_name': None, 'column_description': 'Identifier of the user who last modified the user record.'}}, {'table_name': 'Users', 'schema': 'SalesService', 'column_details': {'column_name': 'IsActive', 'data_type': 'boolean', 'constraint_type': None, 'foreign_table_name': None, 'foreign_column_name': None, 'column_description': 'Flag indicating if the user is active.'}}, {'table_name': 'Users', 'schema': 'SalesService', 'column_details': {'column_name': 'ReportingToId', 'data_type': 'text', 'constraint_type': None, 'foreign_table_name': None, 'foreign_column_name': None, 'column_description': 'Identifier of the user to whom this user reports.'}}, {'table_name': 'StationLockerTransactions', 'schema': 'SalesService', 'column_details': {'column_name': 'Id', 'data_type': 'text', 'constraint_type': 'PRIMARY KEY', 'foreign_table_name': None, 'foreign_column_name': None, 'column_description': ''}}, {'table_name': 'StationLockerTransactions', 'schema': 'SalesService', 'column_details': {'column_name': 'TenantId', 'data_type': 'text', 'constraint_type': 'FOREIGN KEY', 'foreign_table_name': 'Tenants', 'foreign_column_name': 'Id', 'column_description': ''}}, {'table_name': 'StationLockerTransactions', 'schema': 'SalesService', 'column_details': {'column_name': 'StationId', 'data_type': 'text', 'constraint_type': 'FOREIGN KEY', 'foreign_table_name': 'StationMasters', 'foreign_column_name': 'Id', 'column_description': ''}}, {'table_name': 'StationLockerTransactions', 'schema': 'SalesService', 'column_details': {'column_name': 'TransactionDoneBy', 'data_type': 'text', 'constraint_type': None, 'foreign_table_name': None, 'foreign_column_name': None, 'column_description': ''}}, {'table_name': 'StationLockerTransactions', 'schema': 'SalesService', 'column_details': {'column_name': 'TransactionDateTime', 'data_type': 'timestamp with time zone', 'constraint_type': None, 'foreign_table_name': None, 'foreign_column_name': None, 'column_description': ''}}, {'table_name': 'StationLockerTransactions', 'schema': 'SalesService', 'column_details': {'column_name': 'TransactionAmt', 'data_type': 'numeric', 'constraint_type': None, 'foreign_table_name': None, 'foreign_column_name': None, 'column_description': ''}}, {'table_name': 'StationLockerTransactions', 'schema': 'SalesService', 'column_details': {'column_name': 'BalanceAmt', 'data_type': 'numeric', 'constraint_type': None, 'foreign_table_name': None, 'foreign_column_name': None, 'column_description': ''}}, {'table_name': 'StationLockerTransactions', 'schema': 'SalesService', 'column_details': {'column_name': 'TransactionTypeId', 'data_type': 'text', 'constraint_type': 'FOREIGN KEY', 'foreign_table_name': 'StationLockerTransactionType', 'foreign_column_name': 'Id', 'column_description': ''}}, {'table_name': 'StationLockerTransactions', 'schema': 'SalesService', 'column_details': {'column_name': 'CreatedDate', 'data_type': 'timestamp with time zone', 'constraint_type': None, 'foreign_table_name': None, 'foreign_column_name': None, 'column_description': ''}}, {'table_name': 'StationLockerTransactions', 'schema': 'SalesService', 'column_details': {'column_name': 'ModifiedDate', 'data_type': 'timestamp with time zone', 'constraint_type': None, 'foreign_table_name': None, 'foreign_column_name': None, 'column_description': ''}}, {'table_name': 'StationLockerTransactions', 'schema': 'SalesService', 'column_details': {'column_name': 'CreatedBy', 'data_type': 'text', 'constraint_type': None, 'foreign_table_name': None, 'foreign_column_name': None, 'column_description': ''}}, {'table_name': 'StationLockerTransactions', 'schema': 'SalesService', 'column_details': {'column_name': 'ModifiedBy', 'data_type': 'text', 'constraint_type': None, 'foreign_table_name': None, 'foreign_column_name': None, 'column_description': ''}}, {'table_name': 'StationLockerTransactions', 'schema': 'SalesService', 'column_details': {'column_name': 'IsDeleted', 'data_type': 'boolean', 'constraint_type': None, 'foreign_table_name': None, 'foreign_column_name': None, 'column_description': ''}}, {'table_name': 'StationLocker', 'schema': 'SalesService', 'column_details': {'column_name': 'Id', 'data_type': 'text', 'constraint_type': 'PRIMARY KEY', 'foreign_table_name': None, 'foreign_column_name': None, 'column_description': ''}}, {'table_name': 'StationLocker', 'schema': 'SalesService', 'column_details': {'column_name': 'TenantId', 'data_type': 'text', 'constraint_type': 'FOREIGN KEY', 'foreign_table_name': 'Tenants', 'foreign_column_name': 'Id', 'column_description': ''}}, {'table_name': 'StationLocker', 'schema': 'SalesService', 'column_details': {'column_name': 'StationId', 'data_type': 'text', 'constraint_type': 'FOREIGN KEY', 'foreign_table_name': 'StationMasters', 'foreign_column_name': 'Id', 'column_description': ''}}, {'table_name': 'StationLocker', 'schema': 'SalesService', 'column_details': {'column_name': 'LockerAmt', 'data_type': 'numeric', 'constraint_type': None, 'foreign_table_name': None, 'foreign_column_name': None, 'column_description': ''}}, {'table_name': 'StationLocker', 'schema': 'SalesService', 'column_details': {'column_name': 'CreatedDate', 'data_type': 'timestamp with time zone', 'constraint_type': None, 'foreign_table_name': None, 'foreign_column_name': None, 'column_description': ''}}, {'table_name': 'StationLocker', 'schema': 'SalesService', 'column_details': {'column_name': 'ModifiedDate', 'data_type': 'timestamp with time zone', 'constraint_type': None, 'foreign_table_name': None, 'foreign_column_name': None, 'column_description': ''}}, {'table_name': 'StationLocker', 'schema': 'SalesService', 'column_details': {'column_name': 'CreatedBy', 'data_type': 'text', 'constraint_type': None, 'foreign_table_name': None, 'foreign_column_name': None, 'column_description': ''}}, {'table_name': 'StationLocker', 'schema': 'SalesService', 'column_details': {'column_name': 'ModifiedBy', 'data_type': 'text', 'constraint_type': None, 'foreign_table_name': None, 'foreign_column_name': None, 'column_description': ''}}, {'table_name': 'StationLocker', 'schema': 'SalesService', 'column_details': {'column_name': 'IsDeleted', 'data_type': 'boolean', 'constraint_type': None, 'foreign_table_name': None, 'foreign_column_name': None, 'column_description': ''}}, {'table_name': 'StationLocker', 'schema': 'SalesService', 'column_details': {'column_name': 'MaxLockerAmount', 'data_type': 'double precision', 'constraint_type': None, 'foreign_table_name': None, 'foreign_column_name': None, 'column_description': ''}}, {'table_name': 'StationMasters', 'schema': 'SalesService', 'column_details': {'column_name': 'Id', 'data_type': 'text', 'constraint_type': 'PRIMARY KEY', 'foreign_table_name': None, 'foreign_column_name': None, 'column_description': 'Unique identifier for the station.'}}, {'table_name': 'StationMasters', 'schema': 'SalesService', 'column_details': {'column_name': 'StationNumber', 'data_type': 'text', 'constraint_type': None, 'foreign_table_name': None, 'foreign_column_name': None, 'column_description': 'Number assigned to the station.'}}, {'table_name': 'StationMasters', 'schema': 'SalesService', 'column_details': {'column_name': 'CRNumber', 'data_type': 'text', 'constraint_type': None, 'foreign_table_name': None, 'foreign_column_name': None, 'column_description': 'Commercial Registration number of the station.'}}, {'table_name': 'StationMasters', 'schema': 'SalesService', 'column_details': {'column_name': 'MainOfficeBranchId', 'data_type': 'text', 'constraint_type': None, 'foreign_table_name': None, 'foreign_column_name': None, 'column_description': 'Identifier for the main office branch.'}}, {'table_name': 'StationMasters', 'schema': 'SalesService', 'column_details': {'column_name': 'StationRelationShipId', 'data_type': 'text', 'constraint_type': None, 'foreign_table_name': None, 'foreign_column_name': None, 'column_description': 'Identifier for the station relationship.'}}, {'table_name': 'StationMasters', 'schema': 'SalesService', 'column_details': {'column_name': 'CRExpiry', 'data_type': 'timestamp with time zone', 'constraint_type': None, 'foreign_table_name': None, 'foreign_column_name': None, 'column_description': 'Expiry date of the Commercial Registration.'}}, {'table_name': 'StationMasters', 'schema': 'SalesService', 'column_details': {'column_name': 'LocationId', 'data_type': 'text', 'constraint_type': 'FOREIGN KEY', 'foreign_table_name': 'Location', 'foreign_column_name': 'Id', 'column_description': 'Identifier for the location.'}}, {'table_name': 'StationMasters', 'schema': 'SalesService', 'column_details': {'column_name': 'RegionId', 'data_type': 'text', 'constraint_type': 'FOREIGN KEY', 'foreign_table_name': 'Regions', 'foreign_column_name': 'Id', 'column_description': 'Identifier for the region.'}}, {'table_name': 'StationMasters', 'schema': 'SalesService', 'column_details': {'column_name': 'LatLong', 'data_type': 'text', 'constraint_type': None, 'foreign_table_name': None, 'foreign_column_name': None, 'column_description': 'Latitude and Longitude coordinates.'}}, {'table_name': 'StationMasters', 'schema': 'SalesService', 'column_details': {'column_name': 'Name', 'data_type': 'text', 'constraint_type': None, 'foreign_table_name': None, 'foreign_column_name': None, 'column_description': 'Name of the station.'}}, {'table_name': 'StationMasters', 'schema': 'SalesService', 'column_details': {'column_name': 'StationTypeId', 'data_type': 'text', 'constraint_type': 'FOREIGN KEY', 'foreign_table_name': 'StationType', 'foreign_column_name': 'Id', 'column_description': 'Identifier for the station type.'}}, {'table_name': 'StationMasters', 'schema': 'SalesService', 'column_details': {'column_name': 'LastTaqyeessInspection', 'data_type': 'timestamp with time zone', 'constraint_type': None, 'foreign_table_name': None, 'foreign_column_name': None, 'column_description': 'Date of the last Taqyeess inspection.'}}, {'table_name': 'StationMasters', 'schema': 'SalesService', 'column_details': {'column_name': 'TenantId', 'data_type': 'text', 'constraint_type': 'FOREIGN KEY', 'foreign_table_name': 'Tenants', 'foreign_column_name': 'Id', 'column_description': 'Identifier for the tenant.'}}, {'table_name': 'StationMasters', 'schema': 'SalesService', 'column_details': {'column_name': 'IsDeleted', 'data_type': 'boolean', 'constraint_type': None, 'foreign_table_name': None, 'foreign_column_name': None, 'column_description': 'Flag indicating if the station record is deleted.'}}, {'table_name': 'StationMasters', 'schema': 'SalesService', 'column_details': {'column_name': 'CreatedDate', 'data_type': 'timestamp with time zone', 'constraint_type': None, 'foreign_table_name': None, 'foreign_column_name': None, 'column_description': 'Timestamp of when the station record was created.'}}, {'table_name': 'StationMasters', 'schema': 'SalesService', 'column_details': {'column_name': 'ModifiedDate', 'data_type': 'timestamp with time zone', 'constraint_type': None, 'foreign_table_name': None, 'foreign_column_name': None, 'column_description': 'Timestamp of when the station record was last modified.'}}, {'table_name': 'StationMasters', 'schema': 'SalesService', 'column_details': {'column_name': 'CreatedBy', 'data_type': 'text', 'constraint_type': None, 'foreign_table_name': None, 'foreign_column_name': None, 'column_description': 'Identifier of the user who created the station record.'}}, {'table_name': 'StationMasters', 'schema': 'SalesService', 'column_details': {'column_name': 'ModifiedBy', 'data_type': 'text', 'constraint_type': None, 'foreign_table_name': None, 'foreign_column_name': None, 'column_description': 'Identifier of the user who last modified the station record.'}}, {'table_name': 'StationMasters', 'schema': 'SalesService', 'column_details': {'column_name': 'InternalInspectionReminderFrequency', 'data_type': 'integer', 'constraint_type': None, 'foreign_table_name': None, 'foreign_column_name': None, 'column_description': 'Frequency of internal inspection reminders.'}}, {'table_name': 'StationMasters', 'schema': 'SalesService', 'column_details': {'column_name': 'LastInternalInspection', 'data_type': 'timestamp with time zone', 'constraint_type': None, 'foreign_table_name': None, 'foreign_column_name': None, 'column_description': 'Date of the last internal inspection.'}}, {'table_name': 'StationMasters', 'schema': 'SalesService', 'column_details': {'column_name': 'TaqyeessInspectionReminderFrequency', 'data_type': 'integer', 'constraint_type': None, 'foreign_table_name': None, 'foreign_column_name': None, 'column_description': 'Frequency of Taqyeess inspection reminders.'}}, {'table_name': 'StationMasters', 'schema': 'SalesService', 'column_details': {'column_name': 'IsActive', 'data_type': 'boolean', 'constraint_type': None, 'foreign_table_name': None, 'foreign_column_name': None, 'column_description': 'Flag indicating if the station is active.'}}, {'table_name': 'StationMasters', 'schema': 'SalesService', 'column_details': {'column_name': 'CityId', 'data_type': 'text', 'constraint_type': None, 'foreign_table_name': None, 'foreign_column_name': None, 'column_description': 'Identifier for the city.'}}, {'table_name': 'Shifts', 'schema': 'SalesService', 'column_details': {'column_name': 'Id', 'data_type': 'text', 'constraint_type': 'PRIMARY KEY', 'foreign_table_name': None, 'foreign_column_name': None, 'column_description': 'Unique identifier for the shift.'}}, {'table_name': 'Shifts', 'schema': 'SalesService', 'column_details': {'column_name': 'TenantId', 'data_type': 'text', 'constraint_type': None, 'foreign_table_name': None, 'foreign_column_name': None, 'column_description': 'Identifier for the tenant.'}}, {'table_name': 'Shifts', 'schema': 'SalesService', 'column_details': {'column_name': 'StationId', 'data_type': 'text', 'constraint_type': 'FOREIGN KEY', 'foreign_table_name': 'StationMasters', 'foreign_column_name': 'Id', 'column_description': 'Identifier for the station where the shift takes place.'}}, {'table_name': 'Shifts', 'schema': 'SalesService', 'column_details': {'column_name': 'Name', 'data_type': 'text', 'constraint_type': None, 'foreign_table_name': None, 'foreign_column_name': None, 'column_description': 'Name of the shift.'}}, {'table_name': 'Shifts', 'schema': 'SalesService', 'column_details': {'column_name': 'FromTime', 'data_type': 'time without time zone', 'constraint_type': None, 'foreign_table_name': None, 'foreign_column_name': None, 'column_description': 'Start time of the shift.'}}, {'table_name': 'Shifts', 'schema': 'SalesService', 'column_details': {'column_name': 'ToTime', 'data_type': 'time without time zone', 'constraint_type': None, 'foreign_table_name': None, 'foreign_column_name': None, 'column_description': 'End time of the shift.'}}, {'table_name': 'Shifts', 'schema': 'SalesService', 'column_details': {'column_name': 'IsDeleted', 'data_type': 'boolean', 'constraint_type': None, 'foreign_table_name': None, 'foreign_column_name': None, 'column_description': 'Flag indicating if the shift record is deleted.'}}, {'table_name': 'Shifts', 'schema': 'SalesService', 'column_details': {'column_name': 'IsNormalShift', 'data_type': 'boolean', 'constraint_type': None, 'foreign_table_name': None, 'foreign_column_name': None, 'column_description': 'Flag indicating if the shift is a normal shift.'}}, {'table_name': 'Shifts', 'schema': 'SalesService', 'column_details': {'column_name': 'CreatedDate', 'data_type': 'timestamp with time zone', 'constraint_type': None, 'foreign_table_name': None, 'foreign_column_name': None, 'column_description': 'Timestamp of when the shift record was created.'}}, {'table_name': 'Shifts', 'schema': 'SalesService', 'column_details': {'column_name': 'ModifiedDate', 'data_type': 'timestamp with time zone', 'constraint_type': None, 'foreign_table_name': None, 'foreign_column_name': None, 'column_description': 'Timestamp of when the shift record was last modified.'}}, {'table_name': 'Shifts', 'schema': 'SalesService', 'column_details': {'column_name': 'CreatedBy', 'data_type': 'text', 'constraint_type': None, 'foreign_table_name': None, 'foreign_column_name': None, 'column_description': 'Identifier of the user who created the shift record.'}}, {'table_name': 'Shifts', 'schema': 'SalesService', 'column_details': {'column_name': 'ModifiedBy', 'data_type': 'text', 'constraint_type': None, 'foreign_table_name': None, 'foreign_column_name': None, 'column_description': 'Identifier of the user who last modified the shift record.'}}, {'table_name': 'TankSupplier', 'schema': 'SalesService', 'column_details': {'column_name': 'Id', 'data_type': 'text', 'constraint_type': 'PRIMARY KEY', 'foreign_table_name': None, 'foreign_column_name': None, 'column_description': ''}}, {'table_name': 'TankSupplier', 'schema': 'SalesService', 'column_details': {'column_name': 'Name', 'data_type': 'text', 'constraint_type': None, 'foreign_table_name': None, 'foreign_column_name': None, 'column_description': ''}}, {'table_name': 'TankSupplier', 'schema': 'SalesService', 'column_details': {'column_name': 'Email', 'data_type': 'text', 'constraint_type': None, 'foreign_table_name': None, 'foreign_column_name': None, 'column_description': ''}}, {'table_name': 'TankSupplier', 'schema': 'SalesService', 'column_details': {'column_name': 'Phone', 'data_type': 'text', 'constraint_type': None, 'foreign_table_name': None, 'foreign_column_name': None, 'column_description': ''}}, {'table_name': 'TankSupplier', 'schema': 'SalesService', 'column_details': {'column_name': 'IsDeleted', 'data_type': 'boolean', 'constraint_type': None, 'foreign_table_name': None, 'foreign_column_name': None, 'column_description': ''}}, {'table_name': 'TankSupplier', 'schema': 'SalesService', 'column_details': {'column_name': 'CreatedDate', 'data_type': 'timestamp with time zone', 'constraint_type': None, 'foreign_table_name': None, 'foreign_column_name': None, 'column_description': ''}}, {'table_name': 'TankSupplier', 'schema': 'SalesService', 'column_details': {'column_name': 'ModifiedDate', 'data_type': 'timestamp with time zone', 'constraint_type': None, 'foreign_table_name': None, 'foreign_column_name': None, 'column_description': ''}}, {'table_name': 'TankSupplier', 'schema': 'SalesService', 'column_details': {'column_name': 'CreatedBy', 'data_type': 'text', 'constraint_type': None, 'foreign_table_name': None, 'foreign_column_name': None, 'column_description': ''}}, {'table_name': 'TankSupplier', 'schema': 'SalesService', 'column_details': {'column_name': 'ModifiedBy', 'data_type': 'text', 'constraint_type': None, 'foreign_table_name': None, 'foreign_column_name': None, 'column_description': ''}}, {'table_name': 'FuelType', 'schema': 'SalesService', 'column_details': {'column_name': 'Id', 'data_type': 'text', 'constraint_type': 'PRIMARY KEY', 'foreign_table_name': None, 'foreign_column_name': None, 'column_description': 'Unique identifier for the fuel type.'}}, {'table_name': 'FuelType', 'schema': 'SalesService', 'column_details': {'column_name': 'Name', 'data_type': 'text', 'constraint_type': None, 'foreign_table_name': None, 'foreign_column_name': None, 'column_description': 'Name of the fuel type.'}}, {'table_name': 'FuelType', 'schema': 'SalesService', 'column_details': {'column_name': 'IsDeleted', 'data_type': 'boolean', 'constraint_type': None, 'foreign_table_name': None, 'foreign_column_name': None, 'column_description': 'Flag indicating if the fuel type record is deleted.'}}, {'table_name': 'FuelType', 'schema': 'SalesService', 'column_details': {'column_name': 'CreatedDate', 'data_type': 'timestamp with time zone', 'constraint_type': None, 'foreign_table_name': None, 'foreign_column_name': None, 'column_description': 'Timestamp of when the fuel type record was created.'}}, {'table_name': 'FuelType', 'schema': 'SalesService', 'column_details': {'column_name': 'ModifiedDate', 'data_type': 'timestamp with time zone', 'constraint_type': None, 'foreign_table_name': None, 'foreign_column_name': None, 'column_description': 'Timestamp of when the fuel type record was last modified.'}}, {'table_name': 'FuelType', 'schema': 'SalesService', 'column_details': {'column_name': 'CreatedBy', 'data_type': 'text', 'constraint_type': None, 'foreign_table_name': None, 'foreign_column_name': None, 'column_description': 'Identifier of the user who created the fuel type record.'}}, {'table_name': 'FuelType', 'schema': 'SalesService', 'column_details': {'column_name': 'ModifiedBy', 'data_type': 'text', 'constraint_type': None, 'foreign_table_name': None, 'foreign_column_name': None, 'column_description': 'Identifier of the user who last modified the fuel type record.'}}, {'table_name': 'FuelPrice', 'schema': 'SalesService', 'column_details': {'column_name': 'Id', 'data_type': 'text', 'constraint_type': 'PRIMARY KEY', 'foreign_table_name': None, 'foreign_column_name': None, 'column_description': ''}}, {'table_name': 'FuelPrice', 'schema': 'SalesService', 'column_details': {'column_name': 'FuelTypeId', 'data_type': 'text', 'constraint_type': 'FOREIGN KEY', 'foreign_table_name': 'FuelType', 'foreign_column_name': 'Id', 'column_description': ''}}, {'table_name': 'FuelPrice', 'schema': 'SalesService', 'column_details': {'column_name': 'RetailPrice', 'data_type': 'double precision', 'constraint_type': None, 'foreign_table_name': None, 'foreign_column_name': None, 'column_description': ''}}, {'table_name': 'FuelPrice', 'schema': 'SalesService', 'column_details': {'column_name': 'WholesalePrice', 'data_type': 'double precision', 'constraint_type': None, 'foreign_table_name': None, 'foreign_column_name': None, 'column_description': ''}}, {'table_name': 'FuelPrice', 'schema': 'SalesService', 'column_details': {'column_name': 'StationId', 'data_type': 'text', 'constraint_type': 'FOREIGN KEY', 'foreign_table_name': 'StationMasters', 'foreign_column_name': 'Id', 'column_description': ''}}, {'table_name': 'FuelPrice', 'schema': 'SalesService', 'column_details': {'column_name': 'TenantId', 'data_type': 'text', 'constraint_type': 'FOREIGN KEY', 'foreign_table_name': 'Tenants', 'foreign_column_name': 'Id', 'column_description': ''}}, {'table_name': 'FuelPrice', 'schema': 'SalesService', 'column_details': {'column_name': 'StartDate', 'data_type': 'timestamp with time zone', 'constraint_type': None, 'foreign_table_name': None, 'foreign_column_name': None, 'column_description': ''}}, {'table_name': 'FuelPrice', 'schema': 'SalesService', 'column_details': {'column_name': 'EndDate', 'data_type': 'timestamp with time zone', 'constraint_type': None, 'foreign_table_name': None, 'foreign_column_name': None, 'column_description': ''}}, {'table_name': 'FuelPrice', 'schema': 'SalesService', 'column_details': {'column_name': 'IsActive', 'data_type': 'boolean', 'constraint_type': None, 'foreign_table_name': None, 'foreign_column_name': None, 'column_description': ''}}, {'table_name': 'FuelPrice', 'schema': 'SalesService', 'column_details': {'column_name': 'IsDeleted', 'data_type': 'boolean', 'constraint_type': None, 'foreign_table_name': None, 'foreign_column_name': None, 'column_description': ''}}, {'table_name': 'FuelPrice', 'schema': 'SalesService', 'column_details': {'column_name': 'CreatedDate', 'data_type': 'timestamp with time zone', 'constraint_type': None, 'foreign_table_name': None, 'foreign_column_name': None, 'column_description': ''}}, {'table_name': 'FuelPrice', 'schema': 'SalesService', 'column_details': {'column_name': 'ModifiedDate', 'data_type': 'timestamp with time zone', 'constraint_type': None, 'foreign_table_name': None, 'foreign_column_name': None, 'column_description': ''}}, {'table_name': 'FuelPrice', 'schema': 'SalesService', 'column_details': {'column_name': 'CreatedBy', 'data_type': 'text', 'constraint_type': None, 'foreign_table_name': None, 'foreign_column_name': None, 'column_description': ''}}, {'table_name': 'FuelPrice', 'schema': 'SalesService', 'column_details': {'column_name': 'ModifiedBy', 'data_type': 'text', 'constraint_type': None, 'foreign_table_name': None, 'foreign_column_name': None, 'column_description': ''}}, {'table_name': 'Tanks', 'schema': 'SalesService', 'column_details': {'column_name': 'Id', 'data_type': 'text', 'constraint_type': 'PRIMARY KEY', 'foreign_table_name': None, 'foreign_column_name': None, 'column_description': ''}}, {'table_name': 'Tanks', 'schema': 'SalesService', 'column_details': {'column_name': 'TenantId', 'data_type': 'text', 'constraint_type': 'FOREIGN KEY', 'foreign_table_name': 'Tenants', 'foreign_column_name': 'Id', 'column_description': ''}}, {'table_name': 'Tanks', 'schema': 'SalesService', 'column_details': {'column_name': 'StationId', 'data_type': 'text', 'constraint_type': 'FOREIGN KEY', 'foreign_table_name': 'StationMasters', 'foreign_column_name': 'Id', 'column_description': ''}}, {'table_name': 'Tanks', 'schema': 'SalesService', 'column_details': {'column_name': 'TankMastersId', 'data_type': 'text', 'constraint_type': 'FOREIGN KEY', 'foreign_table_name': 'TankMasters', 'foreign_column_name': 'Id', 'column_description': ''}}, {'table_name': 'Tanks', 'schema': 'SalesService', 'column_details': {'column_name': 'TankSupplierId', 'data_type': 'text', 'constraint_type': 'FOREIGN KEY', 'foreign_table_name': 'TankSupplier', 'foreign_column_name': 'Id', 'column_description': ''}}, {'table_name': 'Tanks', 'schema': 'SalesService', 'column_details': {'column_name': 'FuelTypeId', 'data_type': 'text', 'constraint_type': 'FOREIGN KEY', 'foreign_table_name': 'FuelType', 'foreign_column_name': 'Id', 'column_description': ''}}, {'table_name': 'Tanks', 'schema': 'SalesService', 'column_details': {'column_name': 'WarrantyStartDate', 'data_type': 'timestamp with time zone', 'constraint_type': None, 'foreign_table_name': None, 'foreign_column_name': None, 'column_description': ''}}, {'table_name': 'Tanks', 'schema': 'SalesService', 'column_details': {'column_name': 'WarrantyExpiryDate', 'data_type': 'timestamp with time zone', 'constraint_type': None, 'foreign_table_name': None, 'foreign_column_name': None, 'column_description': ''}}, {'table_name': 'Tanks', 'schema': 'SalesService', 'column_details': {'column_name': 'UnusableVolume', 'data_type': 'double precision', 'constraint_type': None, 'foreign_table_name': None, 'foreign_column_name': None, 'column_description': ''}}, {'table_name': 'Tanks', 'schema': 'SalesService', 'column_details': {'column_name': 'LastInspectionDate', 'data_type': 'timestamp with time zone', 'constraint_type': None, 'foreign_table_name': None, 'foreign_column_name': None, 'column_description': ''}}, {'table_name': 'Tanks', 'schema': 'SalesService', 'column_details': {'column_name': 'InspectionReminderFrequency', 'data_type': 'integer', 'constraint_type': None, 'foreign_table_name': None, 'foreign_column_name': None, 'column_description': ''}}, {'table_name': 'Tanks', 'schema': 'SalesService', 'column_details': {'column_name': 'InspectionReminderBeforeDays', 'data_type': 'integer', 'constraint_type': None, 'foreign_table_name': None, 'foreign_column_name': None, 'column_description': ''}}, {'table_name': 'Tanks', 'schema': 'SalesService', 'column_details': {'column_name': 'DustVolume', 'data_type': 'double precision', 'constraint_type': None, 'foreign_table_name': None, 'foreign_column_name': None, 'column_description': ''}}, {'table_name': 'Tanks', 'schema': 'SalesService', 'column_details': {'column_name': 'HumidityVolume', 'data_type': 'double precision', 'constraint_type': None, 'foreign_table_name': None, 'foreign_column_name': None, 'column_description': ''}}, {'table_name': 'Tanks', 'schema': 'SalesService', 'column_details': {'column_name': 'CurentFuelVolume', 'data_type': 'numeric', 'constraint_type': None, 'foreign_table_name': None, 'foreign_column_name': None, 'column_description': ''}}, {'table_name': 'Tanks', 'schema': 'SalesService', 'column_details': {'column_name': 'IsDeleted', 'data_type': 'boolean', 'constraint_type': None, 'foreign_table_name': None, 'foreign_column_name': None, 'column_description': ''}}, {'table_name': 'Tanks', 'schema': 'SalesService', 'column_details': {'column_name': 'CreatedDate', 'data_type': 'timestamp with time zone', 'constraint_type': None, 'foreign_table_name': None, 'foreign_column_name': None, 'column_description': ''}}, {'table_name': 'Tanks', 'schema': 'SalesService', 'column_details': {'column_name': 'ModifiedDate', 'data_type': 'timestamp with time zone', 'constraint_type': None, 'foreign_table_name': None, 'foreign_column_name': None, 'column_description': ''}}, {'table_name': 'Tanks', 'schema': 'SalesService', 'column_details': {'column_name': 'CreatedBy', 'data_type': 'text', 'constraint_type': None, 'foreign_table_name': None, 'foreign_column_name': None, 'column_description': ''}}, {'table_name': 'Tanks', 'schema': 'SalesService', 'column_details': {'column_name': 'ModifiedBy', 'data_type': 'text', 'constraint_type': None, 'foreign_table_name': None, 'foreign_column_name': None, 'column_description': ''}}, {'table_name': 'Tanks', 'schema': 'SalesService', 'column_details': {'column_name': 'Number', 'data_type': 'text', 'constraint_type': None, 'foreign_table_name': None, 'foreign_column_name': None, 'column_description': ''}}, {'table_name': 'Ports', 'schema': 'SalesService', 'column_details': {'column_name': 'Id', 'data_type': 'text', 'constraint_type': 'PRIMARY KEY', 'foreign_table_name': None, 'foreign_column_name': None, 'column_description': 'Unique identifier for the port.'}}, {'table_name': 'Ports', 'schema': 'SalesService', 'column_details': {'column_name': 'Number', 'data_type': 'text', 'constraint_type': None, 'foreign_table_name': None, 'foreign_column_name': None, 'column_description': 'Number assigned to the port.'}}, {'table_name': 'Ports', 'schema': 'SalesService', 'column_details': {'column_name': 'Name', 'data_type': 'text', 'constraint_type': None, 'foreign_table_name': None, 'foreign_column_name': None, 'column_description': 'Name of the port.'}}, {'table_name': 'Ports', 'schema': 'SalesService', 'column_details': {'column_name': 'TenantId', 'data_type': 'text', 'constraint_type': 'FOREIGN KEY', 'foreign_table_name': 'Tenants', 'foreign_column_name': 'Id', 'column_description': 'Identifier for the tenant.'}}, {'table_name': 'Ports', 'schema': 'SalesService', 'column_details': {'column_name': 'StationId', 'data_type': 'text', 'constraint_type': 'FOREIGN KEY', 'foreign_table_name': 'StationMasters', 'foreign_column_name': 'Id', 'column_description': 'Identifier for the station where the port is located.'}}, {'table_name': 'Ports', 'schema': 'SalesService', 'column_details': {'column_name': 'IsDeleted', 'data_type': 'boolean', 'constraint_type': None, 'foreign_table_name': None, 'foreign_column_name': None, 'column_description': 'Flag indicating if the port record is deleted.'}}, {'table_name': 'Ports', 'schema': 'SalesService', 'column_details': {'column_name': 'CreatedDate', 'data_type': 'timestamp with time zone', 'constraint_type': None, 'foreign_table_name': None, 'foreign_column_name': None, 'column_description': 'Timestamp of when the port record was created.'}}, {'table_name': 'Ports', 'schema': 'SalesService', 'column_details': {'column_name': 'ModifiedDate', 'data_type': 'timestamp with time zone', 'constraint_type': None, 'foreign_table_name': None, 'foreign_column_name': None, 'column_description': 'Timestamp of when the port record was last modified.'}}, {'table_name': 'Ports', 'schema': 'SalesService', 'column_details': {'column_name': 'CreatedBy', 'data_type': 'text', 'constraint_type': None, 'foreign_table_name': None, 'foreign_column_name': None, 'column_description': 'Identifier of the user who created the port record.'}}, {'table_name': 'Ports', 'schema': 'SalesService', 'column_details': {'column_name': 'ModifiedBy', 'data_type': 'text', 'constraint_type': None, 'foreign_table_name': None, 'foreign_column_name': None, 'column_description': 'Identifier of the user who last modified the port record.'}}, {'table_name': 'DispenserConfiguration', 'schema': 'SalesService', 'column_details': {'column_name': 'Id', 'data_type': 'text', 'constraint_type': 'PRIMARY KEY', 'foreign_table_name': None, 'foreign_column_name': None, 'column_description': 'Unique identifier for the dispenser configuration.'}}, {'table_name': 'DispenserConfiguration', 'schema': 'SalesService', 'column_details': {'column_name': 'TenantId', 'data_type': 'text', 'constraint_type': 'FOREIGN KEY', 'foreign_table_name': 'Tenants', 'foreign_column_name': 'Id', 'column_description': 'Identifier for the tenant.'}}, {'table_name': 'DispenserConfiguration', 'schema': 'SalesService', 'column_details': {'column_name': 'StationId', 'data_type': 'text', 'constraint_type': 'FOREIGN KEY', 'foreign_table_name': 'StationMasters', 'foreign_column_name': 'Id', 'column_description': 'Identifier for the station where the dispenser is located.'}}, {'table_name': 'DispenserConfiguration', 'schema': 'SalesService', 'column_details': {'column_name': 'PortId', 'data_type': 'text', 'constraint_type': 'FOREIGN KEY', 'foreign_table_name': 'Ports', 'foreign_column_name': 'Id', 'column_description': 'Identifier for the port associated with the dispenser.'}}, {'table_name': 'DispenserConfiguration', 'schema': 'SalesService', 'column_details': {'column_name': 'DispenserNumber', 'data_type': 'text', 'constraint_type': None, 'foreign_table_name': None, 'foreign_column_name': None, 'column_description': 'Number assigned to the dispenser.'}}, {'table_name': 'DispenserConfiguration', 'schema': 'SalesService', 'column_details': {'column_name': 'DispenserSNo', 'data_type': 'text', 'constraint_type': None, 'foreign_table_name': None, 'foreign_column_name': None, 'column_description': 'Serial number of the dispenser.'}}, {'table_name': 'DispenserConfiguration', 'schema': 'SalesService', 'column_details': {'column_name': 'BrandId', 'data_type': 'text', 'constraint_type': None, 'foreign_table_name': None, 'foreign_column_name': None, 'column_description': 'Identifier for the brand of the dispenser.'}}, {'table_name': 'DispenserConfiguration', 'schema': 'SalesService', 'column_details': {'column_name': 'ModelId', 'data_type': 'text', 'constraint_type': None, 'foreign_table_name': None, 'foreign_column_name': None, 'column_description': 'Identifier for the model of the dispenser.'}}, {'table_name': 'DispenserConfiguration', 'schema': 'SalesService', 'column_details': {'column_name': 'SpeedOfDelivery', 'data_type': 'numeric', 'constraint_type': None, 'foreign_table_name': None, 'foreign_column_name': None, 'column_description': 'Speed of delivery for the dispenser.'}}, {'table_name': 'DispenserConfiguration', 'schema': 'SalesService', 'column_details': {'column_name': 'WarrantyStartDate', 'data_type': 'timestamp with time zone', 'constraint_type': None, 'foreign_table_name': None, 'foreign_column_name': None, 'column_description': \"Start date of the dispenser's warranty.\"}}, {'table_name': 'DispenserConfiguration', 'schema': 'SalesService', 'column_details': {'column_name': 'WarrantyEndDate', 'data_type': 'timestamp with time zone', 'constraint_type': None, 'foreign_table_name': None, 'foreign_column_name': None, 'column_description': \"End date of the dispenser's warranty.\"}}, {'table_name': 'DispenserConfiguration', 'schema': 'SalesService', 'column_details': {'column_name': 'SupplierId', 'data_type': 'text', 'constraint_type': None, 'foreign_table_name': None, 'foreign_column_name': None, 'column_description': 'Identifier for the supplier of the dispenser.'}}, {'table_name': 'DispenserConfiguration', 'schema': 'SalesService', 'column_details': {'column_name': 'IsDeleted', 'data_type': 'boolean', 'constraint_type': None, 'foreign_table_name': None, 'foreign_column_name': None, 'column_description': 'Flag indicating if the dispenser configuration is deleted.'}}, {'table_name': 'DispenserConfiguration', 'schema': 'SalesService', 'column_details': {'column_name': 'CreatedDate', 'data_type': 'timestamp with time zone', 'constraint_type': None, 'foreign_table_name': None, 'foreign_column_name': None, 'column_description': 'Timestamp of when the dispenser configuration was created.'}}, {'table_name': 'DispenserConfiguration', 'schema': 'SalesService', 'column_details': {'column_name': 'ModifiedDate', 'data_type': 'timestamp with time zone', 'constraint_type': None, 'foreign_table_name': None, 'foreign_column_name': None, 'column_description': 'Timestamp of when the dispenser configuration was last modified.'}}, {'table_name': 'DispenserConfiguration', 'schema': 'SalesService', 'column_details': {'column_name': 'CreatedBy', 'data_type': 'text', 'constraint_type': None, 'foreign_table_name': None, 'foreign_column_name': None, 'column_description': 'Identifier of the user who created the dispenser configuration.'}}, {'table_name': 'DispenserConfiguration', 'schema': 'SalesService', 'column_details': {'column_name': 'ModifiedBy', 'data_type': 'text', 'constraint_type': None, 'foreign_table_name': None, 'foreign_column_name': None, 'column_description': 'Identifier of the user who last modified the dispenser configuration.'}}, {'table_name': 'Nozzles', 'schema': 'SalesService', 'column_details': {'column_name': 'Id', 'data_type': 'text', 'constraint_type': 'PRIMARY KEY', 'foreign_table_name': None, 'foreign_column_name': None, 'column_description': 'Unique identifier for the nozzle.'}}, {'table_name': 'Nozzles', 'schema': 'SalesService', 'column_details': {'column_name': 'NozzleNumber', 'data_type': 'text', 'constraint_type': None, 'foreign_table_name': None, 'foreign_column_name': None, 'column_description': 'Number assigned to the nozzle.'}}, {'table_name': 'Nozzles', 'schema': 'SalesService', 'column_details': {'column_name': 'TenantId', 'data_type': 'text', 'constraint_type': 'FOREIGN KEY', 'foreign_table_name': 'Tenants', 'foreign_column_name': 'Id', 'column_description': 'Identifier for the tenant.'}}, {'table_name': 'Nozzles', 'schema': 'SalesService', 'column_details': {'column_name': 'StationId', 'data_type': 'text', 'constraint_type': 'FOREIGN KEY', 'foreign_table_name': 'StationMasters', 'foreign_column_name': 'Id', 'column_description': 'Identifier for the station where the nozzle is located.'}}, {'table_name': 'Nozzles', 'schema': 'SalesService', 'column_details': {'column_name': 'TankId', 'data_type': 'text', 'constraint_type': 'FOREIGN KEY', 'foreign_table_name': 'Tanks', 'foreign_column_name': 'Id', 'column_description': 'Identifier for the tank associated with the nozzle.'}}, {'table_name': 'Nozzles', 'schema': 'SalesService', 'column_details': {'column_name': 'DispenserId', 'data_type': 'text', 'constraint_type': 'FOREIGN KEY', 'foreign_table_name': 'DispenserConfiguration', 'foreign_column_name': 'Id', 'column_description': 'Identifier for the dispenser to which the nozzle is attached.'}}, {'table_name': 'Nozzles', 'schema': 'SalesService', 'column_details': {'column_name': 'TotalFuelDispencedVolume', 'data_type': 'numeric', 'constraint_type': None, 'foreign_table_name': None, 'foreign_column_name': None, 'column_description': 'Identifier for the dispenser to which the nozzle is attached.'}}, {'table_name': 'Nozzles', 'schema': 'SalesService', 'column_details': {'column_name': 'LastInitialReading', 'data_type': 'numeric', 'constraint_type': None, 'foreign_table_name': None, 'foreign_column_name': None, 'column_description': 'Last initial reading of the nozzle.'}}, {'table_name': 'Nozzles', 'schema': 'SalesService', 'column_details': {'column_name': 'IsDeleted', 'data_type': 'boolean', 'constraint_type': None, 'foreign_table_name': None, 'foreign_column_name': None, 'column_description': 'Flag indicating if the nozzle record is deleted.'}}, {'table_name': 'Nozzles', 'schema': 'SalesService', 'column_details': {'column_name': 'CreatedDate', 'data_type': 'timestamp with time zone', 'constraint_type': None, 'foreign_table_name': None, 'foreign_column_name': None, 'column_description': 'Timestamp of when the nozzle record was created.'}}, {'table_name': 'Nozzles', 'schema': 'SalesService', 'column_details': {'column_name': 'ModifiedDate', 'data_type': 'timestamp with time zone', 'constraint_type': None, 'foreign_table_name': None, 'foreign_column_name': None, 'column_description': 'Timestamp of when the nozzle record was last modified.'}}, {'table_name': 'Nozzles', 'schema': 'SalesService', 'column_details': {'column_name': 'CreatedBy', 'data_type': 'text', 'constraint_type': None, 'foreign_table_name': None, 'foreign_column_name': None, 'column_description': 'Identifier of the user who created the nozzle record.'}}, {'table_name': 'Nozzles', 'schema': 'SalesService', 'column_details': {'column_name': 'ModifiedBy', 'data_type': 'text', 'constraint_type': None, 'foreign_table_name': None, 'foreign_column_name': None, 'column_description': 'Identifier of the user who last modified the nozzle record.'}}, {'table_name': 'StationCollections', 'schema': 'SalesService', 'column_details': {'column_name': 'Id', 'data_type': 'text', 'constraint_type': 'PRIMARY KEY', 'foreign_table_name': None, 'foreign_column_name': None, 'column_description': ''}}, {'table_name': 'StationCollections', 'schema': 'SalesService', 'column_details': {'column_name': 'TenantId', 'data_type': 'text', 'constraint_type': 'FOREIGN KEY', 'foreign_table_name': 'Tenants', 'foreign_column_name': 'Id', 'column_description': ''}}, {'table_name': 'StationCollections', 'schema': 'SalesService', 'column_details': {'column_name': 'StationId', 'data_type': 'text', 'constraint_type': 'FOREIGN KEY', 'foreign_table_name': 'StationMasters', 'foreign_column_name': 'Id', 'column_description': ''}}, {'table_name': 'StationCollections', 'schema': 'SalesService', 'column_details': {'column_name': 'StationLockerTransactionId', 'data_type': 'text', 'constraint_type': 'FOREIGN KEY', 'foreign_table_name': 'StationLockerTransactions', 'foreign_column_name': 'Id', 'column_description': ''}}, {'table_name': 'StationCollections', 'schema': 'SalesService', 'column_details': {'column_name': 'CollectedBy', 'data_type': 'text', 'constraint_type': None, 'foreign_table_name': None, 'foreign_column_name': None, 'column_description': ''}}, {'table_name': 'StationCollections', 'schema': 'SalesService', 'column_details': {'column_name': 'CollectedDateTime', 'data_type': 'timestamp with time zone', 'constraint_type': None, 'foreign_table_name': None, 'foreign_column_name': None, 'column_description': ''}}, {'table_name': 'StationCollections', 'schema': 'SalesService', 'column_details': {'column_name': 'ExistingAmt', 'data_type': 'numeric', 'constraint_type': None, 'foreign_table_name': None, 'foreign_column_name': None, 'column_description': ''}}, {'table_name': 'StationCollections', 'schema': 'SalesService', 'column_details': {'column_name': 'CollectedAmt', 'data_type': 'numeric', 'constraint_type': None, 'foreign_table_name': None, 'foreign_column_name': None, 'column_description': ''}}, {'table_name': 'StationCollections', 'schema': 'SalesService', 'column_details': {'column_name': 'BalanceAmt', 'data_type': 'numeric', 'constraint_type': None, 'foreign_table_name': None, 'foreign_column_name': None, 'column_description': ''}}, {'table_name': 'StationCollections', 'schema': 'SalesService', 'column_details': {'column_name': 'IsDepositedtoBank', 'data_type': 'boolean', 'constraint_type': None, 'foreign_table_name': None, 'foreign_column_name': None, 'column_description': ''}}, {'table_name': 'StationCollections', 'schema': 'SalesService', 'column_details': {'column_name': 'BankDepositedDate', 'data_type': 'timestamp with time zone', 'constraint_type': None, 'foreign_table_name': None, 'foreign_column_name': None, 'column_description': ''}}, {'table_name': 'StationCollections', 'schema': 'SalesService', 'column_details': {'column_name': 'CreatedDate', 'data_type': 'timestamp with time zone', 'constraint_type': None, 'foreign_table_name': None, 'foreign_column_name': None, 'column_description': ''}}, {'table_name': 'StationCollections', 'schema': 'SalesService', 'column_details': {'column_name': 'ModifiedDate', 'data_type': 'timestamp with time zone', 'constraint_type': None, 'foreign_table_name': None, 'foreign_column_name': None, 'column_description': ''}}, {'table_name': 'StationCollections', 'schema': 'SalesService', 'column_details': {'column_name': 'CreatedBy', 'data_type': 'text', 'constraint_type': None, 'foreign_table_name': None, 'foreign_column_name': None, 'column_description': ''}}, {'table_name': 'StationCollections', 'schema': 'SalesService', 'column_details': {'column_name': 'ModifiedBy', 'data_type': 'text', 'constraint_type': None, 'foreign_table_name': None, 'foreign_column_name': None, 'column_description': ''}}, {'table_name': 'StationCollections', 'schema': 'SalesService', 'column_details': {'column_name': 'CollectedAmtBasedOnSupervisor', 'data_type': 'numeric', 'constraint_type': None, 'foreign_table_name': None, 'foreign_column_name': None, 'column_description': ''}}, {'table_name': 'StationCollections', 'schema': 'SalesService', 'column_details': {'column_name': 'ExistingAmtBasedOnSupervisor', 'data_type': 'numeric', 'constraint_type': None, 'foreign_table_name': None, 'foreign_column_name': None, 'column_description': ''}}, {'table_name': 'StationCollections', 'schema': 'SalesService', 'column_details': {'column_name': 'IsAgreedBySupervisor', 'data_type': 'boolean', 'constraint_type': None, 'foreign_table_name': None, 'foreign_column_name': None, 'column_description': ''}}, {'table_name': 'StationCollections', 'schema': 'SalesService', 'column_details': {'column_name': 'IsDeleted', 'data_type': 'boolean', 'constraint_type': None, 'foreign_table_name': None, 'foreign_column_name': None, 'column_description': ''}}, {'table_name': 'StationCollections', 'schema': 'SalesService', 'column_details': {'column_name': 'IsCashSaleTally', 'data_type': 'boolean', 'constraint_type': None, 'foreign_table_name': None, 'foreign_column_name': None, 'column_description': ''}}, {'table_name': 'StationCollections', 'schema': 'SalesService', 'column_details': {'column_name': 'IsPOSSaleTally', 'data_type': 'boolean', 'constraint_type': None, 'foreign_table_name': None, 'foreign_column_name': None, 'column_description': ''}}, {'table_name': 'StationCollections', 'schema': 'SalesService', 'column_details': {'column_name': 'Supervisor', 'data_type': 'text', 'constraint_type': None, 'foreign_table_name': None, 'foreign_column_name': None, 'column_description': ''}}, {'table_name': 'BillTypes', 'schema': 'SalesService', 'column_details': {'column_name': 'Id', 'data_type': 'text', 'constraint_type': 'PRIMARY KEY', 'foreign_table_name': None, 'foreign_column_name': None, 'column_description': ''}}, {'table_name': 'BillTypes', 'schema': 'SalesService', 'column_details': {'column_name': 'Name', 'data_type': 'text', 'constraint_type': None, 'foreign_table_name': None, 'foreign_column_name': None, 'column_description': ''}}, {'table_name': 'BillTypes', 'schema': 'SalesService', 'column_details': {'column_name': 'IsDeleted', 'data_type': 'boolean', 'constraint_type': None, 'foreign_table_name': None, 'foreign_column_name': None, 'column_description': ''}}, {'table_name': 'BillTypes', 'schema': 'SalesService', 'column_details': {'column_name': 'CreatedDate', 'data_type': 'timestamp with time zone', 'constraint_type': None, 'foreign_table_name': None, 'foreign_column_name': None, 'column_description': ''}}, {'table_name': 'BillTypes', 'schema': 'SalesService', 'column_details': {'column_name': 'ModifiedDate', 'data_type': 'timestamp with time zone', 'constraint_type': None, 'foreign_table_name': None, 'foreign_column_name': None, 'column_description': ''}}, {'table_name': 'BillTypes', 'schema': 'SalesService', 'column_details': {'column_name': 'CreatedBy', 'data_type': 'text', 'constraint_type': None, 'foreign_table_name': None, 'foreign_column_name': None, 'column_description': ''}}, {'table_name': 'BillTypes', 'schema': 'SalesService', 'column_details': {'column_name': 'ModifiedBy', 'data_type': 'text', 'constraint_type': None, 'foreign_table_name': None, 'foreign_column_name': None, 'column_description': ''}}, {'table_name': 'MeansOfPaymentTypes', 'schema': 'SalesService', 'column_details': {'column_name': 'Id', 'data_type': 'text', 'constraint_type': 'PRIMARY KEY', 'foreign_table_name': None, 'foreign_column_name': None, 'column_description': ''}}, {'table_name': 'MeansOfPaymentTypes', 'schema': 'SalesService', 'column_details': {'column_name': 'Name', 'data_type': 'text', 'constraint_type': None, 'foreign_table_name': None, 'foreign_column_name': None, 'column_description': ''}}, {'table_name': 'MeansOfPaymentTypes', 'schema': 'SalesService', 'column_details': {'column_name': 'IsDeleted', 'data_type': 'boolean', 'constraint_type': None, 'foreign_table_name': None, 'foreign_column_name': None, 'column_description': ''}}, {'table_name': 'MeansOfPaymentTypes', 'schema': 'SalesService', 'column_details': {'column_name': 'CreatedDate', 'data_type': 'timestamp with time zone', 'constraint_type': None, 'foreign_table_name': None, 'foreign_column_name': None, 'column_description': ''}}, {'table_name': 'MeansOfPaymentTypes', 'schema': 'SalesService', 'column_details': {'column_name': 'ModifiedDate', 'data_type': 'timestamp with time zone', 'constraint_type': None, 'foreign_table_name': None, 'foreign_column_name': None, 'column_description': ''}}, {'table_name': 'MeansOfPaymentTypes', 'schema': 'SalesService', 'column_details': {'column_name': 'CreatedBy', 'data_type': 'text', 'constraint_type': None, 'foreign_table_name': None, 'foreign_column_name': None, 'column_description': ''}}, {'table_name': 'MeansOfPaymentTypes', 'schema': 'SalesService', 'column_details': {'column_name': 'ModifiedBy', 'data_type': 'text', 'constraint_type': None, 'foreign_table_name': None, 'foreign_column_name': None, 'column_description': ''}}, {'table_name': 'TransactionTypes', 'schema': 'SalesService', 'column_details': {'column_name': 'Id', 'data_type': 'text', 'constraint_type': 'PRIMARY KEY', 'foreign_table_name': None, 'foreign_column_name': None, 'column_description': ''}}, {'table_name': 'TransactionTypes', 'schema': 'SalesService', 'column_details': {'column_name': 'Name', 'data_type': 'text', 'constraint_type': None, 'foreign_table_name': None, 'foreign_column_name': None, 'column_description': ''}}, {'table_name': 'TransactionTypes', 'schema': 'SalesService', 'column_details': {'column_name': 'IsDeleted', 'data_type': 'boolean', 'constraint_type': None, 'foreign_table_name': None, 'foreign_column_name': None, 'column_description': ''}}, {'table_name': 'TransactionTypes', 'schema': 'SalesService', 'column_details': {'column_name': 'CreatedDate', 'data_type': 'timestamp with time zone', 'constraint_type': None, 'foreign_table_name': None, 'foreign_column_name': None, 'column_description': ''}}, {'table_name': 'TransactionTypes', 'schema': 'SalesService', 'column_details': {'column_name': 'ModifiedDate', 'data_type': 'timestamp with time zone', 'constraint_type': None, 'foreign_table_name': None, 'foreign_column_name': None, 'column_description': ''}}, {'table_name': 'TransactionTypes', 'schema': 'SalesService', 'column_details': {'column_name': 'CreatedBy', 'data_type': 'text', 'constraint_type': None, 'foreign_table_name': None, 'foreign_column_name': None, 'column_description': ''}}, {'table_name': 'TransactionTypes', 'schema': 'SalesService', 'column_details': {'column_name': 'ModifiedBy', 'data_type': 'text', 'constraint_type': None, 'foreign_table_name': None, 'foreign_column_name': None, 'column_description': ''}}, {'table_name': 'Bills', 'schema': 'SalesService', 'column_details': {'column_name': 'Id', 'data_type': 'text', 'constraint_type': 'PRIMARY KEY', 'foreign_table_name': None, 'foreign_column_name': None, 'column_description': 'Unique identifier for the bill.'}}, {'table_name': 'Bills', 'schema': 'SalesService', 'column_details': {'column_name': 'BillTypeId', 'data_type': 'text', 'constraint_type': 'FOREIGN KEY', 'foreign_table_name': 'BillTypes', 'foreign_column_name': 'Id', 'column_description': 'Identifier for the type of bill.'}}, {'table_name': 'Bills', 'schema': 'SalesService', 'column_details': {'column_name': 'TransactionTypeId', 'data_type': 'text', 'constraint_type': 'FOREIGN KEY', 'foreign_table_name': 'TransactionTypes', 'foreign_column_name': 'Id', 'column_description': 'Identifier for the type of transaction.'}}, {'table_name': 'Bills', 'schema': 'SalesService', 'column_details': {'column_name': 'BilledTo', 'data_type': 'text', 'constraint_type': None, 'foreign_table_name': None, 'foreign_column_name': None, 'column_description': 'Identifier of the entity the bill is issued to.'}}, {'table_name': 'Bills', 'schema': 'SalesService', 'column_details': {'column_name': 'VehicleNumber', 'data_type': 'text', 'constraint_type': None, 'foreign_table_name': None, 'foreign_column_name': None, 'column_description': 'Vehicle number associated with the bill.'}}, {'table_name': 'Bills', 'schema': 'SalesService', 'column_details': {'column_name': 'CreatedDate', 'data_type': 'timestamp with time zone', 'constraint_type': None, 'foreign_table_name': None, 'foreign_column_name': None, 'column_description': 'Timestamp of when the bill was created.'}}, {'table_name': 'Bills', 'schema': 'SalesService', 'column_details': {'column_name': 'ModifiedDate', 'data_type': 'timestamp with time zone', 'constraint_type': None, 'foreign_table_name': None, 'foreign_column_name': None, 'column_description': 'Timestamp of when the bill was last modified.'}}, {'table_name': 'Bills', 'schema': 'SalesService', 'column_details': {'column_name': 'CreatedBy', 'data_type': 'text', 'constraint_type': None, 'foreign_table_name': None, 'foreign_column_name': None, 'column_description': 'Identifier of the user who created the bill.'}}, {'table_name': 'Bills', 'schema': 'SalesService', 'column_details': {'column_name': 'ModifiedBy', 'data_type': 'text', 'constraint_type': None, 'foreign_table_name': None, 'foreign_column_name': None, 'column_description': 'Identifier of the user who last modified the bill.'}}, {'table_name': 'Bills', 'schema': 'SalesService', 'column_details': {'column_name': 'IsDeleted', 'data_type': 'boolean', 'constraint_type': None, 'foreign_table_name': None, 'foreign_column_name': None, 'column_description': 'Flag indicating if the bill record is deleted.'}}, {'table_name': 'Bills', 'schema': 'SalesService', 'column_details': {'column_name': 'MeansOfPaymentTypeId', 'data_type': 'text', 'constraint_type': 'FOREIGN KEY', 'foreign_table_name': 'MeansOfPaymentTypes', 'foreign_column_name': 'Id', 'column_description': 'Identifier for the means of payment.'}}, {'table_name': 'Bills', 'schema': 'SalesService', 'column_details': {'column_name': 'StationId', 'data_type': 'text', 'constraint_type': 'FOREIGN KEY', 'foreign_table_name': 'StationMasters', 'foreign_column_name': 'Id', 'column_description': 'Identifier of the station associated with the bill.'}}, {'table_name': 'Bills', 'schema': 'SalesService', 'column_details': {'column_name': 'TenantId', 'data_type': 'text', 'constraint_type': 'FOREIGN KEY', 'foreign_table_name': 'Tenants', 'foreign_column_name': 'Id', 'column_description': 'Identifier of the tenant associated with the bill.'}}, {'table_name': 'Bills', 'schema': 'SalesService', 'column_details': {'column_name': 'TotalBillWithVat', 'data_type': 'real', 'constraint_type': None, 'foreign_table_name': None, 'foreign_column_name': None, 'column_description': 'Total amount of the bill including VAT.'}}, {'table_name': 'Bills', 'schema': 'SalesService', 'column_details': {'column_name': 'TotalBillWithoutVat', 'data_type': 'real', 'constraint_type': None, 'foreign_table_name': None, 'foreign_column_name': None, 'column_description': 'Total amount of the bill excluding VAT.'}}, {'table_name': 'Bills', 'schema': 'SalesService', 'column_details': {'column_name': 'UserId', 'data_type': 'text', 'constraint_type': 'FOREIGN KEY', 'foreign_table_name': 'Users', 'foreign_column_name': 'Id', 'column_description': 'Identifier of the user associated with the bill.'}}, {'table_name': 'Bills', 'schema': 'SalesService', 'column_details': {'column_name': 'DispenserId', 'data_type': 'text', 'constraint_type': 'FOREIGN KEY', 'foreign_table_name': 'DispenserConfiguration', 'foreign_column_name': 'Id', 'column_description': 'Identifier of the user associated with the bill.'}}, {'table_name': 'NozzleFuelOperations', 'schema': 'SalesService', 'column_details': {'column_name': 'Id', 'data_type': 'text', 'constraint_type': 'PRIMARY KEY', 'foreign_table_name': None, 'foreign_column_name': None, 'column_description': ''}}, {'table_name': 'NozzleFuelOperations', 'schema': 'SalesService', 'column_details': {'column_name': 'TenantId', 'data_type': 'text', 'constraint_type': 'FOREIGN KEY', 'foreign_table_name': 'Tenants', 'foreign_column_name': 'Id', 'column_description': ''}}, {'table_name': 'NozzleFuelOperations', 'schema': 'SalesService', 'column_details': {'column_name': 'StationId', 'data_type': 'text', 'constraint_type': 'FOREIGN KEY', 'foreign_table_name': 'StationMasters', 'foreign_column_name': 'Id', 'column_description': ''}}, {'table_name': 'NozzleFuelOperations', 'schema': 'SalesService', 'column_details': {'column_name': 'OperationDoneBy', 'data_type': 'text', 'constraint_type': None, 'foreign_table_name': None, 'foreign_column_name': None, 'column_description': ''}}, {'table_name': 'NozzleFuelOperations', 'schema': 'SalesService', 'column_details': {'column_name': 'OperationDateTime', 'data_type': 'timestamp with time zone', 'constraint_type': None, 'foreign_table_name': None, 'foreign_column_name': None, 'column_description': ''}}, {'table_name': 'NozzleFuelOperations', 'schema': 'SalesService', 'column_details': {'column_name': 'ShiftId', 'data_type': 'text', 'constraint_type': 'FOREIGN KEY', 'foreign_table_name': 'Shifts', 'foreign_column_name': 'Id', 'column_description': ''}}, {'table_name': 'NozzleFuelOperations', 'schema': 'SalesService', 'column_details': {'column_name': 'DispenserId', 'data_type': 'text', 'constraint_type': 'FOREIGN KEY', 'foreign_table_name': 'DispenserConfiguration', 'foreign_column_name': 'Id', 'column_description': ''}}, {'table_name': 'NozzleFuelOperations', 'schema': 'SalesService', 'column_details': {'column_name': 'NozzleId', 'data_type': 'text', 'constraint_type': 'FOREIGN KEY', 'foreign_table_name': 'Nozzles', 'foreign_column_name': 'Id', 'column_description': ''}}, {'table_name': 'NozzleFuelOperations', 'schema': 'SalesService', 'column_details': {'column_name': 'TankId', 'data_type': 'text', 'constraint_type': 'FOREIGN KEY', 'foreign_table_name': 'Tanks', 'foreign_column_name': 'Id', 'column_description': ''}}, {'table_name': 'NozzleFuelOperations', 'schema': 'SalesService', 'column_details': {'column_name': 'PreviousReading', 'data_type': 'double precision', 'constraint_type': None, 'foreign_table_name': None, 'foreign_column_name': None, 'column_description': ''}}, {'table_name': 'NozzleFuelOperations', 'schema': 'SalesService', 'column_details': {'column_name': 'InitialReading', 'data_type': 'double precision', 'constraint_type': None, 'foreign_table_name': None, 'foreign_column_name': None, 'column_description': ''}}, {'table_name': 'NozzleFuelOperations', 'schema': 'SalesService', 'column_details': {'column_name': 'FinalReading', 'data_type': 'double precision', 'constraint_type': None, 'foreign_table_name': None, 'foreign_column_name': None, 'column_description': ''}}, {'table_name': 'NozzleFuelOperations', 'schema': 'SalesService', 'column_details': {'column_name': 'Difference', 'data_type': 'double precision', 'constraint_type': None, 'foreign_table_name': None, 'foreign_column_name': None, 'column_description': ''}}, {'table_name': 'NozzleFuelOperations', 'schema': 'SalesService', 'column_details': {'column_name': 'FuelTheftVolume', 'data_type': 'double precision', 'constraint_type': None, 'foreign_table_name': None, 'foreign_column_name': None, 'column_description': ''}}, {'table_name': 'NozzleFuelOperations', 'schema': 'SalesService', 'column_details': {'column_name': 'TestingOrInspectionVolume', 'data_type': 'double precision', 'constraint_type': None, 'foreign_table_name': None, 'foreign_column_name': None, 'column_description': ''}}, {'table_name': 'NozzleFuelOperations', 'schema': 'SalesService', 'column_details': {'column_name': 'FuelSaleQuantity', 'data_type': 'double precision', 'constraint_type': None, 'foreign_table_name': None, 'foreign_column_name': None, 'column_description': ''}}, {'table_name': 'NozzleFuelOperations', 'schema': 'SalesService', 'column_details': {'column_name': 'FuelSaleDoneBy', 'data_type': 'text', 'constraint_type': None, 'foreign_table_name': None, 'foreign_column_name': None, 'column_description': ''}}, {'table_name': 'NozzleFuelOperations', 'schema': 'SalesService', 'column_details': {'column_name': 'CreatedDate', 'data_type': 'timestamp with time zone', 'constraint_type': None, 'foreign_table_name': None, 'foreign_column_name': None, 'column_description': ''}}, {'table_name': 'NozzleFuelOperations', 'schema': 'SalesService', 'column_details': {'column_name': 'ModifiedDate', 'data_type': 'timestamp with time zone', 'constraint_type': None, 'foreign_table_name': None, 'foreign_column_name': None, 'column_description': ''}}, {'table_name': 'NozzleFuelOperations', 'schema': 'SalesService', 'column_details': {'column_name': 'CreatedBy', 'data_type': 'text', 'constraint_type': None, 'foreign_table_name': None, 'foreign_column_name': None, 'column_description': ''}}, {'table_name': 'NozzleFuelOperations', 'schema': 'SalesService', 'column_details': {'column_name': 'ModifiedBy', 'data_type': 'text', 'constraint_type': None, 'foreign_table_name': None, 'foreign_column_name': None, 'column_description': ''}}, {'table_name': 'NozzleFuelOperations', 'schema': 'SalesService', 'column_details': {'column_name': 'IsDeleted', 'data_type': 'boolean', 'constraint_type': None, 'foreign_table_name': None, 'foreign_column_name': None, 'column_description': ''}}, {'table_name': 'DailySales', 'schema': 'SalesService', 'column_details': {'column_name': 'Id', 'data_type': 'text', 'constraint_type': 'PRIMARY KEY', 'foreign_table_name': None, 'foreign_column_name': None, 'column_description': 'Unique identifier for the daily sales record.'}}, {'table_name': 'DailySales', 'schema': 'SalesService', 'column_details': {'column_name': 'TenantId', 'data_type': 'text', 'constraint_type': None, 'foreign_table_name': None, 'foreign_column_name': None, 'column_description': 'Identifier for the tenant.'}}, {'table_name': 'DailySales', 'schema': 'SalesService', 'column_details': {'column_name': 'StationId', 'data_type': 'text', 'constraint_type': 'FOREIGN KEY', 'foreign_table_name': 'StationMasters', 'foreign_column_name': 'Id', 'column_description': 'Identifier for the station where the sales occurred.'}}, {'table_name': 'DailySales', 'schema': 'SalesService', 'column_details': {'column_name': 'UserId', 'data_type': 'text', 'constraint_type': 'FOREIGN KEY', 'foreign_table_name': 'Users', 'foreign_column_name': 'Id', 'column_description': 'Identifier for the user associated with the sales.'}}, {'table_name': 'DailySales', 'schema': 'SalesService', 'column_details': {'column_name': 'ShiftId', 'data_type': 'text', 'constraint_type': 'FOREIGN KEY', 'foreign_table_name': 'Shifts', 'foreign_column_name': 'Id', 'column_description': 'Identifier for the shift during which the sales were made.'}}, {'table_name': 'DailySales', 'schema': 'SalesService', 'column_details': {'column_name': 'DailySaleId', 'data_type': 'text', 'constraint_type': None, 'foreign_table_name': None, 'foreign_column_name': None, 'column_description': 'Identifier for the shift during which the sales were made.'}}, {'table_name': 'DailySales', 'schema': 'SalesService', 'column_details': {'column_name': 'OpeningBalance', 'data_type': 'double precision', 'constraint_type': None, 'foreign_table_name': None, 'foreign_column_name': None, 'column_description': 'Opening balance of the sales for the day.'}}, {'table_name': 'DailySales', 'schema': 'SalesService', 'column_details': {'column_name': 'ClosingBalance', 'data_type': 'double precision', 'constraint_type': None, 'foreign_table_name': None, 'foreign_column_name': None, 'column_description': 'Closing balance of the sales for the day.'}}, {'table_name': 'DailySales', 'schema': 'SalesService', 'column_details': {'column_name': 'TotalEmployeeSaleAmount', 'data_type': 'double precision', 'constraint_type': None, 'foreign_table_name': None, 'foreign_column_name': None, 'column_description': 'Total amount of sales made by employees.'}}, {'table_name': 'DailySales', 'schema': 'SalesService', 'column_details': {'column_name': 'TotalPosSaleAmount', 'data_type': 'double precision', 'constraint_type': None, 'foreign_table_name': None, 'foreign_column_name': None, 'column_description': 'Total amount of sales made through the POS system.'}}, {'table_name': 'DailySales', 'schema': 'SalesService', 'column_details': {'column_name': 'CreatedDate', 'data_type': 'timestamp with time zone', 'constraint_type': None, 'foreign_table_name': None, 'foreign_column_name': None, 'column_description': 'Date when the sales record was created.'}}, {'table_name': 'DailySales', 'schema': 'SalesService', 'column_details': {'column_name': 'ModifiedDate', 'data_type': 'timestamp with time zone', 'constraint_type': None, 'foreign_table_name': None, 'foreign_column_name': None, 'column_description': 'Date when the sales record was last modified.'}}, {'table_name': 'DailySales', 'schema': 'SalesService', 'column_details': {'column_name': 'CreatedBy', 'data_type': 'text', 'constraint_type': None, 'foreign_table_name': None, 'foreign_column_name': None, 'column_description': 'Identifier of the user who created the sales record.'}}, {'table_name': 'DailySales', 'schema': 'SalesService', 'column_details': {'column_name': 'ModifiedBy', 'data_type': 'text', 'constraint_type': None, 'foreign_table_name': None, 'foreign_column_name': None, 'column_description': 'Identifier of the user who last modified the sales record.'}}, {'table_name': 'DailySales', 'schema': 'SalesService', 'column_details': {'column_name': 'IsDeleted', 'data_type': 'boolean', 'constraint_type': None, 'foreign_table_name': None, 'foreign_column_name': None, 'column_description': 'Flag indicating if the sales record is deleted.'}}, {'table_name': 'DailySales', 'schema': 'SalesService', 'column_details': {'column_name': 'SaleDate', 'data_type': 'timestamp with time zone', 'constraint_type': None, 'foreign_table_name': None, 'foreign_column_name': None, 'column_description': 'Flag indicating if the sales record is deleted.'}}, {'table_name': 'DailySales', 'schema': 'SalesService', 'column_details': {'column_name': 'TotalSaleAmount', 'data_type': 'double precision', 'constraint_type': None, 'foreign_table_name': None, 'foreign_column_name': None, 'column_description': 'Flag indicating if the sales record is deleted.'}}, {'table_name': 'Tenants', 'schema': 'SalesService', 'column_details': {'column_name': 'Id', 'data_type': 'text', 'constraint_type': 'PRIMARY KEY', 'foreign_table_name': None, 'foreign_column_name': None, 'column_description': 'Unique identifier for the tenant.'}}, {'table_name': 'Tenants', 'schema': 'SalesService', 'column_details': {'column_name': 'CRNumber', 'data_type': 'text', 'constraint_type': None, 'foreign_table_name': None, 'foreign_column_name': None, 'column_description': 'Commercial Registration number of the tenant.'}}, {'table_name': 'Tenants', 'schema': 'SalesService', 'column_details': {'column_name': 'CompanyName', 'data_type': 'text', 'constraint_type': None, 'foreign_table_name': None, 'foreign_column_name': None, 'column_description': 'Name of the company.'}}, {'table_name': 'Tenants', 'schema': 'SalesService', 'column_details': {'column_name': 'CRExpiryDate', 'data_type': 'timestamp with time zone', 'constraint_type': None, 'foreign_table_name': None, 'foreign_column_name': None, 'column_description': 'Expiry date of the Commercial Registration.'}}, {'table_name': 'Tenants', 'schema': 'SalesService', 'column_details': {'column_name': 'PostalCode', 'data_type': 'text', 'constraint_type': None, 'foreign_table_name': None, 'foreign_column_name': None, 'column_description': 'Postal code of the registered address.'}}, {'table_name': 'Tenants', 'schema': 'SalesService', 'column_details': {'column_name': 'RegisteredAddress', 'data_type': 'text', 'constraint_type': None, 'foreign_table_name': None, 'foreign_column_name': None, 'column_description': 'Full registered address of the tenant.'}}, {'table_name': 'Tenants', 'schema': 'SalesService', 'column_details': {'column_name': 'ShortAddress', 'data_type': 'text', 'constraint_type': None, 'foreign_table_name': None, 'foreign_column_name': None, 'column_description': 'Short form of the registered address.'}}, {'table_name': 'Tenants', 'schema': 'SalesService', 'column_details': {'column_name': 'Street', 'data_type': 'text', 'constraint_type': None, 'foreign_table_name': None, 'foreign_column_name': None, 'column_description': 'Street name of the registered address.'}}, {'table_name': 'Tenants', 'schema': 'SalesService', 'column_details': {'column_name': 'AccountOwnerName', 'data_type': 'text', 'constraint_type': None, 'foreign_table_name': None, 'foreign_column_name': None, 'column_description': 'Name of the account owner.'}}, {'table_name': 'Tenants', 'schema': 'SalesService', 'column_details': {'column_name': 'AccountOwnerEmail', 'data_type': 'text', 'constraint_type': None, 'foreign_table_name': None, 'foreign_column_name': None, 'column_description': 'Email address of the account owner.'}}, {'table_name': 'Tenants', 'schema': 'SalesService', 'column_details': {'column_name': 'AccountOwnerPhoneNumber', 'data_type': 'text', 'constraint_type': None, 'foreign_table_name': None, 'foreign_column_name': None, 'column_description': 'Phone number of the account owner.'}}, {'table_name': 'Tenants', 'schema': 'SalesService', 'column_details': {'column_name': 'VAT', 'data_type': 'text', 'constraint_type': None, 'foreign_table_name': None, 'foreign_column_name': None, 'column_description': 'VAT number of the tenant.'}}, {'table_name': 'Tenants', 'schema': 'SalesService', 'column_details': {'column_name': 'IsQualified', 'data_type': 'boolean', 'constraint_type': None, 'foreign_table_name': None, 'foreign_column_name': None, 'column_description': 'Flag indicating if the tenant is qualified.'}}, {'table_name': 'Tenants', 'schema': 'SalesService', 'column_details': {'column_name': 'IsDeleted', 'data_type': 'boolean', 'constraint_type': None, 'foreign_table_name': None, 'foreign_column_name': None, 'column_description': 'Flag indicating if the tenant record is deleted.'}}, {'table_name': 'Tenants', 'schema': 'SalesService', 'column_details': {'column_name': 'CreatedDate', 'data_type': 'timestamp with time zone', 'constraint_type': None, 'foreign_table_name': None, 'foreign_column_name': None, 'column_description': 'Timestamp of when the tenant record was created.'}}, {'table_name': 'Tenants', 'schema': 'SalesService', 'column_details': {'column_name': 'ModifiedDate', 'data_type': 'timestamp with time zone', 'constraint_type': None, 'foreign_table_name': None, 'foreign_column_name': None, 'column_description': 'Timestamp of when the tenant record was last modified.'}}, {'table_name': 'Tenants', 'schema': 'SalesService', 'column_details': {'column_name': 'CreatedBy', 'data_type': 'text', 'constraint_type': None, 'foreign_table_name': None, 'foreign_column_name': None, 'column_description': 'Identifier of the user who created the tenant record.'}}, {'table_name': 'Tenants', 'schema': 'SalesService', 'column_details': {'column_name': 'ModifiedBy', 'data_type': 'text', 'constraint_type': None, 'foreign_table_name': None, 'foreign_column_name': None, 'column_description': 'Identifier of the user who last modified the tenant record.'}}, {'table_name': 'Tenants', 'schema': 'SalesService', 'column_details': {'column_name': 'AccountOwnerNID', 'data_type': 'text', 'constraint_type': None, 'foreign_table_name': None, 'foreign_column_name': None, 'column_description': 'National ID of the account owner.'}}, {'table_name': 'Tenants', 'schema': 'SalesService', 'column_details': {'column_name': 'AdditionalPhoneNumber', 'data_type': 'text', 'constraint_type': None, 'foreign_table_name': None, 'foreign_column_name': None, 'column_description': 'Additional phone number for contact.'}}, {'table_name': 'Tenants', 'schema': 'SalesService', 'column_details': {'column_name': 'Building', 'data_type': 'text', 'constraint_type': None, 'foreign_table_name': None, 'foreign_column_name': None, 'column_description': 'Building name or number.'}}, {'table_name': 'Tenants', 'schema': 'SalesService', 'column_details': {'column_name': 'City', 'data_type': 'text', 'constraint_type': None, 'foreign_table_name': None, 'foreign_column_name': None, 'column_description': 'City name.'}}, {'table_name': 'Tenants', 'schema': 'SalesService', 'column_details': {'column_name': 'District', 'data_type': 'text', 'constraint_type': None, 'foreign_table_name': None, 'foreign_column_name': None, 'column_description': 'District name.'}}, {'table_name': 'Tenants', 'schema': 'SalesService', 'column_details': {'column_name': 'NationalAdditionalPhoneNumber', 'data_type': 'text', 'constraint_type': None, 'foreign_table_name': None, 'foreign_column_name': None, 'column_description': 'Additional national phone number.'}}, {'table_name': 'Tenants', 'schema': 'SalesService', 'column_details': {'column_name': 'NationalBuilding', 'data_type': 'text', 'constraint_type': None, 'foreign_table_name': None, 'foreign_column_name': None, 'column_description': 'National building name or number.'}}, {'table_name': 'Tenants', 'schema': 'SalesService', 'column_details': {'column_name': 'NationalCity', 'data_type': 'text', 'constraint_type': None, 'foreign_table_name': None, 'foreign_column_name': None, 'column_description': 'National city name.'}}, {'table_name': 'Tenants', 'schema': 'SalesService', 'column_details': {'column_name': 'NationalDistrict', 'data_type': 'text', 'constraint_type': None, 'foreign_table_name': None, 'foreign_column_name': None, 'column_description': 'National district name.'}}, {'table_name': 'Tenants', 'schema': 'SalesService', 'column_details': {'column_name': 'NationalPostalCode', 'data_type': 'text', 'constraint_type': None, 'foreign_table_name': None, 'foreign_column_name': None, 'column_description': 'National postal code.'}}, {'table_name': 'Tenants', 'schema': 'SalesService', 'column_details': {'column_name': 'NationalShortAddress', 'data_type': 'text', 'constraint_type': None, 'foreign_table_name': None, 'foreign_column_name': None, 'column_description': 'Short national address.'}}, {'table_name': 'Tenants', 'schema': 'SalesService', 'column_details': {'column_name': 'NationalStreet', 'data_type': 'text', 'constraint_type': None, 'foreign_table_name': None, 'foreign_column_name': None, 'column_description': 'National street name.'}}, {'table_name': 'Tenants', 'schema': 'SalesService', 'column_details': {'column_name': 'AccountOwnerGender', 'data_type': 'text', 'constraint_type': None, 'foreign_table_name': None, 'foreign_column_name': None, 'column_description': 'Gender of the account owner.'}}, {'table_name': 'Location', 'schema': 'SalesService', 'column_details': {'column_name': 'Id', 'data_type': 'text', 'constraint_type': 'PRIMARY KEY', 'foreign_table_name': None, 'foreign_column_name': None, 'column_description': 'Unique identifier for the location.'}}, {'table_name': 'Location', 'schema': 'SalesService', 'column_details': {'column_name': 'Name', 'data_type': 'text', 'constraint_type': None, 'foreign_table_name': None, 'foreign_column_name': None, 'column_description': 'Name of the location.'}}, {'table_name': 'Location', 'schema': 'SalesService', 'column_details': {'column_name': 'IsDeleted', 'data_type': 'boolean', 'constraint_type': None, 'foreign_table_name': None, 'foreign_column_name': None, 'column_description': 'Flag indicating if the location record is deleted.'}}, {'table_name': 'Location', 'schema': 'SalesService', 'column_details': {'column_name': 'CreatedDate', 'data_type': 'timestamp with time zone', 'constraint_type': None, 'foreign_table_name': None, 'foreign_column_name': None, 'column_description': 'Timestamp of when the location record was created.'}}, {'table_name': 'Location', 'schema': 'SalesService', 'column_details': {'column_name': 'ModifiedDate', 'data_type': 'timestamp with time zone', 'constraint_type': None, 'foreign_table_name': None, 'foreign_column_name': None, 'column_description': 'Timestamp of when the location record was last modified.'}}, {'table_name': 'Location', 'schema': 'SalesService', 'column_details': {'column_name': 'CreatedBy', 'data_type': 'text', 'constraint_type': None, 'foreign_table_name': None, 'foreign_column_name': None, 'column_description': 'Identifier of the user who created the location record.'}}, {'table_name': 'Location', 'schema': 'SalesService', 'column_details': {'column_name': 'ModifiedBy', 'data_type': 'text', 'constraint_type': None, 'foreign_table_name': None, 'foreign_column_name': None, 'column_description': 'Identifier of the user who last modified the location record.'}}, {'table_name': 'StationType', 'schema': 'SalesService', 'column_details': {'column_name': 'Id', 'data_type': 'text', 'constraint_type': 'PRIMARY KEY', 'foreign_table_name': None, 'foreign_column_name': None, 'column_description': ''}}, {'table_name': 'StationType', 'schema': 'SalesService', 'column_details': {'column_name': 'Name', 'data_type': 'text', 'constraint_type': None, 'foreign_table_name': None, 'foreign_column_name': None, 'column_description': ''}}, {'table_name': 'StationType', 'schema': 'SalesService', 'column_details': {'column_name': 'IsDeleted', 'data_type': 'boolean', 'constraint_type': None, 'foreign_table_name': None, 'foreign_column_name': None, 'column_description': ''}}, {'table_name': 'StationType', 'schema': 'SalesService', 'column_details': {'column_name': 'CreatedDate', 'data_type': 'timestamp with time zone', 'constraint_type': None, 'foreign_table_name': None, 'foreign_column_name': None, 'column_description': ''}}, {'table_name': 'StationType', 'schema': 'SalesService', 'column_details': {'column_name': 'ModifiedDate', 'data_type': 'timestamp with time zone', 'constraint_type': None, 'foreign_table_name': None, 'foreign_column_name': None, 'column_description': ''}}, {'table_name': 'StationType', 'schema': 'SalesService', 'column_details': {'column_name': 'CreatedBy', 'data_type': 'text', 'constraint_type': None, 'foreign_table_name': None, 'foreign_column_name': None, 'column_description': ''}}, {'table_name': 'StationType', 'schema': 'SalesService', 'column_details': {'column_name': 'ModifiedBy', 'data_type': 'text', 'constraint_type': None, 'foreign_table_name': None, 'foreign_column_name': None, 'column_description': ''}}, {'table_name': 'UserStationShiftMaps', 'schema': 'SalesService', 'column_details': {'column_name': 'Id', 'data_type': 'text', 'constraint_type': 'PRIMARY KEY', 'foreign_table_name': None, 'foreign_column_name': None, 'column_description': ''}}, {'table_name': 'UserStationShiftMaps', 'schema': 'SalesService', 'column_details': {'column_name': 'TenantId', 'data_type': 'text', 'constraint_type': 'FOREIGN KEY', 'foreign_table_name': 'Tenants', 'foreign_column_name': 'Id', 'column_description': ''}}, {'table_name': 'UserStationShiftMaps', 'schema': 'SalesService', 'column_details': {'column_name': 'StationId', 'data_type': 'text', 'constraint_type': 'FOREIGN KEY', 'foreign_table_name': 'StationMasters', 'foreign_column_name': 'Id', 'column_description': ''}}, {'table_name': 'UserStationShiftMaps', 'schema': 'SalesService', 'column_details': {'column_name': 'UserId', 'data_type': 'text', 'constraint_type': 'FOREIGN KEY', 'foreign_table_name': 'Users', 'foreign_column_name': 'Id', 'column_description': ''}}, {'table_name': 'UserStationShiftMaps', 'schema': 'SalesService', 'column_details': {'column_name': 'ShiftId', 'data_type': 'text', 'constraint_type': 'FOREIGN KEY', 'foreign_table_name': 'Shifts', 'foreign_column_name': 'Id', 'column_description': ''}}, {'table_name': 'UserStationShiftMaps', 'schema': 'SalesService', 'column_details': {'column_name': 'IsActive', 'data_type': 'boolean', 'constraint_type': None, 'foreign_table_name': None, 'foreign_column_name': None, 'column_description': ''}}, {'table_name': 'UserStationShiftMaps', 'schema': 'SalesService', 'column_details': {'column_name': 'CreatedDate', 'data_type': 'timestamp with time zone', 'constraint_type': None, 'foreign_table_name': None, 'foreign_column_name': None, 'column_description': ''}}, {'table_name': 'UserStationShiftMaps', 'schema': 'SalesService', 'column_details': {'column_name': 'ModifiedDate', 'data_type': 'timestamp with time zone', 'constraint_type': None, 'foreign_table_name': None, 'foreign_column_name': None, 'column_description': ''}}, {'table_name': 'UserStationShiftMaps', 'schema': 'SalesService', 'column_details': {'column_name': 'CreatedBy', 'data_type': 'text', 'constraint_type': None, 'foreign_table_name': None, 'foreign_column_name': None, 'column_description': ''}}, {'table_name': 'UserStationShiftMaps', 'schema': 'SalesService', 'column_details': {'column_name': 'ModifiedBy', 'data_type': 'text', 'constraint_type': None, 'foreign_table_name': None, 'foreign_column_name': None, 'column_description': ''}}, {'table_name': 'UserStationShiftMaps', 'schema': 'SalesService', 'column_details': {'column_name': 'IsDeleted', 'data_type': 'boolean', 'constraint_type': None, 'foreign_table_name': None, 'foreign_column_name': None, 'column_description': ''}}, {'table_name': 'Regions', 'schema': 'SalesService', 'column_details': {'column_name': 'Id', 'data_type': 'text', 'constraint_type': 'PRIMARY KEY', 'foreign_table_name': None, 'foreign_column_name': None, 'column_description': 'Unique identifier for the region.'}}, {'table_name': 'Regions', 'schema': 'SalesService', 'column_details': {'column_name': 'Name', 'data_type': 'text', 'constraint_type': None, 'foreign_table_name': None, 'foreign_column_name': None, 'column_description': 'Name of the region.'}}, {'table_name': 'Regions', 'schema': 'SalesService', 'column_details': {'column_name': 'IsDeleted', 'data_type': 'boolean', 'constraint_type': None, 'foreign_table_name': None, 'foreign_column_name': None, 'column_description': 'Flag indicating if the region record is deleted.'}}, {'table_name': 'Regions', 'schema': 'SalesService', 'column_details': {'column_name': 'CreatedDate', 'data_type': 'timestamp with time zone', 'constraint_type': None, 'foreign_table_name': None, 'foreign_column_name': None, 'column_description': 'Timestamp of when the region record was created.'}}, {'table_name': 'Regions', 'schema': 'SalesService', 'column_details': {'column_name': 'ModifiedDate', 'data_type': 'timestamp with time zone', 'constraint_type': None, 'foreign_table_name': None, 'foreign_column_name': None, 'column_description': 'Timestamp of when the region record was last modified.'}}, {'table_name': 'Regions', 'schema': 'SalesService', 'column_details': {'column_name': 'CreatedBy', 'data_type': 'text', 'constraint_type': None, 'foreign_table_name': None, 'foreign_column_name': None, 'column_description': 'Identifier of the user who created the region record.'}}, {'table_name': 'Regions', 'schema': 'SalesService', 'column_details': {'column_name': 'ModifiedBy', 'data_type': 'text', 'constraint_type': None, 'foreign_table_name': None, 'foreign_column_name': None, 'column_description': 'Identifier of the user who last modified the region record.'}}, {'table_name': 'Regions', 'schema': 'SalesService', 'column_details': {'column_name': 'ArabicName', 'data_type': 'text', 'constraint_type': None, 'foreign_table_name': None, 'foreign_column_name': None, 'column_description': 'Arabic name of the region.'}}, {'table_name': 'DailySalesDispencerMap', 'schema': 'SalesService', 'column_details': {'column_name': 'Id', 'data_type': 'text', 'constraint_type': 'PRIMARY KEY', 'foreign_table_name': None, 'foreign_column_name': None, 'column_description': ''}}, {'table_name': 'DailySalesDispencerMap', 'schema': 'SalesService', 'column_details': {'column_name': 'DailySalesId', 'data_type': 'text', 'constraint_type': None, 'foreign_table_name': None, 'foreign_column_name': None, 'column_description': ''}}, {'table_name': 'DailySalesDispencerMap', 'schema': 'SalesService', 'column_details': {'column_name': 'DispencerId', 'data_type': 'text', 'constraint_type': None, 'foreign_table_name': None, 'foreign_column_name': None, 'column_description': ''}}, {'table_name': 'DailySalesDispencerMap', 'schema': 'SalesService', 'column_details': {'column_name': 'TenantId', 'data_type': 'text', 'constraint_type': None, 'foreign_table_name': None, 'foreign_column_name': None, 'column_description': ''}}, {'table_name': 'DailySalesDispencerMap', 'schema': 'SalesService', 'column_details': {'column_name': 'CreatedDate', 'data_type': 'timestamp with time zone', 'constraint_type': None, 'foreign_table_name': None, 'foreign_column_name': None, 'column_description': ''}}, {'table_name': 'DailySalesDispencerMap', 'schema': 'SalesService', 'column_details': {'column_name': 'ModifiedDate', 'data_type': 'timestamp with time zone', 'constraint_type': None, 'foreign_table_name': None, 'foreign_column_name': None, 'column_description': ''}}, {'table_name': 'DailySalesDispencerMap', 'schema': 'SalesService', 'column_details': {'column_name': 'CreatedBy', 'data_type': 'text', 'constraint_type': None, 'foreign_table_name': None, 'foreign_column_name': None, 'column_description': ''}}, {'table_name': 'DailySalesDispencerMap', 'schema': 'SalesService', 'column_details': {'column_name': 'ModifiedBy', 'data_type': 'text', 'constraint_type': None, 'foreign_table_name': None, 'foreign_column_name': None, 'column_description': ''}}, {'table_name': 'DailySalesDispencerMap', 'schema': 'SalesService', 'column_details': {'column_name': 'IsDeleted', 'data_type': 'boolean', 'constraint_type': None, 'foreign_table_name': None, 'foreign_column_name': None, 'column_description': ''}}, {'table_name': 'UserDispenserMaps', 'schema': 'SalesService', 'column_details': {'column_name': 'Id', 'data_type': 'text', 'constraint_type': 'PRIMARY KEY', 'foreign_table_name': None, 'foreign_column_name': None, 'column_description': ''}}, {'table_name': 'UserDispenserMaps', 'schema': 'SalesService', 'column_details': {'column_name': 'TenantId', 'data_type': 'text', 'constraint_type': 'FOREIGN KEY', 'foreign_table_name': 'Tenants', 'foreign_column_name': 'Id', 'column_description': ''}}, {'table_name': 'UserDispenserMaps', 'schema': 'SalesService', 'column_details': {'column_name': 'UserRoleStationMapId', 'data_type': 'text', 'constraint_type': None, 'foreign_table_name': None, 'foreign_column_name': None, 'column_description': ''}}, {'table_name': 'UserDispenserMaps', 'schema': 'SalesService', 'column_details': {'column_name': 'UserId', 'data_type': 'text', 'constraint_type': 'FOREIGN KEY', 'foreign_table_name': 'Users', 'foreign_column_name': 'Id', 'column_description': ''}}, {'table_name': 'UserDispenserMaps', 'schema': 'SalesService', 'column_details': {'column_name': 'StationId', 'data_type': 'text', 'constraint_type': 'FOREIGN KEY', 'foreign_table_name': 'StationMasters', 'foreign_column_name': 'Id', 'column_description': ''}}, {'table_name': 'UserDispenserMaps', 'schema': 'SalesService', 'column_details': {'column_name': 'ShiftId', 'data_type': 'text', 'constraint_type': 'FOREIGN KEY', 'foreign_table_name': 'Shifts', 'foreign_column_name': 'Id', 'column_description': ''}}, {'table_name': 'UserDispenserMaps', 'schema': 'SalesService', 'column_details': {'column_name': 'DispenserId', 'data_type': 'text', 'constraint_type': 'FOREIGN KEY', 'foreign_table_name': 'DispenserConfiguration', 'foreign_column_name': 'Id', 'column_description': ''}}, {'table_name': 'UserDispenserMaps', 'schema': 'SalesService', 'column_details': {'column_name': 'CreatedDate', 'data_type': 'timestamp with time zone', 'constraint_type': None, 'foreign_table_name': None, 'foreign_column_name': None, 'column_description': ''}}, {'table_name': 'UserDispenserMaps', 'schema': 'SalesService', 'column_details': {'column_name': 'ModifiedDate', 'data_type': 'timestamp with time zone', 'constraint_type': None, 'foreign_table_name': None, 'foreign_column_name': None, 'column_description': ''}}, {'table_name': 'UserDispenserMaps', 'schema': 'SalesService', 'column_details': {'column_name': 'CreatedBy', 'data_type': 'text', 'constraint_type': None, 'foreign_table_name': None, 'foreign_column_name': None, 'column_description': ''}}, {'table_name': 'UserDispenserMaps', 'schema': 'SalesService', 'column_details': {'column_name': 'ModifiedBy', 'data_type': 'text', 'constraint_type': None, 'foreign_table_name': None, 'foreign_column_name': None, 'column_description': ''}}, {'table_name': 'UserDispenserMaps', 'schema': 'SalesService', 'column_details': {'column_name': 'IsDeleted', 'data_type': 'boolean', 'constraint_type': None, 'foreign_table_name': None, 'foreign_column_name': None, 'column_description': ''}}, {'table_name': 'TankMasters', 'schema': 'SalesService', 'column_details': {'column_name': 'Id', 'data_type': 'text', 'constraint_type': 'PRIMARY KEY', 'foreign_table_name': None, 'foreign_column_name': None, 'column_description': ''}}, {'table_name': 'TankMasters', 'schema': 'SalesService', 'column_details': {'column_name': 'Brand', 'data_type': 'text', 'constraint_type': None, 'foreign_table_name': None, 'foreign_column_name': None, 'column_description': ''}}, {'table_name': 'TankMasters', 'schema': 'SalesService', 'column_details': {'column_name': 'Model', 'data_type': 'text', 'constraint_type': None, 'foreign_table_name': None, 'foreign_column_name': None, 'column_description': ''}}, {'table_name': 'TankMasters', 'schema': 'SalesService', 'column_details': {'column_name': 'IsDeleted', 'data_type': 'boolean', 'constraint_type': None, 'foreign_table_name': None, 'foreign_column_name': None, 'column_description': ''}}, {'table_name': 'TankMasters', 'schema': 'SalesService', 'column_details': {'column_name': 'CreatedDate', 'data_type': 'timestamp with time zone', 'constraint_type': None, 'foreign_table_name': None, 'foreign_column_name': None, 'column_description': ''}}, {'table_name': 'TankMasters', 'schema': 'SalesService', 'column_details': {'column_name': 'ModifiedDate', 'data_type': 'timestamp with time zone', 'constraint_type': None, 'foreign_table_name': None, 'foreign_column_name': None, 'column_description': ''}}, {'table_name': 'TankMasters', 'schema': 'SalesService', 'column_details': {'column_name': 'CreatedBy', 'data_type': 'text', 'constraint_type': None, 'foreign_table_name': None, 'foreign_column_name': None, 'column_description': ''}}, {'table_name': 'TankMasters', 'schema': 'SalesService', 'column_details': {'column_name': 'ModifiedBy', 'data_type': 'text', 'constraint_type': None, 'foreign_table_name': None, 'foreign_column_name': None, 'column_description': ''}}, {'table_name': 'TankMasters', 'schema': 'SalesService', 'column_details': {'column_name': 'Capacity', 'data_type': 'double precision', 'constraint_type': None, 'foreign_table_name': None, 'foreign_column_name': None, 'column_description': ''}}, {'table_name': 'TankMasters', 'schema': 'SalesService', 'column_details': {'column_name': 'DoubleWalledTankInnerTankDiameter', 'data_type': 'numeric', 'constraint_type': None, 'foreign_table_name': None, 'foreign_column_name': None, 'column_description': ''}}, {'table_name': 'TankMasters', 'schema': 'SalesService', 'column_details': {'column_name': 'DoubleWalledTankInnerTankLength', 'data_type': 'numeric', 'constraint_type': None, 'foreign_table_name': None, 'foreign_column_name': None, 'column_description': ''}}, {'table_name': 'TankMasters', 'schema': 'SalesService', 'column_details': {'column_name': 'DoubleWalledTankOuterTankDiameter', 'data_type': 'numeric', 'constraint_type': None, 'foreign_table_name': None, 'foreign_column_name': None, 'column_description': ''}}, {'table_name': 'TankMasters', 'schema': 'SalesService', 'column_details': {'column_name': 'DoubleWalledTankOuterTankLength', 'data_type': 'numeric', 'constraint_type': None, 'foreign_table_name': None, 'foreign_column_name': None, 'column_description': ''}}, {'table_name': 'TankMasters', 'schema': 'SalesService', 'column_details': {'column_name': 'SingleWalledTankDiameter', 'data_type': 'numeric', 'constraint_type': None, 'foreign_table_name': None, 'foreign_column_name': None, 'column_description': ''}}, {'table_name': 'TankMasters', 'schema': 'SalesService', 'column_details': {'column_name': 'SingleWalledTankLength', 'data_type': 'numeric', 'constraint_type': None, 'foreign_table_name': None, 'foreign_column_name': None, 'column_description': ''}}]\n",
    "# parent_docs\n",
    "# child_docs"
   ]
  },
  {
   "cell_type": "markdown",
   "metadata": {
    "jp-MarkdownHeadingCollapsed": true,
    "tags": []
   },
   "source": [
    "## Entity Docs"
   ]
  },
  {
   "cell_type": "code",
   "execution_count": null,
   "metadata": {
    "tags": []
   },
   "outputs": [],
   "source": [
    "import psycopg2\n",
    "import pandas as pd\n",
    "import re\n",
    "\n",
    "NOUN_TABLE_COLUMN_DICT = {\n",
    "    'AramcoStations': {'Location', 'StationName'},\n",
    "    'Bills': {'BilledTo'},\n",
    "    'Users': {'Email', 'FirstName', 'LastName', 'MiddleName'},\n",
    "    'FuelType': {'Name'},\n",
    "    'JanitorData': {'FuelTypes', 'Location', 'StationName'},\n",
    "    'Location': {'Name'},\n",
    "    'Tenants': {'AccountOwnerName', 'CompanyName', 'Building', 'City', 'District', 'NationalBuilding', 'NationalCity', 'NationalDistrict', 'NationalShortAddress', 'NationalStreet', 'RegisteredAddress', 'ShortAddress', 'Street'},\n",
    "    'StationMasters': {'Name'},\n",
    "    'Regions': {'ArabicName', 'Name'},\n",
    "    'FuelRequest': {'ApprovedBy'},\n",
    "    'Ports': {'Name'},\n",
    "    'Shifts': {'Name'}\n",
    "}\n",
    "\n",
    "\n",
    "#########################\n",
    "# identify noun column\n",
    "#########################\n",
    "def get_string_columns_with_samples(conn, table_name, schema):\n",
    "    logging.info(f\"Fetching column schema from and sample data from {table_name}.\")\n",
    "    logging.debug(f\"table name: {table_name}\")\n",
    "    logging.debug(f\"schema: {schema}\")\n",
    "\n",
    "    noun_columns_list = NOUN_TABLE_COLUMN_DICT.get(table_name, [])\n",
    "    noun_data = []\n",
    "    noun_map = {}\n",
    "\n",
    "    if noun_columns_list:\n",
    "        try:\n",
    "            with conn.cursor() as cursor:\n",
    "                for noun_column in noun_columns_list:\n",
    "                    cursor.execute(f\"\"\"\n",
    "                        SELECT \"{noun_column}\"\n",
    "                        FROM \"{schema}\".\"{table_name}\"\n",
    "                    \"\"\")\n",
    "                    results = cursor.fetchall()\n",
    "\n",
    "                    for row in results:\n",
    "                        column_value = row[0]\n",
    "                        if column_value:\n",
    "                            noun_map[column_value] = {\n",
    "                                \"table\": table_name,\n",
    "                                \"column\": noun_column,\n",
    "                                \"schema\": schema\n",
    "                            }\n",
    "                            noun_data.append(column_value)\n",
    "        except psycopg2.Error as e:\n",
    "            logging.error(f\"Error identifying nouns for table {table_name}, column {noun_column}: {e}\")\n",
    "\n",
    "    return noun_data, noun_map\n",
    "\n",
    "\n",
    "\n",
    "###########################################################################\n",
    "# get all noun data that the LLM can refer to for making better decisions\n",
    "###########################################################################\n",
    "def get_all_noun_data():\n",
    "    logging.info(f\"Fetching all noun data.\")\n",
    "\n",
    "    try:\n",
    "        conn = connect_db()\n",
    "        schema = POSTGRES_CONN_PARAMS['schema']\n",
    "        all_data = set()\n",
    "        all_noun_map = {}\n",
    "\n",
    "        try:\n",
    "            with conn.cursor() as cursor:\n",
    "                # Fetch all tables in the schema\n",
    "                cursor.execute(\"\"\"\n",
    "                    SELECT table_name\n",
    "                    FROM information_schema.tables\n",
    "                    WHERE table_schema = %s\n",
    "                \"\"\", (schema,))\n",
    "                tables = cursor.fetchall()\n",
    "\n",
    "                for (table_name,) in tables:\n",
    "\n",
    "                    # Identify proper noun columns and map data\n",
    "                    noun_data, noun_map = get_string_columns_with_samples(conn, table_name, schema)\n",
    "\n",
    "                    if noun_data:\n",
    "                        all_data.update(noun_data)\n",
    "                        all_noun_map.update(noun_map)\n",
    "\n",
    "        finally:\n",
    "            conn.close()\n",
    "\n",
    "        all_data_list = list(all_data)\n",
    "        all_noun_map_list = [{k: v} for k, v in all_noun_map.items()]\n",
    "\n",
    "        return all_data_list, all_noun_map_list\n",
    "\n",
    "    except psycopg2.Error as e:\n",
    "        logging.error(f\"Error connecting to the database: {e}\")\n",
    "        return [], {}\n",
    "\n"
   ]
  },
  {
   "cell_type": "code",
   "execution_count": null,
   "metadata": {
    "tags": []
   },
   "outputs": [],
   "source": [
    "# all_noun_data, noun_maps = get_all_noun_data(TEXT_BISON)\n",
    "noun_maps = [{'Shift-1': {'table': 'Shifts', 'column': 'Name', 'schema': 'SalesService'}}, {'port-1': {'table': 'Ports', 'column': 'Name', 'schema': 'SalesService'}}, {'port-2': {'table': 'Ports', 'column': 'Name', 'schema': 'SalesService'}}, {'port-3': {'table': 'Ports', 'column': 'Name', 'schema': 'SalesService'}}, {'Diesel': {'table': 'FuelType', 'column': 'Name', 'schema': 'SalesService'}}, {'Super 98': {'table': 'JanitorData', 'column': 'FuelTypes', 'schema': 'SalesService'}}, {'Special 95': {'table': 'JanitorData', 'column': 'FuelTypes', 'schema': 'SalesService'}}, {'EPlus 91': {'table': 'JanitorData', 'column': 'FuelTypes', 'schema': 'SalesService'}}, {'Al-Madina station': {'table': 'JanitorData', 'column': 'StationName', 'schema': 'SalesService'}}, {'Al-Qasr station': {'table': 'JanitorData', 'column': 'StationName', 'schema': 'SalesService'}}, {'Al-Najm station': {'table': 'JanitorData', 'column': 'StationName', 'schema': 'SalesService'}}, {'Al-Riyadh station': {'table': 'JanitorData', 'column': 'StationName', 'schema': 'SalesService'}}, {'Al-Dammam station': {'table': 'JanitorData', 'column': 'StationName', 'schema': 'SalesService'}}, {'Al-Khaleej station': {'table': 'JanitorData', 'column': 'StationName', 'schema': 'SalesService'}}, {'Al-Sharq station': {'table': 'JanitorData', 'column': 'StationName', 'schema': 'SalesService'}}, {'Al-Bahrain station': {'table': 'JanitorData', 'column': 'StationName', 'schema': 'SalesService'}}, {'Al-Fursan station': {'table': 'JanitorData', 'column': 'StationName', 'schema': 'SalesService'}}, {'Al-Jazira station': {'table': 'JanitorData', 'column': 'StationName', 'schema': 'SalesService'}}, {'Al-Waha station': {'table': 'JanitorData', 'column': 'StationName', 'schema': 'SalesService'}}, {'Al-Safwa station': {'table': 'JanitorData', 'column': 'StationName', 'schema': 'SalesService'}}, {'Al-Murooj station': {'table': 'JanitorData', 'column': 'StationName', 'schema': 'SalesService'}}, {'Al-Rabwa station': {'table': 'JanitorData', 'column': 'StationName', 'schema': 'SalesService'}}, {'Al-Sarh station': {'table': 'JanitorData', 'column': 'StationName', 'schema': 'SalesService'}}, {'Al-Nahda station': {'table': 'JanitorData', 'column': 'StationName', 'schema': 'SalesService'}}, {'Al-Fayhaa station': {'table': 'JanitorData', 'column': 'StationName', 'schema': 'SalesService'}}, {'Al-Quds station': {'table': 'JanitorData', 'column': 'StationName', 'schema': 'SalesService'}}, {'Al-Mansour station': {'table': 'JanitorData', 'column': 'StationName', 'schema': 'SalesService'}}, {'Al-Aseel station': {'table': 'JanitorData', 'column': 'StationName', 'schema': 'SalesService'}}, {'Jeddah': {'table': 'Location', 'column': 'Name', 'schema': 'SalesService'}}, {'Riyadh': {'table': 'Tenants', 'column': 'NationalCity', 'schema': 'SalesService'}}, {'Makkah': {'table': 'JanitorData', 'column': 'Location', 'schema': 'SalesService'}}, {'Medina': {'table': 'JanitorData', 'column': 'Location', 'schema': 'SalesService'}}, {'Dammam': {'table': 'JanitorData', 'column': 'Location', 'schema': 'SalesService'}}, {'Sultanah': {'table': 'JanitorData', 'column': 'Location', 'schema': 'SalesService'}}, {'Buraidah': {'table': 'JanitorData', 'column': 'Location', 'schema': 'SalesService'}}, {'Tabuk': {'table': 'JanitorData', 'column': 'Location', 'schema': 'SalesService'}}, {'Najran': {'table': 'JanitorData', 'column': 'Location', 'schema': 'SalesService'}}, {'Al Kharj': {'table': 'JanitorData', 'column': 'Location', 'schema': 'SalesService'}}, {'Dubai': {'table': 'JanitorData', 'column': 'Location', 'schema': 'SalesService'}}, {'Abu Dhabi': {'table': 'JanitorData', 'column': 'Location', 'schema': 'SalesService'}}, {'Sharjah': {'table': 'JanitorData', 'column': 'Location', 'schema': 'SalesService'}}, {'Al Ai': {'table': 'JanitorData', 'column': 'Location', 'schema': 'SalesService'}}, {'Ajman': {'table': 'JanitorData', 'column': 'Location', 'schema': 'SalesService'}}, {'Ras Al Khaimah': {'table': 'JanitorData', 'column': 'Location', 'schema': 'SalesService'}}, {'Fujairah': {'table': 'JanitorData', 'column': 'Location', 'schema': 'SalesService'}}, {'Umm Al Quwain': {'table': 'JanitorData', 'column': 'Location', 'schema': 'SalesService'}}, {'Khor Fakkan': {'table': 'JanitorData', 'column': 'Location', 'schema': 'SalesService'}}, {'Kalba': {'table': 'JanitorData', 'column': 'Location', 'schema': 'SalesService'}}, {'Aramco station Amal': {'table': 'AramcoStations', 'column': 'StationName', 'schema': 'SalesService'}}, {'Aramco station Nasr': {'table': 'AramcoStations', 'column': 'StationName', 'schema': 'SalesService'}}, {'Aramco station Manara': {'table': 'AramcoStations', 'column': 'StationName', 'schema': 'SalesService'}}, {'Aramco station Fajr': {'table': 'AramcoStations', 'column': 'StationName', 'schema': 'SalesService'}}, {'Aramco station Hilal': {'table': 'AramcoStations', 'column': 'StationName', 'schema': 'SalesService'}}, {'Aramco station Noor': {'table': 'AramcoStations', 'column': 'StationName', 'schema': 'SalesService'}}, {'Aramco station Kawthar': {'table': 'AramcoStations', 'column': 'StationName', 'schema': 'SalesService'}}, {'Aramco station Rasheed': {'table': 'AramcoStations', 'column': 'StationName', 'schema': 'SalesService'}}, {'Aramco station Safa': {'table': 'AramcoStations', 'column': 'StationName', 'schema': 'SalesService'}}, {'Aramco station Huda': {'table': 'AramcoStations', 'column': 'StationName', 'schema': 'SalesService'}}, {'Aramco station Zahra': {'table': 'AramcoStations', 'column': 'StationName', 'schema': 'SalesService'}}, {'Aramco station Baraka': {'table': 'AramcoStations', 'column': 'StationName', 'schema': 'SalesService'}}, {'Aramco station Taqwa': {'table': 'AramcoStations', 'column': 'StationName', 'schema': 'SalesService'}}, {'Aramco station Mahd': {'table': 'AramcoStations', 'column': 'StationName', 'schema': 'SalesService'}}, {'Aramco station Azhar': {'table': 'AramcoStations', 'column': 'StationName', 'schema': 'SalesService'}}, {'Aramco station Bustan': {'table': 'AramcoStations', 'column': 'StationName', 'schema': 'SalesService'}}, {'Al-Waha': {'table': 'AramcoStations', 'column': 'Location', 'schema': 'SalesService'}}, {'Safwa': {'table': 'AramcoStations', 'column': 'Location', 'schema': 'SalesService'}}, {'Al-Murooj': {'table': 'AramcoStations', 'column': 'Location', 'schema': 'SalesService'}}, {'Rabwa': {'table': 'AramcoStations', 'column': 'Location', 'schema': 'SalesService'}}, {'Al-Sarh': {'table': 'AramcoStations', 'column': 'Location', 'schema': 'SalesService'}}, {'Al-Nahda': {'table': 'AramcoStations', 'column': 'Location', 'schema': 'SalesService'}}, {'Al-Madina': {'table': 'AramcoStations', 'column': 'Location', 'schema': 'SalesService'}}, {'Al-Qasr': {'table': 'AramcoStations', 'column': 'Location', 'schema': 'SalesService'}}, {'Najm': {'table': 'AramcoStations', 'column': 'Location', 'schema': 'SalesService'}}, {'Al-Riyadh': {'table': 'AramcoStations', 'column': 'Location', 'schema': 'SalesService'}}, {'Al-Dammam': {'table': 'AramcoStations', 'column': 'Location', 'schema': 'SalesService'}}, {'Al-Khaleej': {'table': 'AramcoStations', 'column': 'Location', 'schema': 'SalesService'}}, {'Sharq': {'table': 'AramcoStations', 'column': 'Location', 'schema': 'SalesService'}}, {'Al-Bahrain': {'table': 'AramcoStations', 'column': 'Location', 'schema': 'SalesService'}}, {'Al-Fursan': {'table': 'AramcoStations', 'column': 'Location', 'schema': 'SalesService'}}, {'Jazira': {'table': 'AramcoStations', 'column': 'Location', 'schema': 'SalesService'}}, {'Ahmed': {'table': 'Users', 'column': 'FirstName', 'schema': 'SalesService'}}, {'Ali': {'table': 'Users', 'column': 'FirstName', 'schema': 'SalesService'}}, {'Aisha': {'table': 'Bills', 'column': 'BilledTo', 'schema': 'SalesService'}}, {'Amira': {'table': 'Bills', 'column': 'BilledTo', 'schema': 'SalesService'}}, {'Amina': {'table': 'Bills', 'column': 'BilledTo', 'schema': 'SalesService'}}, {'Basim': {'table': 'Bills', 'column': 'BilledTo', 'schema': 'SalesService'}}, {'Fatima': {'table': 'Bills', 'column': 'BilledTo', 'schema': 'SalesService'}}, {'Hasan': {'table': 'Bills', 'column': 'BilledTo', 'schema': 'SalesService'}}, {'Hussein': {'table': 'Bills', 'column': 'BilledTo', 'schema': 'SalesService'}}, {'Ibrahim': {'table': 'Users', 'column': 'FirstName', 'schema': 'SalesService'}}, {'Jamal': {'table': 'Bills', 'column': 'BilledTo', 'schema': 'SalesService'}}, {'Jamilah': {'table': 'Bills', 'column': 'BilledTo', 'schema': 'SalesService'}}, {'Khalid': {'table': 'Users', 'column': 'FirstName', 'schema': 'SalesService'}}, {'Layla': {'table': 'Bills', 'column': 'BilledTo', 'schema': 'SalesService'}}, {'Mariam': {'table': 'Bills', 'column': 'BilledTo', 'schema': 'SalesService'}}, {'Mohammed': {'table': 'Users', 'column': 'FirstName', 'schema': 'SalesService'}}, {'Nabila': {'table': 'Bills', 'column': 'BilledTo', 'schema': 'SalesService'}}, {'Nadia': {'table': 'Bills', 'column': 'BilledTo', 'schema': 'SalesService'}}, {'Omar': {'table': 'Users', 'column': 'FirstName', 'schema': 'SalesService'}}, {'Rania': {'table': 'Bills', 'column': 'BilledTo', 'schema': 'SalesService'}}, {'Rasha': {'table': 'Bills', 'column': 'BilledTo', 'schema': 'SalesService'}}, {'Salim': {'table': 'Bills', 'column': 'BilledTo', 'schema': 'SalesService'}}, {'Salma': {'table': 'Bills', 'column': 'BilledTo', 'schema': 'SalesService'}}, {'Sami': {'table': 'Bills', 'column': 'BilledTo', 'schema': 'SalesService'}}, {'Sarah': {'table': 'Bills', 'column': 'BilledTo', 'schema': 'SalesService'}}, {'Yasmin': {'table': 'Bills', 'column': 'BilledTo', 'schema': 'SalesService'}}, {'Zainab': {'table': 'Bills', 'column': 'BilledTo', 'schema': 'SalesService'}}, {'Abdullah': {'table': 'Users', 'column': 'FirstName', 'schema': 'SalesService'}}, {'Abdulaziz': {'table': 'Bills', 'column': 'BilledTo', 'schema': 'SalesService'}}, {'Abdulrahman': {'table': 'Bills', 'column': 'BilledTo', 'schema': 'SalesService'}}, {'Adam': {'table': 'Bills', 'column': 'BilledTo', 'schema': 'SalesService'}}, {'Adnan': {'table': 'Bills', 'column': 'BilledTo', 'schema': 'SalesService'}}, {'Amal': {'table': 'Bills', 'column': 'BilledTo', 'schema': 'SalesService'}}, {'Anwar': {'table': 'Bills', 'column': 'BilledTo', 'schema': 'SalesService'}}, {'Asma': {'table': 'Bills', 'column': 'BilledTo', 'schema': 'SalesService'}}, {'Aziza': {'table': 'Bills', 'column': 'BilledTo', 'schema': 'SalesService'}}, {'Bilal': {'table': 'Bills', 'column': 'BilledTo', 'schema': 'SalesService'}}, {'Dina': {'table': 'Bills', 'column': 'BilledTo', 'schema': 'SalesService'}}, {'Farid': {'table': 'Bills', 'column': 'BilledTo', 'schema': 'SalesService'}}, {'Ghada': {'table': 'Bills', 'column': 'BilledTo', 'schema': 'SalesService'}}, {'Hala': {'table': 'Bills', 'column': 'BilledTo', 'schema': 'SalesService'}}, {'Hamid': {'table': 'Bills', 'column': 'BilledTo', 'schema': 'SalesService'}}, {'Hana': {'table': 'Bills', 'column': 'BilledTo', 'schema': 'SalesService'}}, {'Iman': {'table': 'Bills', 'column': 'BilledTo', 'schema': 'SalesService'}}, {'Ismail': {'table': 'Bills', 'column': 'BilledTo', 'schema': 'SalesService'}}, {'Jameel': {'table': 'Bills', 'column': 'BilledTo', 'schema': 'SalesService'}}, {'Kareem': {'table': 'Bills', 'column': 'BilledTo', 'schema': 'SalesService'}}, {'Lamia': {'table': 'Bills', 'column': 'BilledTo', 'schema': 'SalesService'}}, {'Lina': {'table': 'Bills', 'column': 'BilledTo', 'schema': 'SalesService'}}, {'Lubna': {'table': 'Bills', 'column': 'BilledTo', 'schema': 'SalesService'}}, {'Mahdi': {'table': 'Bills', 'column': 'BilledTo', 'schema': 'SalesService'}}, {'Malak': {'table': 'Bills', 'column': 'BilledTo', 'schema': 'SalesService'}}, {'Manal': {'table': 'Bills', 'column': 'BilledTo', 'schema': 'SalesService'}}, {'Mona': {'table': 'Bills', 'column': 'BilledTo', 'schema': 'SalesService'}}, {'Mustafa': {'table': 'Bills', 'column': 'BilledTo', 'schema': 'SalesService'}}, {'Nasser': {'table': 'Bills', 'column': 'BilledTo', 'schema': 'SalesService'}}, {'Noor': {'table': 'Bills', 'column': 'BilledTo', 'schema': 'SalesService'}}, {'Qasim': {'table': 'Bills', 'column': 'BilledTo', 'schema': 'SalesService'}}, {'Rahma': {'table': 'Bills', 'column': 'BilledTo', 'schema': 'SalesService'}}, {'Rami': {'table': 'Bills', 'column': 'BilledTo', 'schema': 'SalesService'}}, {'Reem': {'table': 'Bills', 'column': 'BilledTo', 'schema': 'SalesService'}}, {'Riham': {'table': 'Bills', 'column': 'BilledTo', 'schema': 'SalesService'}}, {'Saeed': {'table': 'Bills', 'column': 'BilledTo', 'schema': 'SalesService'}}, {'Samar': {'table': 'Bills', 'column': 'BilledTo', 'schema': 'SalesService'}}, {'Sanaa': {'table': 'Bills', 'column': 'BilledTo', 'schema': 'SalesService'}}, {'Selim': {'table': 'Bills', 'column': 'BilledTo', 'schema': 'SalesService'}}, {'Souad': {'table': 'Bills', 'column': 'BilledTo', 'schema': 'SalesService'}}, {'Tariq': {'table': 'Bills', 'column': 'BilledTo', 'schema': 'SalesService'}}, {'Thamer': {'table': 'Bills', 'column': 'BilledTo', 'schema': 'SalesService'}}, {'Waleed': {'table': 'Bills', 'column': 'BilledTo', 'schema': 'SalesService'}}, {'Warda': {'table': 'Bills', 'column': 'BilledTo', 'schema': 'SalesService'}}, {'Yara': {'table': 'Bills', 'column': 'BilledTo', 'schema': 'SalesService'}}, {'Yasin': {'table': 'Bills', 'column': 'BilledTo', 'schema': 'SalesService'}}, {'Youssef': {'table': 'Users', 'column': 'FirstName', 'schema': 'SalesService'}}, {'Zaid': {'table': 'Bills', 'column': 'BilledTo', 'schema': 'SalesService'}}, {'Zahra': {'table': 'Bills', 'column': 'BilledTo', 'schema': 'SalesService'}}, {'Zaki': {'table': 'Bills', 'column': 'BilledTo', 'schema': 'SalesService'}}, {'Zein': {'table': 'Bills', 'column': 'BilledTo', 'schema': 'SalesService'}}, {'Ziad': {'table': 'Bills', 'column': 'BilledTo', 'schema': 'SalesService'}}, {'Zuhair': {'table': 'Bills', 'column': 'BilledTo', 'schema': 'SalesService'}}, {'Abir': {'table': 'Bills', 'column': 'BilledTo', 'schema': 'SalesService'}}, {'Afaf': {'table': 'Bills', 'column': 'BilledTo', 'schema': 'SalesService'}}, {'Alia': {'table': 'Bills', 'column': 'BilledTo', 'schema': 'SalesService'}}, {'Ayoub': {'table': 'Bills', 'column': 'BilledTo', 'schema': 'SalesService'}}, {'Azhar': {'table': 'Bills', 'column': 'BilledTo', 'schema': 'SalesService'}}, {'Bahir': {'table': 'Bills', 'column': 'BilledTo', 'schema': 'SalesService'}}, {'Dalal': {'table': 'Bills', 'column': 'BilledTo', 'schema': 'SalesService'}}, {'Ehsan': {'table': 'Bills', 'column': 'BilledTo', 'schema': 'SalesService'}}, {'Eman': {'table': 'Bills', 'column': 'BilledTo', 'schema': 'SalesService'}}, {'Farah': {'table': 'Bills', 'column': 'BilledTo', 'schema': 'SalesService'}}, {'Fawzi': {'table': 'Bills', 'column': 'BilledTo', 'schema': 'SalesService'}}, {'Haifa': {'table': 'Bills', 'column': 'BilledTo', 'schema': 'SalesService'}}, {'hamid.lubna@example.com': {'table': 'FuelRequest', 'column': 'ApprovedBy', 'schema': 'SalesService'}}, {'hana.mahdi@example.com': {'table': 'FuelRequest', 'column': 'ApprovedBy', 'schema': 'SalesService'}}, {'iman.malak@example.com': {'table': 'FuelRequest', 'column': 'ApprovedBy', 'schema': 'SalesService'}}, {'ismail.manal@example.com': {'table': 'FuelRequest', 'column': 'ApprovedBy', 'schema': 'SalesService'}}, {'jameel.mona@example.com': {'table': 'FuelRequest', 'column': 'ApprovedBy', 'schema': 'SalesService'}}, {'kareem.mustafa@example.com': {'table': 'FuelRequest', 'column': 'ApprovedBy', 'schema': 'SalesService'}}, {'lamia.nasser@example.com': {'table': 'FuelRequest', 'column': 'ApprovedBy', 'schema': 'SalesService'}}, {'lina.noor@example.com': {'table': 'FuelRequest', 'column': 'ApprovedBy', 'schema': 'SalesService'}}, {'lubna.qasim@example.com': {'table': 'FuelRequest', 'column': 'ApprovedBy', 'schema': 'SalesService'}}, {'mahdi.rahma@example.com': {'table': 'FuelRequest', 'column': 'ApprovedBy', 'schema': 'SalesService'}}, {'malak.rami@example.com': {'table': 'FuelRequest', 'column': 'ApprovedBy', 'schema': 'SalesService'}}, {'manal.reem@example.com': {'table': 'FuelRequest', 'column': 'ApprovedBy', 'schema': 'SalesService'}}, {'mona.riham@example.com': {'table': 'FuelRequest', 'column': 'ApprovedBy', 'schema': 'SalesService'}}, {'mustafa.saeed@example.com': {'table': 'FuelRequest', 'column': 'ApprovedBy', 'schema': 'SalesService'}}, {'nasser.samar@example.com': {'table': 'FuelRequest', 'column': 'ApprovedBy', 'schema': 'SalesService'}}, {'noor.sanaa@example.com': {'table': 'FuelRequest', 'column': 'ApprovedBy', 'schema': 'SalesService'}}, {'qasim.selim@example.com': {'table': 'FuelRequest', 'column': 'ApprovedBy', 'schema': 'SalesService'}}, {'rahma.souad@example.com': {'table': 'FuelRequest', 'column': 'ApprovedBy', 'schema': 'SalesService'}}, {'rami.tariq@example.com': {'table': 'FuelRequest', 'column': 'ApprovedBy', 'schema': 'SalesService'}}, {'reem.thamer@example.com': {'table': 'FuelRequest', 'column': 'ApprovedBy', 'schema': 'SalesService'}}, {'riham.waleed@example.com': {'table': 'FuelRequest', 'column': 'ApprovedBy', 'schema': 'SalesService'}}, {'saeed.warda@example.com': {'table': 'FuelRequest', 'column': 'ApprovedBy', 'schema': 'SalesService'}}, {'samar.yara@example.com': {'table': 'FuelRequest', 'column': 'ApprovedBy', 'schema': 'SalesService'}}, {'sanaa.yasin@example.com': {'table': 'FuelRequest', 'column': 'ApprovedBy', 'schema': 'SalesService'}}, {'selim.youssef@example.com': {'table': 'FuelRequest', 'column': 'ApprovedBy', 'schema': 'SalesService'}}, {'souad.zaid@example.com': {'table': 'FuelRequest', 'column': 'ApprovedBy', 'schema': 'SalesService'}}, {'tariq.zahra@example.com': {'table': 'FuelRequest', 'column': 'ApprovedBy', 'schema': 'SalesService'}}, {'thamer.zaki@example.com': {'table': 'FuelRequest', 'column': 'ApprovedBy', 'schema': 'SalesService'}}, {'waleed.zein@example.com': {'table': 'FuelRequest', 'column': 'ApprovedBy', 'schema': 'SalesService'}}, {'warda.ziad@example.com': {'table': 'FuelRequest', 'column': 'ApprovedBy', 'schema': 'SalesService'}}, {'yara.zuhair@example.com': {'table': 'FuelRequest', 'column': 'ApprovedBy', 'schema': 'SalesService'}}, {'yasin.abir@example.com': {'table': 'FuelRequest', 'column': 'ApprovedBy', 'schema': 'SalesService'}}, {'youssef.afaf@example.com': {'table': 'FuelRequest', 'column': 'ApprovedBy', 'schema': 'SalesService'}}, {'zaid.alia@example.com': {'table': 'FuelRequest', 'column': 'ApprovedBy', 'schema': 'SalesService'}}, {'zahra.amal@example.com': {'table': 'FuelRequest', 'column': 'ApprovedBy', 'schema': 'SalesService'}}, {'zaki.ayoub@example.com': {'table': 'FuelRequest', 'column': 'ApprovedBy', 'schema': 'SalesService'}}, {'zein.azhar@example.com': {'table': 'FuelRequest', 'column': 'ApprovedBy', 'schema': 'SalesService'}}, {'ziad.bahir@example.com': {'table': 'FuelRequest', 'column': 'ApprovedBy', 'schema': 'SalesService'}}, {'zuhair.dalal@example.com': {'table': 'FuelRequest', 'column': 'ApprovedBy', 'schema': 'SalesService'}}, {'abir.ehsan@example.com': {'table': 'FuelRequest', 'column': 'ApprovedBy', 'schema': 'SalesService'}}, {'afaf.eman@example.com': {'table': 'FuelRequest', 'column': 'ApprovedBy', 'schema': 'SalesService'}}, {'dalal.kawthar@example.com': {'table': 'FuelRequest', 'column': 'ApprovedBy', 'schema': 'SalesService'}}, {'ehsan.leen@example.com': {'table': 'FuelRequest', 'column': 'ApprovedBy', 'schema': 'SalesService'}}, {'eman.lubna@example.com': {'table': 'FuelRequest', 'column': 'ApprovedBy', 'schema': 'SalesService'}}, {'farah.marwa@example.com': {'table': 'FuelRequest', 'column': 'ApprovedBy', 'schema': 'SalesService'}}, {'fawzi.munir@example.com': {'table': 'FuelRequest', 'column': 'ApprovedBy', 'schema': 'SalesService'}}, {'123 Al-Nahda Street, Riyadh, Saudi Arabia': {'table': 'Tenants', 'column': 'RegisteredAddress', 'schema': 'SalesService'}}, {'Al-Takhassusi Street': {'table': 'Tenants', 'column': 'Street', 'schema': 'SalesService'}}, {'Riyadh, KSA': {'table': 'Tenants', 'column': 'NationalShortAddress', 'schema': 'SalesService'}}, {'Al-Olaya': {'table': 'Tenants', 'column': 'District', 'schema': 'SalesService'}}, {'Al-Jazeera Tower': {'table': 'Tenants', 'column': 'NationalBuilding', 'schema': 'SalesService'}}, {'Mohammad Ali Al-Khalidi': {'table': 'Tenants', 'column': 'AccountOwnerName', 'schema': 'SalesService'}}, {'Al-Rawi Trading Co.': {'table': 'Tenants', 'column': 'CompanyName', 'schema': 'SalesService'}}, {'ahmed.al-farsi@example.com': {'table': 'Users', 'column': 'Email', 'schema': 'SalesService'}}, {'mohammed.al-sayed@example.com': {'table': 'Users', 'column': 'Email', 'schema': 'SalesService'}}, {'ali.al-mansour@example.com': {'table': 'Users', 'column': 'Email', 'schema': 'SalesService'}}, {'hassan.al-amin@example.com': {'table': 'Users', 'column': 'Email', 'schema': 'SalesService'}}, {'omar.al-harbi@example.com': {'table': 'Users', 'column': 'Email', 'schema': 'SalesService'}}, {'abdullah.al-rashid@example.com': {'table': 'Users', 'column': 'Email', 'schema': 'SalesService'}}, {'khalid.al-hashemi@example.com': {'table': 'Users', 'column': 'Email', 'schema': 'SalesService'}}, {'youssef.al-qahtani@example.com': {'table': 'Users', 'column': 'Email', 'schema': 'SalesService'}}, {'ibrahim.al-sharif@example.com': {'table': 'Users', 'column': 'Email', 'schema': 'SalesService'}}, {'salem.al-zahrani@example.com': {'table': 'Users', 'column': 'Email', 'schema': 'SalesService'}}, {'Al-Farsi': {'table': 'Users', 'column': 'LastName', 'schema': 'SalesService'}}, {'Al-Sayed': {'table': 'Users', 'column': 'LastName', 'schema': 'SalesService'}}, {'Al-Mansour': {'table': 'Users', 'column': 'LastName', 'schema': 'SalesService'}}, {'Al-Amin': {'table': 'Users', 'column': 'LastName', 'schema': 'SalesService'}}, {'Al-Harbi': {'table': 'Users', 'column': 'LastName', 'schema': 'SalesService'}}, {'Al-Rashid': {'table': 'Users', 'column': 'LastName', 'schema': 'SalesService'}}, {'Al-Hashemi': {'table': 'Users', 'column': 'LastName', 'schema': 'SalesService'}}, {'Al-Qahtani': {'table': 'Users', 'column': 'LastName', 'schema': 'SalesService'}}, {'Al-Sharif': {'table': 'Users', 'column': 'LastName', 'schema': 'SalesService'}}, {'Al-Zahrani': {'table': 'Users', 'column': 'LastName', 'schema': 'SalesService'}}, {'Hassan': {'table': 'Users', 'column': 'FirstName', 'schema': 'SalesService'}}, {'Salem': {'table': 'Users', 'column': 'FirstName', 'schema': 'SalesService'}}, {'Samra petrol station': {'table': 'StationMasters', 'column': 'Name', 'schema': 'SalesService'}}, {'north': {'table': 'Regions', 'column': 'Name', 'schema': 'SalesService'}}, {'ahmed ali': {'table': 'Regions', 'column': 'ArabicName', 'schema': 'SalesService'}}, {'95': {'table': 'FuelType', 'column': 'Name', 'schema': 'SalesService'}}, {'91': {'table': 'FuelType', 'column': 'Name', 'schema': 'SalesService'}}]\n",
    "all_noun_data = ['port-2', 'Aramco station Baraka', 'Super 98', 'Farid', 'mustafa.saeed@example.com', 'Buraidah', 'Al-Waha', 'yara.zuhair@example.com', 'sanaa.yasin@example.com', 'Tariq', 'ahmed.al-farsi@example.com', 'Salem', 'Al-Madina', 'lubna.qasim@example.com', '123 Al-Nahda Street, Riyadh, Saudi Arabia', 'thamer.zaki@example.com', 'Zahra', 'Ajman', 'Khor Fakkan', 'Al-Bahrain station', 'Al-Amin', 'Yara', 'iman.malak@example.com', 'Umm Al Quwain', 'Qasim', 'Shift-1', 'Farah', 'Al-Harbi', 'lina.noor@example.com', 'Asma', 'Al-Fayhaa station', 'Al-Farsi', 'Riham', 'Al-Sharif', 'Al-Qahtani', 'Al-Olaya', 'Souad', 'Zainab', 'Riyadh', 'Nabila', 'Al-Rawi Trading Co.', 'Mohammed', 'Medina', 'Al-Qasr', 'Jazira', 'Nasser', 'Fawzi', 'youssef.al-qahtani@example.com', 'malak.rami@example.com', 'salem.al-zahrani@example.com', 'port-1', 'Lamia', 'eman.lubna@example.com', 'Zaid', 'Al-Rashid', 'abir.ehsan@example.com', 'Dubai', 'Al-Fursan', 'mona.riham@example.com', 'nasser.samar@example.com', 'port-3', 'mohammed.al-sayed@example.com', 'ali.al-mansour@example.com', 'Tabuk', 'Mona', 'rahma.souad@example.com', 'Adnan', 'Zein', 'Rabwa', 'mahdi.rahma@example.com', 'rami.tariq@example.com', 'north', 'Al-Aseel station', 'Sharq', 'youssef.afaf@example.com', 'Hasan', 'ziad.bahir@example.com', 'Al-Takhassusi Street', 'samar.yara@example.com', 'Al Ai', 'Rasha', 'Selim', 'Sarah', 'Al-Safwa station', 'Yasmin', 'Ali', 'Waleed', 'Al-Bahrain', 'Rami', 'Al-Hashemi', 'Anwar', 'Youssef', 'souad.zaid@example.com', 'farah.marwa@example.com', 'Hassan', 'Aramco station Safa', 'Aramco station Noor', 'Aramco station Mahd', '95', 'noor.sanaa@example.com', 'Abdullah', 'Al-Sarh station', 'Safwa', 'Amira', 'omar.al-harbi@example.com', 'Jamilah', 'Al-Zahrani', 'Aramco station Zahra', 'ibrahim.al-sharif@example.com', 'Ras Al Khaimah', 'Sultanah', 'Samar', 'Alia', 'abdullah.al-rashid@example.com', 'Nadia', 'Hamid', 'Kalba', 'Al-Mansour station', 'Al-Nahda', 'Fatima', 'Adam', 'Aramco station Manara', 'Al-Qasr station', 'Yasin', 'Warda', '91', 'Al-Quds station', 'qasim.selim@example.com', 'Al-Madina station', 'selim.youssef@example.com', 'Dammam', 'Jamal', 'Aramco station Fajr', 'Ismail', 'Mohammad Ali Al-Khalidi', 'Aramco station Kawthar', 'Khalid', 'waleed.zein@example.com', 'Dalal', 'Al-Khaleej station', 'manal.reem@example.com', 'riham.waleed@example.com', 'Mariam', 'Al-Waha station', 'Makkah', 'Fujairah', 'khalid.al-hashemi@example.com', 'hamid.lubna@example.com', 'Sharjah', 'Aisha', 'Ayoub', 'Sami', 'Malak', 'Reem', 'hassan.al-amin@example.com', 'reem.thamer@example.com', 'Jameel', 'Aramco station Taqwa', 'Ghada', 'Al-Sharq station', 'hana.mahdi@example.com', 'Bahir', 'zaki.ayoub@example.com', 'Ehsan', 'Aziza', 'Najm', 'EPlus 91', 'ehsan.leen@example.com', 'Special 95', 'zein.azhar@example.com', 'Afaf', 'Diesel', 'kareem.mustafa@example.com', 'Azhar', 'Hana', 'Aramco station Azhar', 'afaf.eman@example.com', 'Lubna', 'Jeddah', 'Aramco station Nasr', 'Aramco station Bustan', 'Ibrahim', 'Aramco station Hilal', 'Al-Jazeera Tower', 'Abdulaziz', 'Noor', 'Al-Jazira station', 'Al Kharj', 'Al-Murooj', 'Al-Riyadh', 'Aramco station Amal', 'Samra petrol station', 'zaid.alia@example.com', 'Rahma', 'Riyadh, KSA', 'Abir', 'Ahmed', 'Aramco station Huda', 'warda.ziad@example.com', 'jameel.mona@example.com', 'Hussein', 'tariq.zahra@example.com', 'Omar', 'Amina', 'Najran', 'yasin.abir@example.com', 'Al-Murooj station', 'Layla', 'ismail.manal@example.com', 'dalal.kawthar@example.com', 'Kareem', 'Al-Sarh', 'Ziad', 'Al-Fursan station', 'Abdulrahman', 'Manal', 'Iman', 'Mustafa', 'ahmed ali', 'Al-Dammam station', 'Mahdi', 'Rania', 'fawzi.munir@example.com', 'Sanaa', 'Saeed', 'Al-Riyadh station', 'Al-Rabwa station', 'Al-Nahda station', 'Al-Dammam', 'Bilal', 'Hala', 'Lina', 'Al-Najm station', 'zahra.amal@example.com', 'Amal', 'Al-Mansour', 'Al-Khaleej', 'saeed.warda@example.com', 'Zaki', 'Al-Sayed', 'Abu Dhabi', 'Zuhair', 'Eman', 'Aramco station Rasheed', 'Basim', 'Thamer', 'Haifa', 'Salim', 'zuhair.dalal@example.com', 'Salma', 'Dina', 'lamia.nasser@example.com']"
   ]
  },
  {
   "cell_type": "code",
   "execution_count": null,
   "metadata": {
    "tags": []
   },
   "outputs": [],
   "source": [
    "# print(all_noun_data)"
   ]
  },
  {
   "cell_type": "code",
   "execution_count": null,
   "metadata": {
    "tags": []
   },
   "outputs": [],
   "source": [
    "# noun_maps = [{'Al-Waha': {'table': 'aramco-station', 'column': 'Location'}}, {'Al-Murooj': {'table': 'aramco-station', 'column': 'Location'}}, {'Rabwa': {'table': 'aramco-station', 'column': 'Location'}}, {'Al-Sarh': {'table': 'aramco-station', 'column': 'Location'}}, {'Al-Nahda': {'table': 'aramco-station', 'column': 'Location'}}, {'Al-Madina': {'table': 'aramco-station', 'column': 'Location'}}, {'Al-Qasr': {'table': 'aramco-station', 'column': 'Location'}}, {'Al-Riyadh': {'table': 'aramco-station', 'column': 'Location'}}, {'Al-Dammam': {'table': 'aramco-station', 'column': 'Location'}}, {'Al-Khaleej': {'table': 'aramco-station', 'column': 'Location'}}, {'Sharq': {'table': 'aramco-station', 'column': 'Location'}}, {'Al-Bahrain': {'table': 'aramco-station', 'column': 'Location'}}, {'Jazira': {'table': 'aramco-station', 'column': 'Location'}}, {'Safwa': {'table': 'aramco-station', 'column': 'Location'}}, {'Najm': {'table': 'aramco-station', 'column': 'Location'}}, {'Al-Fursan': {'table': 'aramco-station', 'column': 'Location'}}, {'Aramco station Amal': {'table': 'aramco-station', 'column': 'StationName'}}, {'Aramco station Manara': {'table': 'aramco-station', 'column': 'StationName'}}, {'Aramco station Fajr': {'table': 'aramco-station', 'column': 'StationName'}}, {'Aramco station Hilal': {'table': 'aramco-station', 'column': 'StationName'}}, {'Aramco station Noor': {'table': 'aramco-station', 'column': 'StationName'}}, {'Aramco station Kawthar': {'table': 'aramco-station', 'column': 'StationName'}}, {'Aramco station Rasheed': {'table': 'aramco-station', 'column': 'StationName'}}, {'Aramco station Huda': {'table': 'aramco-station', 'column': 'StationName'}}, {'Aramco station Zahra': {'table': 'aramco-station', 'column': 'StationName'}}, {'Aramco station Baraka': {'table': 'aramco-station', 'column': 'StationName'}}, {'Aramco station Taqwa': {'table': 'aramco-station', 'column': 'StationName'}}, {'Aramco station Mahd': {'table': 'aramco-station', 'column': 'StationName'}}, {'Aramco station Bustan': {'table': 'aramco-station', 'column': 'StationName'}}, {'Aramco station Nasr': {'table': 'aramco-station', 'column': 'StationName'}}, {'Aramco station Safa': {'table': 'aramco-station', 'column': 'StationName'}}, {'Aramco station Azhar': {'table': 'aramco-station', 'column': 'StationName'}}, {'4Y6h8z131z75pWIr': {'table': 'bills', 'column': 'VehicleNumber'}}, {'8m7E7G9Z66Tw25IA': {'table': 'bills', 'column': 'VehicleNumber'}}, {'uGex454XQ98e25b2': {'table': 'bills', 'column': 'VehicleNumber'}}, {'nu49hU1Vn054fh34': {'table': 'bills', 'column': 'VehicleNumber'}}, {'zi3DR73Q05d3w03L': {'table': 'bills', 'column': 'VehicleNumber'}}, {'oY53q55RkW0i3K17': {'table': 'bills', 'column': 'VehicleNumber'}}, {'ET564XL393t0S0ZA': {'table': 'bills', 'column': 'VehicleNumber'}}, {'52s891CZS0X8J4Dr': {'table': 'bills', 'column': 'VehicleNumber'}}, {'W2M2O7MX6J0q57F4': {'table': 'bills', 'column': 'VehicleNumber'}}, {'1CaGp270C5900Asw': {'table': 'bills', 'column': 'VehicleNumber'}}, {'98yG06zI836ks2JY': {'table': 'bills', 'column': 'VehicleNumber'}}, {'F9y1Yoc283H33Ae2': {'table': 'bills', 'column': 'VehicleNumber'}}, {'96OEh99uro82r62a': {'table': 'bills', 'column': 'VehicleNumber'}}, {'r57h71b10h88FzlL': {'table': 'bills', 'column': 'VehicleNumber'}}, {'eAY64453Enf7Dg14': {'table': 'bills', 'column': 'VehicleNumber'}}, {'djM12a9G9790sb9f': {'table': 'bills', 'column': 'VehicleNumber'}}, {'6J755E72u8Lqgi5M': {'table': 'bills', 'column': 'VehicleNumber'}}, {'5Jr190L24WzUUS96': {'table': 'bills', 'column': 'VehicleNumber'}}, {'5e7b58M08BGkGM03': {'table': 'bills', 'column': 'VehicleNumber'}}, {'91i2qv930Z0BpT7Q': {'table': 'bills', 'column': 'VehicleNumber'}}, {'W8210bE255lgs2KR': {'table': 'bills', 'column': 'VehicleNumber'}}, {'f9i53o33byu2H98E': {'table': 'bills', 'column': 'VehicleNumber'}}, {'i3S7T4v3o0Ty45u7': {'table': 'bills', 'column': 'VehicleNumber'}}, {'Ol45J1w2zpp9y419': {'table': 'bills', 'column': 'VehicleNumber'}}, {'DH858xQ2bUA1M192': {'table': 'bills', 'column': 'VehicleNumber'}}, {'FSg201eN24vPI416': {'table': 'bills', 'column': 'VehicleNumber'}}, {'5Xl43A04jx7lSB91': {'table': 'bills', 'column': 'VehicleNumber'}}, {'6Q3C0eJg47fn49A3': {'table': 'bills', 'column': 'VehicleNumber'}}, {'11QX835Dg9N6c0Jb': {'table': 'bills', 'column': 'VehicleNumber'}}, {'jS1HB61b669P6r8t': {'table': 'bills', 'column': 'VehicleNumber'}}, {'47xe6c9QOSkz5358': {'table': 'bills', 'column': 'VehicleNumber'}}, {'4aJ27zCm01Z7t6m8': {'table': 'bills', 'column': 'VehicleNumber'}}, {'Y4eqf664rw5xE865': {'table': 'bills', 'column': 'VehicleNumber'}}, {'7tyu38kg8TQ1247Z': {'table': 'bills', 'column': 'VehicleNumber'}}, {'2Y1R4a11YMz132SE': {'table': 'bills', 'column': 'VehicleNumber'}}, {'2Tfx60Q6073gse0H': {'table': 'bills', 'column': 'VehicleNumber'}}, {'s2NA2LsY78z0771A': {'table': 'bills', 'column': 'VehicleNumber'}}, {'54r8K2oN3PH3A1H3': {'table': 'bills', 'column': 'VehicleNumber'}}, {'X07H3sFm028e90jq': {'table': 'bills', 'column': 'VehicleNumber'}}, {'sr9A5h7K137n8G6l': {'table': 'bills', 'column': 'VehicleNumber'}}, {'3UEfDc33K0q0g346': {'table': 'bills', 'column': 'VehicleNumber'}}, {'z78N9t49h8q2Rd7o': {'table': 'bills', 'column': 'VehicleNumber'}}, {'T374I41K9rme7oK2': {'table': 'bills', 'column': 'VehicleNumber'}}, {'24YW6215n65iQgaS': {'table': 'bills', 'column': 'VehicleNumber'}}, {'9uZ9H11X3E2u7U8d': {'table': 'bills', 'column': 'VehicleNumber'}}, {'6b52akdf0b0r4s39': {'table': 'bills', 'column': 'VehicleNumber'}}, {'Z5MG3o2GoA25572p': {'table': 'bills', 'column': 'VehicleNumber'}}, {'u4vF15aIX8V6u894': {'table': 'bills', 'column': 'VehicleNumber'}}, {'99301diz7u3B4MgC': {'table': 'bills', 'column': 'VehicleNumber'}}, {'6rg5okO6t45W3q91': {'table': 'bills', 'column': 'VehicleNumber'}}, {'ROV1S19373K9VT0W': {'table': 'bills', 'column': 'VehicleNumber'}}, {'0R660631MBM5keIx': {'table': 'bills', 'column': 'VehicleNumber'}}, {'H4l1Nc7S8382n4zD': {'table': 'bills', 'column': 'VehicleNumber'}}, {'1B8e46w1L5fXY8M0': {'table': 'bills', 'column': 'VehicleNumber'}}, {'f6p6D1QG13j172sO': {'table': 'bills', 'column': 'VehicleNumber'}}, {'Qhm5xJ359LR20s86': {'table': 'bills', 'column': 'VehicleNumber'}}, {'4673J0MH9lYH87jR': {'table': 'bills', 'column': 'VehicleNumber'}}, {'wKPc8X636ypz7580': {'table': 'bills', 'column': 'VehicleNumber'}}, {'Q5R1cIZ6m75h98A9': {'table': 'bills', 'column': 'VehicleNumber'}}, {'R462ZHa59rv1l49T': {'table': 'bills', 'column': 'VehicleNumber'}}, {'247Ry0CKk92N8ND5': {'table': 'bills', 'column': 'VehicleNumber'}}, {'qZ8074F3IM90H3cV': {'table': 'bills', 'column': 'VehicleNumber'}}, {'6PdRb1z7q831A8I1': {'table': 'bills', 'column': 'VehicleNumber'}}, {'p6P16258Ckx7L0Kl': {'table': 'bills', 'column': 'VehicleNumber'}}, {'Q986LG08HuzE3p18': {'table': 'bills', 'column': 'VehicleNumber'}}, {'R20J9u8n496gUK8g': {'table': 'bills', 'column': 'VehicleNumber'}}, {'m3V81K1457HD6yFV': {'table': 'bills', 'column': 'VehicleNumber'}}, {'91qq0UV14DL42IE5': {'table': 'bills', 'column': 'VehicleNumber'}}, {'4NJu90bVf7l749y8': {'table': 'bills', 'column': 'VehicleNumber'}}, {'i08N207lFgw5i00i': {'table': 'bills', 'column': 'VehicleNumber'}}, {'HS6C9Ky7p754SJ41': {'table': 'bills', 'column': 'VehicleNumber'}}, {'4Dgd5770AfqdH901': {'table': 'bills', 'column': 'VehicleNumber'}}, {'YxI96Y606729stYT': {'table': 'bills', 'column': 'VehicleNumber'}}, {'8G96wBCm4i5152CB': {'table': 'bills', 'column': 'VehicleNumber'}}, {'c66Q97UM7y755xdd': {'table': 'bills', 'column': 'VehicleNumber'}}, {'7ds0J91N7TBj642n': {'table': 'bills', 'column': 'VehicleNumber'}}, {'84trW13bN1NQL423': {'table': 'bills', 'column': 'VehicleNumber'}}, {'qK05dF6iGX66B745': {'table': 'bills', 'column': 'VehicleNumber'}}, {'7593ni40Fnto3f3A': {'table': 'bills', 'column': 'VehicleNumber'}}, {'s612237J0TF0BXGf': {'table': 'bills', 'column': 'VehicleNumber'}}, {'P0a2Am70C2c70re1': {'table': 'bills', 'column': 'VehicleNumber'}}, {'4L6G27aPdM94Lu93': {'table': 'bills', 'column': 'VehicleNumber'}}, {'6x4rU4L47Z59V3PQ': {'table': 'bills', 'column': 'VehicleNumber'}}, {'V64R8b89O9jj08rM': {'table': 'bills', 'column': 'VehicleNumber'}}, {'54p0jW7445Ao7Mve': {'table': 'bills', 'column': 'VehicleNumber'}}, {'7lx18tIx262Et10J': {'table': 'bills', 'column': 'VehicleNumber'}}, {'g9Q37Q0nwLC1478P': {'table': 'bills', 'column': 'VehicleNumber'}}, {'6ny26U33jn0qi6Y4': {'table': 'bills', 'column': 'VehicleNumber'}}, {'9b2xV05K1E068Vsy': {'table': 'bills', 'column': 'VehicleNumber'}}, {'5t9bNVd4ro68178D': {'table': 'bills', 'column': 'VehicleNumber'}}, {'7dGhB4r12a280H9W': {'table': 'bills', 'column': 'VehicleNumber'}}, {'dh29LfN358I5Ts98': {'table': 'bills', 'column': 'VehicleNumber'}}, {'m34H49q52C78jApH': {'table': 'bills', 'column': 'VehicleNumber'}}, {'Farid': {'table': 'bills', 'column': 'BilledTo'}}, {'Hamid': {'table': 'bills', 'column': 'BilledTo'}}, {'Lamia': {'table': 'bills', 'column': 'BilledTo'}}, {'Samar': {'table': 'bills', 'column': 'BilledTo'}}, {'Selim': {'table': 'bills', 'column': 'BilledTo'}}, {'Yasin': {'table': 'bills', 'column': 'BilledTo'}}, {'Amal': {'table': 'bills', 'column': 'BilledTo'}}, {'Ibrahim': {'table': 'users', 'column': 'FirstName'}}, {'Mariam': {'table': 'bills', 'column': 'BilledTo'}}, {'Azhar': {'table': 'bills', 'column': 'BilledTo'}}, {'Ahmed': {'table': 'users', 'column': 'FirstName'}}, {'Ali': {'table': 'users', 'column': 'FirstName'}}, {'Jamilah': {'table': 'bills', 'column': 'BilledTo'}}, {'Bilal': {'table': 'bills', 'column': 'BilledTo'}}, {'Sanaa': {'table': 'bills', 'column': 'BilledTo'}}, {'Layla': {'table': 'bills', 'column': 'BilledTo'}}, {'Zainab': {'table': 'bills', 'column': 'BilledTo'}}, {'Lubna': {'table': 'bills', 'column': 'BilledTo'}}, {'Dalal': {'table': 'bills', 'column': 'BilledTo'}}, {'Khalid': {'table': 'users', 'column': 'FirstName'}}, {'Salim': {'table': 'bills', 'column': 'BilledTo'}}, {'Anwar': {'table': 'bills', 'column': 'BilledTo'}}, {'Ehsan': {'table': 'bills', 'column': 'BilledTo'}}, {'Mohammed': {'table': 'users', 'column': 'FirstName'}}, {'Nadia': {'table': 'bills', 'column': 'BilledTo'}}, {'Sami': {'table': 'bills', 'column': 'BilledTo'}}, {'Basim': {'table': 'bills', 'column': 'BilledTo'}}, {'Abdulrahman': {'table': 'bills', 'column': 'BilledTo'}}, {'Asma': {'table': 'bills', 'column': 'BilledTo'}}, {'Dina': {'table': 'bills', 'column': 'BilledTo'}}, {'Ismail': {'table': 'bills', 'column': 'BilledTo'}}, {'Omar': {'table': 'users', 'column': 'FirstName'}}, {'Yara': {'table': 'bills', 'column': 'BilledTo'}}, {'Ziad': {'table': 'bills', 'column': 'BilledTo'}}, {'Hasan': {'table': 'bills', 'column': 'BilledTo'}}, {'Jamal': {'table': 'bills', 'column': 'BilledTo'}}, {'Rasha': {'table': 'bills', 'column': 'BilledTo'}}, {'Salma': {'table': 'bills', 'column': 'BilledTo'}}, {'Mahdi': {'table': 'bills', 'column': 'BilledTo'}}, {'Fawzi': {'table': 'bills', 'column': 'BilledTo'}}, {'Farah': {'table': 'bills', 'column': 'BilledTo'}}, {'Amira': {'table': 'bills', 'column': 'BilledTo'}}, {'Nabila': {'table': 'bills', 'column': 'BilledTo'}}, {'Adam': {'table': 'bills', 'column': 'BilledTo'}}, {'Ghada': {'table': 'bills', 'column': 'BilledTo'}}, {'Iman': {'table': 'bills', 'column': 'BilledTo'}}, {'Qasim': {'table': 'bills', 'column': 'BilledTo'}}, {'Yasmin': {'table': 'bills', 'column': 'BilledTo'}}, {'Abdullah': {'table': 'users', 'column': 'FirstName'}}, {'Abdulaziz': {'table': 'bills', 'column': 'BilledTo'}}, {'Kareem': {'table': 'bills', 'column': 'BilledTo'}}, {'Noor': {'table': 'bills', 'column': 'BilledTo'}}, {'Riham': {'table': 'bills', 'column': 'BilledTo'}}, {'Tariq': {'table': 'bills', 'column': 'BilledTo'}}, {'Waleed': {'table': 'bills', 'column': 'BilledTo'}}, {'Haifa': {'table': 'bills', 'column': 'BilledTo'}}, {'Mustafa': {'table': 'bills', 'column': 'BilledTo'}}, {'Rami': {'table': 'bills', 'column': 'BilledTo'}}, {'Zaid': {'table': 'bills', 'column': 'BilledTo'}}, {'Zaki': {'table': 'bills', 'column': 'BilledTo'}}, {'Alia': {'table': 'bills', 'column': 'BilledTo'}}, {'Amina': {'table': 'bills', 'column': 'BilledTo'}}, {'Jameel': {'table': 'bills', 'column': 'BilledTo'}}, {'Bahir': {'table': 'bills', 'column': 'BilledTo'}}, {'Eman': {'table': 'bills', 'column': 'BilledTo'}}, {'Fatima': {'table': 'bills', 'column': 'BilledTo'}}, {'Hala': {'table': 'bills', 'column': 'BilledTo'}}, {'Nasser': {'table': 'bills', 'column': 'BilledTo'}}, {'Thamer': {'table': 'bills', 'column': 'BilledTo'}}, {'Sarah': {'table': 'bills', 'column': 'BilledTo'}}, {'Hana': {'table': 'bills', 'column': 'BilledTo'}}, {'Malak': {'table': 'bills', 'column': 'BilledTo'}}, {'Warda': {'table': 'bills', 'column': 'BilledTo'}}, {'Zuhair': {'table': 'bills', 'column': 'BilledTo'}}, {'Hussein': {'table': 'bills', 'column': 'BilledTo'}}, {'Rania': {'table': 'bills', 'column': 'BilledTo'}}, {'Mona': {'table': 'bills', 'column': 'BilledTo'}}, {'Saeed': {'table': 'bills', 'column': 'BilledTo'}}, {'Youssef': {'table': 'users', 'column': 'FirstName'}}, {'Zahra': {'table': 'bills', 'column': 'BilledTo'}}, {'Afaf': {'table': 'bills', 'column': 'BilledTo'}}, {'Adnan': {'table': 'bills', 'column': 'BilledTo'}}, {'Manal': {'table': 'bills', 'column': 'BilledTo'}}, {'Rahma': {'table': 'bills', 'column': 'BilledTo'}}, {'Abir': {'table': 'bills', 'column': 'BilledTo'}}, {'Lina': {'table': 'bills', 'column': 'BilledTo'}}, {'Reem': {'table': 'bills', 'column': 'BilledTo'}}, {'Zein': {'table': 'bills', 'column': 'BilledTo'}}, {'Aisha': {'table': 'bills', 'column': 'BilledTo'}}, {'Aziza': {'table': 'bills', 'column': 'BilledTo'}}, {'Souad': {'table': 'bills', 'column': 'BilledTo'}}, {'Ayoub': {'table': 'bills', 'column': 'BilledTo'}}, {'reem.thamer@example.com': {'table': 'fuel-request', 'column': 'ApprovedBy'}}, {'riham.waleed@example.com': {'table': 'fuel-request', 'column': 'ApprovedBy'}}, {'saeed.warda@example.com': {'table': 'fuel-request', 'column': 'ApprovedBy'}}, {'samar.yara@example.com': {'table': 'fuel-request', 'column': 'ApprovedBy'}}, {'sanaa.yasin@example.com': {'table': 'fuel-request', 'column': 'ApprovedBy'}}, {'selim.youssef@example.com': {'table': 'fuel-request', 'column': 'ApprovedBy'}}, {'souad.zaid@example.com': {'table': 'fuel-request', 'column': 'ApprovedBy'}}, {'warda.ziad@example.com': {'table': 'fuel-request', 'column': 'ApprovedBy'}}, {'yasin.abir@example.com': {'table': 'fuel-request', 'column': 'ApprovedBy'}}, {'zahra.amal@example.com': {'table': 'fuel-request', 'column': 'ApprovedBy'}}, {'zaki.ayoub@example.com': {'table': 'fuel-request', 'column': 'ApprovedBy'}}, {'abir.ehsan@example.com': {'table': 'fuel-request', 'column': 'ApprovedBy'}}, {'hamid.lubna@example.com': {'table': 'fuel-request', 'column': 'ApprovedBy'}}, {'hana.mahdi@example.com': {'table': 'fuel-request', 'column': 'ApprovedBy'}}, {'iman.malak@example.com': {'table': 'fuel-request', 'column': 'ApprovedBy'}}, {'ismail.manal@example.com': {'table': 'fuel-request', 'column': 'ApprovedBy'}}, {'jameel.mona@example.com': {'table': 'fuel-request', 'column': 'ApprovedBy'}}, {'kareem.mustafa@example.com': {'table': 'fuel-request', 'column': 'ApprovedBy'}}, {'lamia.nasser@example.com': {'table': 'fuel-request', 'column': 'ApprovedBy'}}, {'lina.noor@example.com': {'table': 'fuel-request', 'column': 'ApprovedBy'}}, {'lubna.qasim@example.com': {'table': 'fuel-request', 'column': 'ApprovedBy'}}, {'mahdi.rahma@example.com': {'table': 'fuel-request', 'column': 'ApprovedBy'}}, {'malak.rami@example.com': {'table': 'fuel-request', 'column': 'ApprovedBy'}}, {'mona.riham@example.com': {'table': 'fuel-request', 'column': 'ApprovedBy'}}, {'mustafa.saeed@example.com': {'table': 'fuel-request', 'column': 'ApprovedBy'}}, {'rahma.souad@example.com': {'table': 'fuel-request', 'column': 'ApprovedBy'}}, {'nasser.samar@example.com': {'table': 'fuel-request', 'column': 'ApprovedBy'}}, {'manal.reem@example.com': {'table': 'fuel-request', 'column': 'ApprovedBy'}}, {'noor.sanaa@example.com': {'table': 'fuel-request', 'column': 'ApprovedBy'}}, {'qasim.selim@example.com': {'table': 'fuel-request', 'column': 'ApprovedBy'}}, {'rami.tariq@example.com': {'table': 'fuel-request', 'column': 'ApprovedBy'}}, {'tariq.zahra@example.com': {'table': 'fuel-request', 'column': 'ApprovedBy'}}, {'farah.marwa@example.com': {'table': 'fuel-request', 'column': 'ApprovedBy'}}, {'thamer.zaki@example.com': {'table': 'fuel-request', 'column': 'ApprovedBy'}}, {'waleed.zein@example.com': {'table': 'fuel-request', 'column': 'ApprovedBy'}}, {'yara.zuhair@example.com': {'table': 'fuel-request', 'column': 'ApprovedBy'}}, {'youssef.afaf@example.com': {'table': 'fuel-request', 'column': 'ApprovedBy'}}, {'zaid.alia@example.com': {'table': 'fuel-request', 'column': 'ApprovedBy'}}, {'zein.azhar@example.com': {'table': 'fuel-request', 'column': 'ApprovedBy'}}, {'ziad.bahir@example.com': {'table': 'fuel-request', 'column': 'ApprovedBy'}}, {'zuhair.dalal@example.com': {'table': 'fuel-request', 'column': 'ApprovedBy'}}, {'afaf.eman@example.com': {'table': 'fuel-request', 'column': 'ApprovedBy'}}, {'dalal.kawthar@example.com': {'table': 'fuel-request', 'column': 'ApprovedBy'}}, {'ehsan.leen@example.com': {'table': 'fuel-request', 'column': 'ApprovedBy'}}, {'eman.lubna@example.com': {'table': 'fuel-request', 'column': 'ApprovedBy'}}, {'fawzi.munir@example.com': {'table': 'fuel-request', 'column': 'ApprovedBy'}}, {'95': {'table': 'fuel-type', 'column': 'Name'}}, {'91': {'table': 'fuel-type', 'column': 'Name'}}, {'Diesel': {'table': 'janitor-data', 'column': 'fuel_types'}}, {'EPlus 91': {'table': 'janitor-data', 'column': 'fuel_types'}}, {'Special 95': {'table': 'janitor-data', 'column': 'fuel_types'}}, {'Super 98': {'table': 'janitor-data', 'column': 'fuel_types'}}, {'Sultanah': {'table': 'janitor-data', 'column': 'location'}}, {'Buraidah': {'table': 'janitor-data', 'column': 'location'}}, {'Tabuk': {'table': 'janitor-data', 'column': 'location'}}, {'Najran': {'table': 'janitor-data', 'column': 'location'}}, {'Abu Dhabi': {'table': 'janitor-data', 'column': 'location'}}, {'Ajman': {'table': 'janitor-data', 'column': 'location'}}, {'Ras Al Khaimah': {'table': 'janitor-data', 'column': 'location'}}, {'Fujairah': {'table': 'janitor-data', 'column': 'location'}}, {'Umm Al Quwain': {'table': 'janitor-data', 'column': 'location'}}, {'Jeddah': {'table': 'location', 'column': 'Name'}}, {'Riyadh': {'table': 'tenant', 'column': 'NationalCity'}}, {'Medina': {'table': 'janitor-data', 'column': 'location'}}, {'Al Kharj': {'table': 'janitor-data', 'column': 'location'}}, {'Kalba': {'table': 'janitor-data', 'column': 'location'}}, {'Makkah': {'table': 'janitor-data', 'column': 'location'}}, {'Dammam': {'table': 'janitor-data', 'column': 'location'}}, {'Dubai': {'table': 'janitor-data', 'column': 'location'}}, {'Sharjah': {'table': 'janitor-data', 'column': 'location'}}, {'Al Ai': {'table': 'janitor-data', 'column': 'location'}}, {'Khor Fakkan': {'table': 'janitor-data', 'column': 'location'}}, {'Al-Khaleej station': {'table': 'janitor-data', 'column': 'station_name'}}, {'Al-Sharq station': {'table': 'janitor-data', 'column': 'station_name'}}, {'Al-Bahrain station': {'table': 'janitor-data', 'column': 'station_name'}}, {'Al-Fursan station': {'table': 'janitor-data', 'column': 'station_name'}}, {'Al-Safwa station': {'table': 'janitor-data', 'column': 'station_name'}}, {'Al-Sarh station': {'table': 'janitor-data', 'column': 'station_name'}}, {'Al-Nahda station': {'table': 'janitor-data', 'column': 'station_name'}}, {'Al-Fayhaa station': {'table': 'janitor-data', 'column': 'station_name'}}, {'Al-Quds station': {'table': 'janitor-data', 'column': 'station_name'}}, {'Al-Madina station': {'table': 'janitor-data', 'column': 'station_name'}}, {'Al-Qasr station': {'table': 'janitor-data', 'column': 'station_name'}}, {'Al-Riyadh station': {'table': 'janitor-data', 'column': 'station_name'}}, {'Al-Jazira station': {'table': 'janitor-data', 'column': 'station_name'}}, {'Al-Aseel station': {'table': 'janitor-data', 'column': 'station_name'}}, {'Al-Najm station': {'table': 'janitor-data', 'column': 'station_name'}}, {'Al-Dammam station': {'table': 'janitor-data', 'column': 'station_name'}}, {'Al-Waha station': {'table': 'janitor-data', 'column': 'station_name'}}, {'Al-Murooj station': {'table': 'janitor-data', 'column': 'station_name'}}, {'Al-Rabwa station': {'table': 'janitor-data', 'column': 'station_name'}}, {'Al-Mansour station': {'table': 'janitor-data', 'column': 'station_name'}}, {'port-1': {'table': 'ports', 'column': 'Name'}}, {'port-3': {'table': 'ports', 'column': 'Name'}}, {'port-2': {'table': 'ports', 'column': 'Name'}}, {'ahmed ali': {'table': 'region', 'column': 'ArabicName'}}, {'north': {'table': 'region', 'column': 'Name'}}, {'Shift-1': {'table': 'shifts', 'column': 'Name'}}, {'Samra petrol station': {'table': 'station-master', 'column': 'Name'}}, {'Al-Rawi Trading Co.': {'table': 'tenant', 'column': 'CompanyName'}}, {'Al-Olaya': {'table': 'tenant', 'column': 'District'}}, {'Riyadh, KSA': {'table': 'tenant', 'column': 'NationalShortAddress'}}, {'Mohammad Ali Al-Khalidi': {'table': 'tenant', 'column': 'AccountOwnerName'}}, {'123 Al-Nahda Street, Riyadh, Saudi Arabia': {'table': 'tenant', 'column': 'RegisteredAddress'}}, {'Al-Takhassusi Street': {'table': 'tenant', 'column': 'NationalStreet'}}, {'Al-Jazeera Tower': {'table': 'tenant', 'column': 'Building'}}, {'ahmed.al-farsi@example.com': {'table': 'users', 'column': 'Email'}}, {'mohammed.al-sayed@example.com': {'table': 'users', 'column': 'Email'}}, {'ali.al-mansour@example.com': {'table': 'users', 'column': 'Email'}}, {'hassan.al-amin@example.com': {'table': 'users', 'column': 'Email'}}, {'omar.al-harbi@example.com': {'table': 'users', 'column': 'Email'}}, {'abdullah.al-rashid@example.com': {'table': 'users', 'column': 'Email'}}, {'khalid.al-hashemi@example.com': {'table': 'users', 'column': 'Email'}}, {'youssef.al-qahtani@example.com': {'table': 'users', 'column': 'Email'}}, {'ibrahim.al-sharif@example.com': {'table': 'users', 'column': 'Email'}}, {'salem.al-zahrani@example.com': {'table': 'users', 'column': 'Email'}}, {'Hassan': {'table': 'users', 'column': 'FirstName'}}, {'Salem': {'table': 'users', 'column': 'FirstName'}}, {'Al-Farsi': {'table': 'users', 'column': 'LastName'}}, {'Al-Sayed': {'table': 'users', 'column': 'LastName'}}, {'Al-Mansour': {'table': 'users', 'column': 'LastName'}}, {'Al-Amin': {'table': 'users', 'column': 'LastName'}}, {'Al-Harbi': {'table': 'users', 'column': 'LastName'}}, {'Al-Rashid': {'table': 'users', 'column': 'LastName'}}, {'Al-Hashemi': {'table': 'users', 'column': 'LastName'}}, {'Al-Qahtani': {'table': 'users', 'column': 'LastName'}}, {'Al-Sharif': {'table': 'users', 'column': 'LastName'}}, {'Al-Zahrani': {'table': 'users', 'column': 'LastName'}}]\n",
    "\n",
    "# all_noun_data = ['f6p6D1QG13j172sO', 'Samar', 'Al-Qasr', 'Khalid', 'F9y1Yoc283H33Ae2', 'mahdi.rahma@example.com', 'zi3DR73Q05d3w03L', 'Mohammad Ali Al-Khalidi', 'eman.lubna@example.com', 'Hussein', 'nu49hU1Vn054fh34', 'Al-Fayhaa station', 'jameel.mona@example.com', 'waleed.zein@example.com', 'Asma', 'Super 98', 'Samra petrol station', '6PdRb1z7q831A8I1', 'youssef.al-qahtani@example.com', '99301diz7u3B4MgC', '7lx18tIx262Et10J', 'X07H3sFm028e90jq', '7ds0J91N7TBj642n', 'Omar', 'Al-Jazira station', 'Al-Murooj station', 'Basim', 'Aramco station Zahra', 'Al-Nahda station', 'Ol45J1w2zpp9y419', '9uZ9H11X3E2u7U8d', '47xe6c9QOSkz5358', 'Al-Takhassusi Street', 'Eman', 'Aramco station Baraka', 'Aisha', 'nasser.samar@example.com', 'Al-Nahda', 'Rabwa', 'Ras Al Khaimah', 'zaid.alia@example.com', 'Al-Farsi', '2Tfx60Q6073gse0H', 'Safwa', 'lubna.qasim@example.com', 'Fujairah', 'g9Q37Q0nwLC1478P', 'ziad.bahir@example.com', 'Qhm5xJ359LR20s86', 'R462ZHa59rv1l49T', '4aJ27zCm01Z7t6m8', '3UEfDc33K0q0g346', 'Ismail', 'yasin.abir@example.com', 'Jamilah', '4Y6h8z131z75pWIr', 'W8210bE255lgs2KR', '5e7b58M08BGkGM03', 'Al-Khaleej', 'Farid', '1CaGp270C5900Asw', 'Diesel', 'Al-Qasr station', 'omar.al-harbi@example.com', 'Amal', 'm34H49q52C78jApH', 'malak.rami@example.com', 'Sami', '84trW13bN1NQL423', 'T374I41K9rme7oK2', 'manal.reem@example.com', 'salem.al-zahrani@example.com', 'Al-Sharq station', 'Hasan', 'ahmed.al-farsi@example.com', 'Al-Madina station', '123 Al-Nahda Street, Riyadh, Saudi Arabia', 'Al-Dammam', 'Al-Madina', 'fawzi.munir@example.com', 'f9i53o33byu2H98E', 'Makkah', 'Thamer', 'Riyadh', 'Al-Rashid', 'Jamal', 'Reem', 'rami.tariq@example.com', 'Ayoub', '11QX835Dg9N6c0Jb', '7dGhB4r12a280H9W', 'Mohammed', 'u4vF15aIX8V6u894', 'Aramco station Hilal', 'Al Ai', 'hassan.al-amin@example.com', 'Aramco station Nasr', 'Qasim', 'Al-Dammam station', 'Al-Bahrain station', 'qasim.selim@example.com', 'Manal', 'Rami', 'Aramco station Rasheed', 'Al-Rawi Trading Co.', '0R660631MBM5keIx', 'Al-Rabwa station', 'Farah', 'Kareem', 'Sanaa', 'reem.thamer@example.com', 'Mustafa', 'selim.youssef@example.com', 'Al-Fursan station', 'Bilal', 'Zein', 'Al-Bahrain', 'wKPc8X636ypz7580', 'iman.malak@example.com', 'zahra.amal@example.com', 'samar.yara@example.com', 'Medina', 'lina.noor@example.com', 'Yara', 'Shift-1', 'port-1', 'Ali', '7593ni40Fnto3f3A', 'Jameel', 'abir.ehsan@example.com', 'Aramco station Amal', 'Q986LG08HuzE3p18', 'r57h71b10h88FzlL', 'Buraidah', 'Sarah', 'Al-Sharif', 'ROV1S19373K9VT0W', 'Riham', 'Abu Dhabi', 'Abdulrahman', 'Al-Riyadh', 'youssef.afaf@example.com', 'warda.ziad@example.com', '24YW6215n65iQgaS', 'Haifa', '6ny26U33jn0qi6Y4', 'Al-Khaleej station', 'FSg201eN24vPI416', 'yara.zuhair@example.com', 'Nadia', 'YxI96Y606729stYT', 'Y4eqf664rw5xE865', 'port-2', '4L6G27aPdM94Lu93', '8m7E7G9Z66Tw25IA', '6rg5okO6t45W3q91', 'Ajman', '52s891CZS0X8J4Dr', 'Al-Sarh', 'Afaf', '7tyu38kg8TQ1247Z', 'Lina', 'lamia.nasser@example.com', '96OEh99uro82r62a', 'qK05dF6iGX66B745', 'Sharjah', 'W2M2O7MX6J0q57F4', 'Dalal', '2Y1R4a11YMz132SE', 'Al-Sayed', 'Bahir', 'Abir', '5Jr190L24WzUUS96', 'Najran', 'Najm', 'Jazira', 'Al-Olaya', 'oY53q55RkW0i3K17', 'sr9A5h7K137n8G6l', 'Aramco station Noor', '6Q3C0eJg47fn49A3', 'Nabila', 'Riyadh, KSA', '98yG06zI836ks2JY', '1B8e46w1L5fXY8M0', 'Aramco station Huda', 'Youssef', 'souad.zaid@example.com', 'ali.al-mansour@example.com', 'riham.waleed@example.com', 'Zahra', 'jS1HB61b669P6r8t', 'farah.marwa@example.com', 'Noor', 'zaki.ayoub@example.com', 'Hana', 'Al-Qahtani', 'mustafa.saeed@example.com', 'Al-Zahrani', 'H4l1Nc7S8382n4zD', 'qZ8074F3IM90H3cV', 'afaf.eman@example.com', 'c66Q97UM7y755xdd', 'Warda', 'mohammed.al-sayed@example.com', 'Sultanah', 'Yasin', 'i3S7T4v3o0Ty45u7', 'Aramco station Safa', 'Tabuk', '5t9bNVd4ro68178D', 'Al-Aseel station', 'Al Kharj', 'Aziza', 'Hala', 'Anwar', 'dalal.kawthar@example.com', '247Ry0CKk92N8ND5', 'dh29LfN358I5Ts98', 'R20J9u8n496gUK8g', 'Iman', 'Aramco station Kawthar', 'hamid.lubna@example.com', 'Ziad', 'Lamia', 'Tariq', 'Aramco station Taqwa', 'Amira', 'ehsan.leen@example.com', 'Aramco station Fajr', 'Rasha', 'Saeed', 'Adnan', 'HS6C9Ky7p754SJ41', '95', 'Al-Sarh station', 'Al-Harbi', 'Dubai', 'Mariam', '4NJu90bVf7l749y8', 'Abdulaziz', '6J755E72u8Lqgi5M', 'rahma.souad@example.com', 'Q5R1cIZ6m75h98A9', 'Sharq', '4673J0MH9lYH87jR', 'Mahdi', 'Fawzi', 'Umm Al Quwain', 'Zuhair', 'Al-Mansour', 'Lubna', 'V64R8b89O9jj08rM', 'Abdullah', 'Kalba', 'Al-Riyadh station', 's612237J0TF0BXGf', 'Rahma', 'Hamid', 'Malak', 'Aramco station Azhar', 'Khor Fakkan', 'Al-Quds station', 'Alia', 'Ibrahim', 'Aramco station Mahd', 'djM12a9G9790sb9f', 'Dammam', 'noor.sanaa@example.com', 'uGex454XQ98e25b2', 'Fatima', 'Al-Murooj', 'Dina', 'Aramco station Bustan', 'kareem.mustafa@example.com', 'Z5MG3o2GoA25572p', 'Layla', 'Ehsan', 'Waleed', 'Rania', '4Dgd5770AfqdH901', 'ahmed ali', 'Al-Waha station', 'Zaid', 'Al-Hashemi', 'Selim', 'zuhair.dalal@example.com', 'z78N9t49h8q2Rd7o', 'Zainab', 'ibrahim.al-sharif@example.com', 'Yasmin', 'P0a2Am70C2c70re1', 'Hassan', 'Ahmed', 'Ghada', 'Adam', 'Salim', 'DH858xQ2bUA1M192', 'Al-Fursan', 'Azhar', 'Al-Jazeera Tower', 'hana.mahdi@example.com', 'Al-Mansour station', 'Nasser', 'Al-Waha', '91i2qv930Z0BpT7Q', 's2NA2LsY78z0771A', '8G96wBCm4i5152CB', '54r8K2oN3PH3A1H3', '9b2xV05K1E068Vsy', 'Al-Najm station', 'saeed.warda@example.com', 'Aramco station Manara', 'Salma', 'khalid.al-hashemi@example.com', 'north', 'ET564XL393t0S0ZA', 'sanaa.yasin@example.com', 'Al-Amin', 'zein.azhar@example.com', 'Jeddah', 'EPlus 91', 'abdullah.al-rashid@example.com', '54p0jW7445Ao7Mve', '91', 'Amina', 'tariq.zahra@example.com', '6b52akdf0b0r4s39', 'thamer.zaki@example.com', '5Xl43A04jx7lSB91', 'Special 95', 'm3V81K1457HD6yFV', 'Zaki', 'ismail.manal@example.com', 'Al-Safwa station', '91qq0UV14DL42IE5', 'i08N207lFgw5i00i', 'eAY64453Enf7Dg14', 'port-3', '6x4rU4L47Z59V3PQ', 'Souad', 'Salem', 'Mona', 'mona.riham@example.com', 'p6P16258Ckx7L0Kl']\n",
    "# # noun_maps\n",
    "# # all_noun_data"
   ]
  },
  {
   "cell_type": "markdown",
   "metadata": {
    "jp-MarkdownHeadingCollapsed": true,
    "tags": []
   },
   "source": [
    "## Translated Docs"
   ]
  },
  {
   "cell_type": "code",
   "execution_count": null,
   "metadata": {
    "tags": []
   },
   "outputs": [],
   "source": [
    "from google.cloud import translate_v2 as translate\n",
    "\n",
    "######################\n",
    "\"\"\"\n",
    "Basic Translator \n",
    "1. For getting initial translation of the user query \n",
    "2. For getting Entity translations for fuzzy and vector search # NEEDS human verification\n",
    "above will be provided as context to LLM in advanced translator\n",
    "\n",
    "IP:\n",
    "1. Text to be translated \n",
    "2. Taregt language to be translate to\n",
    "\n",
    "OP:\n",
    "Translated text\n",
    "\n",
    "\"\"\"\n",
    "######################\n",
    "def translate_text(text: str, tgt: str) -> str:\n",
    "    try:\n",
    "        logging.debug(f\"translating text: {text[:50]}... to {tgt}\")\n",
    "        # Initialize Google Cloud Translation client\n",
    "        translate_client = translate.Client()\n",
    "\n",
    "        # Ensure text is in string format\n",
    "        if isinstance(text, bytes):\n",
    "            text = text.decode(\"utf-8\")\n",
    "\n",
    "        # Perform translation\n",
    "        result = translate_client.translate(text, target_language=tgt)\n",
    "        translated_text = result.get(\"translatedText\", \"\")\n",
    "\n",
    "        # Log successful translation\n",
    "        logging.info(f\"Successfully translated text to: {translated_text[:50]}...\")\n",
    "\n",
    "        return translated_text\n",
    "    except Exception as e:\n",
    "        # Log error\n",
    "        logging.error(f\"Error translating text: {text[:50]}... to {tgt} - {e}\")\n",
    "        return \"\"\n",
    "######################\n",
    "\"\"\"\n",
    "Translate Entity:(SRF)\n",
    "Provides tranlsation of entities. \n",
    "Used for mapping translated entites to entities in database(en)\n",
    "\n",
    "IP:\n",
    "1. List of entities \n",
    "2. Taregt language to be translate to\n",
    "\n",
    "OP:\n",
    "1. List of dicts [{en:ar}, {en:ar}] \n",
    "2. list of translated entities\n",
    "\"\"\"\n",
    "######################\n",
    "\n",
    "def get_entity_translations(datas, tgt_lang):\n",
    "    logging.info(\"Creating entity : translations map\")\n",
    "    logging.debug(f\"Target language : {tgt_lang}\")\n",
    "\n",
    "    translate_map_list = []\n",
    "    translated_texts_list = []\n",
    "\n",
    "    for data in datas:\n",
    "        if not data:\n",
    "            continue\n",
    "\n",
    "        try:\n",
    "            # Translate text and build map\n",
    "            translated_texts = translate_text(data, tgt_lang)\n",
    "            if translated_texts:\n",
    "                translate_map = {data: translated_texts}\n",
    "                translated_texts_list.append(translated_texts)\n",
    "                translate_map_list.append(translate_map)\n",
    "            else:\n",
    "                logging.warning(f\"Translation failed for text: {data[:50]}...\")\n",
    "\n",
    "        except Exception as e:\n",
    "            # Log error during translation\n",
    "            logging.error(f\"Error processing translation for {data[:50]}...: {e}\")\n",
    "    logging.info(\"Completed entity : translations map\")\n",
    "    return translate_map_list, translated_texts_list\n",
    "\n"
   ]
  },
  {
   "cell_type": "code",
   "execution_count": null,
   "metadata": {
    "tags": []
   },
   "outputs": [],
   "source": [
    "# entity_translate_map, translated_texts_list = get_entity_translations(all_noun_data, \"ar\")"
   ]
  },
  {
   "cell_type": "code",
   "execution_count": null,
   "metadata": {
    "tags": []
   },
   "outputs": [],
   "source": [
    "entity_translate_map = [{'f6p6D1QG13j172sO': 'f6p6D1QG13j172sO'}, {'Samar': 'إنتاج'}, {'Al-Qasr': 'Al-Qasr'}, {'Khalid': 'خالد'}, {'F9y1Yoc283H33Ae2': 'F9y1Yoc283H33Ae2'}, {'mahdi.rahma@example.com': 'mahdi.rahma@example.com'}, {'zi3DR73Q05d3w03L': 'zi3DR73Q05d3w03L'}, {'Mohammad Ali Al-Khalidi': 'Mohammad Ali Al-Khalidi'}, {'eman.lubna@example.com': 'eman.lubna@example.com'}, {'Hussein': 'حسين'}, {'nu49hU1Vn054fh34': 'نو49hU1Vn054fh34'}, {'Al-Fayhaa station': 'محطة الفيحاء'}, {'jameel.mona@example.com': 'jameel.mona@example.com'}, {'waleed.zein@example.com': 'waleed.zein@example.com'}, {'Asma': 'الربو'}, {'Super 98': 'سوبر 98'}, {'Samra petrol station': 'محطة بنزين سمرة'}, {'6PdRb1z7q831A8I1': '6PdRb1z7q831A8I1'}, {'youssef.al-qahtani@example.com': 'youssef.al-qahtani@example.com'}, {'99301diz7u3B4MgC': '99301diz7u3B4MgC'}, {'7lx18tIx262Et10J': '7lx18tIx262Et10J'}, {'X07H3sFm028e90jq': 'X07H3sFm028e90jq'}, {'7ds0J91N7TBj642n': '7ds0J91N7TBj642n'}, {'Omar': 'عمر'}, {'Al-Jazira station': 'محطة الجزيرة'}, {'Al-Murooj station': 'محطة المروج'}, {'Basim': 'باسم'}, {'Aramco station Zahra': 'محطة ارامكو الزهراء'}, {'Al-Nahda station': 'Al-Nahda station'}, {'Ol45J1w2zpp9y419': 'Ol45J1w2zpp9y419'}, {'9uZ9H11X3E2u7U8d': '9uZ9H11X3E2u7U8d'}, {'47xe6c9QOSkz5358': '47xe6c9QOSkz5358'}, {'Al-Takhassusi Street': 'شارع التخصصي'}, {'Eman': 'يعطي'}, {'Aramco station Baraka': 'محطة ارامكو البركة'}, {'Aisha': 'عائشة'}, {'nasser.samar@example.com': 'nasser.samar@example.com'}, {'Al-Nahda': 'Al-Nahda'}, {'Rabwa': 'رابا'}, {'Ras Al Khaimah': 'Ras Al Khaimah'}, {'zaid.alia@example.com': 'zaid.alia@example.com'}, {'Al-Farsi': 'الفارسي'}, {'2Tfx60Q6073gse0H': '2Tfx60Q6073gse0H'}, {'Safwa': 'بالطبع'}, {'lubna.qasim@example.com': 'lubna.qasim@example.com'}, {'Fujairah': 'الفجيرة'}, {'g9Q37Q0nwLC1478P': 'g9Q37Q0nwLC1478P'}, {'ziad.bahir@example.com': 'ziad.bahir@example.com'}, {'Qhm5xJ359LR20s86': 'Qhm5xJ359LR20s86'}, {'R462ZHa59rv1l49T': 'R462ZHa59rv1l49T'}, {'4aJ27zCm01Z7t6m8': '4aJ27zCm01Z7t6m8'}, {'3UEfDc33K0q0g346': '3UEfDc33K0q0g346'}, {'Ismail': 'اسماعيل'}, {'yasin.abir@example.com': 'yasin.abir@example.com'}, {'Jamilah': 'جميلة'}, {'4Y6h8z131z75pWIr': '4Y6h8z131z75pWIr'}, {'W8210bE255lgs2KR': 'W8210bE255lgs2KR'}, {'5e7b58M08BGkGM03': '5e7b58M08BGkGM03'}, {'Al-Khaleej': 'الخليج'}, {'Farid': 'فريد'}, {'1CaGp270C5900Asw': '1CaGp270C5900Asw'}, {'Diesel': 'ديزل'}, {'Al-Qasr station': 'محطة القصر'}, {'omar.al-harbi@example.com': 'omar.al-harbi@example.com'}, {'Amal': 'صدقة'}, {'m34H49q52C78jApH': 'm34H49q52C78jApH'}, {'malak.rami@example.com': 'malak.rami@example.com'}, {'Sami': 'سامي'}, {'84trW13bN1NQL423': '84trW13bN1NQL423'}, {'T374I41K9rme7oK2': 'T374I41K9rme7oK2'}, {'manal.reem@example.com': 'manal.reem@example.com'}, {'salem.al-zahrani@example.com': 'Salem.al-zahrani@example.com'}, {'Al-Sharq station': 'محطة الشرق'}, {'Hasan': 'حسن'}, {'ahmed.al-farsi@example.com': 'ahmed.al-farsi@example.com'}, {'Al-Madina station': 'محطة المدينة المنورة'}, {'123 Al-Nahda Street, Riyadh, Saudi Arabia': '123 Al-Nahda Street, Riyadh, Saudi Arabia'}, {'Al-Dammam': 'Al-Dammam'}, {'Al-Madina': 'Al-Madina'}, {'fawzi.munir@example.com': 'fawzi.munir@example.com'}, {'f9i53o33byu2H98E': 'f9i53o33byu2H98E'}, {'Makkah': 'مكه'}, {'Thamer': 'ثامر'}, {'Riyadh': 'الرياض'}, {'Al-Rashid': 'Al-Rashid'}, {'Jamal': 'جمال'}, {'Reem': 'ريم'}, {'rami.tariq@example.com': 'rami.tariq@example.com'}, {'Ayoub': 'أيوب'}, {'11QX835Dg9N6c0Jb': '11QX835Dg9N6c0Jb'}, {'7dGhB4r12a280H9W': '7dGhB4r12a280H9W'}, {'Mohammed': 'محمد'}, {'u4vF15aIX8V6u894': 'u4vF15aIX8V6u894'}, {'Aramco station Hilal': 'محطة أرامكو الهلال'}, {'Al Ai': 'آل عاي'}, {'hassan.al-amin@example.com': 'hassan.al-amin@example.com'}, {'Aramco station Nasr': 'محطة ارامكو النصر'}, {'Qasim': 'قاسم'}, {'Al-Dammam station': 'محطة الدمام'}, {'Al-Bahrain station': 'محطة البحرين'}, {'qasim.selim@example.com': 'qasim.selim@example.com'}, {'Manal': 'منال'}, {'Rami': 'رامي'}, {'Aramco station Rasheed': 'محطة ارامكو الرشيد'}, {'Al-Rawi Trading Co.': 'شركة الراوي التجارية'}, {'0R660631MBM5keIx': '0R660631MBM5keIx'}, {'Al-Rabwa station': 'محطة الربوة'}, {'Farah': 'فرح'}, {'Kareem': 'كريم'}, {'Sanaa': 'فن'}, {'reem.thamer@example.com': 'reem.thamer@example.com'}, {'Mustafa': 'مصطفى'}, {'selim.youssef@example.com': 'selim.youssef@example.com'}, {'Al-Fursan station': 'محطة الفرسان'}, {'Bilal': 'بلال'}, {'Zein': 'أيّ'}, {'Al-Bahrain': 'Al-Bahrain'}, {'wKPc8X636ypz7580': 'wKPc8X636ypz7580'}, {'iman.malak@example.com': 'iman.malak@example.com'}, {'zahra.amal@example.com': 'zahra.amal@example.com'}, {'samar.yara@example.com': 'samar.yara@example.com'}, {'Medina': 'المدينة المنورة'}, {'lina.noor@example.com': 'lina.noor@example.com'}, {'Yara': 'أطفال'}, {'Shift-1': 'التحول-1'}, {'port-1': 'المنفذ 1'}, {'Ali': 'أو'}, {'7593ni40Fnto3f3A': '7593ni40Fnto3f3A'}, {'Jameel': 'جميل'}, {'abir.ehsan@example.com': 'abir.ehsan@example.com'}, {'Aramco station Amal': 'محطة أرامكو أمل'}, {'Q986LG08HuzE3p18': 'Q986LG08HuzE3p18'}, {'r57h71b10h88FzlL': 'r57h71b10h88FzlL'}, {'Buraidah': 'بريدة'}, {'Sarah': 'ساره'}, {'Al-Sharif': 'Al-Sharif'}, {'ROV1S19373K9VT0W': 'ROV1S19373K9VT0W'}, {'Riham': 'ريهام'}, {'Abu Dhabi': 'Abu Dhabi'}, {'Abdulrahman': 'عبدالرحمن'}, {'Al-Riyadh': 'Al-Riyadh'}, {'youssef.afaf@example.com': 'youssef.afaf@example.com'}, {'warda.ziad@example.com': 'warda.ziad@example.com'}, {'24YW6215n65iQgaS': '24YW6215n65iQgaS'}, {'Haifa': 'حيفا'}, {'6ny26U33jn0qi6Y4': '6ny26U33jn0qi6Y4'}, {'Al-Khaleej station': 'محطة الخليج'}, {'FSg201eN24vPI416': 'FSg201eN24vPI416'}, {'yara.zuhair@example.com': 'yara.zuhair@example.com'}, {'Nadia': 'ناديه'}, {'YxI96Y606729stYT': 'YxI96Y606729stYT'}, {'Y4eqf664rw5xE865': 'Y4eqf664rw5xE865'}, {'port-2': 'المنفذ 2'}, {'4L6G27aPdM94Lu93': '4L6G27aPdM94Lu93'}, {'8m7E7G9Z66Tw25IA': '8m7E7G9Z66Tw25IA'}, {'6rg5okO6t45W3q91': '6rg5okO6t45W3q91'}, {'Ajman': 'عجمان'}, {'52s891CZS0X8J4Dr': '52s891CZS0X8J4 د'}, {'Al-Sarh': 'الصرح'}, {'Afaf': 'اللغات'}, {'7tyu38kg8TQ1247Z': '7tyu38kg8TQ1247Z'}, {'Lina': 'لينا'}, {'lamia.nasser@example.com': 'lamia.nasser@example.com'}, {'96OEh99uro82r62a': '96OEh99uro82r62a'}, {'qK05dF6iGX66B745': 'qK05dF6iGX66B745'}, {'Sharjah': 'الشارقة'}, {'W2M2O7MX6J0q57F4': 'W2M2O7MX6J0q57F4'}, {'Dalal': 'بلدان'}, {'2Y1R4a11YMz132SE': '2Y1R4a11YMz132SE'}, {'Al-Sayed': 'Al-Sayed'}, {'Bahir': 'باهر'}, {'Abir': 'عبير'}, {'5Jr190L24WzUUS96': '5Jr190L24WzUUS96'}, {'Najran': 'نجران'}, {'Najm': 'بخاصة'}, {'Jazira': 'جزيرة'}, {'Al-Olaya': 'Al-Olaya'}, {'oY53q55RkW0i3K17': 'oY53q55RkW0i3K17'}, {'sr9A5h7K137n8G6l': 'sr9A5h7K137n8G6l'}, {'Aramco station Noor': 'محطة أرامكو نور'}, {'6Q3C0eJg47fn49A3': '6Q3C0eJg47fn49A3'}, {'Nabila': 'نبيلة'}, {'Riyadh, KSA': 'الرياض، المملكة العربية السعودية'}, {'98yG06zI836ks2JY': '98yG06zI836ks2JY'}, {'1B8e46w1L5fXY8M0': '1B8e46w1L5fXY8M0'}, {'Aramco station Huda': 'محطة أرامكو الهدى'}, {'Youssef': 'يوسف'}, {'souad.zaid@example.com': 'souad.zaid@example.com'}, {'ali.al-mansour@example.com': 'ali.al-mansour@example.com'}, {'riham.waleed@example.com': 'riham.waleed@example.com'}, {'Zahra': 'الزهراء'}, {'jS1HB61b669P6r8t': 'jS1HB61b669P6r8t'}, {'farah.marwa@example.com': 'فرح.ماروا@example.com'}, {'Noor': 'نور'}, {'zaki.ayoub@example.com': 'zaki.ayoub@example.com'}, {'Hana': 'عمل'}, {'Al-Qahtani': 'Al-Qahtani'}, {'mustafa.saeed@example.com': 'mustafa.saeed@example.com'}, {'Al-Zahrani': 'Al-Zahrani'}, {'H4l1Nc7S8382n4zD': 'H4l1Nc7S8382n4zD'}, {'qZ8074F3IM90H3cV': 'qZ8074F3IM90H3cV'}, {'afaf.eman@example.com': 'afaf.eman@example.com'}, {'c66Q97UM7y755xdd': 'c66Q97UM7y755xdd'}, {'Warda': 'وردة'}, {'mohammed.al-sayed@example.com': 'mohammed.al-sayed@example.com'}, {'Sultanah': 'سلطانة'}, {'Yasin': 'ياسين'}, {'i3S7T4v3o0Ty45u7': 'i3S7T4v3o0Ty45u7'}, {'Aramco station Safa': 'محطة ارامكو الصفا'}, {'Tabuk': 'تبوك'}, {'5t9bNVd4ro68178D': '5t9bNVd4ro68178D'}, {'Al-Aseel station': 'محطة الأصيل'}, {'Al Kharj': 'Al Kharj'}, {'Aziza': 'عزيزي'}, {'Hala': 'لذا'}, {'Anwar': 'أنور'}, {'dalal.kawthar@example.com': 'dalal.kawthar@example.com'}, {'247Ry0CKk92N8ND5': '247Ry0CKk92N8ND5'}, {'dh29LfN358I5Ts98': 'dh29LfN358I5Ts98'}, {'R20J9u8n496gUK8g': 'R20J9u8n496gUK8g'}, {'Iman': 'إيمان'}, {'Aramco station Kawthar': 'Aramco station Kawthar'}, {'hamid.lubna@example.com': 'hamid.lubna@example.com'}, {'Ziad': 'زياد'}, {'Lamia': 'لمياء'}, {'Tariq': 'طارق'}, {'Aramco station Taqwa': 'محطة أرامكو التقوى'}, {'Amira': 'أميرة'}, {'ehsan.leen@example.com': 'ehsan.leen@example.com'}, {'Aramco station Fajr': 'محطة أرامكو الفجر'}, {'Rasha': 'روسيا'}, {'Saeed': 'سعيد'}, {'Adnan': 'عدنان'}, {'HS6C9Ky7p754SJ41': 'HS6C9Ky7p754SJ41'}, {'95': '95'}, {'Al-Sarh station': 'محطة الصرح'}, {'Al-Harbi': 'Al-Harbi'}, {'Dubai': 'دبي'}, {'Mariam': 'مريم'}, {'4NJu90bVf7l749y8': '4NJu90bVf7l749y8'}, {'Abdulaziz': 'عبد العزيز'}, {'6J755E72u8Lqgi5M': '6J755E72u8Lqgi5M'}, {'rahma.souad@example.com': 'rahma.souad@example.com'}, {'Q5R1cIZ6m75h98A9': 'Q5R1cIZ6m75h98A9'}, {'Sharq': 'شرق'}, {'4673J0MH9lYH87jR': '4673J0MH9lYH87jR'}, {'Mahdi': 'مهدي'}, {'Fawzi': 'فوزي'}, {'Umm Al Quwain': 'ام القيوين'}, {'Zuhair': 'كوكب الزهرة'}, {'Al-Mansour': 'Al-Mansour'}, {'Lubna': 'لبنى'}, {'V64R8b89O9jj08rM': 'V64R8b89O9jj08rM'}, {'Abdullah': 'عبد الله'}, {'Kalba': 'لغة'}, {'Al-Riyadh station': 'محطة الرياض'}, {'s612237J0TF0BXGf': 's612237J0TF0BXGf'}, {'Rahma': 'رحمة'}, {'Hamid': 'حميد'}, {'Malak': 'ملاك'}, {'Aramco station Azhar': 'محطة أرامكو الأزهر'}, {'Khor Fakkan': 'خورفكان'}, {'Al-Quds station': 'محطة القدس'}, {'Alia': 'علياء'}, {'Ibrahim': 'ابراهيم'}, {'Aramco station Mahd': 'محطة أرامكو المهد'}, {'djM12a9G9790sb9f': 'djM12a9G9790sb9f'}, {'Dammam': 'الدمام'}, {'noor.sanaa@example.com': 'noor.sanaa@example.com'}, {'uGex454XQ98e25b2': 'uGex454XQ98e25b2'}, {'Fatima': 'فاطمة'}, {'Al-Murooj': 'المروس'}, {'Dina': 'حقير'}, {'Aramco station Bustan': 'محطة أرامكو البستان'}, {'kareem.mustafa@example.com': 'kareem.mustafa@example.com'}, {'Z5MG3o2GoA25572p': 'Z5MG3o2GoA25572p'}, {'Layla': 'ليلى'}, {'Ehsan': 'كياسة'}, {'Waleed': 'وليد'}, {'Rania': 'رانيا'}, {'4Dgd5770AfqdH901': '4Dgd5770AfqdH901'}, {'ahmed ali': 'ahmed ali'}, {'Al-Waha station': 'محطة الواحة'}, {'Zaid': 'زيد'}, {'Al-Hashemi': 'Al-Hashemi'}, {'Selim': 'سليم'}, {'zuhair.dalal@example.com': 'zuhair.dalal@example.com'}, {'z78N9t49h8q2Rd7o': 'z78N9t49h8q2Rd7o'}, {'Zainab': 'زينب'}, {'ibrahim.al-sharif@example.com': 'ibrahim.al-sharif@example.com'}, {'Yasmin': 'ياسمين'}, {'P0a2Am70C2c70re1': 'P0a2Am70C2c70re1'}, {'Hassan': 'حسان'}, {'Ahmed': 'أحمد'}, {'Ghada': 'غداً'}, {'Adam': 'آدم'}, {'Salim': 'سليم'}, {'DH858xQ2bUA1M192': 'DH858xQ2bUA1M192'}, {'Al-Fursan': 'Al-Fursan'}, {'Azhar': 'أزهر'}, {'Al-Jazeera Tower': 'برج الجزيرة'}, {'hana.mahdi@example.com': 'hana.mahdi@example.com'}, {'Al-Mansour station': 'محطة المنصور'}, {'Nasser': 'ناصر'}, {'Al-Waha': 'Al-Waha'}, {'91i2qv930Z0BpT7Q': '91i2qv930Z0BpT7Q'}, {'s2NA2LsY78z0771A': 's2NA2LsY78z0771A'}, {'8G96wBCm4i5152CB': '8G96wBCm4i5152CB'}, {'54r8K2oN3PH3A1H3': '54r8K2oN3PH3A1H3'}, {'9b2xV05K1E068Vsy': '9b2xV05K1E068Vsy'}, {'Al-Najm station': 'محطة النجم'}, {'saeed.warda@example.com': 'saeed.warda@example.com'}, {'Aramco station Manara': 'محطة أرامكو المنارة'}, {'Salma': 'سلمى'}, {'khalid.al-hashemi@example.com': 'khalid.al-hashemi@example.com'}, {'north': 'شمال'}, {'ET564XL393t0S0ZA': 'ET564XL393t0S0ZA'}, {'sanaa.yasin@example.com': 'sanaa.yasin@example.com'}, {'Al-Amin': 'Al-Amin'}, {'zein.azhar@example.com': 'zein.azhar@example.com'}, {'Jeddah': 'جدة'}, {'EPlus 91': 'إي بلس 91'}, {'abdullah.al-rashid@example.com': 'abdallah.al-rashid@example.com'}, {'54p0jW7445Ao7Mve': '54p0jW7445Ao7Mve'}, {'91': '91'}, {'Amina': 'آمين'}, {'tariq.zahra@example.com': 'tariq.zahra@example.com'}, {'6b52akdf0b0r4s39': '6b52akdf0b0r4s39'}, {'thamer.zaki@example.com': 'thamer.zaki@example.com'}, {'5Xl43A04jx7lSB91': '5Xl43A04jx7lSB91'}, {'Special 95': 'خاص 95'}, {'m3V81K1457HD6yFV': 'm3V81K1457HD6yFV'}, {'Zaki': 'أسد'}, {'ismail.manal@example.com': 'ismail.manal@example.com'}, {'Al-Safwa station': 'Al-Safwa station'}, {'91qq0UV14DL42IE5': '91qq0UV14DL42IE5'}, {'i08N207lFgw5i00i': 'i08N207lFgw5i00i'}, {'eAY64453Enf7Dg14': 'eAY64453Enf7Dg14'}, {'port-3': 'المنفذ 3'}, {'6x4rU4L47Z59V3PQ': '6x4rU4L47Z59V3PQ'}, {'Souad': 'سعاد'}, {'Salem': 'سالم'}, {'Mona': 'منى'}, {'mona.riham@example.com': 'mona.riham@example.com'}, {'p6P16258Ckx7L0Kl': 'p6P16258Ckx7L0Kl'}]\n",
    "translated_texts_list = ['f6p6D1QG13j172sO', 'إنتاج', 'Al-Qasr', 'خالد', 'F9y1Yoc283H33Ae2', 'mahdi.rahma@example.com', 'zi3DR73Q05d3w03L', 'Mohammad Ali Al-Khalidi', 'eman.lubna@example.com', 'حسين', 'نو49hU1Vn054fh34', 'محطة الفيحاء', 'jameel.mona@example.com', 'waleed.zein@example.com', 'الربو', 'سوبر 98', 'محطة بنزين سمرة', '6PdRb1z7q831A8I1', 'youssef.al-qahtani@example.com', '99301diz7u3B4MgC', '7lx18tIx262Et10J', 'X07H3sFm028e90jq', '7ds0J91N7TBj642n', 'عمر', 'محطة الجزيرة', 'محطة المروج', 'باسم', 'محطة ارامكو الزهراء', 'Al-Nahda station', 'Ol45J1w2zpp9y419', '9uZ9H11X3E2u7U8d', '47xe6c9QOSkz5358', 'شارع التخصصي', 'يعطي', 'محطة ارامكو البركة', 'عائشة', 'nasser.samar@example.com', 'Al-Nahda', 'رابا', 'Ras Al Khaimah', 'zaid.alia@example.com', 'الفارسي', '2Tfx60Q6073gse0H', 'بالطبع', 'lubna.qasim@example.com', 'الفجيرة', 'g9Q37Q0nwLC1478P', 'ziad.bahir@example.com', 'Qhm5xJ359LR20s86', 'R462ZHa59rv1l49T', '4aJ27zCm01Z7t6m8', '3UEfDc33K0q0g346', 'اسماعيل', 'yasin.abir@example.com', 'جميلة', '4Y6h8z131z75pWIr', 'W8210bE255lgs2KR', '5e7b58M08BGkGM03', 'فريد', '1CaGp270C5900Asw', 'ديزل', 'محطة القصر', 'omar.al-harbi@example.com', 'صدقة', 'm34H49q52C78jApH', 'malak.rami@example.com', 'سامي', '84trW13bN1NQL423', 'T374I41K9rme7oK2', 'manal.reem@example.com', 'Salem.al-zahrani@example.com', 'محطة الشرق', 'حسن', 'ahmed.al-farsi@example.com', 'محطة المدينة المنورة', '123 Al-Nahda Street, Riyadh, Saudi Arabia', 'Al-Dammam', 'Al-Madina', 'fawzi.munir@example.com', 'f9i53o33byu2H98E', 'مكه', 'ثامر', 'الرياض', 'Al-Rashid', 'جمال', 'ريم', 'rami.tariq@example.com', 'أيوب', '11QX835Dg9N6c0Jb', '7dGhB4r12a280H9W', 'محمد', 'u4vF15aIX8V6u894', 'محطة أرامكو الهلال', 'آل عاي', 'hassan.al-amin@example.com', 'محطة ارامكو النصر', 'قاسم', 'محطة الدمام', 'محطة البحرين', 'qasim.selim@example.com', 'منال', 'رامي', 'محطة ارامكو الرشيد', 'شركة الراوي التجارية', '0R660631MBM5keIx', 'محطة الربوة', 'فرح', 'كريم', 'فن', 'reem.thamer@example.com', 'مصطفى', 'selim.youssef@example.com', 'محطة الفرسان', 'بلال', 'أيّ', 'Al-Bahrain', 'wKPc8X636ypz7580', 'iman.malak@example.com', 'zahra.amal@example.com', 'samar.yara@example.com', 'المدينة المنورة', 'lina.noor@example.com', 'أطفال', 'التحول-1', 'المنفذ 1', 'أو', '7593ni40Fnto3f3A', 'جميل', 'abir.ehsan@example.com', 'محطة أرامكو أمل', 'Q986LG08HuzE3p18', 'r57h71b10h88FzlL', 'بريدة', 'ساره', 'Al-Sharif', 'ROV1S19373K9VT0W', 'ريهام', 'Abu Dhabi', 'عبدالرحمن', 'Al-Riyadh', 'youssef.afaf@example.com', 'warda.ziad@example.com', '24YW6215n65iQgaS', 'حيفا', '6ny26U33jn0qi6Y4', 'محطة الخليج', 'FSg201eN24vPI416', 'yara.zuhair@example.com', 'ناديه', 'YxI96Y606729stYT', 'Y4eqf664rw5xE865', 'المنفذ 2', '4L6G27aPdM94Lu93', '8m7E7G9Z66Tw25IA', '6rg5okO6t45W3q91', 'عجمان', '52s891CZS0X8J4 د', 'الصرح', 'اللغات', '7tyu38kg8TQ1247Z', 'لينا', 'lamia.nasser@example.com', '96OEh99uro82r62a', 'qK05dF6iGX66B745', 'الشارقة', 'W2M2O7MX6J0q57F4', 'بلدان', '2Y1R4a11YMz132SE', 'Al-Sayed', 'باهر', 'عبير', '5Jr190L24WzUUS96', 'نجران', 'بخاصة', 'جزيرة', 'Al-Olaya', 'oY53q55RkW0i3K17', 'sr9A5h7K137n8G6l', 'محطة أرامكو نور', '6Q3C0eJg47fn49A3', 'نبيلة', 'الرياض، المملكة العربية السعودية', '98yG06zI836ks2JY', '1B8e46w1L5fXY8M0', 'محطة أرامكو الهدى', 'يوسف', 'souad.zaid@example.com', 'ali.al-mansour@example.com', 'riham.waleed@example.com', 'الزهراء', 'jS1HB61b669P6r8t', 'فرح.ماروا@example.com', 'نور', 'zaki.ayoub@example.com', 'عمل', 'Al-Qahtani', 'mustafa.saeed@example.com', 'Al-Zahrani', 'H4l1Nc7S8382n4zD', 'qZ8074F3IM90H3cV', 'afaf.eman@example.com', 'c66Q97UM7y755xdd', 'وردة', 'mohammed.al-sayed@example.com', 'سلطانة', 'ياسين', 'i3S7T4v3o0Ty45u7', 'محطة ارامكو الصفا', 'تبوك', '5t9bNVd4ro68178D', 'محطة الأصيل', 'Al Kharj', 'عزيزي', 'لذا', 'أنور', 'dalal.kawthar@example.com', '247Ry0CKk92N8ND5', 'dh29LfN358I5Ts98', 'R20J9u8n496gUK8g', 'إيمان', 'Aramco station Kawthar', 'hamid.lubna@example.com', 'زياد', 'لمياء', 'طارق', 'محطة أرامكو التقوى', 'أميرة', 'ehsan.leen@example.com', 'محطة أرامكو الفجر', 'روسيا', 'سعيد', 'عدنان', 'HS6C9Ky7p754SJ41', '95', 'محطة الصرح', 'Al-Harbi', 'دبي', 'مريم', '4NJu90bVf7l749y8', 'عبد العزيز', '6J755E72u8Lqgi5M', 'rahma.souad@example.com', 'Q5R1cIZ6m75h98A9', 'شرق', '4673J0MH9lYH87jR', 'مهدي', 'فوزي', 'ام القيوين', 'كوكب الزهرة', 'Al-Mansour', 'لبنى', 'V64R8b89O9jj08rM', 'عبد الله', 'لغة', 'محطة الرياض', 's612237J0TF0BXGf', 'رحمة', 'حميد', 'ملاك', 'محطة أرامكو الأزهر', 'خورفكان', 'محطة القدس', 'علياء', 'ابراهيم', 'محطة أرامكو المهد', 'djM12a9G9790sb9f', 'الدمام', 'noor.sanaa@example.com', 'uGex454XQ98e25b2', 'فاطمة', 'المروس', 'حقير', 'محطة أرامكو البستان', 'kareem.mustafa@example.com', 'Z5MG3o2GoA25572p', 'ليلى', 'كياسة', 'وليد', 'رانيا', '4Dgd5770AfqdH901', 'ahmed ali', 'محطة الواحة', 'زيد', 'Al-Hashemi', 'سليم', 'zuhair.dalal@example.com', 'z78N9t49h8q2Rd7o', 'زينب', 'ibrahim.al-sharif@example.com', 'ياسمين', 'P0a2Am70C2c70re1', 'حسان', 'أحمد', 'غداً', 'آدم', 'سليم', 'DH858xQ2bUA1M192', 'Al-Fursan', 'أزهر', 'برج الجزيرة', 'hana.mahdi@example.com', 'محطة المنصور', 'ناصر', 'Al-Waha', '91i2qv930Z0BpT7Q', 's2NA2LsY78z0771A', '8G96wBCm4i5152CB', '54r8K2oN3PH3A1H3', '9b2xV05K1E068Vsy', 'محطة النجم', 'saeed.warda@example.com', 'محطة أرامكو المنارة', 'سلمى', 'khalid.al-hashemi@example.com', 'شمال', 'ET564XL393t0S0ZA', 'sanaa.yasin@example.com', 'Al-Amin', 'zein.azhar@example.com', 'جدة', 'إي بلس 91', 'abdallah.al-rashid@example.com', '54p0jW7445Ao7Mve', '91', 'آمين', 'tariq.zahra@example.com', '6b52akdf0b0r4s39', 'thamer.zaki@example.com', '5Xl43A04jx7lSB91', 'خاص 95', 'm3V81K1457HD6yFV', 'أسد', 'ismail.manal@example.com', 'Al-Safwa station', '91qq0UV14DL42IE5', 'i08N207lFgw5i00i', 'eAY64453Enf7Dg14', 'المنفذ 3', '6x4rU4L47Z59V3PQ', 'سعاد', 'سالم', 'منى', 'mona.riham@example.com', 'p6P16258Ckx7L0Kl', 'الخليج']\n"
   ]
  },
  {
   "cell_type": "markdown",
   "metadata": {
    "jp-MarkdownHeadingCollapsed": true,
    "tags": []
   },
   "source": [
    "## Entity to split words docs"
   ]
  },
  {
   "cell_type": "code",
   "execution_count": null,
   "metadata": {
    "tags": []
   },
   "outputs": [],
   "source": [
    "######################\n",
    "\"\"\"\n",
    "Creats words to entity map: \n",
    "Splits given entity into words and maps each word to its entity\n",
    "\n",
    "IP:\n",
    "1. List of entities\n",
    "\n",
    "OP:\n",
    "1. Dict {entity: [words, in, entity], entity: [words, in, entity], ... }\n",
    "2. list of split words [words, in, all, entity]\n",
    "\"\"\"\n",
    "######################\n",
    "\n",
    "def get_entity_words_map(entities_list):\n",
    "    logging.info(\"Splittig entity and mapping each word to its Entity\")\n",
    "\n",
    "    word_entity_map = {}\n",
    "    all_split_words = set()\n",
    "\n",
    "    for text in entities_list:\n",
    "        if not text:  # Check for empty strings\n",
    "            logging.warning(\"Encountered empty string in entities_list.\")\n",
    "            continue\n",
    "\n",
    "        try:\n",
    "            # Split text into words and update maps\n",
    "            split_texts = text.split()\n",
    "            all_split_words.update(split_texts)\n",
    "            word_entity_map[text] = split_texts\n",
    "\n",
    "            logging.info(f\"Processed entity: '{text}' -> Words: {split_texts}\")\n",
    "\n",
    "        except Exception as e:\n",
    "            logging.error(f\"Error processing entity '{text}': {e}\")\n",
    "\n",
    "    return word_entity_map, all_split_words"
   ]
  },
  {
   "cell_type": "code",
   "execution_count": null,
   "metadata": {
    "tags": []
   },
   "outputs": [],
   "source": [
    "##################################\n",
    "# Entity context for sql query\n",
    "##################################\n",
    "en_word_entity_map, en_all_split_words = get_entity_words_map(all_noun_data)\n",
    "\n",
    "\n",
    "# en_word_entity_map = {'f6p6D1QG13j172sO': ['f6p6D1QG13j172sO'], 'Samar': ['Samar'], 'Al-Qasr': ['Al-Qasr'], 'Khalid': ['Khalid'], 'F9y1Yoc283H33Ae2': ['F9y1Yoc283H33Ae2'], 'mahdi.rahma@example.com': ['mahdi.rahma@example.com'], 'zi3DR73Q05d3w03L': ['zi3DR73Q05d3w03L'], 'Mohammad Ali Al-Khalidi': ['Mohammad', 'Ali', 'Al-Khalidi'], 'eman.lubna@example.com': ['eman.lubna@example.com'], 'Hussein': ['Hussein'], 'nu49hU1Vn054fh34': ['nu49hU1Vn054fh34'], 'Al-Fayhaa station': ['Al-Fayhaa', 'station'], 'jameel.mona@example.com': ['jameel.mona@example.com'], 'waleed.zein@example.com': ['waleed.zein@example.com'], 'Asma': ['Asma'], 'Super 98': ['Super', '98'], 'Samra petrol station': ['Samra', 'petrol', 'station'], '6PdRb1z7q831A8I1': ['6PdRb1z7q831A8I1'], 'youssef.al-qahtani@example.com': ['youssef.al-qahtani@example.com'], '99301diz7u3B4MgC': ['99301diz7u3B4MgC'], '7lx18tIx262Et10J': ['7lx18tIx262Et10J'], 'X07H3sFm028e90jq': ['X07H3sFm028e90jq'], '7ds0J91N7TBj642n': ['7ds0J91N7TBj642n'], 'Omar': ['Omar'], 'Al-Jazira station': ['Al-Jazira', 'station'], 'Al-Murooj station': ['Al-Murooj', 'station'], 'Basim': ['Basim'], 'Aramco station Zahra': ['Aramco', 'station', 'Zahra'], 'Al-Nahda station': ['Al-Nahda', 'station'], 'Ol45J1w2zpp9y419': ['Ol45J1w2zpp9y419'], '9uZ9H11X3E2u7U8d': ['9uZ9H11X3E2u7U8d'], '47xe6c9QOSkz5358': ['47xe6c9QOSkz5358'], 'Al-Takhassusi Street': ['Al-Takhassusi', 'Street'], 'Eman': ['Eman'], 'Aramco station Baraka': ['Aramco', 'station', 'Baraka'], 'Aisha': ['Aisha'], 'nasser.samar@example.com': ['nasser.samar@example.com'], 'Al-Nahda': ['Al-Nahda'], 'Rabwa': ['Rabwa'], 'Ras Al Khaimah': ['Ras', 'Al', 'Khaimah'], 'zaid.alia@example.com': ['zaid.alia@example.com'], 'Al-Farsi': ['Al-Farsi'], '2Tfx60Q6073gse0H': ['2Tfx60Q6073gse0H'], 'Safwa': ['Safwa'], 'lubna.qasim@example.com': ['lubna.qasim@example.com'], 'Fujairah': ['Fujairah'], 'g9Q37Q0nwLC1478P': ['g9Q37Q0nwLC1478P'], 'ziad.bahir@example.com': ['ziad.bahir@example.com'], 'Qhm5xJ359LR20s86': ['Qhm5xJ359LR20s86'], 'R462ZHa59rv1l49T': ['R462ZHa59rv1l49T'], '4aJ27zCm01Z7t6m8': ['4aJ27zCm01Z7t6m8'], '3UEfDc33K0q0g346': ['3UEfDc33K0q0g346'], 'Ismail': ['Ismail'], 'yasin.abir@example.com': ['yasin.abir@example.com'], 'Jamilah': ['Jamilah'], '4Y6h8z131z75pWIr': ['4Y6h8z131z75pWIr'], 'W8210bE255lgs2KR': ['W8210bE255lgs2KR'], '5e7b58M08BGkGM03': ['5e7b58M08BGkGM03'], 'Al-Khaleej': ['Al-Khaleej'], 'Farid': ['Farid'], '1CaGp270C5900Asw': ['1CaGp270C5900Asw'], 'Diesel': ['Diesel'], 'Al-Qasr station': ['Al-Qasr', 'station'], 'omar.al-harbi@example.com': ['omar.al-harbi@example.com'], 'Amal': ['Amal'], 'm34H49q52C78jApH': ['m34H49q52C78jApH'], 'malak.rami@example.com': ['malak.rami@example.com'], 'Sami': ['Sami'], '84trW13bN1NQL423': ['84trW13bN1NQL423'], 'T374I41K9rme7oK2': ['T374I41K9rme7oK2'], 'manal.reem@example.com': ['manal.reem@example.com'], 'salem.al-zahrani@example.com': ['salem.al-zahrani@example.com'], 'Al-Sharq station': ['Al-Sharq', 'station'], 'Hasan': ['Hasan'], 'ahmed.al-farsi@example.com': ['ahmed.al-farsi@example.com'], 'Al-Madina station': ['Al-Madina', 'station'], '123 Al-Nahda Street, Riyadh, Saudi Arabia': ['123', 'Al-Nahda', 'Street,', 'Riyadh,', 'Saudi', 'Arabia'], 'Al-Dammam': ['Al-Dammam'], 'Al-Madina': ['Al-Madina'], 'fawzi.munir@example.com': ['fawzi.munir@example.com'], 'f9i53o33byu2H98E': ['f9i53o33byu2H98E'], 'Makkah': ['Makkah'], 'Thamer': ['Thamer'], 'Riyadh': ['Riyadh'], 'Al-Rashid': ['Al-Rashid'], 'Jamal': ['Jamal'], 'Reem': ['Reem'], 'rami.tariq@example.com': ['rami.tariq@example.com'], 'Ayoub': ['Ayoub'], '11QX835Dg9N6c0Jb': ['11QX835Dg9N6c0Jb'], '7dGhB4r12a280H9W': ['7dGhB4r12a280H9W'], 'Mohammed': ['Mohammed'], 'u4vF15aIX8V6u894': ['u4vF15aIX8V6u894'], 'Aramco station Hilal': ['Aramco', 'station', 'Hilal'], 'Al Ai': ['Al', 'Ai'], 'hassan.al-amin@example.com': ['hassan.al-amin@example.com'], 'Aramco station Nasr': ['Aramco', 'station', 'Nasr'], 'Qasim': ['Qasim'], 'Al-Dammam station': ['Al-Dammam', 'station'], 'Al-Bahrain station': ['Al-Bahrain', 'station'], 'qasim.selim@example.com': ['qasim.selim@example.com'], 'Manal': ['Manal'], 'Rami': ['Rami'], 'Aramco station Rasheed': ['Aramco', 'station', 'Rasheed'], 'Al-Rawi Trading Co.': ['Al-Rawi', 'Trading', 'Co.'], '0R660631MBM5keIx': ['0R660631MBM5keIx'], 'Al-Rabwa station': ['Al-Rabwa', 'station'], 'Farah': ['Farah'], 'Kareem': ['Kareem'], 'Sanaa': ['Sanaa'], 'reem.thamer@example.com': ['reem.thamer@example.com'], 'Mustafa': ['Mustafa'], 'selim.youssef@example.com': ['selim.youssef@example.com'], 'Al-Fursan station': ['Al-Fursan', 'station'], 'Bilal': ['Bilal'], 'Zein': ['Zein'], 'Al-Bahrain': ['Al-Bahrain'], 'wKPc8X636ypz7580': ['wKPc8X636ypz7580'], 'iman.malak@example.com': ['iman.malak@example.com'], 'zahra.amal@example.com': ['zahra.amal@example.com'], 'samar.yara@example.com': ['samar.yara@example.com'], 'Medina': ['Medina'], 'lina.noor@example.com': ['lina.noor@example.com'], 'Yara': ['Yara'], 'Shift-1': ['Shift-1'], 'port-1': ['port-1'], 'Ali': ['Ali'], '7593ni40Fnto3f3A': ['7593ni40Fnto3f3A'], 'Jameel': ['Jameel'], 'abir.ehsan@example.com': ['abir.ehsan@example.com'], 'Aramco station Amal': ['Aramco', 'station', 'Amal'], 'Q986LG08HuzE3p18': ['Q986LG08HuzE3p18'], 'r57h71b10h88FzlL': ['r57h71b10h88FzlL'], 'Buraidah': ['Buraidah'], 'Sarah': ['Sarah'], 'Al-Sharif': ['Al-Sharif'], 'ROV1S19373K9VT0W': ['ROV1S19373K9VT0W'], 'Riham': ['Riham'], 'Abu Dhabi': ['Abu', 'Dhabi'], 'Abdulrahman': ['Abdulrahman'], 'Al-Riyadh': ['Al-Riyadh'], 'youssef.afaf@example.com': ['youssef.afaf@example.com'], 'warda.ziad@example.com': ['warda.ziad@example.com'], '24YW6215n65iQgaS': ['24YW6215n65iQgaS'], 'Haifa': ['Haifa'], '6ny26U33jn0qi6Y4': ['6ny26U33jn0qi6Y4'], 'Al-Khaleej station': ['Al-Khaleej', 'station'], 'FSg201eN24vPI416': ['FSg201eN24vPI416'], 'yara.zuhair@example.com': ['yara.zuhair@example.com'], 'Nadia': ['Nadia'], 'YxI96Y606729stYT': ['YxI96Y606729stYT'], 'Y4eqf664rw5xE865': ['Y4eqf664rw5xE865'], 'port-2': ['port-2'], '4L6G27aPdM94Lu93': ['4L6G27aPdM94Lu93'], '8m7E7G9Z66Tw25IA': ['8m7E7G9Z66Tw25IA'], '6rg5okO6t45W3q91': ['6rg5okO6t45W3q91'], 'Ajman': ['Ajman'], '52s891CZS0X8J4Dr': ['52s891CZS0X8J4Dr'], 'Al-Sarh': ['Al-Sarh'], 'Afaf': ['Afaf'], '7tyu38kg8TQ1247Z': ['7tyu38kg8TQ1247Z'], 'Lina': ['Lina'], 'lamia.nasser@example.com': ['lamia.nasser@example.com'], '96OEh99uro82r62a': ['96OEh99uro82r62a'], 'qK05dF6iGX66B745': ['qK05dF6iGX66B745'], 'Sharjah': ['Sharjah'], 'W2M2O7MX6J0q57F4': ['W2M2O7MX6J0q57F4'], 'Dalal': ['Dalal'], '2Y1R4a11YMz132SE': ['2Y1R4a11YMz132SE'], 'Al-Sayed': ['Al-Sayed'], 'Bahir': ['Bahir'], 'Abir': ['Abir'], '5Jr190L24WzUUS96': ['5Jr190L24WzUUS96'], 'Najran': ['Najran'], 'Najm': ['Najm'], 'Jazira': ['Jazira'], 'Al-Olaya': ['Al-Olaya'], 'oY53q55RkW0i3K17': ['oY53q55RkW0i3K17'], 'sr9A5h7K137n8G6l': ['sr9A5h7K137n8G6l'], 'Aramco station Noor': ['Aramco', 'station', 'Noor'], '6Q3C0eJg47fn49A3': ['6Q3C0eJg47fn49A3'], 'Nabila': ['Nabila'], 'Riyadh, KSA': ['Riyadh,', 'KSA'], '98yG06zI836ks2JY': ['98yG06zI836ks2JY'], '1B8e46w1L5fXY8M0': ['1B8e46w1L5fXY8M0'], 'Aramco station Huda': ['Aramco', 'station', 'Huda'], 'Youssef': ['Youssef'], 'souad.zaid@example.com': ['souad.zaid@example.com'], 'ali.al-mansour@example.com': ['ali.al-mansour@example.com'], 'riham.waleed@example.com': ['riham.waleed@example.com'], 'Zahra': ['Zahra'], 'jS1HB61b669P6r8t': ['jS1HB61b669P6r8t'], 'farah.marwa@example.com': ['farah.marwa@example.com'], 'Noor': ['Noor'], 'zaki.ayoub@example.com': ['zaki.ayoub@example.com'], 'Hana': ['Hana'], 'Al-Qahtani': ['Al-Qahtani'], 'mustafa.saeed@example.com': ['mustafa.saeed@example.com'], 'Al-Zahrani': ['Al-Zahrani'], 'H4l1Nc7S8382n4zD': ['H4l1Nc7S8382n4zD'], 'qZ8074F3IM90H3cV': ['qZ8074F3IM90H3cV'], 'afaf.eman@example.com': ['afaf.eman@example.com'], 'c66Q97UM7y755xdd': ['c66Q97UM7y755xdd'], 'Warda': ['Warda'], 'mohammed.al-sayed@example.com': ['mohammed.al-sayed@example.com'], 'Sultanah': ['Sultanah'], 'Yasin': ['Yasin'], 'i3S7T4v3o0Ty45u7': ['i3S7T4v3o0Ty45u7'], 'Aramco station Safa': ['Aramco', 'station', 'Safa'], 'Tabuk': ['Tabuk'], '5t9bNVd4ro68178D': ['5t9bNVd4ro68178D'], 'Al-Aseel station': ['Al-Aseel', 'station'], 'Al Kharj': ['Al', 'Kharj'], 'Aziza': ['Aziza'], 'Hala': ['Hala'], 'Anwar': ['Anwar'], 'dalal.kawthar@example.com': ['dalal.kawthar@example.com'], '247Ry0CKk92N8ND5': ['247Ry0CKk92N8ND5'], 'dh29LfN358I5Ts98': ['dh29LfN358I5Ts98'], 'R20J9u8n496gUK8g': ['R20J9u8n496gUK8g'], 'Iman': ['Iman'], 'Aramco station Kawthar': ['Aramco', 'station', 'Kawthar'], 'hamid.lubna@example.com': ['hamid.lubna@example.com'], 'Ziad': ['Ziad'], 'Lamia': ['Lamia'], 'Tariq': ['Tariq'], 'Aramco station Taqwa': ['Aramco', 'station', 'Taqwa'], 'Amira': ['Amira'], 'ehsan.leen@example.com': ['ehsan.leen@example.com'], 'Aramco station Fajr': ['Aramco', 'station', 'Fajr'], 'Rasha': ['Rasha'], 'Saeed': ['Saeed'], 'Adnan': ['Adnan'], 'HS6C9Ky7p754SJ41': ['HS6C9Ky7p754SJ41'], '95': ['95'], 'Al-Sarh station': ['Al-Sarh', 'station'], 'Al-Harbi': ['Al-Harbi'], 'Dubai': ['Dubai'], 'Mariam': ['Mariam'], '4NJu90bVf7l749y8': ['4NJu90bVf7l749y8'], 'Abdulaziz': ['Abdulaziz'], '6J755E72u8Lqgi5M': ['6J755E72u8Lqgi5M'], 'rahma.souad@example.com': ['rahma.souad@example.com'], 'Q5R1cIZ6m75h98A9': ['Q5R1cIZ6m75h98A9'], 'Sharq': ['Sharq'], '4673J0MH9lYH87jR': ['4673J0MH9lYH87jR'], 'Mahdi': ['Mahdi'], 'Fawzi': ['Fawzi'], 'Umm Al Quwain': ['Umm', 'Al', 'Quwain'], 'Zuhair': ['Zuhair'], 'Al-Mansour': ['Al-Mansour'], 'Lubna': ['Lubna'], 'V64R8b89O9jj08rM': ['V64R8b89O9jj08rM'], 'Abdullah': ['Abdullah'], 'Kalba': ['Kalba'], 'Al-Riyadh station': ['Al-Riyadh', 'station'], 's612237J0TF0BXGf': ['s612237J0TF0BXGf'], 'Rahma': ['Rahma'], 'Hamid': ['Hamid'], 'Malak': ['Malak'], 'Aramco station Azhar': ['Aramco', 'station', 'Azhar'], 'Khor Fakkan': ['Khor', 'Fakkan'], 'Al-Quds station': ['Al-Quds', 'station'], 'Alia': ['Alia'], 'Ibrahim': ['Ibrahim'], 'Aramco station Mahd': ['Aramco', 'station', 'Mahd'], 'djM12a9G9790sb9f': ['djM12a9G9790sb9f'], 'Dammam': ['Dammam'], 'noor.sanaa@example.com': ['noor.sanaa@example.com'], 'uGex454XQ98e25b2': ['uGex454XQ98e25b2'], 'Fatima': ['Fatima'], 'Al-Murooj': ['Al-Murooj'], 'Dina': ['Dina'], 'Aramco station Bustan': ['Aramco', 'station', 'Bustan'], 'kareem.mustafa@example.com': ['kareem.mustafa@example.com'], 'Z5MG3o2GoA25572p': ['Z5MG3o2GoA25572p'], 'Layla': ['Layla'], 'Ehsan': ['Ehsan'], 'Waleed': ['Waleed'], 'Rania': ['Rania'], '4Dgd5770AfqdH901': ['4Dgd5770AfqdH901'], 'ahmed ali': ['ahmed', 'ali'], 'Al-Waha station': ['Al-Waha', 'station'], 'Zaid': ['Zaid'], 'Al-Hashemi': ['Al-Hashemi'], 'Selim': ['Selim'], 'zuhair.dalal@example.com': ['zuhair.dalal@example.com'], 'z78N9t49h8q2Rd7o': ['z78N9t49h8q2Rd7o'], 'Zainab': ['Zainab'], 'ibrahim.al-sharif@example.com': ['ibrahim.al-sharif@example.com'], 'Yasmin': ['Yasmin'], 'P0a2Am70C2c70re1': ['P0a2Am70C2c70re1'], 'Hassan': ['Hassan'], 'Ahmed': ['Ahmed'], 'Ghada': ['Ghada'], 'Adam': ['Adam'], 'Salim': ['Salim'], 'DH858xQ2bUA1M192': ['DH858xQ2bUA1M192'], 'Al-Fursan': ['Al-Fursan'], 'Azhar': ['Azhar'], 'Al-Jazeera Tower': ['Al-Jazeera', 'Tower'], 'hana.mahdi@example.com': ['hana.mahdi@example.com'], 'Al-Mansour station': ['Al-Mansour', 'station'], 'Nasser': ['Nasser'], 'Al-Waha': ['Al-Waha'], '91i2qv930Z0BpT7Q': ['91i2qv930Z0BpT7Q'], 's2NA2LsY78z0771A': ['s2NA2LsY78z0771A'], '8G96wBCm4i5152CB': ['8G96wBCm4i5152CB'], '54r8K2oN3PH3A1H3': ['54r8K2oN3PH3A1H3'], '9b2xV05K1E068Vsy': ['9b2xV05K1E068Vsy'], 'Al-Najm station': ['Al-Najm', 'station'], 'saeed.warda@example.com': ['saeed.warda@example.com'], 'Aramco station Manara': ['Aramco', 'station', 'Manara'], 'Salma': ['Salma'], 'khalid.al-hashemi@example.com': ['khalid.al-hashemi@example.com'], 'north': ['north'], 'ET564XL393t0S0ZA': ['ET564XL393t0S0ZA'], 'sanaa.yasin@example.com': ['sanaa.yasin@example.com'], 'Al-Amin': ['Al-Amin'], 'zein.azhar@example.com': ['zein.azhar@example.com'], 'Jeddah': ['Jeddah'], 'EPlus 91': ['EPlus', '91'], 'abdullah.al-rashid@example.com': ['abdullah.al-rashid@example.com'], '54p0jW7445Ao7Mve': ['54p0jW7445Ao7Mve'], '91': ['91'], 'Amina': ['Amina'], 'tariq.zahra@example.com': ['tariq.zahra@example.com'], '6b52akdf0b0r4s39': ['6b52akdf0b0r4s39'], 'thamer.zaki@example.com': ['thamer.zaki@example.com'], '5Xl43A04jx7lSB91': ['5Xl43A04jx7lSB91'], 'Special 95': ['Special', '95'], 'm3V81K1457HD6yFV': ['m3V81K1457HD6yFV'], 'Zaki': ['Zaki'], 'ismail.manal@example.com': ['ismail.manal@example.com'], 'Al-Safwa station': ['Al-Safwa', 'station'], '91qq0UV14DL42IE5': ['91qq0UV14DL42IE5'], 'i08N207lFgw5i00i': ['i08N207lFgw5i00i'], 'eAY64453Enf7Dg14': ['eAY64453Enf7Dg14'], 'port-3': ['port-3'], '6x4rU4L47Z59V3PQ': ['6x4rU4L47Z59V3PQ'], 'Souad': ['Souad'], 'Salem': ['Salem'], 'Mona': ['Mona'], 'mona.riham@example.com': ['mona.riham@example.com'], 'p6P16258Ckx7L0Kl': ['p6P16258Ckx7L0Kl']}\n",
    "# en_all_split_words = {'Al-Safwa', 'Riyadh,', 'f6p6D1QG13j172sO', 'Samar', '98', 'Al-Qasr', 'Safa', 'Khalid', 'F9y1Yoc283H33Ae2', 'mahdi.rahma@example.com', 'Baraka', 'zi3DR73Q05d3w03L', 'eman.lubna@example.com', 'Hussein', 'nu49hU1Vn054fh34', 'jameel.mona@example.com', 'waleed.zein@example.com', 'Asma', '6PdRb1z7q831A8I1', 'youssef.al-qahtani@example.com', 'Al-Quds', '99301diz7u3B4MgC', '7lx18tIx262Et10J', 'X07H3sFm028e90jq', '7ds0J91N7TBj642n', 'Omar', 'Basim', 'Ol45J1w2zpp9y419', '9uZ9H11X3E2u7U8d', 'Saudi', '47xe6c9QOSkz5358', 'Eman', 'Aisha', 'nasser.samar@example.com', 'Al-Nahda', 'Rabwa', 'zaid.alia@example.com', 'Arabia', 'Al-Farsi', '2Tfx60Q6073gse0H', 'Safwa', 'lubna.qasim@example.com', 'Fujairah', 'g9Q37Q0nwLC1478P', 'ziad.bahir@example.com', 'Qhm5xJ359LR20s86', 'R462ZHa59rv1l49T', '4aJ27zCm01Z7t6m8', '3UEfDc33K0q0g346', 'Ismail', 'yasin.abir@example.com', 'Jamilah', '4Y6h8z131z75pWIr', 'W8210bE255lgs2KR', '5e7b58M08BGkGM03', 'Al-Khaleej', 'Farid', '1CaGp270C5900Asw', 'Diesel', 'omar.al-harbi@example.com', 'Amal', 'm34H49q52C78jApH', 'malak.rami@example.com', 'Sami', '84trW13bN1NQL423', 'T374I41K9rme7oK2', 'Ai', 'manal.reem@example.com', 'salem.al-zahrani@example.com', 'Abu', 'Hasan', 'ahmed.al-farsi@example.com', 'Al-Dammam', 'Al-Madina', 'fawzi.munir@example.com', 'f9i53o33byu2H98E', 'Makkah', 'Thamer', 'Bustan', 'Riyadh', 'Al-Rashid', 'Jamal', 'Reem', 'rami.tariq@example.com', 'Ayoub', '11QX835Dg9N6c0Jb', '7dGhB4r12a280H9W', 'Kharj', 'Mohammed', 'u4vF15aIX8V6u894', 'hassan.al-amin@example.com', 'Qasim', 'qasim.selim@example.com', 'Manal', 'Rami', 'Al-Rawi', '0R660631MBM5keIx', 'Farah', 'Kareem', 'Sanaa', 'reem.thamer@example.com', 'Mustafa', 'selim.youssef@example.com', 'Bilal', 'Zein', 'Al-Bahrain', 'wKPc8X636ypz7580', 'iman.malak@example.com', 'zahra.amal@example.com', 'samar.yara@example.com', 'Al-Rabwa', 'Medina', 'lina.noor@example.com', 'Yara', 'Kawthar', 'Shift-1', 'port-1', 'Super', 'Ali', '7593ni40Fnto3f3A', 'Jameel', 'abir.ehsan@example.com', 'Fakkan', 'Q986LG08HuzE3p18', 'r57h71b10h88FzlL', 'Buraidah', 'Sarah', 'Al-Sharif', 'ROV1S19373K9VT0W', 'Riham', 'Abdulrahman', 'Al-Riyadh', 'Al-Jazeera', 'youssef.afaf@example.com', 'warda.ziad@example.com', '24YW6215n65iQgaS', 'Haifa', '6ny26U33jn0qi6Y4', 'FSg201eN24vPI416', 'yara.zuhair@example.com', 'Nadia', 'YxI96Y606729stYT', 'Y4eqf664rw5xE865', 'port-2', '4L6G27aPdM94Lu93', '8m7E7G9Z66Tw25IA', '6rg5okO6t45W3q91', 'Ajman', '52s891CZS0X8J4Dr', 'Al-Sarh', 'Afaf', '7tyu38kg8TQ1247Z', 'Lina', 'lamia.nasser@example.com', '96OEh99uro82r62a', 'qK05dF6iGX66B745', 'Sharjah', 'Al-Aseel', 'W2M2O7MX6J0q57F4', 'Dalal', '2Y1R4a11YMz132SE', 'Al-Sayed', 'Ras', 'Bahir', 'Abir', '5Jr190L24WzUUS96', 'Najran', 'Najm', 'Jazira', 'Al-Olaya', 'Dhabi', 'oY53q55RkW0i3K17', 'sr9A5h7K137n8G6l', '6Q3C0eJg47fn49A3', 'Nabila', '98yG06zI836ks2JY', 'Al-Takhassusi', '1B8e46w1L5fXY8M0', 'KSA', 'Youssef', 'souad.zaid@example.com', 'Hilal', 'ali.al-mansour@example.com', 'riham.waleed@example.com', 'Zahra', 'Al-Najm', 'jS1HB61b669P6r8t', 'Co.', 'farah.marwa@example.com', 'Noor', 'zaki.ayoub@example.com', 'Hana', 'Al-Qahtani', 'mustafa.saeed@example.com', 'Al-Zahrani', 'H4l1Nc7S8382n4zD', 'qZ8074F3IM90H3cV', 'afaf.eman@example.com', 'c66Q97UM7y755xdd', 'Aramco', 'Warda', 'mohammed.al-sayed@example.com', 'Nasr', 'Sultanah', 'Mahd', 'Yasin', 'i3S7T4v3o0Ty45u7', 'Tabuk', '5t9bNVd4ro68178D', 'Aziza', 'Al-Sharq', 'Mohammad', 'Hala', 'Anwar', 'dalal.kawthar@example.com', '247Ry0CKk92N8ND5', 'Khaimah', 'dh29LfN358I5Ts98', 'R20J9u8n496gUK8g', 'Iman', 'hamid.lubna@example.com', 'Ziad', 'Lamia', 'Al', 'Tariq', 'Amira', 'ehsan.leen@example.com', 'Rasha', 'Saeed', 'ali', 'Adnan', 'HS6C9Ky7p754SJ41', '95', 'Al-Harbi', 'Dubai', 'Mariam', '4NJu90bVf7l749y8', 'Abdulaziz', '6J755E72u8Lqgi5M', 'rahma.souad@example.com', 'Q5R1cIZ6m75h98A9', 'Sharq', '4673J0MH9lYH87jR', 'Mahdi', 'Fawzi', 'Zuhair', 'Al-Mansour', 'Lubna', 'V64R8b89O9jj08rM', 'Abdullah', 'Kalba', 's612237J0TF0BXGf', 'Rahma', 'Hamid', 'Street', 'Malak', 'Alia', 'Al-Fayhaa', 'Ibrahim', 'Taqwa', 'Street,', 'djM12a9G9790sb9f', 'Dammam', 'noor.sanaa@example.com', 'uGex454XQ98e25b2', 'Fatima', 'Al-Murooj', 'station', 'Dina', 'Manara', 'kareem.mustafa@example.com', 'Quwain', 'Z5MG3o2GoA25572p', 'petrol', 'Layla', 'Ehsan', 'Al-Jazira', 'Waleed', 'Rania', '4Dgd5770AfqdH901', 'EPlus', 'Zaid', 'Al-Hashemi', 'Selim', 'zuhair.dalal@example.com', 'z78N9t49h8q2Rd7o', 'Zainab', 'ibrahim.al-sharif@example.com', 'Yasmin', 'P0a2Am70C2c70re1', 'Samra', 'Hassan', 'Ahmed', 'Ghada', 'Adam', 'Fajr', 'Salim', 'Tower', '123', 'DH858xQ2bUA1M192', 'Al-Fursan', 'Rasheed', 'ahmed', 'Azhar', 'hana.mahdi@example.com', 'Nasser', 'Al-Waha', '91i2qv930Z0BpT7Q', 's2NA2LsY78z0771A', '8G96wBCm4i5152CB', '54r8K2oN3PH3A1H3', '9b2xV05K1E068Vsy', 'saeed.warda@example.com', 'Trading', 'Salma', 'khalid.al-hashemi@example.com', 'north', 'Khor', 'ET564XL393t0S0ZA', 'sanaa.yasin@example.com', 'Al-Amin', 'zein.azhar@example.com', 'Jeddah', 'Al-Khalidi', 'abdullah.al-rashid@example.com', '54p0jW7445Ao7Mve', 'Umm', '91', 'Amina', 'tariq.zahra@example.com', '6b52akdf0b0r4s39', 'thamer.zaki@example.com', '5Xl43A04jx7lSB91', 'm3V81K1457HD6yFV', 'Zaki', 'ismail.manal@example.com', 'Special', '91qq0UV14DL42IE5', 'i08N207lFgw5i00i', 'Huda', 'eAY64453Enf7Dg14', 'port-3', '6x4rU4L47Z59V3PQ', 'Souad', 'Salem', 'Mona', 'mona.riham@example.com', 'p6P16258Ckx7L0Kl'}\n"
   ]
  },
  {
   "cell_type": "code",
   "execution_count": null,
   "metadata": {
    "tags": []
   },
   "outputs": [],
   "source": [
    "# en_word_entity_map"
   ]
  },
  {
   "cell_type": "code",
   "execution_count": null,
   "metadata": {
    "tags": []
   },
   "outputs": [],
   "source": [
    "# Extract name form email (NOT USED)\n",
    "def extract_name_from_email(email):\n",
    "    name = re.sub(r'@.*', '', email)\n",
    "    name = re.sub(r'[^a-zA-Z0-9]', '', name)\n",
    "    return name"
   ]
  },
  {
   "cell_type": "code",
   "execution_count": null,
   "metadata": {
    "tags": []
   },
   "outputs": [],
   "source": [
    "##################################\n",
    "# Entity context for traslation\n",
    "##################################\n",
    "# translated_texts_dict, all_translated_words = get_entity_words_map(translated_texts_list)\n",
    "\n",
    "\n",
    "translated_texts_dict = {'f6p6D1QG13j172sO': ['f6p6D1QG13j172sO'], 'إنتاج': ['إنتاج'], 'Al-Qasr': ['Al-Qasr'], 'خالد': ['خالد'], 'F9y1Yoc283H33Ae2': ['F9y1Yoc283H33Ae2'], 'mahdi.rahma@example.com': ['mahdi.rahma@example.com'], 'zi3DR73Q05d3w03L': ['zi3DR73Q05d3w03L'], 'Mohammad Ali Al-Khalidi': ['Mohammad', 'Ali', 'Al-Khalidi'], 'eman.lubna@example.com': ['eman.lubna@example.com'], 'حسين': ['حسين'], 'نو49hU1Vn054fh34': ['نو49hU1Vn054fh34'], 'محطة الفيحاء': ['محطة', 'الفيحاء'], 'jameel.mona@example.com': ['jameel.mona@example.com'], 'waleed.zein@example.com': ['waleed.zein@example.com'], 'الربو': ['الربو'], 'سوبر 98': ['سوبر', '98'], 'محطة بنزين سمرة': ['محطة', 'بنزين', 'سمرة'], '6PdRb1z7q831A8I1': ['6PdRb1z7q831A8I1'], 'youssef.al-qahtani@example.com': ['youssef.al-qahtani@example.com'], '99301diz7u3B4MgC': ['99301diz7u3B4MgC'], '7lx18tIx262Et10J': ['7lx18tIx262Et10J'], 'X07H3sFm028e90jq': ['X07H3sFm028e90jq'], '7ds0J91N7TBj642n': ['7ds0J91N7TBj642n'], 'عمر': ['عمر'], 'محطة الجزيرة': ['محطة', 'الجزيرة'], 'محطة المروج': ['محطة', 'المروج'], 'باسم': ['باسم'], 'محطة ارامكو الزهراء': ['محطة', 'ارامكو', 'الزهراء'], 'Al-Nahda station': ['Al-Nahda', 'station'], 'Ol45J1w2zpp9y419': ['Ol45J1w2zpp9y419'], '9uZ9H11X3E2u7U8d': ['9uZ9H11X3E2u7U8d'], '47xe6c9QOSkz5358': ['47xe6c9QOSkz5358'], 'شارع التخصصي': ['شارع', 'التخصصي'], 'يعطي': ['يعطي'], 'محطة ارامكو البركة': ['محطة', 'ارامكو', 'البركة'], 'عائشة': ['عائشة'], 'nasser.samar@example.com': ['nasser.samar@example.com'], 'Al-Nahda': ['Al-Nahda'], 'رابا': ['رابا'], 'Ras Al Khaimah': ['Ras', 'Al', 'Khaimah'], 'zaid.alia@example.com': ['zaid.alia@example.com'], 'الفارسي': ['الفارسي'], '2Tfx60Q6073gse0H': ['2Tfx60Q6073gse0H'], 'بالطبع': ['بالطبع'], 'lubna.qasim@example.com': ['lubna.qasim@example.com'], 'الفجيرة': ['الفجيرة'], 'g9Q37Q0nwLC1478P': ['g9Q37Q0nwLC1478P'], 'ziad.bahir@example.com': ['ziad.bahir@example.com'], 'Qhm5xJ359LR20s86': ['Qhm5xJ359LR20s86'], 'R462ZHa59rv1l49T': ['R462ZHa59rv1l49T'], '4aJ27zCm01Z7t6m8': ['4aJ27zCm01Z7t6m8'], '3UEfDc33K0q0g346': ['3UEfDc33K0q0g346'], 'اسماعيل': ['اسماعيل'], 'yasin.abir@example.com': ['yasin.abir@example.com'], 'جميلة': ['جميلة'], '4Y6h8z131z75pWIr': ['4Y6h8z131z75pWIr'], 'W8210bE255lgs2KR': ['W8210bE255lgs2KR'], '5e7b58M08BGkGM03': ['5e7b58M08BGkGM03'], 'Al-Khaleej': ['الخليج'], 'فريد': ['فريد'], '1CaGp270C5900Asw': ['1CaGp270C5900Asw'], 'ديزل': ['ديزل'], 'محطة القصر': ['محطة', 'القصر'], 'omar.al-harbi@example.com': ['omar.al-harbi@example.com'], 'صدقة': ['صدقة'], 'm34H49q52C78jApH': ['m34H49q52C78jApH'], 'malak.rami@example.com': ['malak.rami@example.com'], 'سامي': ['سامي'], '84trW13bN1NQL423': ['84trW13bN1NQL423'], 'T374I41K9rme7oK2': ['T374I41K9rme7oK2'], 'manal.reem@example.com': ['manal.reem@example.com'], 'Salem.al-zahrani@example.com': ['Salem.al-zahrani@example.com'], 'محطة الشرق': ['محطة', 'الشرق'], 'حسن': ['حسن'], 'ahmed.al-farsi@example.com': ['ahmed.al-farsi@example.com'], 'محطة المدينة المنورة': ['محطة', 'المدينة', 'المنورة'], '123 Al-Nahda Street, Riyadh, Saudi Arabia': ['123', 'Al-Nahda', 'Street,', 'Riyadh,', 'Saudi', 'Arabia'], 'Al-Dammam': ['Al-Dammam'], 'Al-Madina': ['Al-Madina'], 'fawzi.munir@example.com': ['fawzi.munir@example.com'], 'f9i53o33byu2H98E': ['f9i53o33byu2H98E'], 'مكه': ['مكه'], 'ثامر': ['ثامر'], 'الرياض': ['الرياض'], 'Al-Rashid': ['Al-Rashid'], 'جمال': ['جمال'], 'ريم': ['ريم'], 'rami.tariq@example.com': ['rami.tariq@example.com'], 'أيوب': ['أيوب'], '11QX835Dg9N6c0Jb': ['11QX835Dg9N6c0Jb'], '7dGhB4r12a280H9W': ['7dGhB4r12a280H9W'], 'محمد': ['محمد'], 'u4vF15aIX8V6u894': ['u4vF15aIX8V6u894'], 'محطة أرامكو الهلال': ['محطة', 'أرامكو', 'الهلال'], 'آل عاي': ['آل', 'عاي'], 'hassan.al-amin@example.com': ['hassan.al-amin@example.com'], 'محطة ارامكو النصر': ['محطة', 'ارامكو', 'النصر'], 'قاسم': ['قاسم'], 'محطة الدمام': ['محطة', 'الدمام'], 'محطة البحرين': ['محطة', 'البحرين'], 'qasim.selim@example.com': ['qasim.selim@example.com'], 'منال': ['منال'], 'رامي': ['رامي'], 'محطة ارامكو الرشيد': ['محطة', 'ارامكو', 'الرشيد'], 'شركة الراوي التجارية': ['شركة', 'الراوي', 'التجارية'], '0R660631MBM5keIx': ['0R660631MBM5keIx'], 'محطة الربوة': ['محطة', 'الربوة'], 'فرح': ['فرح'], 'كريم': ['كريم'], 'فن': ['فن'], 'reem.thamer@example.com': ['reem.thamer@example.com'], 'مصطفى': ['مصطفى'], 'selim.youssef@example.com': ['selim.youssef@example.com'], 'محطة الفرسان': ['محطة', 'الفرسان'], 'بلال': ['بلال'], 'أيّ': ['أيّ'], 'Al-Bahrain': ['Al-Bahrain'], 'wKPc8X636ypz7580': ['wKPc8X636ypz7580'], 'iman.malak@example.com': ['iman.malak@example.com'], 'zahra.amal@example.com': ['zahra.amal@example.com'], 'samar.yara@example.com': ['samar.yara@example.com'], 'المدينة المنورة': ['المدينة', 'المنورة'], 'lina.noor@example.com': ['lina.noor@example.com'], 'أطفال': ['أطفال'], 'التحول-1': ['التحول-1'], 'المنفذ 1': ['المنفذ', '1'], 'أو': ['أو'], '7593ni40Fnto3f3A': ['7593ni40Fnto3f3A'], 'جميل': ['جميل'], 'abir.ehsan@example.com': ['abir.ehsan@example.com'], 'محطة أرامكو أمل': ['محطة', 'أرامكو', 'أمل'], 'Q986LG08HuzE3p18': ['Q986LG08HuzE3p18'], 'r57h71b10h88FzlL': ['r57h71b10h88FzlL'], 'بريدة': ['بريدة'], 'ساره': ['ساره'], 'Al-Sharif': ['Al-Sharif'], 'ROV1S19373K9VT0W': ['ROV1S19373K9VT0W'], 'ريهام': ['ريهام'], 'Abu Dhabi': ['Abu', 'Dhabi'], 'عبدالرحمن': ['عبدالرحمن'], 'Al-Riyadh': ['Al-Riyadh'], 'youssef.afaf@example.com': ['youssef.afaf@example.com'], 'warda.ziad@example.com': ['warda.ziad@example.com'], '24YW6215n65iQgaS': ['24YW6215n65iQgaS'], 'حيفا': ['حيفا'], '6ny26U33jn0qi6Y4': ['6ny26U33jn0qi6Y4'], 'محطة الخليج': ['محطة', 'الخليج'], 'FSg201eN24vPI416': ['FSg201eN24vPI416'], 'yara.zuhair@example.com': ['yara.zuhair@example.com'], 'ناديه': ['ناديه'], 'YxI96Y606729stYT': ['YxI96Y606729stYT'], 'Y4eqf664rw5xE865': ['Y4eqf664rw5xE865'], 'المنفذ 2': ['المنفذ', '2'], '4L6G27aPdM94Lu93': ['4L6G27aPdM94Lu93'], '8m7E7G9Z66Tw25IA': ['8m7E7G9Z66Tw25IA'], '6rg5okO6t45W3q91': ['6rg5okO6t45W3q91'], 'عجمان': ['عجمان'], '52s891CZS0X8J4 د': ['52s891CZS0X8J4', 'د'], 'الصرح': ['الصرح'], 'اللغات': ['اللغات'], '7tyu38kg8TQ1247Z': ['7tyu38kg8TQ1247Z'], 'لينا': ['لينا'], 'lamia.nasser@example.com': ['lamia.nasser@example.com'], '96OEh99uro82r62a': ['96OEh99uro82r62a'], 'qK05dF6iGX66B745': ['qK05dF6iGX66B745'], 'الشارقة': ['الشارقة'], 'W2M2O7MX6J0q57F4': ['W2M2O7MX6J0q57F4'], 'بلدان': ['بلدان'], '2Y1R4a11YMz132SE': ['2Y1R4a11YMz132SE'], 'Al-Sayed': ['Al-Sayed'], 'باهر': ['باهر'], 'عبير': ['عبير'], '5Jr190L24WzUUS96': ['5Jr190L24WzUUS96'], 'نجران': ['نجران'], 'بخاصة': ['بخاصة'], 'جزيرة': ['جزيرة'], 'Al-Olaya': ['Al-Olaya'], 'oY53q55RkW0i3K17': ['oY53q55RkW0i3K17'], 'sr9A5h7K137n8G6l': ['sr9A5h7K137n8G6l'], 'محطة أرامكو نور': ['محطة', 'أرامكو', 'نور'], '6Q3C0eJg47fn49A3': ['6Q3C0eJg47fn49A3'], 'نبيلة': ['نبيلة'], 'الرياض، المملكة العربية السعودية': ['الرياض،', 'المملكة', 'العربية', 'السعودية'], '98yG06zI836ks2JY': ['98yG06zI836ks2JY'], '1B8e46w1L5fXY8M0': ['1B8e46w1L5fXY8M0'], 'محطة أرامكو الهدى': ['محطة', 'أرامكو', 'الهدى'], 'يوسف': ['يوسف'], 'souad.zaid@example.com': ['souad.zaid@example.com'], 'ali.al-mansour@example.com': ['ali.al-mansour@example.com'], 'riham.waleed@example.com': ['riham.waleed@example.com'], 'الزهراء': ['الزهراء'], 'jS1HB61b669P6r8t': ['jS1HB61b669P6r8t'], 'فرح.ماروا@example.com': ['فرح.ماروا@example.com'], 'نور': ['نور'], 'zaki.ayoub@example.com': ['zaki.ayoub@example.com'], 'عمل': ['عمل'], 'Al-Qahtani': ['Al-Qahtani'], 'mustafa.saeed@example.com': ['mustafa.saeed@example.com'], 'Al-Zahrani': ['Al-Zahrani'], 'H4l1Nc7S8382n4zD': ['H4l1Nc7S8382n4zD'], 'qZ8074F3IM90H3cV': ['qZ8074F3IM90H3cV'], 'afaf.eman@example.com': ['afaf.eman@example.com'], 'c66Q97UM7y755xdd': ['c66Q97UM7y755xdd'], 'وردة': ['وردة'], 'mohammed.al-sayed@example.com': ['mohammed.al-sayed@example.com'], 'سلطانة': ['سلطانة'], 'ياسين': ['ياسين'], 'i3S7T4v3o0Ty45u7': ['i3S7T4v3o0Ty45u7'], 'محطة ارامكو الصفا': ['محطة', 'ارامكو', 'الصفا'], 'تبوك': ['تبوك'], '5t9bNVd4ro68178D': ['5t9bNVd4ro68178D'], 'محطة الأصيل': ['محطة', 'الأصيل'], 'Al Kharj': ['Al', 'Kharj'], 'عزيزي': ['عزيزي'], 'لذا': ['لذا'], 'أنور': ['أنور'], 'dalal.kawthar@example.com': ['dalal.kawthar@example.com'], '247Ry0CKk92N8ND5': ['247Ry0CKk92N8ND5'], 'dh29LfN358I5Ts98': ['dh29LfN358I5Ts98'], 'R20J9u8n496gUK8g': ['R20J9u8n496gUK8g'], 'إيمان': ['إيمان'], 'Aramco station Kawthar': ['Aramco', 'station', 'Kawthar'], 'hamid.lubna@example.com': ['hamid.lubna@example.com'], 'زياد': ['زياد'], 'لمياء': ['لمياء'], 'طارق': ['طارق'], 'محطة أرامكو التقوى': ['محطة', 'أرامكو', 'التقوى'], 'أميرة': ['أميرة'], 'ehsan.leen@example.com': ['ehsan.leen@example.com'], 'محطة أرامكو الفجر': ['محطة', 'أرامكو', 'الفجر'], 'روسيا': ['روسيا'], 'سعيد': ['سعيد'], 'عدنان': ['عدنان'], 'HS6C9Ky7p754SJ41': ['HS6C9Ky7p754SJ41'], '95': ['95'], 'محطة الصرح': ['محطة', 'الصرح'], 'Al-Harbi': ['Al-Harbi'], 'دبي': ['دبي'], 'مريم': ['مريم'], '4NJu90bVf7l749y8': ['4NJu90bVf7l749y8'], 'عبد العزيز': ['عبد', 'العزيز'], '6J755E72u8Lqgi5M': ['6J755E72u8Lqgi5M'], 'rahma.souad@example.com': ['rahma.souad@example.com'], 'Q5R1cIZ6m75h98A9': ['Q5R1cIZ6m75h98A9'], 'شرق': ['شرق'], '4673J0MH9lYH87jR': ['4673J0MH9lYH87jR'], 'مهدي': ['مهدي'], 'فوزي': ['فوزي'], 'ام القيوين': ['ام', 'القيوين'], 'كوكب الزهرة': ['كوكب', 'الزهرة'], 'Al-Mansour': ['Al-Mansour'], 'لبنى': ['لبنى'], 'V64R8b89O9jj08rM': ['V64R8b89O9jj08rM'], 'عبد الله': ['عبد', 'الله'], 'لغة': ['لغة'], 'محطة الرياض': ['محطة', 'الرياض'], 's612237J0TF0BXGf': ['s612237J0TF0BXGf'], 'رحمة': ['رحمة'], 'حميد': ['حميد'], 'ملاك': ['ملاك'], 'محطة أرامكو الأزهر': ['محطة', 'أرامكو', 'الأزهر'], 'خورفكان': ['خورفكان'], 'محطة القدس': ['محطة', 'القدس'], 'علياء': ['علياء'], 'ابراهيم': ['ابراهيم'], 'محطة أرامكو المهد': ['محطة', 'أرامكو', 'المهد'], 'djM12a9G9790sb9f': ['djM12a9G9790sb9f'], 'الدمام': ['الدمام'], 'noor.sanaa@example.com': ['noor.sanaa@example.com'], 'uGex454XQ98e25b2': ['uGex454XQ98e25b2'], 'فاطمة': ['فاطمة'], 'المروس': ['المروس'], 'حقير': ['حقير'], 'محطة أرامكو البستان': ['محطة', 'أرامكو', 'البستان'], 'kareem.mustafa@example.com': ['kareem.mustafa@example.com'], 'Z5MG3o2GoA25572p': ['Z5MG3o2GoA25572p'], 'ليلى': ['ليلى'], 'كياسة': ['كياسة'], 'وليد': ['وليد'], 'رانيا': ['رانيا'], '4Dgd5770AfqdH901': ['4Dgd5770AfqdH901'], 'ahmed ali': ['ahmed', 'ali'], 'محطة الواحة': ['محطة', 'الواحة'], 'زيد': ['زيد'], 'Al-Hashemi': ['Al-Hashemi'], 'سليم': ['سليم'], 'zuhair.dalal@example.com': ['zuhair.dalal@example.com'], 'z78N9t49h8q2Rd7o': ['z78N9t49h8q2Rd7o'], 'زينب': ['زينب'], 'ibrahim.al-sharif@example.com': ['ibrahim.al-sharif@example.com'], 'ياسمين': ['ياسمين'], 'P0a2Am70C2c70re1': ['P0a2Am70C2c70re1'], 'حسان': ['حسان'], 'أحمد': ['أحمد'], 'غداً': ['غداً'], 'آدم': ['آدم'], 'DH858xQ2bUA1M192': ['DH858xQ2bUA1M192'], 'Al-Fursan': ['Al-Fursan'], 'أزهر': ['أزهر'], 'برج الجزيرة': ['برج', 'الجزيرة'], 'hana.mahdi@example.com': ['hana.mahdi@example.com'], 'محطة المنصور': ['محطة', 'المنصور'], 'ناصر': ['ناصر'], 'Al-Waha': ['Al-Waha'], '91i2qv930Z0BpT7Q': ['91i2qv930Z0BpT7Q'], 's2NA2LsY78z0771A': ['s2NA2LsY78z0771A'], '8G96wBCm4i5152CB': ['8G96wBCm4i5152CB'], '54r8K2oN3PH3A1H3': ['54r8K2oN3PH3A1H3'], '9b2xV05K1E068Vsy': ['9b2xV05K1E068Vsy'], 'محطة النجم': ['محطة', 'النجم'], 'saeed.warda@example.com': ['saeed.warda@example.com'], 'محطة أرامكو المنارة': ['محطة', 'أرامكو', 'المنارة'], 'سلمى': ['سلمى'], 'khalid.al-hashemi@example.com': ['khalid.al-hashemi@example.com'], 'شمال': ['شمال'], 'ET564XL393t0S0ZA': ['ET564XL393t0S0ZA'], 'sanaa.yasin@example.com': ['sanaa.yasin@example.com'], 'Al-Amin': ['Al-Amin'], 'zein.azhar@example.com': ['zein.azhar@example.com'], 'جدة': ['جدة'], 'إي بلس 91': ['إي', 'بلس', '91'], 'abdallah.al-rashid@example.com': ['abdallah.al-rashid@example.com'], '54p0jW7445Ao7Mve': ['54p0jW7445Ao7Mve'], '91': ['91'], 'آمين': ['آمين'], 'tariq.zahra@example.com': ['tariq.zahra@example.com'], '6b52akdf0b0r4s39': ['6b52akdf0b0r4s39'], 'thamer.zaki@example.com': ['thamer.zaki@example.com'], '5Xl43A04jx7lSB91': ['5Xl43A04jx7lSB91'], 'خاص 95': ['خاص', '95'], 'm3V81K1457HD6yFV': ['m3V81K1457HD6yFV'], 'أسد': ['أسد'], 'ismail.manal@example.com': ['ismail.manal@example.com'], 'Al-Safwa station': ['Al-Safwa', 'station'], '91qq0UV14DL42IE5': ['91qq0UV14DL42IE5'], 'i08N207lFgw5i00i': ['i08N207lFgw5i00i'], 'eAY64453Enf7Dg14': ['eAY64453Enf7Dg14'], 'المنفذ 3': ['المنفذ', '3'], '6x4rU4L47Z59V3PQ': ['6x4rU4L47Z59V3PQ'], 'سعاد': ['سعاد'], 'سالم': ['سالم'], 'منى': ['منى'], 'mona.riham@example.com': ['mona.riham@example.com'], 'p6P16258Ckx7L0Kl': ['p6P16258Ckx7L0Kl']}\n",
    "\n",
    "all_translated_words = {'Al-Safwa', 'Riyadh,', 'f6p6D1QG13j172sO', '98', 'Al-Qasr', 'التقوى', 'عدنان', 'F9y1Yoc283H33Ae2', 'mahdi.rahma@example.com', 'zi3DR73Q05d3w03L', 'eman.lubna@example.com', 'الشرق', 'jameel.mona@example.com', 'waleed.zein@example.com', 'الله', 'لبنى', 'سلطانة', '6PdRb1z7q831A8I1', 'youssef.al-qahtani@example.com', '99301diz7u3B4MgC', '7lx18tIx262Et10J', 'أميرة', 'X07H3sFm028e90jq', '7ds0J91N7TBj642n', 'بلدان', 'ياسين', 'رابا', 'Ol45J1w2zpp9y419', '9uZ9H11X3E2u7U8d', 'Saudi', '47xe6c9QOSkz5358', 'ام', 'اسماعيل', 'nasser.samar@example.com', 'السعودية', 'Al-Nahda', 'خورفكان', 'zaid.alia@example.com', 'Arabia', 'آدم', '2Tfx60Q6073gse0H', 'lubna.qasim@example.com', 'المدينة', 'لينا', 'شارع', 'مصطفى', 'g9Q37Q0nwLC1478P', 'لغة', '2', 'بلال', 'ziad.bahir@example.com', 'Qhm5xJ359LR20s86', 'الجزيرة', 'باسم', 'R462ZHa59rv1l49T', 'الزهرة', '4aJ27zCm01Z7t6m8', '3UEfDc33K0q0g346', 'yasin.abir@example.com', '4Y6h8z131z75pWIr', 'W8210bE255lgs2KR', '5e7b58M08BGkGM03', 'خاص', 'الخليج', 'الصفا', 'إنتاج', '1CaGp270C5900Asw', 'omar.al-harbi@example.com', 'ريم', 'abdallah.al-rashid@example.com', 'أمل', 'm34H49q52C78jApH', 'malak.rami@example.com', '84trW13bN1NQL423', 'T374I41K9rme7oK2', 'manal.reem@example.com', 'Abu', 'ahmed.al-farsi@example.com', 'سلمى', 'Al-Dammam', 'Al-Madina', 'fawzi.munir@example.com', 'د', 'f9i53o33byu2H98E', 'ساره', 'مكه', 'Al-Rashid', 'جمال', 'البركة', 'حقير', 'rami.tariq@example.com', 'فوزي', '11QX835Dg9N6c0Jb', '7dGhB4r12a280H9W', 'Kharj', 'u4vF15aIX8V6u894', 'hassan.al-amin@example.com', 'محطة', 'القصر', 'qasim.selim@example.com', 'كوكب', 'ياسمين', 'محمد', 'فاطمة', 'عبد', 'العزيز', 'التخصصي', 'الرياض', 'سمرة', 'بلس', '0R660631MBM5keIx', 'reem.thamer@example.com', 'يوسف', 'selim.youssef@example.com', 'Al-Bahrain', 'wKPc8X636ypz7580', 'iman.malak@example.com', 'الرشيد', 'آمين', 'zahra.amal@example.com', 'رحمة', 'samar.yara@example.com', 'عائشة', 'lina.noor@example.com', 'كياسة', 'نجران', 'إيمان', 'منال', 'Kawthar', 'التجارية', 'Ali', '7593ni40Fnto3f3A', 'abir.ehsan@example.com', 'نور', 'Q986LG08HuzE3p18', 'r57h71b10h88FzlL', 'Al-Sharif', 'المنصور', 'ROV1S19373K9VT0W', 'أرامكو', 'Al-Riyadh', 'المهد', 'عبير', 'youssef.afaf@example.com', 'warda.ziad@example.com', '24YW6215n65iQgaS', 'مريم', 'جدة', 'الأزهر', 'أو', '6ny26U33jn0qi6Y4', 'رامي', 'FSg201eN24vPI416', 'yara.zuhair@example.com', 'YxI96Y606729stYT', 'Y4eqf664rw5xE865', '4L6G27aPdM94Lu93', '8m7E7G9Z66Tw25IA', '6rg5okO6t45W3q91', 'سعاد', 'غداً', 'برج', 'ابراهيم', 'حيفا', 'فن', '7tyu38kg8TQ1247Z', 'فرح.ماروا@example.com', 'فرح', 'lamia.nasser@example.com', '96OEh99uro82r62a', 'qK05dF6iGX66B745', 'لذا', 'W2M2O7MX6J0q57F4', 'لمياء', 'الواحة', '2Y1R4a11YMz132SE', 'Al-Sayed', 'Ras', 'حميد', '5Jr190L24WzUUS96', 'منى', 'الهلال', 'Al-Olaya', 'Dhabi', 'oY53q55RkW0i3K17', 'sr9A5h7K137n8G6l', '6Q3C0eJg47fn49A3', 'الزهراء', 'يعطي', '98yG06zI836ks2JY', 'عمل', '1B8e46w1L5fXY8M0', 'بنزين', 'souad.zaid@example.com', 'ali.al-mansour@example.com', 'riham.waleed@example.com', 'نو49hU1Vn054fh34', 'jS1HB61b669P6r8t', 'zaki.ayoub@example.com', 'سليم', 'أزهر', 'Al-Qahtani', 'mustafa.saeed@example.com', 'Al-Zahrani', 'H4l1Nc7S8382n4zD', 'qZ8074F3IM90H3cV', 'afaf.eman@example.com', '52s891CZS0X8J4', 'c66Q97UM7y755xdd', 'النصر', 'Aramco', 'رانيا', 'mohammed.al-sayed@example.com', 'القيوين', 'حسين', 'i3S7T4v3o0Ty45u7', 'الفارسي', '5t9bNVd4ro68178D', 'القدس', 'Mohammad', 'Salem.al-zahrani@example.com', 'روسيا', 'dalal.kawthar@example.com', '247Ry0CKk92N8ND5', 'Khaimah', 'جميلة', 'الرياض،', 'أيوب', 'جميل', 'dh29LfN358I5Ts98', 'R20J9u8n496gUK8g', 'المملكة', 'hamid.lubna@example.com', 'فريد', 'الأصيل', 'Al', 'صدقة', 'كريم', 'آل', 'ehsan.leen@example.com', 'سعيد', 'النجم', 'علياء', 'ثامر', 'بالطبع', 'ali', '95', 'HS6C9Ky7p754SJ41', 'إي', 'سامي', 'Al-Harbi', 'ناديه', 'المروج', '4NJu90bVf7l749y8', '6J755E72u8Lqgi5M', 'rahma.souad@example.com', 'Q5R1cIZ6m75h98A9', '4673J0MH9lYH87jR', 'طارق', 'Al-Mansour', 'زيد', 'V64R8b89O9jj08rM', 'مهدي', 'حسن', 'الصرح', 'الراوي', 's612237J0TF0BXGf', 'بريدة', '3', 'بخاصة', 'ناصر', 'أيّ', 'الفيحاء', 'ملاك', 'ريهام', 'Street,', 'djM12a9G9790sb9f', 'noor.sanaa@example.com', 'قاسم', 'وردة', 'uGex454XQ98e25b2', 'خالد', 'زينب', 'شمال', 'التحول-1', 'المنفذ', 'station', 'kareem.mustafa@example.com', 'Z5MG3o2GoA25572p', 'باهر', 'حسان', 'الفجيرة', 'المنورة', '4Dgd5770AfqdH901', 'الربوة', 'الربو', 'Al-Hashemi', 'zuhair.dalal@example.com', 'z78N9t49h8q2Rd7o', 'ibrahim.al-sharif@example.com', 'عاي', 'المروس', 'P0a2Am70C2c70re1', 'المنارة', '1', 'ديزل', 'عجمان', 'ليلى', 'جزيرة', 'الشارقة', 'زياد', 'وليد', 'أسد', 'تبوك', '123', 'DH858xQ2bUA1M192', 'Al-Fursan', 'ahmed', 'hana.mahdi@example.com', 'عزيزي', 'دبي', 'Al-Waha', '91i2qv930Z0BpT7Q', 's2NA2LsY78z0771A', '8G96wBCm4i5152CB', '54r8K2oN3PH3A1H3', '9b2xV05K1E068Vsy', 'سالم', 'saeed.warda@example.com', 'khalid.al-hashemi@example.com', 'الدمام', 'البحرين', 'عمر', 'ET564XL393t0S0ZA', 'sanaa.yasin@example.com', 'شركة', 'Al-Amin', 'عبدالرحمن', 'zein.azhar@example.com', 'أحمد', 'شرق', 'الفرسان', 'Al-Khalidi', 'نبيلة', 'سوبر', '54p0jW7445Ao7Mve', 'أنور', '91', 'ارامكو', 'العربية', 'tariq.zahra@example.com', '6b52akdf0b0r4s39', 'thamer.zaki@example.com', 'الخليج', 'الفجر', '5Xl43A04jx7lSB91', 'm3V81K1457HD6yFV', 'ismail.manal@example.com', 'اللغات', '91qq0UV14DL42IE5', 'البستان', 'i08N207lFgw5i00i', 'eAY64453Enf7Dg14', 'الهدى', '6x4rU4L47Z59V3PQ', 'mona.riham@example.com', 'أطفال', 'p6P16258Ckx7L0Kl'}"
   ]
  },
  {
   "cell_type": "markdown",
   "metadata": {
    "jp-MarkdownHeadingCollapsed": true,
    "tags": []
   },
   "source": [
    "# Vector Store "
   ]
  },
  {
   "cell_type": "markdown",
   "metadata": {
    "tags": []
   },
   "source": [
    "## Embedding model"
   ]
  },
  {
   "cell_type": "code",
   "execution_count": null,
   "metadata": {
    "tags": []
   },
   "outputs": [],
   "source": [
    "##############################################\n",
    "# Vector stores - Table Schema and Entities \n",
    "##############################################\n",
    "\n",
    "#################################\n",
    "\"\"\"\n",
    "Create custom embeding finction using multi-lingual model\n",
    "\"\"\"\n",
    "#################################\n",
    "from chromadb import Documents, EmbeddingFunction, Embeddings\n",
    "from vertexai.language_models import TextEmbeddingModel, TextEmbeddingInput\n",
    "from langchain.vectorstores import Chroma\n",
    "\n",
    "class MyEmbeddingFunction(EmbeddingFunction):\n",
    "    def __init__(self, model_id, task):\n",
    "        try:\n",
    "            self.model = TextEmbeddingModel.from_pretrained(model_id)\n",
    "            self.task = task\n",
    "            logging.info(f\"Initialized embedding model: {model_id} for task: {task}\")\n",
    "        except Exception as e:\n",
    "            logging.error(f\"Error initializing embedding model '{model_id}': {e}\")\n",
    "            raise  # Reraise the exception to avoid using an uninitialized model\n",
    "\n",
    "    def embed_documents(self, input: Documents) -> Embeddings:\n",
    "        max_batch_size = 250  # Batch to max limit -> 250\n",
    "        embeddings = []\n",
    "        \n",
    "        try:\n",
    "            for i in range(0, len(input), max_batch_size):\n",
    "                batch = input[i:i + max_batch_size]\n",
    "                inputs = [TextEmbeddingInput(text, self.task) for text in batch]\n",
    "                \n",
    "                # Get embeddings for the batch\n",
    "                embedding_result = self.model.get_embeddings(inputs)\n",
    "                batch_embeddings = [embedding.values for embedding in embedding_result]\n",
    "                embeddings.extend(batch_embeddings)\n",
    "\n",
    "                logging.info(f\"Processed batch {i // max_batch_size + 1}: {len(batch)} documents embedded.\")\n",
    "                \n",
    "            return embeddings\n",
    "        \n",
    "        except Exception as e:\n",
    "            logging.error(f\"Error embedding documents: {e}\")\n",
    "            return []  # Return an empty list in case of error\n",
    "\n",
    "    def embed_query(self, query: str) -> Embeddings:\n",
    "        try:\n",
    "            inputs = [TextEmbeddingInput(query, self.task)]\n",
    "            embedding_result = self.model.get_embeddings(inputs)\n",
    "            embeddings = [embedding.values for embedding in embedding_result]\n",
    "            logging.info(f\"Processed query: '{query}' -> Embedding obtained.\")\n",
    "            return embeddings[0] if embeddings else []  # Return first embedding or empty\n",
    "            \n",
    "        except Exception as e:\n",
    "            logging.error(f\"Error embedding query '{query}': {e}\")\n",
    "            return []  # Return an empty list in case of error\n",
    "\n",
    "##############################\n",
    "# Model, task type and creating embedding function\n",
    "##############################\n",
    "EMBEDDING_MODEL = \"text-multilingual-embedding-002\"\n",
    "EMBEDDING_TASK = \"RETRIEVAL_DOCUMENT\"\n",
    "\n",
    "try:\n",
    "    embedding_function = MyEmbeddingFunction(EMBEDDING_MODEL, EMBEDDING_TASK)\n",
    "except Exception as e:\n",
    "    logging.critical(f\"Failed to create embedding function: {e}\")\n",
    "\n"
   ]
  },
  {
   "cell_type": "markdown",
   "metadata": {
    "tags": []
   },
   "source": [
    "## Translated entity vector store for Translator"
   ]
  },
  {
   "cell_type": "code",
   "execution_count": null,
   "metadata": {
    "tags": []
   },
   "outputs": [],
   "source": [
    "# ##############################\n",
    "# \"\"\"\n",
    "# Create vector store retriever for retrieving relevant {en:ar} entity map for user query  \n",
    "# \"\"\"\n",
    "# #############################\n",
    "# Convert entity translate map to string representation\n",
    "entity_translate_map_str = [str(doc) for doc in entity_translate_map]\n",
    "\n",
    "# Attempt to delete the existing collection and handle exceptions\n",
    "try: \n",
    "    entity_translate_vector_store.delete_collection()\n",
    "    logging.info(\"Deleted existing collection in vector store.\")\n",
    "except Exception as e:\n",
    "    logging.warning(f\"No need to clean the vector store or error occurred: {e}\")\n",
    "\n",
    "# Create a new vector store from the texts\n",
    "try:\n",
    "    entity_translate_vector_store = Chroma.from_texts(\n",
    "        entity_translate_map_str, \n",
    "        embedding=embedding_function,\n",
    "        collection_name=\"entity_translate_map_collection\",\n",
    "        persist_directory=\"entity_translate_map_collection\",\n",
    "    )\n",
    "    logging.info(\"Successfully created a new vector store from texts.\")\n",
    "except Exception as e:\n",
    "    logging.error(f\"Error creating vector store: {e}\")\n",
    "    raise  # Reraise the exception for further handling if necessary\n",
    "\n",
    "# Attempt to persist the collection to disk\n",
    "try:\n",
    "    entity_translate_vector_store.persist()\n",
    "    logging.info(\"Persisted the collection to disk successfully.\")\n",
    "except Exception as e:\n",
    "    logging.error(f\"Error persisting the collection: {e}\")\n",
    "\n"
   ]
  },
  {
   "cell_type": "code",
   "execution_count": null,
   "metadata": {},
   "outputs": [],
   "source": [
    "\n",
    "def get_entity_translate_retriever(count=8):\n",
    "    try:\n",
    "        entity_translate_retriever = entity_translate_vector_store.as_retriever(search_kwargs={'k': count})\n",
    "        logging.info(f\"Created entity translate retriever with retrive count: {count}\")\n",
    "        return entity_translate_retriever\n",
    "    except Exception as e:\n",
    "        logging.error(f\"Error creating entity translate retriever: {e}\")\n",
    "        return None  # Return None or handle as appropriate\n",
    "\n",
    "# Specify the directory to load the persisted vector store\n",
    "translation_persist_directory = 'entity_translate_map_collection'\n",
    "\n",
    "# Attempt to load the vector store from the persisted data\n",
    "try:\n",
    "    entity_translate_vector_store = Chroma(\n",
    "        collection_name=\"entity_translate_map_collection\", \n",
    "        persist_directory=translation_persist_directory, \n",
    "        embedding_function=embedding_function\n",
    "    )\n",
    "    logging.info(\"Successfully loaded the vector store from persisted data.\")\n",
    "except Exception as e:\n",
    "    logging.error(f\"Error loading vector store: {e}\")\n",
    "    raise  # Reraise the exception for further handling if necessary\n",
    "\n",
    "# Use the retriever from the loaded store\n",
    "entity_translate_retriever = get_entity_translate_retriever()\n",
    "\n",
    "if entity_translate_retriever is None:\n",
    "    logging.critical(\"Failed to create entity translate retriever. Please check the logs for details.\")"
   ]
  },
  {
   "cell_type": "markdown",
   "metadata": {
    "tags": []
   },
   "source": [
    "## Table vector for SQL query generator"
   ]
  },
  {
   "cell_type": "code",
   "execution_count": null,
   "metadata": {
    "tags": []
   },
   "outputs": [],
   "source": [
    "##############################################\n",
    "# Table Schema vector stores\n",
    "##############################################\n",
    "import json\n",
    "\n",
    "# Attempt to delete the existing collection and handle exceptions\n",
    "try:\n",
    "    schema_vector_store.delete_collection()\n",
    "    logging.info(\"Deleted existing schema collection in vector store.\")\n",
    "except Exception as e:\n",
    "    logging.warning(f\"No need to clean the vector store or error occurred: {e}\")\n",
    "\n",
    "# Convert child documents to string representation\n",
    "try:\n",
    "    child_docs_as_strings = [json.dumps(doc) for doc in child_docs]\n",
    "    logging.info(\"Converted child documents to string format.\")\n",
    "except Exception as e:\n",
    "    logging.error(f\"Error converting child documents to strings: {e}\")\n",
    "    raise  # Reraise the exception for further handling if necessary\n",
    "\n",
    "# Attempt to create a new vector store from the texts\n",
    "try:\n",
    "    schema_vector_store = Chroma.from_texts(\n",
    "        child_docs_as_strings, \n",
    "        embedding=embedding_function,\n",
    "        collection_name=\"schema_collection\",\n",
    "        persist_directory=\"schema_collection\"\n",
    "    )\n",
    "    logging.info(\"Successfully created schema vector store from texts.\")\n",
    "except Exception as e:\n",
    "    logging.error(f\"Error creating schema vector store: {e}\")\n",
    "    raise  # Reraise the exception for further handling if necessary\n",
    "\n",
    "# Attempt to persist the collection to disk\n",
    "try:\n",
    "    schema_vector_store.persist()\n",
    "    logging.info(\"Persisted the schema collection to disk successfully.\")\n",
    "except Exception as e:\n",
    "    logging.error(f\"Error persisting the schema collection: {e}\")"
   ]
  },
  {
   "cell_type": "code",
   "execution_count": null,
   "metadata": {
    "tags": []
   },
   "outputs": [],
   "source": [
    "def get_schema_retriever(count=10):\n",
    "    try:\n",
    "        schema_retriever = schema_vector_store.as_retriever(search_kwargs={'k': count})\n",
    "        logging.info(f\"Created schema retriever with retrive count: {count}\")\n",
    "        return schema_retriever\n",
    "    except Exception as e:\n",
    "        logging.error(f\"Error creating schema retriever: {e}\")\n",
    "        return None  # Return None or handle as appropriate\n",
    "\n",
    "# Specify the directory to load the persisted vector store\n",
    "schema_persist_directory = 'schema_collection'\n",
    "\n",
    "# Attempt to load the vector store from the persisted data\n",
    "try:\n",
    "    schema_vector_store = Chroma(\n",
    "        collection_name=\"schema_collection\", \n",
    "        persist_directory=schema_persist_directory, \n",
    "        embedding_function=embedding_function\n",
    "    )\n",
    "    logging.info(\"Successfully loaded the schema vector store from persisted data.\")\n",
    "except Exception as e:\n",
    "    logging.error(f\"Error loading schema vector store: {e}\")\n",
    "    raise  # Reraise the exception for further handling if necessary\n",
    "\n",
    "# Use the retriever from the loaded store\n",
    "schema_retriever = get_schema_retriever()\n",
    "\n",
    "if schema_retriever is None:\n",
    "    logging.critical(\"Failed to create schema retriever. Please check the logs for details.\")\n"
   ]
  },
  {
   "cell_type": "code",
   "execution_count": null,
   "metadata": {
    "tags": []
   },
   "outputs": [],
   "source": [
    "# text = \"what are the sales for May 2024\"\n",
    "# res = schema_retriever.get_relevant_documents(text)"
   ]
  },
  {
   "cell_type": "code",
   "execution_count": null,
   "metadata": {
    "tags": []
   },
   "outputs": [],
   "source": [
    "# res\n",
    "# r = [doc.page_content for doc in res]\n",
    "# r1 = json.dumps(r[0])\n",
    "# r1"
   ]
  },
  {
   "cell_type": "markdown",
   "metadata": {
    "tags": []
   },
   "source": [
    "## Entity vector store for SQL query generator"
   ]
  },
  {
   "cell_type": "code",
   "execution_count": null,
   "metadata": {
    "tags": []
   },
   "outputs": [],
   "source": [
    "\n",
    "##############################################\n",
    "# Entities vector stores\n",
    "##############################################\n",
    "\n",
    "# Attempt to delete the existing noun vector store collection and handle exceptions\n",
    "try:\n",
    "    noun_vector_store.delete_collection()\n",
    "    logging.info(\"Deleted existing noun collection in vector store.\")\n",
    "except Exception as e:\n",
    "    logging.warning(f\"No need to clean the vector store or an error occurred: {e}\")\n",
    "\n",
    "# Attempt to create a new noun vector store from the texts\n",
    "try:\n",
    "    noun_vector_store = Chroma.from_texts(\n",
    "        all_noun_data,\n",
    "        embedding=embedding_function,\n",
    "        collection_name=\"noun_collection\",\n",
    "        persist_directory=\"noun_collection\"\n",
    "    )\n",
    "    logging.info(\"Successfully created noun vector store from texts.\")\n",
    "except Exception as e:\n",
    "    logging.error(f\"Error creating noun vector store: {e}\")\n",
    "    raise  # Reraise the exception for further handling if necessary\n",
    "\n",
    "# Attempt to persist the collection to disk\n",
    "try:\n",
    "    noun_vector_store.persist()\n",
    "    logging.info(\"Persisted the noun collection to disk successfully.\")\n",
    "except Exception as e:\n",
    "    logging.error(f\"Error persisting the noun collection: {e}\")"
   ]
  },
  {
   "cell_type": "code",
   "execution_count": null,
   "metadata": {},
   "outputs": [],
   "source": [
    "def get_noun_retriever(count=10):\n",
    "    try:\n",
    "        noun_retriever = noun_vector_store.as_retriever(search_kwargs={'k': count})\n",
    "        logging.info(f\"Noun retriever created with retrive cpount {count}.\")\n",
    "        return noun_retriever\n",
    "    except Exception as e:\n",
    "        logging.error(f\"Error creating noun retriever: {e}\")\n",
    "        raise  # Reraise the exception for further handling if necessary\n",
    "\n",
    "noun_persist_directory = 'noun_collection'\n",
    "\n",
    "# Attempt to load the vector store from the persisted data\n",
    "try:\n",
    "    noun_vector_store = Chroma(\n",
    "        collection_name=\"noun_collection\",\n",
    "        persist_directory=noun_persist_directory,\n",
    "        embedding_function=embedding_function\n",
    "    )\n",
    "    logging.info(\"Successfully loaded noun vector store from persisted data.\")\n",
    "except Exception as e:\n",
    "    logging.error(f\"Error loading noun vector store: {e}\")\n",
    "    raise  # Reraise the exception for further handling if necessary\n",
    "\n",
    "# Use the retriever from the loaded store\n",
    "try:\n",
    "    noun_retriever = get_noun_retriever()\n",
    "    logging.info(\"Successfully retrieved noun retriever.\")\n",
    "except Exception as e:\n",
    "    logging.error(f\"Error retrieving noun retriever: {e}\")\n"
   ]
  },
  {
   "cell_type": "markdown",
   "metadata": {
    "jp-MarkdownHeadingCollapsed": true,
    "tags": []
   },
   "source": [
    "# Retriever"
   ]
  },
  {
   "cell_type": "code",
   "execution_count": null,
   "metadata": {
    "tags": []
   },
   "outputs": [],
   "source": [
    "\n",
    "def get_entity_schema(entities):\n",
    "    noun_rows = []\n",
    "    \n",
    "    try:\n",
    "        conn = connect_db()\n",
    "        cursor = conn.cursor()\n",
    "        logging.info(\"Database connection established successfully.\")\n",
    "        \n",
    "        for entity in entities:\n",
    "            for noun_map in noun_maps:\n",
    "                if entity in noun_map:\n",
    "                    schema = noun_map[entity]['schema']\n",
    "                    table_name = noun_map[entity]['table']\n",
    "                    column_name = noun_map[entity]['column']\n",
    "                    \n",
    "                    sql_query = f\"\"\"SELECT * FROM \"{schema}\".\"{table_name}\" WHERE \"{column_name}\" = %s\"\"\"\n",
    "                    cursor.execute(sql_query, (entity,))  # Use parameterized query to prevent SQL injection\n",
    "\n",
    "                    columns = [desc[0] for desc in cursor.description]  # Get column names from cursor\n",
    "                    for row in cursor.fetchall():\n",
    "                        temp_dict = {}\n",
    "                        temp_dict[\"query\"] = sql_query\n",
    "                        temp_dict[\"query_result\"] = dict(zip(columns, row))  # Map column names to row values\n",
    "                        noun_rows.append(temp_dict)\n",
    "        \n",
    "        logging.info(f\"Processed {len(entities)} entities and retrieved their schemas successfully.\")\n",
    "    \n",
    "    except Exception as e:\n",
    "        logging.error(f\"Error while retrieving entity schema: {e}\")\n",
    "        raise  # Reraise the exception for further handling if necessary\n",
    "    \n",
    "    finally:\n",
    "        # Ensure cursor and connection are closed properly\n",
    "        if cursor:\n",
    "            cursor.close()\n",
    "            logging.info(\"Cursor closed.\")\n",
    "        if conn:\n",
    "            conn.close()\n",
    "            logging.info(\"Database connection closed.\")\n",
    "    \n",
    "    return noun_rows"
   ]
  },
  {
   "cell_type": "code",
   "execution_count": null,
   "metadata": {},
   "outputs": [],
   "source": []
  },
  {
   "cell_type": "markdown",
   "metadata": {
    "tags": []
   },
   "source": [
    "## Entity retriever"
   ]
  },
  {
   "cell_type": "code",
   "execution_count": null,
   "metadata": {
    "tags": []
   },
   "outputs": [],
   "source": [
    "##############################################\n",
    "# Retriver for Entities \n",
    "##############################################\n",
    "\n",
    "def get_noun_pg_results(question):\n",
    "    noun_rows = []\n",
    "    \n",
    "    try:\n",
    "        logging.info(f\"Retrieving relevant documents for question: {question}\")\n",
    "        results = noun_retriever.get_relevant_documents(question)\n",
    "\n",
    "        if not results:\n",
    "            logging.warning(\"No relevant documents found.\")\n",
    "            return noun_rows  # Return an empty list if no results\n",
    "\n",
    "        entities = {result.page_content for result in results}\n",
    "        logging.info(f\"Identified entities: {entities}\")\n",
    "\n",
    "        noun_rows = get_entity_schema(entities) \n",
    "        logging.info(f\"Retrieved schema for {len(entities)} entities.\")\n",
    "    \n",
    "    except Exception as e:\n",
    "        logging.error(f\"Error while retrieving noun results: {e}\")\n",
    "        raise  # Reraise the exception for further handling if necessary\n",
    "    \n",
    "    return noun_rows"
   ]
  },
  {
   "cell_type": "code",
   "execution_count": null,
   "metadata": {
    "tags": []
   },
   "outputs": [],
   "source": [
    "# # question = \"amal station is there?\"\n",
    "# question = \"What are the employee sales on May 18, 2024?\"\n",
    "# results = get_noun_bq_results(question)  \n"
   ]
  },
  {
   "cell_type": "code",
   "execution_count": null,
   "metadata": {
    "tags": []
   },
   "outputs": [],
   "source": [
    "# retrieved_noun_docs_str = [str(doc) for doc in results]"
   ]
  },
  {
   "cell_type": "code",
   "execution_count": null,
   "metadata": {
    "tags": []
   },
   "outputs": [],
   "source": [
    "\n",
    "# results1 = top_noun_docs = re_rank_doc(question, retrieved_noun_docs_str, CROSS_ENCODER_MODEL, 5)\n"
   ]
  },
  {
   "cell_type": "code",
   "execution_count": null,
   "metadata": {
    "tags": []
   },
   "outputs": [],
   "source": [
    "# results"
   ]
  },
  {
   "cell_type": "markdown",
   "metadata": {
    "tags": []
   },
   "source": [
    "## Entity retriever for tranlsated entity"
   ]
  },
  {
   "cell_type": "code",
   "execution_count": null,
   "metadata": {
    "tags": []
   },
   "outputs": [],
   "source": [
    "\n",
    "def get_schema(entities_list):\n",
    "    noun_rows = []\n",
    "    \n",
    "    try:\n",
    "        logging.info(\"Processing entities to retrieve schema.\")\n",
    "        \n",
    "        # Use a set to avoid duplicates\n",
    "        entities = set(entities_list)  \n",
    "        logging.info(f\"Identified unique entities: {entities}\")\n",
    "\n",
    "        # Get the entity schema\n",
    "        noun_rows = get_entity_schema(entities)\n",
    "\n",
    "        logging.info(f\"Retrieved schema for {len(entities)} entities.\")\n",
    "    \n",
    "    except Exception as e:\n",
    "        logging.error(f\"Error while retrieving schema: {e}\")\n",
    "        raise  # Reraise the exception for further handling if necessary\n",
    "    \n",
    "    return noun_rows"
   ]
  },
  {
   "cell_type": "code",
   "execution_count": null,
   "metadata": {
    "tags": []
   },
   "outputs": [],
   "source": [
    "# question = [\"Aramco station Amal\"]\n",
    "# r1 = get_entity_schema(question)\n",
    "# r = get_schema(question)"
   ]
  },
  {
   "cell_type": "code",
   "execution_count": null,
   "metadata": {
    "tags": []
   },
   "outputs": [],
   "source": [
    "# r"
   ]
  },
  {
   "cell_type": "markdown",
   "metadata": {
    "tags": []
   },
   "source": [
    "## Table schema retriever"
   ]
  },
  {
   "cell_type": "code",
   "execution_count": null,
   "metadata": {
    "tags": []
   },
   "outputs": [],
   "source": [
    "##############################################\n",
    "# Retriver for table schema - Auto merging retrieval\n",
    "##############################################\n",
    "\n",
    "# Create a lookup for column details to table name\n",
    "column_details_to_table_name_lookup = {json.dumps(doc['column_details']): doc['table_name'] for doc in child_docs}\n",
    "\n",
    "def get_relevant_parent_docs(question):\n",
    "    retrieved_tables = []\n",
    "    \n",
    "    try:\n",
    "        logging.info(\"Retrieving relevant parent documents based on the provided question.\")\n",
    "        \n",
    "        # Retrieve relevant documents from schema_retriever\n",
    "        results = schema_retriever.get_relevant_documents(question)\n",
    "        logging.info(f\"Retrieved {len(results)} documents from the schema retriever.\")\n",
    "        \n",
    "        # Find table names from retrieved results\n",
    "        retrieved_table_ids = set()\n",
    "        for result in results:\n",
    "            # Check if any of the JSON column details from child_docs are in the result's page content\n",
    "            for column_details_json in column_details_to_table_name_lookup:\n",
    "                if column_details_json in result.page_content:\n",
    "                    retrieved_table_ids.add(column_details_to_table_name_lookup[column_details_json])\n",
    "        \n",
    "        logging.info(f\"Identified table names: {retrieved_table_ids}\")\n",
    "        \n",
    "        # Retrieve relevant parent documents\n",
    "        retrieved_tables = [doc for doc in parent_docs if doc['table_name'] in retrieved_table_ids]\n",
    "        logging.info(f\"Retrieved {len(retrieved_tables)} relevant parent documents.\")\n",
    "\n",
    "    except Exception as e:\n",
    "        logging.error(f\"Error while retrieving relevant parent documents: {e}\")\n",
    "        raise  # Reraise the exception for further handling if necessary\n",
    "\n",
    "    return retrieved_tables\n"
   ]
  },
  {
   "cell_type": "code",
   "execution_count": null,
   "metadata": {
    "tags": []
   },
   "outputs": [],
   "source": [
    "# # q = \"what were the employee sales for the date 18th of May 2024?\"\n",
    "# q= \"How much fuel was requested on 1st week of may 2024\"\n",
    "# # q= \"Tell me abot Azzi station\"\n",
    "\n",
    "# start_time = time.time()\n",
    "# a = get_relevant_parent_docs1(q)\n",
    "# end_time = time.time()\n",
    "# print(f\"Time taken by get_relevant_parent_docs1: {end_time - start_time} seconds\")\n",
    "\n",
    "# start_time = time.time()\n",
    "# a = get_relevant_parent_docs(q)\n",
    "# end_time = time.time()\n",
    "# print(f\"Time taken by get_relevant_parent_docs: {end_time - start_time} seconds\")"
   ]
  },
  {
   "cell_type": "code",
   "execution_count": null,
   "metadata": {
    "tags": []
   },
   "outputs": [],
   "source": [
    "# a"
   ]
  },
  {
   "cell_type": "code",
   "execution_count": null,
   "metadata": {
    "tags": []
   },
   "outputs": [],
   "source": []
  },
  {
   "cell_type": "markdown",
   "metadata": {
    "tags": []
   },
   "source": [
    "## Primary and foreign key map"
   ]
  },
  {
   "cell_type": "code",
   "execution_count": null,
   "metadata": {},
   "outputs": [],
   "source": []
  },
  {
   "cell_type": "markdown",
   "metadata": {
    "jp-MarkdownHeadingCollapsed": true,
    "tags": []
   },
   "source": [
    "# Summarizer (Not Used)"
   ]
  },
  {
   "cell_type": "code",
   "execution_count": null,
   "metadata": {
    "tags": []
   },
   "outputs": [],
   "source": [
    "# from transformers import pipeline\n",
    "\n",
    "# summarizer = pipeline(\"summarization\", model=\"facebook/bart-large-cnn\")"
   ]
  },
  {
   "cell_type": "code",
   "execution_count": null,
   "metadata": {
    "tags": []
   },
   "outputs": [],
   "source": [
    "# summary = summarizer(res_str, max_length=100, min_length=30, do_sample=False,length_penalty=2.0, num_beams=4)\n",
    "\n",
    "\"\"\"\n",
    "length_penalty: A value >1.0 encourages the model to generate longer sequences, which can result in more detailed summaries.\n",
    "num_beams: Beam search parameter that can improve the quality of the summary. More beams can lead to a more thorough exploration of possible summaries.\n",
    "\"\"\""
   ]
  },
  {
   "cell_type": "code",
   "execution_count": null,
   "metadata": {
    "tags": []
   },
   "outputs": [],
   "source": [
    "# summary"
   ]
  },
  {
   "cell_type": "markdown",
   "metadata": {
    "jp-MarkdownHeadingCollapsed": true,
    "tags": []
   },
   "source": [
    "# Re-Ranker\n"
   ]
  },
  {
   "cell_type": "code",
   "execution_count": null,
   "metadata": {
    "tags": []
   },
   "outputs": [],
   "source": [
    "###################################\n",
    "# Cross Encoder Model for re-ranking\n",
    "###################################\n",
    "from sentence_transformers import CrossEncoder\n",
    "\n",
    "CROSS_ENCODER_MODEL = CrossEncoder('cross-encoder/ms-marco-MiniLM-L-6-v2')"
   ]
  },
  {
   "cell_type": "code",
   "execution_count": null,
   "metadata": {
    "tags": []
   },
   "outputs": [],
   "source": [
    "###################################\n",
    "# ReRanker for retrieved docs\n",
    "###################################\n",
    "\n",
    "def re_rank_doc(query, docs, cross_encoder, count=3):\n",
    "    if not docs:\n",
    "        logging.warning(\"No documents provided for re-ranking.\")\n",
    "        return []\n",
    "\n",
    "    try:\n",
    "        logging.info(\"Starting the re-ranking process.\")\n",
    "\n",
    "        # Create pairs of the query and each document\n",
    "        pairs = [[query, doc] for doc in docs]\n",
    "        logging.info(f\"Generated {len(pairs)} pairs for prediction.\")\n",
    "\n",
    "        # Get scores from the cross encoder\n",
    "        scores = cross_encoder.predict(pairs)\n",
    "        logging.info(\"Scores have been predicted successfully.\")\n",
    "\n",
    "        # Sort indices based on scores\n",
    "        sorted_indices = sorted(range(len(scores)), key=lambda i: scores[i], reverse=True)\n",
    "        logging.info(f\"Sorted document indices based on scores.\")\n",
    "\n",
    "        # Select top documents based on the sorted indices\n",
    "        top_docs = [docs[i] for i in sorted_indices[:count]]\n",
    "        logging.info(f\"Selected top {count} documents for the final output.\")\n",
    "\n",
    "    except Exception as e:\n",
    "        logging.error(f\"Error during the re-ranking process: {e}\")\n",
    "        raise  # Reraise the exception for further handling if necessary\n",
    "\n",
    "    return top_docs"
   ]
  },
  {
   "cell_type": "markdown",
   "metadata": {
    "jp-MarkdownHeadingCollapsed": true,
    "tags": []
   },
   "source": [
    "# Fuzzy search"
   ]
  },
  {
   "cell_type": "code",
   "execution_count": null,
   "metadata": {
    "tags": []
   },
   "outputs": [],
   "source": [
    "from fuzzywuzzy import process\n",
    "\n",
    "#############################\n",
    "\"\"\"\n",
    "Perform fuzzy search\n",
    "\n",
    "IP:\n",
    "1. Word to be searched\n",
    "2. list of words to be searched from\n",
    "3. count of how many relevant search to retrieve\n",
    "4. score threshold\n",
    "\n",
    "OP:\n",
    "Top matches with score higher than 60\n",
    "\"\"\"\n",
    "#############################\n",
    "def fuzzy_search(search_word, search_from, limit=3, score=90):\n",
    "    try:\n",
    "        logging.info(f\"Starting fuzzy search for '{search_word}' with limit {limit} and score threshold {score}.\")\n",
    "        fuzzy_matches = process.extract(search_word, search_from, limit=limit)\n",
    "        \n",
    "        top_matches = [match[0] for match in fuzzy_matches if match[1] > score]\n",
    "        logging.info(f\"Found {len(fuzzy_matches)} matches. Filtered down to {len(top_matches)} based on score threshold.\")\n",
    "\n",
    "    except Exception as e:\n",
    "        logging.error(f\"Error during fuzzy search: {e}\")\n",
    "        raise  # Reraise the exception for further handling if necessary\n",
    "\n",
    "    return top_matches\n",
    "\n",
    "\n",
    "#############################\n",
    "\"\"\"\n",
    "Map fuzzy search results to entities in DB\n",
    "\n",
    "IP:\n",
    "1. List of word to be searched\n",
    "2. list of words to be searched from\n",
    "3. count of how many relevant search to retrieve\n",
    "4. score threshold\n",
    "\n",
    "OP:\n",
    "1. list of fuzzy search results to all input words\n",
    "\"\"\"\n",
    "#############################\n",
    "def get_matches(word_list, search_from, limit=3, score=90):\n",
    "    top_matches_set = set()\n",
    "\n",
    "    try:\n",
    "        logging.info(f\"Starting to get matches for {len(word_list)} words.\")\n",
    "        for word in word_list:\n",
    "            logging.info(f\"Searching matches for word: '{word}'\")\n",
    "            matches = fuzzy_search(word, search_from, limit, score)\n",
    "            top_matches_set.update(matches)\n",
    "        \n",
    "        top_matches = list(top_matches_set)\n",
    "        logging.info(f\"Found a total of {len(top_matches)} unique matches across all words.\")\n",
    "\n",
    "    except Exception as e:\n",
    "        logging.error(f\"Error while getting matches: {e}\")\n",
    "        raise  # Reraise the exception for further handling if necessary\n",
    "\n",
    "    return top_matches\n"
   ]
  },
  {
   "cell_type": "code",
   "execution_count": null,
   "metadata": {
    "tags": []
   },
   "outputs": [],
   "source": [
    "# q = \"ما هي الفواتير التي عمل عليها ياسين؟\"\n",
    "# ql = q.split()"
   ]
  },
  {
   "cell_type": "code",
   "execution_count": null,
   "metadata": {
    "tags": []
   },
   "outputs": [],
   "source": [
    "# res = get_matches(ql,all_translated_words)\n",
    "\n",
    "\n",
    "# ocs = re_rank_doc(q, res, CROSS_ENCODER_MODEL, 3)\n",
    "\n",
    "# ties = map_fuzzy_to_entity_translator_context(ocs, translated_texts_dict, entity_translate_map )\n",
    "# str_list = [str(ele) for ele in ties]"
   ]
  },
  {
   "cell_type": "code",
   "execution_count": null,
   "metadata": {
    "tags": []
   },
   "outputs": [],
   "source": [
    "# str_list"
   ]
  },
  {
   "cell_type": "markdown",
   "metadata": {
    "jp-MarkdownHeadingCollapsed": true,
    "tags": []
   },
   "source": [
    "# Context "
   ]
  },
  {
   "cell_type": "markdown",
   "metadata": {
    "jp-MarkdownHeadingCollapsed": true,
    "tags": []
   },
   "source": [
    "## Context from entity for SQL query generator "
   ]
  },
  {
   "cell_type": "code",
   "execution_count": null,
   "metadata": {
    "tags": []
   },
   "outputs": [],
   "source": [
    "#############################\n",
    "\"\"\"\n",
    "Map fuzzy search results to entities\n",
    "\n",
    "IP:\n",
    "1. List of words to map\n",
    "2. List of dict containg all word to entity maps [{Entity: [words, in, entity]}, ... ]\n",
    "\n",
    "OP:\n",
    "1. fuzzy search results mapped to noun maps - [entity1, entity2, ....]\n",
    "\"\"\"\n",
    "#############################\n",
    "from collections import defaultdict\n",
    "\n",
    "def build_reverse_lookup(entity_words_map):\n",
    "    reverse_map = defaultdict(set)  # A dictionary to map words to entities\n",
    "    try:\n",
    "        logging.info(\"Building reverse lookup map.\")\n",
    "        for entity, words in entity_words_map.items():  # Iterate through the dictionary directly\n",
    "            for word in words:\n",
    "                reverse_map[word].add(entity)  # Map word to the corresponding entity\n",
    "        logging.info(\"Successfully built the reverse lookup map.\")\n",
    "\n",
    "    except Exception as e:\n",
    "        logging.error(f\"Error while building reverse lookup map: {e}\")\n",
    "        raise  # Reraise the exception for further handling if necessary\n",
    "\n",
    "    return reverse_map\n",
    "\n",
    "\n",
    "\n",
    "def map_word_to_entity(word_list, reverse_map):\n",
    "    entities = set()\n",
    "    try:\n",
    "        logging.info(f\"Mapping words to entities for word list of size: {len(word_list)}.\")\n",
    "        for word in word_list:\n",
    "            if word in reverse_map:  # Direct lookup in reverse map\n",
    "                entities.update(reverse_map[word])\n",
    "        logging.info(f\"Mapping complete. Found {len(entities)} unique entities.\")\n",
    "\n",
    "    except Exception as e:\n",
    "        logging.error(f\"Error while mapping words to entities: {e}\")\n",
    "        raise  # Reraise the exception for further handling if necessary\n",
    "\n",
    "    return entities\n",
    "\n",
    "reverse_map = build_reverse_lookup(en_word_entity_map)\n"
   ]
  },
  {
   "cell_type": "code",
   "execution_count": null,
   "metadata": {
    "tags": []
   },
   "outputs": [],
   "source": [
    "# en_word_entity_map\n",
    "# # en_all_split_words\n",
    "# # Abdulaziz\n",
    "# # Baraka"
   ]
  },
  {
   "cell_type": "code",
   "execution_count": null,
   "metadata": {
    "tags": []
   },
   "outputs": [],
   "source": [
    "# import time\n",
    "\n",
    "# # start_time = time.time()\n",
    "# # end_time = time.time()\n",
    "# # print(f\"Time taken by build_reverse_lookup: {end_time - start_time} seconds\")\n",
    "\n",
    "# word_list = [\"Abdulaziz\", \"Baraka\"]\n",
    "# start_time = time.time()\n",
    "# entities = map_word_to_entity1(word_list, en_word_entity_map)\n",
    "# end_time = time.time()\n",
    "# print(f\"Time taken by map_word_to_entity1: {end_time - start_time} seconds\")\n",
    "\n",
    "\n",
    "# start_time = time.time()\n",
    "# entities = map_word_to_entity(word_list, reverse_map)\n",
    "# end_time = time.time()\n",
    "# print(f\"Time taken by map_word_to_entity: {end_time - start_time} seconds\")"
   ]
  },
  {
   "cell_type": "code",
   "execution_count": null,
   "metadata": {
    "tags": []
   },
   "outputs": [],
   "source": [
    "# entities"
   ]
  },
  {
   "cell_type": "code",
   "execution_count": null,
   "metadata": {
    "tags": []
   },
   "outputs": [],
   "source": []
  },
  {
   "cell_type": "markdown",
   "metadata": {
    "jp-MarkdownHeadingCollapsed": true,
    "tags": []
   },
   "source": [
    "## Context from enity for translator"
   ]
  },
  {
   "cell_type": "code",
   "execution_count": null,
   "metadata": {
    "tags": []
   },
   "outputs": [],
   "source": [
    "#############################\n",
    "\"\"\"\n",
    "Map fuzzy search results to entities in DB\n",
    "\n",
    "IP:\n",
    "1. List of words to map\n",
    "2. List of dict containg all word to entity maps {Entity: [words, in, entity], ... }\n",
    "3. list of dict containg [{en:ar},..] maps\n",
    "\n",
    "OP:\n",
    "1. fuzzy search results mapped to {en:ar}\n",
    "\"\"\"\n",
    "#############################\n",
    "def build_translation_lookup(translate_map):\n",
    "    try:\n",
    "        logging.info(\"Building translation lookup.\")\n",
    "        translation_lookup = {v: k for ele in translate_map for k, v in ele.items()}\n",
    "        logging.info(\"Successfully built the translation lookup.\")\n",
    "    except Exception as e:\n",
    "        logging.error(f\"Error while building translation lookup: {e}\")\n",
    "        raise  # Reraise the exception for further handling if necessary\n",
    "\n",
    "    return translation_lookup\n",
    "\n",
    "\n",
    "def map_fuzzy_to_entity_translator_context(word_list, entity_words_map, translation_lookup=translation_lookup):\n",
    "    if translation_lookup is None:\n",
    "        logging.warning(\"No translation lookup provided; proceeding without it.\")\n",
    "        translation_lookup = {}\n",
    "\n",
    "    try:\n",
    "        logging.info(\"Mapping fuzzy words to entities.\")\n",
    "        \n",
    "        # Step 1: Find matching entities for the word list\n",
    "        entities = map_word_to_entity(word_list, entity_words_map)\n",
    "        \n",
    "        # Step 2: Map entities to their corresponding translations using the lookup\n",
    "        word_entity_map = [\n",
    "            {translation_lookup[entity]: entity} for entity in entities if entity in translation_lookup\n",
    "        ]\n",
    "        \n",
    "        logging.info(f\"Mapping complete. Found {len(word_entity_map)} translation mappings.\")\n",
    "\n",
    "    except Exception as e:\n",
    "        logging.error(f\"Error while mapping fuzzy words to entities: {e}\")\n",
    "        raise  # Reraise the exception for further handling if necessary\n",
    "\n",
    "    return word_entity_map\n",
    "\n",
    "\n",
    "translation_lookup = build_translation_lookup(entity_translate_map)\n"
   ]
  },
  {
   "cell_type": "code",
   "execution_count": null,
   "metadata": {
    "tags": []
   },
   "outputs": [],
   "source": [
    "# # # translated_texts_dict\n",
    "# entity_translate_map\n",
    "# translation_lookup\n"
   ]
  },
  {
   "cell_type": "code",
   "execution_count": null,
   "metadata": {
    "tags": []
   },
   "outputs": [],
   "source": [
    "# word_list = [\"الجزيرة\", \"الزهراء\"]\n",
    "\n",
    "# start_time = time.time()\n",
    "# # entities = map_word_to_entity1(word_list, en_word_entity_map)\n",
    "# as1 = map_fuzzy_to_entity_translator_context1(word_list, translated_texts_dict, entity_translate_map )\n",
    "# end_time = time.time()\n",
    "# print(f\"Time taken by map_fuzzy_to_entity_translator_context1: {end_time - start_time} seconds\")\n",
    "\n",
    "\n",
    "# start_time = time.time()\n",
    "# # entities = map_word_to_entity(word_list, reverse_map)\n",
    "# as2 = map_fuzzy_to_entity_translator_context(word_list, translated_texts_dict, entity_translate_map)\n",
    "# end_time = time.time()\n",
    "# print(f\"Time taken by map_fuzzy_to_entity_translator_context: {end_time - start_time} seconds\")\n"
   ]
  },
  {
   "cell_type": "markdown",
   "metadata": {
    "jp-MarkdownHeadingCollapsed": true,
    "tags": []
   },
   "source": [
    "## Context from query for sql query generator "
   ]
  },
  {
   "cell_type": "code",
   "execution_count": null,
   "metadata": {
    "tags": []
   },
   "outputs": [],
   "source": [
    "import json\n",
    "\n",
    "\n",
    "def get_documents(question, entities_list):\n",
    "    output = \"\"\n",
    "    top_tabel_schema_str = \"\"\n",
    "    noun_doc_str = \"\"\n",
    "    noun_doc_str_prompt = \"\"\n",
    "\n",
    "    try:\n",
    "        #######################################################################################\n",
    "        ################################# RAG table schema from query #############################\n",
    "        #######################################################################################\n",
    "        logging.info(\"Retrieving relevant parent documents for the table schema.\")\n",
    "        retrieved_parent_docs = get_relevant_parent_docs(question)\n",
    "        retrieved_tables_str = [json.dumps(doc) for doc in retrieved_parent_docs]\n",
    "        logging.info(f\"Retrieved {len(retrieved_parent_docs)} parent documents.\")\n",
    "\n",
    "        ############################# Re-Rank & filter #############################\n",
    "        if retrieved_tables_str:\n",
    "            logging.info(\"Re-ranking table schema documents.\")\n",
    "            top_tabel_schema = re_rank_doc(question, retrieved_tables_str, CROSS_ENCODER_MODEL, 2)\n",
    "            logging.debug(f\"Length of table schema documents after Re-ranking is {len(top_tabel_schema)}\")\n",
    "            logging.debug(f\"Table schema documents after Re-ranking is {top_tabel_schema}\")\n",
    "\n",
    "            logging.info(\"Filtering table schema documents.\")\n",
    "            filter_retrieved_parent_docs = filter_context(question, top_tabel_schema, CODE_BISON)\n",
    "            logging.debug(f\"Length of table schema documents after filtering is {len(filter_retrieved_parent_docs)}\")\n",
    "            logging.debug(f\"Table schema documents after filtering is {filter_retrieved_parent_docs}\")\n",
    "\n",
    "            if filter_retrieved_parent_docs:\n",
    "                top_tabel_schema_str = '\\n\\n'.join([str(doc) for doc in filter_retrieved_parent_docs])\n",
    "            else:\n",
    "                top_tabel_schema_str = '\\n\\n'.join([str(doc) for doc in top_tabel_schema])\n",
    "\n",
    "        #######################################################################################\n",
    "        ################################# RAG entity from query #############################  \n",
    "        #######################################################################################\n",
    "        logging.info(\"Retrieving noun documents from PostgreSQL.\")\n",
    "        retrieved_noun_docs = get_noun_pg_results(question) \n",
    "        retrieved_noun_docs_str = [str(doc) for doc in retrieved_noun_docs]\n",
    "        logging.info(f\"Retrieved {len(retrieved_noun_docs)} noun documents.\")\n",
    "\n",
    "        if entities_list:\n",
    "            logging.info(\"Getting schema for entities list.\")\n",
    "            entities_list_docs = get_schema(entities_list)\n",
    "            entities_list_docs_str = [str(doc) for doc in entities_list_docs]\n",
    "            combined_noun_docs_set = set(entities_list_docs_str + retrieved_noun_docs_str)\n",
    "            retrieved_noun_docs_str = list(combined_noun_docs_set)\n",
    "\n",
    "        ############################# Re-Rank & filter #############################\n",
    "        if retrieved_noun_docs_str:\n",
    "            logging.info(\"Re-ranking noun documents.\")\n",
    "            top_entity_count = 2\n",
    "            logging.info(f\"Max Re-ranked noun documents len {top_entity_count}.\")\n",
    "            top_noun_docs = re_rank_doc(question, retrieved_noun_docs_str, CROSS_ENCODER_MODEL, top_entity_count)\n",
    "            logging.info(f\"Noun documents after Re-ranking is {top_noun_docs}\")\n",
    "\n",
    "            logging.info(\"Filtering noun documents.\")\n",
    "            filtered_noun_docs_str = filter_context(question, top_noun_docs, CODE_BISON, True)\n",
    "            logging.info(f\"Length of noun documents after filtering is {len(filtered_noun_docs_str)}\")\n",
    "            logging.info(f\"Noun documents after filtering is {filtered_noun_docs_str}\")\n",
    "\n",
    "            if filtered_noun_docs_str:\n",
    "                noun_doc_str = '\\n\\n'.join([str(doc) for doc in filtered_noun_docs_str])\n",
    "\n",
    "        if noun_doc_str:\n",
    "            noun_doc_str_prompt = \"\\n\\n\" + \"Below is the possible relevant SQL query and query result for the user's question: \" + \"\\n\\n\" + noun_doc_str\n",
    "        else:\n",
    "            noun_doc_str_prompt = \"\"\n",
    "\n",
    "        ################ PERFORM FOR ENTITY LIST ###########################\n",
    "        output = top_tabel_schema_str + noun_doc_str_prompt\n",
    "\n",
    "    except Exception as e:\n",
    "        logging.error(f\"Error occurred while getting documents: {e}\")\n",
    "        output = \"An error occurred while processing your request.\"\n",
    "\n",
    "    return output"
   ]
  },
  {
   "cell_type": "code",
   "execution_count": null,
   "metadata": {
    "tags": []
   },
   "outputs": [],
   "source": [
    "# # # query = \"tell  me about amal station\" # n = 1 (correct) t = 1 station-master\n",
    "\n",
    "# # #######################################################################################\n",
    "# # # query =  \"What were the employee sales for the date 18th of May 2024?\" # n = nan t = 1 daily-sales\n",
    "# # # query =  \"How much fuel was requested on the 1st week of May 2024?\" # n = nan, t = 1 fuel req\n",
    "# # # query =  \"What is the employee sales of the 1st 2 weeks of May 2024?\" # n = nan, t = 1 daily\n",
    "# # # query =  \"give me a brief summary on transaction done in may 2024\" # n = nan\n",
    "# # # query =  \"Give me info about Al-Khaleej.\" # n = 3 (2 correct, 1 similar)\n",
    "# query =  \"Can you give me some info about Samra station?\" # n = 1 (correct)\n",
    "# # # query =  \"What stations have restroom, charging station, and car wash?\" # n = 2 (wrong) # cleaning entity vectore store should fix it \n",
    "# # \"\"\"\n",
    "# # ['{\\'query\\': \"SELECT * FROM `ninth-bonito-424905-g3.my_dataset.janitor-data` WHERE `station_name` = \\'Al-Mansour station\\'\", \\'result\\': {\\'fuel_types\\': \\'Super 98\\', \\'location\\': \\'Khor Fakkan\\', \\'station_name\\': \\'Al-Mansour station\\', \\'restroom\\': True, \\'parking\\': False, \\'charging_station\\': True, \\'air_pump\\': True, \\'Fueling\\': True, \\'Oil Services\\': True, \\'Convenience Store\\': False, \\'ATM Machines\\': False, \\'Car Wash\\': True, \\'Fast Food Restaurants\\': False}}', '{\\'query\\': \"SELECT * FROM `ninth-bonito-424905-g3.my_dataset.janitor-data` WHERE `station_name` = \\'Al-Sharq station\\'\", \\'result\\': {\\'fuel_types\\': \\'Special 95\\', \\'location\\': \\'Buraidah\\', \\'station_name\\': \\'Al-Sharq station\\', \\'restroom\\': True, \\'parking\\': False, \\'charging_station\\': False, \\'air_pump\\': False, \\'Fueling\\': False, \\'Oil Services\\': False, \\'Convenience Store\\': True, \\'ATM Machines\\': True, \\'Car Wash\\': True, \\'Fast Food Restaurants\\': False}}']\n",
    "# # \"\"\"\n",
    "# # # query =  \"Who approved the fuel requested on 19th may 2024?\" # n = 0\n",
    "# # # query =  \"What were the total fuel sales for the month of May 2024? provide the cumulative sales amount.\" # n = 0\n",
    "# # # query =  \"How many transactions were completed on May 25, 2024? \" # n = 0\n",
    "# # # query =  \"Can you give the total count of transactions for that day?\" # n = 0\n",
    "# # # query =  \"Who were the top three employees in terms of sales for the month of May 2024? Please list their names and sales amounts.\" # n = 0\n",
    "# # # query =  \"How much revenue was generated from fuel sales in the second week of May 2024? Provide the total revenue for that period.\" # n = 0\n",
    "# # # query =  \"What is the average transaction amount for May 2024? Include the average value of all transactions for the month.\" # n = 0\n",
    "# # # query =  \"Can you provide the total number of fuel requests made in May 2024? I need the count of all fuel requests submitted that month.\" # n = 0\n",
    "# # #######################################################################################\n",
    "\n",
    "\n",
    "\n",
    "# # # # # q= \"which bill did amal translate?\"\n",
    "# # # # # query = \"أخبريني عن الفاتورة التي عالجتها أمل\"\n",
    "\n",
    "\n",
    "# # # retrieved_parent_docs = get_relevant_parent_docs(query)\n",
    "# # # retrieved_tables_str = [json.dumps(doc) for doc in retrieved_parent_docs]\n",
    "# # # top_tabel_schema = re_rank_doc(query, retrieved_tables_str, cross_encoder, 4)\n",
    "# # # filter_retrieved_parent_docs = filter_context(query, top_tabel_schema, AGENT_MODEL)   ## gives good result some times filters out useful content\n",
    "# # # top_tabel_schema_str = '\\n\\n'.join([str(doc) for doc in filter_retrieved_parent_docs])\n",
    "\n",
    "# query = \"Give me a summary of the transactions that took place in May 2024\"\n",
    "# ent = [\"\"]\n",
    "# r = get_documents(query, ent)"
   ]
  },
  {
   "cell_type": "code",
   "execution_count": null,
   "metadata": {
    "tags": []
   },
   "outputs": [],
   "source": [
    "# r"
   ]
  },
  {
   "cell_type": "code",
   "execution_count": null,
   "metadata": {
    "tags": []
   },
   "outputs": [],
   "source": []
  },
  {
   "cell_type": "code",
   "execution_count": null,
   "metadata": {
    "tags": []
   },
   "outputs": [],
   "source": []
  },
  {
   "cell_type": "code",
   "execution_count": null,
   "metadata": {
    "tags": []
   },
   "outputs": [],
   "source": []
  },
  {
   "cell_type": "markdown",
   "metadata": {
    "jp-MarkdownHeadingCollapsed": true,
    "tags": []
   },
   "source": [
    "## NLP"
   ]
  },
  {
   "cell_type": "code",
   "execution_count": null,
   "metadata": {
    "tags": []
   },
   "outputs": [],
   "source": [
    "########################################\n",
    "# Arabic NLP\n",
    "########################################\n",
    "import nltk\n",
    "from nltk.corpus import stopwords\n",
    "from nltk.tokenize import word_tokenize\n",
    "\n",
    "# Download the stopwords and punkt tokenizer models if not already downloaded\n",
    "try:\n",
    "    nltk.download('stopwords', quiet=True)\n",
    "    nltk.download('punkt', quiet=True)\n",
    "    nltk.download('punkt_tab', quiet=True)\n",
    "    logging.info(\"NLTK stopwords and tokenizer models downloaded successfully.\")\n",
    "except Exception as e:\n",
    "    logging.error(f\"Error downloading NLTK resources: {e}\")\n",
    "\n",
    "# Define the list of Arabic stop words\n",
    "arabic_stopwords = set(stopwords.words('arabic'))\n",
    "\n",
    "# Function to remove stop words from a given text\n",
    "def remove_stopwords(text):\n",
    "    try:\n",
    "        # Modify the regex to include Arabic characters and numbers\n",
    "        text = re.sub(r'[^\\u0600-\\u06FFa-zA-Z0-9\\s]', '', text)\n",
    "        logging.info(\"Text cleaned of non-Arabic characters.\")\n",
    "\n",
    "        words = nltk.word_tokenize(text)\n",
    "        logging.info(f\"Tokenized text into {len(words)} words.\")\n",
    "\n",
    "        filtered_words = [word for word in words if word not in arabic_stopwords]\n",
    "        logging.info(f\"Removed stopwords, resulting in {len(filtered_words)} words.\")\n",
    "\n",
    "        return ' '.join(filtered_words)\n",
    "\n",
    "    except Exception as e:\n",
    "        logging.error(f\"Error occurred while removing stopwords: {e}\")\n",
    "        return text  # Return the original text if an error occurs\n",
    "\n"
   ]
  },
  {
   "cell_type": "markdown",
   "metadata": {
    "jp-MarkdownHeadingCollapsed": true,
    "tags": []
   },
   "source": [
    "# Parsers"
   ]
  },
  {
   "cell_type": "code",
   "execution_count": null,
   "metadata": {
    "tags": []
   },
   "outputs": [],
   "source": [
    "from langchain.schema import BaseOutputParser\n",
    "\n",
    "#############################\n",
    "\"\"\"\n",
    "String parser for new translated query chain\n",
    "\"\"\"\n",
    "#############################\n",
    "\n",
    "class CustomOutputParser(BaseOutputParser):\n",
    "    def parse(self, text):\n",
    "        try:\n",
    "            # Split the text to extract translated text and entities\n",
    "            translated_text_part, entities_part = text.split(\"Entities used:\", 1)\n",
    "            translated_text = translated_text_part.replace(\"Translated Text:\", \"\").strip()\n",
    "            entities = [entity.strip() for entity in entities_part.split(\",\") if entity.strip()]\n",
    "            logging.info(\"Parsed translated text and entities successfully.\")\n",
    "            return {\"translated_text\": translated_text, \"entities\": entities}\n",
    "        except Exception as e:\n",
    "            logging.error(f\"Error in CustomOutputParser: {e}\")\n",
    "            return {\"translated_text\": text, \"entities\": []}\n",
    "\n",
    "#############################\n",
    "\"\"\"\n",
    "Dict parser for NER chain \n",
    "\"\"\"\n",
    "#############################\n",
    "\n",
    "class DictOutputParser(BaseOutputParser):\n",
    "    def parse(self, output):\n",
    "        if isinstance(output, str):\n",
    "            match = re.search(r'{.*}', output, re.DOTALL)\n",
    "            if match:\n",
    "                dictionary_str = match.group(0)\n",
    "                try:\n",
    "                    dictionary = ast.literal_eval(dictionary_str)\n",
    "                    logging.info(\"Parsed dictionary successfully.\")\n",
    "                    return dictionary\n",
    "                except (SyntaxError, ValueError) as e:\n",
    "                    logging.error(f\"Error parsing dictionary: {e}\")\n",
    "                    return {}\n",
    "        return {}\n",
    "\n",
    "    def parse_result(self, result):\n",
    "        if 'text' in result:\n",
    "            return self.parse(result['text'])\n",
    "        return {}"
   ]
  },
  {
   "cell_type": "markdown",
   "metadata": {
    "jp-MarkdownHeadingCollapsed": true,
    "tags": []
   },
   "source": [
    "# Helper Chains"
   ]
  },
  {
   "cell_type": "markdown",
   "metadata": {
    "jp-MarkdownHeadingCollapsed": true,
    "tags": []
   },
   "source": [
    "## RAG Filter Chain"
   ]
  },
  {
   "cell_type": "code",
   "execution_count": null,
   "metadata": {
    "tags": []
   },
   "outputs": [],
   "source": [
    "#######################################\n",
    "# Filter RAG documents\n",
    "######################################\n",
    "from langchain_core.prompts import ChatPromptTemplate\n",
    "from langchain_core.prompts import PromptTemplate\n",
    "from langchain_core.chains import LLMChain\n",
    "\n",
    "def filter_context(question, context, llm, entity_query=False, entity=False, fuzzy_entity=False):\n",
    "    \"\"\"\n",
    "    Filters relevant contexts based on the given question using a specified LLM.\n",
    "\n",
    "    Parameters:\n",
    "    - question: The question to evaluate relevance against.\n",
    "    - context: A list of context strings to filter.\n",
    "    - llm: The language model to use for processing.\n",
    "    - entity_query: Flag to indicate if relevance is for SQL queries.\n",
    "    - entity: Flag to indicate if relevance is for entity presence in context.\n",
    "    - fuzzy_entity: Flag to indicate if relevance is for entity presence in a question.\n",
    "\n",
    "    Returns:\n",
    "    - List of relevant contexts that are deemed relevant to the question.\n",
    "    \"\"\"\n",
    "    \n",
    "    # Define prompt templates for different scenarios\n",
    "    prompt_templates = {\n",
    "        'entity_query': \"You are an assistant that determines the relevance of the SQL query and its result to a given question.\\n\\nQuestion: {question}\\n\\n{context}\\n\\nIs this query relevant to the question above? Answer 'yes' or 'no'.\",\n",
    "        'entity': \"You are an assistant that determines the presence of the Entity in a given Context.\\n\\nEntity: {question}\\n\\nContext: {context}\\n\\nIs this Entity present in the context above? Answer 'yes' or 'no'.\",\n",
    "        'fuzzy_entity': \"You are an assistant that determines the presence of the Entity in a given question.\\n\\nQuestion: {question}\\n\\nEntity: {context}\\n\\nIs this Entity present in the question above? Answer 'yes' or 'no'.\",\n",
    "        'default': \"You are an assistant that determines the relevance of table schema to a given question.\\n\\nQuestion: {question}\\n\\nTable: {context}\\n\\nIs this table relevant to the question above? Answer 'yes' or 'no'.\"\n",
    "    }\n",
    "    \n",
    "    prompt_key = 'entity_query' if entity_query else 'entity' if entity else 'fuzzy_entity' if fuzzy_entity else 'default'\n",
    "    \n",
    "    prompt_template = PromptTemplate(\n",
    "        input_variables=[\"question\", \"context\"],\n",
    "        template=prompt_templates[prompt_key]\n",
    "    )\n",
    "\n",
    "    filter_chain = LLMChain(llm=llm, prompt=prompt_template)\n",
    "\n",
    "    try:\n",
    "        inputs = [{\"question\": question, \"context\": ctx} for ctx in context]\n",
    "        results = filter_chain.apply(inputs)\n",
    "\n",
    "        # Extract relevant contexts\n",
    "        relevant_contexts = [ctx[\"context\"] for ctx, res in zip(inputs, results) if 'yes' in res[\"text\"].lower()]\n",
    "        logging.info(f\"Filtered relevant contexts: {len(relevant_contexts)} found.\")\n",
    "        return relevant_contexts\n",
    "\n",
    "    except Exception as e:\n",
    "        logging.error(f\"Error in filtering context: {e}\")\n",
    "        return []\n"
   ]
  },
  {
   "cell_type": "markdown",
   "metadata": {
    "jp-MarkdownHeadingCollapsed": true,
    "tags": []
   },
   "source": [
    "## AR:EN NER chain # NOT GIVING GOOD RESULT"
   ]
  },
  {
   "cell_type": "code",
   "execution_count": null,
   "metadata": {
    "tags": []
   },
   "outputs": [],
   "source": [
    "# def ar_en_ner_identifier(llm, text, tgt):\n",
    "#     ner_prompt = PromptTemplate.from_template(\n",
    "#         \"\"\"Your are an expert at identifying Entitie and an expert translator.\n",
    "#         Given the original user query, identify all the possible named entities in the query, translate it to {tgt} and return a dictionary where the key is the entity in the english and the value is the entity in Arabic.\n",
    "\n",
    "#         Original user query:\n",
    "#         {text}\n",
    "\n",
    "#         Result: \"\"\"\n",
    "#     )\n",
    "\n",
    "\n",
    "#     dict_output_parser = DictOutputParser()\n",
    "#     ar_ner_chain = LLMChain(prompt=ner_prompt, llm=llm, output_parser=dict_output_parser)\n",
    "\n",
    "#     ner_dict = ar_ner_chain.run({\"tgt\": {tgt}, \"text\": text})\n",
    "#     return ner_dict"
   ]
  },
  {
   "cell_type": "code",
   "execution_count": null,
   "metadata": {
    "tags": []
   },
   "outputs": [],
   "source": [
    "# # # CODE_BISON\n",
    "# # # INTERPRETOR_MODEL\n",
    "# # # AGENT_MODEL\n",
    "# # # CHAT_BISON\n",
    "# # # TEXT_BISON\n",
    "# # q = \"ما هي الفواتير التي عمل عليها ياسين؟\"\n",
    "# # q = \"اعطيني معلومات عن الخليج\"\n",
    "# q = \"اعطيني بعض المعلومات عن محطة سمرة\"\n",
    "# res = ar_en_ner_identifier(CHAT_BISON, q, \"en\")\n",
    "# res"
   ]
  },
  {
   "cell_type": "markdown",
   "metadata": {
    "jp-MarkdownHeadingCollapsed": true,
    "tags": []
   },
   "source": [
    "## Adv Translator chain"
   ]
  },
  {
   "cell_type": "code",
   "execution_count": null,
   "metadata": {
    "tags": []
   },
   "outputs": [],
   "source": [
    "def translator_with_rag(llm, text, tgt, rag_result, translated_query):\n",
    "    \"\"\"\n",
    "    Translates the user query based on rough translation and possible entities using a Language Model (LLM).\n",
    "    \n",
    "    Parameters:\n",
    "    - llm: The language model used for translation.\n",
    "    - text: The original user query.\n",
    "    - tgt: The target language for translation.\n",
    "    - rag_result: Retrieved documents or entities used for translation.\n",
    "    - translated_query: The initial rough translation of the query.\n",
    "    \n",
    "    Returns:\n",
    "    - result: A more accurate translated query based on the given inputs.\n",
    "    \"\"\"\n",
    "\n",
    "    logging.info(\"Starting the translation process with RAG\")\n",
    "    logging.debug(f\"Input text: {text}\")\n",
    "    logging.debug(f\"Target language: {tgt}\")\n",
    "    logging.debug(f\"RAG result: {rag_result}\")\n",
    "    logging.debug(f\"Rough translation: {translated_query}\")\n",
    "\n",
    "    try:\n",
    "        # Define the prompt template for LLM\n",
    "        prompt = PromptTemplate.from_template(\n",
    "            \"\"\"You are an expert Translator especially in English and Arabic.\n",
    "            The query can be related to Bills, Daily Sales, Dispenser Configurations, Fuel Requests, Fuel Types, Locations, Nozzles, Ports, Regions, Shifts, Fuel Stations, Tenants, Transactions, Users.\n",
    "            \n",
    "            Below provided are the original user query, query translated roughly to {tgt}, possible entities in the query and its translations in {tgt}. \n",
    "            Return more accurate translated query.\n",
    "            \n",
    "            Instructions:\n",
    "            - Use the translation of an entity only if there is a good match. \n",
    "            - Do not alter or combine entities. Use them as they are.\n",
    "            - Do not use entities if there is no good match.\n",
    "\n",
    "            Original user query:\n",
    "            {text}\n",
    "            \n",
    "            Roughly translated query:\n",
    "            {translated_query}\n",
    "\n",
    "            Possible entities:\n",
    "            {rag_result}\n",
    "\n",
    "            Result:\n",
    "            \"\"\"\n",
    "        )\n",
    "\n",
    "        # Initialize the output parser and LLM chain\n",
    "        output_parser = CustomOutputParser()\n",
    "        chain = LLMChain(prompt=prompt, llm=llm, output_parser=output_parser)\n",
    "\n",
    "        # Run the chain to get the translation result\n",
    "        result = chain.run({\n",
    "            \"tgt\": tgt,\n",
    "            \"text\": text,\n",
    "            \"rag_result\": rag_result,\n",
    "            \"translated_query\": translated_query\n",
    "        })\n",
    "\n",
    "        logging.info(\"Translation process completed successfully\")\n",
    "        logging.debug(f\"Translation result: {result}\")\n",
    "\n",
    "        return result\n",
    "\n",
    "    except Exception as e:\n",
    "        logging.error(f\"An error occurred during translation: {e}\")\n",
    "        return {\"error\": f\"Failed to translate query: {str(e)}\"}\n"
   ]
  },
  {
   "cell_type": "code",
   "execution_count": null,
   "metadata": {
    "tags": []
   },
   "outputs": [],
   "source": []
  },
  {
   "cell_type": "code",
   "execution_count": null,
   "metadata": {
    "tags": []
   },
   "outputs": [],
   "source": [
    "# # t = \"اسمي مادوسودان\"\n",
    "# t =\"اسمي أمل\"\n",
    "# r = translator_with_rag(AGENT_MODEL, t, \"en\", \"{'Aramco station Amal': 'محطة أرامكو أمل'}\" )"
   ]
  },
  {
   "cell_type": "code",
   "execution_count": null,
   "metadata": {
    "tags": []
   },
   "outputs": [],
   "source": [
    "# r"
   ]
  },
  {
   "cell_type": "markdown",
   "metadata": {
    "jp-MarkdownHeadingCollapsed": true,
    "tags": []
   },
   "source": [
    "## NER chain"
   ]
  },
  {
   "cell_type": "code",
   "execution_count": null,
   "metadata": {
    "tags": []
   },
   "outputs": [],
   "source": [
    "##################################\n",
    "# Identify entities in the user query \n",
    "##################################\n",
    "\n",
    "def ner_identifier(llm, query):\n",
    "    \"\"\"\n",
    "    Identifies named entities in the given user query using a Language Model (LLM).\n",
    "    \n",
    "    Parameters:\n",
    "    - llm: The language model used for named entity recognition (NER).\n",
    "    - query: The user query where named entities are to be identified.\n",
    "    \n",
    "    Returns:\n",
    "    - entity_list: A comma-separated string of identified entities.\n",
    "    \"\"\"\n",
    "\n",
    "    logging.info(\"Starting NER identification process\")\n",
    "    logging.debug(f\"User query: {query}\")\n",
    "\n",
    "    try:\n",
    "        # Define the NER prompt template for LLM\n",
    "        ner_prompt = PromptTemplate.from_template(\n",
    "            \"\"\"You are an expert at identifying Entities.\n",
    "            Given the original user query, identify the possible named entities in the query and return all entities (names, locations, addresses, etc.).\n",
    "\n",
    "            Original user query:\n",
    "            {text}\n",
    "\n",
    "            Result (just the entities separated by commas):\n",
    "            \"\"\"\n",
    "        )\n",
    "\n",
    "        # Initialize the output parser and LLM chain\n",
    "        output_parser = CommaSeparatedListOutputParser()\n",
    "        chain = LLMChain(prompt=ner_prompt, llm=llm, output_parser=output_parser)\n",
    "\n",
    "        # Run the chain to get the identified entities\n",
    "        result = chain.invoke({\"text\": query})\n",
    "\n",
    "        # Extract and return the list of entities\n",
    "        entity_list = result['text']\n",
    "        logging.info(\"NER identification completed successfully\")\n",
    "        logging.debug(f\"Identified entities: {entity_list}\")\n",
    "\n",
    "        return entity_list\n",
    "\n",
    "    except Exception as e:\n",
    "        logging.error(f\"An error occurred during NER identification: {e}\")\n",
    "        return {\"error\": f\"Failed to identify entities: {str(e)}\"}\n"
   ]
  },
  {
   "cell_type": "code",
   "execution_count": null,
   "metadata": {},
   "outputs": [],
   "source": [
    "# q = \"Can you give me some info about Samra station?\"\n",
    "# q = \"Give me info about Al-Khaleej.\"\n",
    "# # q = \"اعطيني معلومات عن الخليج\"\n",
    "# # q = \"هل يمكنك أن تعطيني بعض المعلومات عن محطة سمرة ؟\"\n",
    "# # q = \"في أي وقت يفتح مادو؟\"\n",
    "# # q = \"محطة المزيدة مفتوحة\"\n",
    "# rse = ner_identifier(CHAT_BISON, q)\n",
    "# rse"
   ]
  },
  {
   "cell_type": "code",
   "execution_count": null,
   "metadata": {
    "tags": []
   },
   "outputs": [],
   "source": [
    "##################################\n",
    "# Identify entities in the user query \n",
    "##################################\n",
    "\n",
    "def ner_translator(llm, query):\n",
    "    \"\"\"\n",
    "    Translates an Arabic entity name into English, focusing on pronunciation rather than meaning.\n",
    "    \n",
    "    Parameters:\n",
    "    - llm: The language model used for translation.\n",
    "    - query: The Arabic entity name to be translated.\n",
    "    \n",
    "    Returns:\n",
    "    - entity_list: A string representing the translated entity name, or 'None' if it cannot be translated.\n",
    "    \"\"\"\n",
    "    \n",
    "    logging.info(\"Starting Arabic-to-English entity translation\")\n",
    "    logging.debug(f\"Arabic entity provided for translation: {query}\")\n",
    "\n",
    "    try:\n",
    "        # Define the translation prompt template for LLM\n",
    "        ner_tran_prompt = PromptTemplate.from_template(\n",
    "            \"\"\"Given an entity name in Arabic, translate it to English. Do not translate its meaning; translate its pronunciation.\n",
    "            If you can't, just return 'None'.\n",
    "\n",
    "            Arabic entity:\n",
    "            {text}\n",
    "\n",
    "            Result (just the translated Arabic entity):\n",
    "            \"\"\"\n",
    "        )\n",
    "\n",
    "        # Initialize the output parser and LLM chain\n",
    "        output_parser = CommaSeparatedListOutputParser()\n",
    "        chain = LLMChain(prompt=ner_tran_prompt, llm=llm, output_parser=output_parser)\n",
    "\n",
    "        # Run the chain to get the translated entity\n",
    "        result = chain.invoke({\"text\": query})\n",
    "\n",
    "        # Extract and return the translation result\n",
    "        entity_list = result['text']\n",
    "        logging.info(\"Translation process completed successfully\")\n",
    "        logging.debug(f\"Translated entity: {entity_list}\")\n",
    "\n",
    "        return entity_list\n",
    "\n",
    "    except Exception as e:\n",
    "        logging.error(f\"An error occurred during entity translation: {e}\")\n",
    "        return \"None\""
   ]
  },
  {
   "cell_type": "code",
   "execution_count": null,
   "metadata": {
    "tags": []
   },
   "outputs": [],
   "source": [
    "# ress = ner_translator(CHAT_BISON, rse[0])\n",
    "# ress\n"
   ]
  },
  {
   "cell_type": "markdown",
   "metadata": {
    "id": "85Zha4ZCQFSU",
    "jp-MarkdownHeadingCollapsed": true,
    "tags": []
   },
   "source": [
    "## Get SQL query chain"
   ]
  },
  {
   "cell_type": "code",
   "execution_count": null,
   "metadata": {
    "tags": []
   },
   "outputs": [],
   "source": [
    "# Convert dictionary to JSON formatted string\n",
    "def _dict_to_json(x: dict) -> str:\n",
    "    return \"```\\n\" + json.dumps(x, indent=4) + \"\\n```\"\n",
    "\n",
    "# Clean SQL query by removing unwanted formatting\n",
    "def clean_query(query: str) -> str:\n",
    "    return query.replace(\"`sql\\n\", \"\").replace(\"```sql\", \"\").replace(\"```\", \"\").replace(\"``\", \"\")\n",
    "\n",
    "# Format SQL or Error prompt\n",
    "def format_prompt(template, context=None, chat_history=None, question=None, error=None, result=None, query=None, entities=None, answer=None):\n",
    "    \"\"\"Helper function to format the SQL or Error prompt.\"\"\"\n",
    "    return template.format(\n",
    "        context=context or '',\n",
    "        chat_history=chat_history or '',\n",
    "        question=question or '',\n",
    "        error=error or '',\n",
    "        query=query or '',\n",
    "        result=result or '',\n",
    "        entities=entities or '',\n",
    "        answer=answer or ''\n",
    "    )"
   ]
  },
  {
   "cell_type": "code",
   "execution_count": null,
   "metadata": {},
   "outputs": [],
   "source": [
    "# Execute SQL query\n",
    "def execute_query(query, fetch_all=True):\n",
    "    connection = None\n",
    "    result = None\n",
    "    try:\n",
    "        logging.info(f\"Executing query: {query}\")\n",
    "        connection = connect_db() \n",
    "        cursor = connection.cursor()\n",
    "        cursor.execute(query)\n",
    "\n",
    "        if fetch_all:\n",
    "            result = cursor.fetchall()\n",
    "        else:\n",
    "            result = cursor.fetchone()\n",
    "\n",
    "        logging.info(\"Query executed successfully.\")\n",
    "    except Exception as e:\n",
    "        logging.error(f\"Error executing query: {e}\")\n",
    "        raise\n",
    "    finally:\n",
    "        if cursor:\n",
    "            cursor.close()\n",
    "        if connection:\n",
    "            connection.close()\n",
    "\n",
    "    return result"
   ]
  },
  {
   "cell_type": "code",
   "execution_count": null,
   "metadata": {
    "id": "WEdgWhHnQJBe",
    "tags": []
   },
   "outputs": [],
   "source": [
    "from langchain.output_parsers import ResponseSchema, StructuredOutputParser\n",
    "from langchain.schema.runnable import RunnableLambda\n",
    "from operator import itemgetter\n",
    "from langchain.schema import StrOutputParser\n",
    "from langchain.prompts import PromptTemplate\n",
    "from langchain.chains import LLMChain\n",
    "from langchain.output_parsers import CommaSeparatedListOutputParser\n",
    "\n",
    "SQL_PROMPT = \"\"\"You are a PostgreSQL expert.\n",
    "\n",
    "Create a PostgreSQL query based on the following schema and user input.\n",
    "\n",
    "Schema (JSON format):\n",
    "{context}\n",
    "\n",
    "Conversation so far:\n",
    "{chat_history}\n",
    "\n",
    "User query:\n",
    "{question}\n",
    "\n",
    "Instructions:\n",
    "- Return only the PostgreSQL code.\n",
    "- Use standard PostgreSQL syntax.\n",
    "- Do not use backticks or any markup.\n",
    "- Use double quotes for schema names and table names.\n",
    "- Use double quotes for column names.\n",
    "- Use single quotes for values.\n",
    "\n",
    "SQL query:\n",
    "\"\"\"\n",
    "\n",
    "#######################################################################\n",
    "ERROR_PROMPT = \"\"\"Here are the PostgreSQL queries and their errors:\n",
    "\n",
    "{error}\n",
    "\n",
    "Modify the query to fix the errors using the schema and context below.\n",
    "\n",
    "Schema (JSON format):\n",
    "{context}\n",
    "\n",
    "Conversation so far:\n",
    "{chat_history}\n",
    "\n",
    "User query:\n",
    "{question}\n",
    "\n",
    "Instructions:\n",
    "- Return only the PostgreSQL code.\n",
    "- Use standard PostgreSQL syntax.\n",
    "- Do not use backticks or any markup.\n",
    "- Use double quotes for schema names and table names.\n",
    "- Use double quotes for column names.\n",
    "- Use single quotes for values.\n",
    "\n",
    "Corrected SQL query:\n",
    "\"\"\"\n",
    "\n",
    "# Generate SQL query using LLM and retry if errors occur\n",
    "def sql_query_generator(input, config, palm_max_attempts=3, gemini_max_attempts=2):\n",
    "    \"\"\"\n",
    "    Generates a PostgreSQL query using an LLM model and retries corrections based on errors.\n",
    "    \n",
    "    Parameters:\n",
    "    - input: Input dictionary containing the user's query, entities, and chat history.\n",
    "    - config: Configuration parameters.\n",
    "    - palm_max_attempts: Max attempts using the first model (LLM).\n",
    "    - gemini_max_attempts: Max attempts using the second model (fallback model).\n",
    "\n",
    "    Returns:\n",
    "    - A dictionary with the final query and results, or error information if failed.\n",
    "    \"\"\"\n",
    "    try:\n",
    "        docs = get_documents(input['input'], input['entities'])\n",
    "        question = itemgetter(\"input\")(input)\n",
    "        chat_history = itemgetter(\"chat_history\")(input)\n",
    "        formatted_prompt = format_prompt(template=SQL_PROMPT, context=docs, chat_history=chat_history, question=question)\n",
    "\n",
    "        max_attempts = palm_max_attempts + gemini_max_attempts\n",
    "        attempts = 0\n",
    "        error_list = []\n",
    "\n",
    "        while attempts <= max_attempts:\n",
    "            logging.info(f\"Attempt {attempts+1} of {max_attempts}\")\n",
    "            \n",
    "            if attempts < palm_max_attempts:\n",
    "                logging.debug(f\"Using Chat Code Bison for sql query generation\")\n",
    "                logging.debug(f\"Prompt: {formatted_prompt}\")\n",
    "                query = CODE_BISON.invoke(formatted_prompt).content\n",
    "            else:\n",
    "                logging.debug(f\"Using Gemini Pro for sql query generation\")\n",
    "                logging.debug(f\"Prompt: {formatted_prompt}\")\n",
    "                query = GEMINI_PRO(formatted_prompt)\n",
    "            \n",
    "            cleaned_query = clean_query(query)\n",
    "            logging.debug(f\"Cleaned query: {cleaned_query}\")\n",
    "            \n",
    "            try:\n",
    "                # Attempt to execute the query\n",
    "                query_result = execute_query(cleaned_query)\n",
    "                logging.info(f\"Query executed successfully: {cleaned_query}\")\n",
    "                return {\"query\": cleaned_query, \"result\": query_result, \"context\": docs, \"question\": question}\n",
    "            \n",
    "            except Exception as e:\n",
    "                logging.error(f\"Error executing query: {e}\")\n",
    "                error_message = f\"Query: {cleaned_query}\\nError: {str(e)}\"\n",
    "                error_list.append(error_message)\n",
    "                errors_so_far = \"\\n\".join(error_list)\n",
    "                \n",
    "                attempts += 1\n",
    "                if attempts < palm_max_attempts:\n",
    "                    # Generate a corrected query using the error message\n",
    "                    formatted_error_prompt = format_prompt(ERROR_PROMPT, docs, chat_history, question, error=errors_so_far)\n",
    "                    formatted_prompt = formatted_error_prompt\n",
    "                elif attempts == palm_max_attempts:\n",
    "                    # Retry with initial prompt\n",
    "                    formatted_prompt = format_prompt(template=SQL_PROMPT, context=docs, chat_history=chat_history, question=question)\n",
    "                elif attempts <= max_attempts:\n",
    "                    # Use the error prompt for the fallback model\n",
    "                    formatted_error_prompt = format_prompt(ERROR_PROMPT, docs, chat_history, question, error=errors_so_far)\n",
    "                    formatted_prompt = formatted_error_prompt\n",
    "                else:\n",
    "                    logging.error(\"Failed to generate a correct query after multiple attempts.\")\n",
    "                    return {\n",
    "                        \"error\": \"Failed to generate a correct query after multiple attempts.\",\n",
    "                        \"query\": cleaned_query,\n",
    "                        \"error_messages\": error_list,\n",
    "                        \"query_result\": None\n",
    "                    }\n",
    "        return {\"error\": \"Max attempts reached, no valid query.\", \"query_result\": None}\n",
    "\n",
    "    except Exception as e:\n",
    "        logging.error(f\"An unexpected error occurred: {e}\")\n",
    "        return {\"error\": \"An unexpected error occurred.\", \"query_result\": None}\n"
   ]
  },
  {
   "cell_type": "markdown",
   "metadata": {
    "id": "q7mvJMXqOML9",
    "jp-MarkdownHeadingCollapsed": true,
    "tags": []
   },
   "source": [
    "## Interpret the result"
   ]
  },
  {
   "cell_type": "code",
   "execution_count": null,
   "metadata": {
    "id": "pFeZ8zvwQAPD",
    "tags": []
   },
   "outputs": [],
   "source": []
  },
  {
   "cell_type": "code",
   "execution_count": null,
   "metadata": {
    "id": "xtbGdTCDUlLz",
    "tags": []
   },
   "outputs": [],
   "source": [
    "INTERPRET_PROMPT = \"\"\"You are a PostgreSQL expert and skilled in extracting data from CSV.\n",
    "\n",
    "A user asked:\n",
    "{question}\n",
    "\n",
    "The SQL query run was:\n",
    "{query}\n",
    "\n",
    "The query result in CSV format:\n",
    "{result}\n",
    "\n",
    "Based on this result, provide a brief answer to the user's question.\n",
    "\n",
    "Instructions:\n",
    "- Provide only the answer, without explaining how it was obtained.\n",
    "- Extract the answer solely from the query result.\n",
    "- Do not include the user question in your response.\n",
    "- If the answer cannot be found, respond with \"I cannot find the answer\" and include a brief explanation with relevant details.\n",
    "\"\"\"\n",
    "\n",
    "def interpret_data(input, config):\n",
    "    \"\"\"\n",
    "    Interprets data based on the input query and context.\n",
    "\n",
    "    Parameters:\n",
    "    - input: Dictionary containing the query, context, question, and result.\n",
    "    - config: Configuration parameters (if any).\n",
    "\n",
    "    Returns:\n",
    "    - interpreted_result: The interpreted result of the BigQuery data.\n",
    "    \"\"\"\n",
    "\n",
    "    try:\n",
    "        logging.info(\"Interpreting data...\")\n",
    "\n",
    "        # Extract query and context from the input\n",
    "        query = itemgetter(\"query\")(input)\n",
    "        context = itemgetter(\"context\")(input)\n",
    "        question = itemgetter(\"question\")(input)\n",
    "        result = itemgetter(\"result\")(input)\n",
    "\n",
    "        logging.info(f\"Extracted input values: Query: {query}, Question: {question}\")\n",
    "        logging.debug(f\"Query: {query}\")\n",
    "        logging.debug(f\"Question: {question}\")\n",
    "        logging.debug(f\"Context : {context}\")\n",
    "\n",
    "\n",
    "        # Format the prompt for data interpretation\n",
    "        prompt_template = format_prompt(template=INTERPRET_PROMPT, question=question, result=result, query=query)\n",
    "        logging.debug(f\"Prompt: {prompt_template}\")\n",
    "\n",
    "        # Get the interpreted result\n",
    "        interpreted_result = INTERPRETOR_MODEL.invoke(prompt_template)\n",
    "        logging.info(\"Interpreted result retrieved successfully.\")\n",
    "\n",
    "        return interpreted_result.content\n",
    "\n",
    "    except Exception as e:\n",
    "        logging.error(f\"Error interpreting data: {e}\")\n",
    "        return {\"error\": \"Failed to interpret data\", \"details\": str(e)}\n",
    "\n"
   ]
  },
  {
   "cell_type": "markdown",
   "metadata": {
    "jp-MarkdownHeadingCollapsed": true,
    "tags": []
   },
   "source": [
    "## Translator English to Arabic Chain"
   ]
  },
  {
   "cell_type": "code",
   "execution_count": null,
   "metadata": {
    "tags": []
   },
   "outputs": [],
   "source": [
    "def translate_en_to_ar(query, query_response, entities_list, config):\n",
    "    \"\"\"\n",
    "    Translates an English query result and response into Arabic, considering entity mappings.\n",
    "\n",
    "    Parameters:\n",
    "    - query: A dictionary containing the question, query, and query result.\n",
    "    - query_response: The result to be translated.\n",
    "    - entities_list: A list of possible entities that need special handling for translation.\n",
    "    - config: Configuration object containing additional parameters (e.g., translation models).\n",
    "\n",
    "    Returns:\n",
    "    - translation_result.content: Translated response in Arabic.\n",
    "    \"\"\"\n",
    "    try:\n",
    "        # Define the translation prompt template\n",
    "        TRANSLATE_PROMPT = \"\"\"You are an expert English to Arabic Translator.\n",
    "\n",
    "        A user asked this question:\n",
    "        {question}\n",
    "\n",
    "        To find the answer, the following SQL query was run in BigQuery:\n",
    "        ```\n",
    "        {query}\n",
    "        ```\n",
    "\n",
    "        The result of that query was the following table in CSV format:\n",
    "        ```\n",
    "        {result}\n",
    "        ```\n",
    "\n",
    "        {entities}\n",
    "\n",
    "        This is the brief answer to the user question:\n",
    "        ```\n",
    "        {answer}\n",
    "        ```\n",
    "\n",
    "        Using all the above information, translate the answer from English to Arabic.\n",
    "\n",
    "        Follow these restrictions strictly:\n",
    "        - Use only the given information to translate.\n",
    "        - If the entities in the answer are present in the given possible English : Arabic entity translation, use the Arabic entity as is.\n",
    "        - Just write the answer, omit the question from your answer, this is a chat, just provide the answer.\n",
    "        \"\"\"\n",
    "\n",
    "        logging.info(\"Starting translate_en_to_ar function.\")\n",
    "\n",
    "        # Extract relevant fields from the query\n",
    "        question = query.get(\"question\", \"\")\n",
    "        sql_query = query.get(\"query\", \"\")\n",
    "        query_result = query.get(\"result\", \"\")\n",
    "        answer = query_response\n",
    "\n",
    "        # Handle entity mappings if available\n",
    "        entities = None\n",
    "        if entities_list:\n",
    "            entity_maps = []\n",
    "            for entity in entities_list:\n",
    "                for entity_map in entity_translate_map:\n",
    "                    if entity in entity_map:\n",
    "                        entity_maps.append({entity: entity_map[entity]})\n",
    "\n",
    "            # Prepare the entity translation mapping\n",
    "            if entity_maps:\n",
    "                entity_map_str = '\\n'.join([f\"{en}: {ar}\" for mapping in entity_maps for en, ar in mapping.items()])\n",
    "                entities = f\"\\n\\nHere are some entities in English and their Arabic translations that might exist in the answer:\\n```\\n{entity_map_str}\\n```\"\n",
    "        \n",
    "        logging.debug(f\"Entity mappings: {entities}\")\n",
    "\n",
    "        # Format the prompt for translation\n",
    "        prompt_template = format_prompt(\n",
    "            template=TRANSLATE_PROMPT,\n",
    "            question=question,\n",
    "            result=query_result,\n",
    "            query=sql_query,\n",
    "            entities=entities,\n",
    "            answer=answer\n",
    "        )\n",
    "        logging.debug(f\"Formatted prompt: {prompt_template}\")\n",
    "\n",
    "        # Invoke the translation model\n",
    "        translation_result = CHAT_BISON.invoke(prompt_template)\n",
    "        logging.info(\"Translation result successfully retrieved.\")\n",
    "        \n",
    "        return translation_result.content\n",
    "\n",
    "    except Exception as e:\n",
    "        logging.error(f\"Error during translation: {e}\", exc_info=True)\n",
    "        return {\"error\": \"Failed to translate the query result.\", \"details\": str(e)}\n"
   ]
  },
  {
   "cell_type": "markdown",
   "metadata": {
    "tags": []
   },
   "source": [
    "## Test"
   ]
  },
  {
   "cell_type": "code",
   "execution_count": null,
   "metadata": {
    "tags": []
   },
   "outputs": [],
   "source": [
    "# # # # # question = {\"input\": \"what were the total employee sales for the date 18th of May 2024\", \"chat_history\": \"\", \"entities\": []}\n",
    "# question = {\"input\": \"Give me a summary of the operations that took place in May 2024\", \"entities\" : [\"\"], \"chat_history\": \"\"}\n",
    "# # # question = {\"input\": \"what were the employee sales for the date 18th of May 2024?\", \"entities\" : [\"\"], \"chat_history\": \"\"}\n",
    "\n",
    "# # config={} # 'callbacks': [ConsoleCallbackHandler()]\n",
    "# query = sql_query_generator(question, config)\n",
    "# query_response = interpret_data(query, config=config)\n",
    "# # entities_list = []\n",
    "\n",
    "# translated_result = translate_en_to_ar(query, query_response, entities_list, config)\n"
   ]
  },
  {
   "cell_type": "code",
   "execution_count": null,
   "metadata": {
    "tags": []
   },
   "outputs": [],
   "source": [
    "# translated_result"
   ]
  },
  {
   "cell_type": "code",
   "execution_count": null,
   "metadata": {
    "tags": []
   },
   "outputs": [],
   "source": []
  },
  {
   "cell_type": "code",
   "execution_count": null,
   "metadata": {
    "tags": []
   },
   "outputs": [],
   "source": [
    "\n",
    "# # # question = {\"input\": \"what were the total employee sales for the date 18th of May 2024\", \"chat_history\": \"\", \"entities\": []}\n",
    "# question = {\"input\": \" Give me a summary of the operations that took place in May 2024\", \"entities\" : [\"\"], \"chat_history\": \"\"}\n",
    "\n",
    "# config={} # 'callbacks': [ConsoleCallbackHandler()]\n",
    "\n",
    "# query = sql_query_generator(question, config)\n"
   ]
  },
  {
   "cell_type": "code",
   "execution_count": null,
   "metadata": {
    "tags": []
   },
   "outputs": [],
   "source": [
    "# query"
   ]
  },
  {
   "cell_type": "code",
   "execution_count": null,
   "metadata": {
    "tags": []
   },
   "outputs": [],
   "source": [
    "# # # question = {\"input\": \"what were the total employee sales for the date 18th of May 2024\", \"chat_history\": \"\", \"entities\": []}\n",
    "# question = {\"input\": \" Give me a summary of the operations that took place in May 2024\", \"entities\" : [\"\"], \"chat_history\": \"\"}\n",
    "\n",
    "# config={} # 'callbacks': [ConsoleCallbackHandler()]\n",
    "\n",
    "# query = sql_query_generator(question, config)\n",
    "\n",
    "# query_response, query_result = interpret_data(query, config=config)"
   ]
  },
  {
   "cell_type": "code",
   "execution_count": null,
   "metadata": {
    "tags": []
   },
   "outputs": [],
   "source": [
    "# query_response\n",
    "# # query_result"
   ]
  },
  {
   "cell_type": "code",
   "execution_count": null,
   "metadata": {
    "tags": []
   },
   "outputs": [],
   "source": [
    "# # # question = {\"input\": \"what were the total employee sales for the date 18th of May 2024\", \"chat_history\": \"\", \"entities\": []}\n",
    "# question = {\"input\": \"Give me a summary of the operations that took place in May 2024\", \"entities\" : [\"\"], \"chat_history\": \"\"}\n",
    "# question = {\"input\": \"what were the employee sales for the date 18th of May 2024?\", \"entities\" : [\"\"], \"chat_history\": \"\"}\n",
    "\n",
    "# config={} # 'callbacks': [ConsoleCallbackHandler()]\n",
    "# query, query_result = sql_query_generator(question, config)\n",
    "\n",
    "# query_response = interprect_data(query, query_result, config=config)\n",
    "\n",
    "# translated_result = translate_en_to_ar(query, query_response, query_result, config)\n"
   ]
  },
  {
   "cell_type": "code",
   "execution_count": null,
   "metadata": {
    "tags": []
   },
   "outputs": [],
   "source": [
    "# # translated_result\n",
    "# query\n",
    "# # query_result"
   ]
  },
  {
   "cell_type": "markdown",
   "metadata": {
    "id": "Pj3XlntDVzV2",
    "jp-MarkdownHeadingCollapsed": true,
    "tags": []
   },
   "source": [
    "# Tools"
   ]
  },
  {
   "cell_type": "markdown",
   "metadata": {
    "tags": []
   },
   "source": [
    "## Math tool"
   ]
  },
  {
   "cell_type": "code",
   "execution_count": null,
   "metadata": {
    "id": "R8X1LGzzXUcw",
    "tags": []
   },
   "outputs": [],
   "source": [
    "from langchain import LLMMathChain\n",
    "from langchain.tools import Tool\n",
    "\n",
    "math_chain = LLMMathChain.from_llm(llm=AGENT_MODEL)\n",
    "math_tool = Tool(\n",
    "  name=\"Calculator\",\n",
    "  description=\"Useful for when you need to answer questions about math.\",\n",
    "  func=math_chain.run,\n",
    "  coroutine=math_chain.arun)"
   ]
  },
  {
   "cell_type": "markdown",
   "metadata": {
    "jp-MarkdownHeadingCollapsed": true,
    "tags": []
   },
   "source": [
    "# Advanced translator"
   ]
  },
  {
   "cell_type": "code",
   "execution_count": null,
   "metadata": {
    "tags": []
   },
   "outputs": [],
   "source": [
    "def replace_words(text, replacements):\n",
    "    words = text.split()\n",
    "    new_words = [replacements.get(word, word) for word in words]\n",
    "    return ' '.join(new_words)\n",
    "\n",
    "# Define the dictionary for replacements\n",
    "replacements = {\n",
    "    \"operations\": \"transactions\",\n",
    "    \"sessions\": \"transactions\"\n",
    "}"
   ]
  },
  {
   "cell_type": "code",
   "execution_count": null,
   "metadata": {
    "tags": []
   },
   "outputs": [],
   "source": [
    "from langchain.prompts import PromptTemplate\n",
    "from langchain.chains import LLMChain\n",
    "import re\n",
    "from concurrent.futures import ThreadPoolExecutor\n",
    "\n",
    "#############################\n",
    "# Translator with RAG\n",
    "#############################\n",
    "\n",
    "do_print = False\n",
    "def translate_text_v2(llm, text: str, tgt: str):\n",
    "    \"\"\"\n",
    "    Translates a given text into the target language, with entity recognition and RAG (Retrieve and Generate) support.\n",
    "    \n",
    "    Parameters:\n",
    "    - llm: Large language model used for translation tasks.\n",
    "    - text: The input text to be translated.\n",
    "    - tgt: The target language code.\n",
    "    \n",
    "    Returns:\n",
    "    - new_query: The translated text or the original text if no translation was needed.\n",
    "    - translated_entities_used: List of entities translated during the process.\n",
    "    \"\"\"\n",
    "    try:\n",
    "        translate_client = translate.Client()\n",
    "\n",
    "        if isinstance(text, bytes):\n",
    "            text = text.decode(\"utf-8\")\n",
    "        \n",
    "        detected_source_language = translate_client.detect_language(text)[\"language\"]\n",
    "        logging.info(f\"Detected source language: {detected_source_language}\")\n",
    "\n",
    "        logging.debug(f\"Source languages: {detected_source_language}.\")\n",
    "        logging.debug(\"Target languages: {tgt}.\")\n",
    "        logging.debug(\"Text: {text}.\")\n",
    "\n",
    "        translated_entities_used = []\n",
    "        if detected_source_language == tgt:\n",
    "            logging.info(\"Source and target languages are the same. No translation needed.\")\n",
    "\n",
    "\n",
    "\n",
    "            return text, translated_entities_used\n",
    "\n",
    "        # Translate the text if necessary\n",
    "        translated_query = translate_text(text, tgt)\n",
    "        logging.info(\"Basic translation sucessful.\")\n",
    "        logging.debug(\"Basic translated text: {translated_query}.\")\n",
    "\n",
    "\n",
    "        # Initialize variables for storing NER results and entity matching\n",
    "        ar_ner_res, en_ner_res, query_match_entities_list = [], [], []\n",
    "        ar_ner_res_list, en_ner_res_list, ner_match_entities_list = [], [], []\n",
    "\n",
    "        #####################################################################################\n",
    "        ############################# Query RAG and Filtering ##############################\n",
    "        #####################################################################################\n",
    "\n",
    "        query_rag = entity_translate_retriever.get_relevant_documents(text)\n",
    "        query_rag_list = list({doc.page_content for doc in query_rag})\n",
    "\n",
    "        if query_rag_list:\n",
    "            query_re_rank = re_rank_doc(text, query_rag_list, CROSS_ENCODER_MODEL, 2)\n",
    "            query_filter = filter_context(text, query_rag_list, INTERPRETOR_MODEL)\n",
    "\n",
    "            logging.debug(f\"Re-ranked query: {query_re_rank}\")\n",
    "            logging.debug(f\"Filtered query: {query_filter}\")\n",
    "\n",
    "        #####################################################################################\n",
    "        ############################# Fuzzy Search for Entities ############################\n",
    "        #####################################################################################\n",
    "\n",
    "        query_cleaned = remove_stopwords(text)\n",
    "        query_top_match = get_matches(query_cleaned.split(), all_translated_words)\n",
    "\n",
    "        if query_top_match:\n",
    "            query_re_ranked_match = re_rank_doc(text, query_top_match, CROSS_ENCODER_MODEL, 3)\n",
    "            query_re_ranked_match_entities = map_fuzzy_to_entity_translator_context(query_re_ranked_match, translated_texts_dict, entity_translate_map)\n",
    "            query_filtered_match = filter_context(text, query_top_match, INTERPRETOR_MODEL, fuzzy_entity=True)\n",
    "\n",
    "            query_match_entities = map_fuzzy_to_entity_translator_context(query_filtered_match, translated_texts_dict, entity_translate_map)\n",
    "            query_match_entities_list = [str(entity) for entity in query_match_entities]\n",
    "            logging.debug(f\"Fuzzy matched entities: {query_match_entities_list}\")\n",
    "\n",
    "        #####################################################################################\n",
    "        ############################# Named Entity Recognition (NER) ########################\n",
    "        #####################################################################################\n",
    "\n",
    "        ar_ner = ner_identifier(CHAT_BISON, text)\n",
    "        if ar_ner:\n",
    "            en_ner = [translated for ner in ar_ner for translated in ner_translator(CHAT_BISON, ner)]\n",
    "            logging.debug(f\"Arabic NER: {ar_ner}\")\n",
    "            logging.debug(f\"English NER: {en_ner}\")\n",
    "\n",
    "            # # Handle Arabic NER\n",
    "            # for ner_item in ar_ner:\n",
    "            #     process_ner_entities(ner_item, ar_ner_res, ar_ner_res_list, \"Arabic\")\n",
    "\n",
    "            # # Handle English NER\n",
    "            # for ner_item in en_ner:\n",
    "            #     process_ner_entities(ner_item, en_ner_res, en_ner_res_list, \"English\")\n",
    "\n",
    "        entity_count=1\n",
    "        if ar_ner:\n",
    "            entity_count = len(ar_ner)\n",
    "        \n",
    "            ner_res = []\n",
    "            ner = []\n",
    "            ner = ar_ner + en_ner\n",
    "            # ner.append(en_ner)\n",
    "            start_time = time.time()\n",
    "            with ThreadPoolExecutor() as executor:\n",
    "                ar_future = executor.submit(process_ner, ar_ner, 'ar')\n",
    "                en_future = executor.submit(process_ner, en_ner, 'en')\n",
    "                \n",
    "                ar_ner_res_list = ar_future\n",
    "                en_ner_res_list = en_future\n",
    "                \n",
    "                logging.debug(f\"Filtered Arabic NER: {ar_ner_res_list}\")\n",
    "                logging.debug(f\"Filtered English NER: {en_ner_res_list}\")\n",
    "\n",
    "                \n",
    "                \n",
    "        #####################################################################################\n",
    "        ############################# Fuzzy Search for NER Entities #########################\n",
    "        #####################################################################################\n",
    "\n",
    "        ner_split_flattened = [item for sublist in [remove_stopwords(ele).split() for ele in ar_ner] for item in sublist]\n",
    "        if 'محطة' in ner_split_flattened:\n",
    "            ner_split_flattened.remove('محطة')\n",
    "\n",
    "        ner_top_matches = get_matches(ner_split_flattened, all_translated_words, 5)\n",
    "        if ner_top_matches:\n",
    "            process_fuzzy_matches(ner_top_matches, ar_ner, en_ner_res_list, ar_ner_res_list)\n",
    "\n",
    "        #####################################################################################\n",
    "        ############################# Final RAG and Fuzzy Result ############################\n",
    "        #####################################################################################\n",
    "\n",
    "        entities_list = list(set(query_filter + query_match_entities_list + en_ner_res_list + ar_ner_res_list + ner_match_entities_list))\n",
    "        logging.info(f\"Final list of entities: {entities_list}\")\n",
    "\n",
    "        ############################# LLM Chain for Translation #############################\n",
    "        \n",
    "        result = translator_with_rag(CHAT_BISON, text, tgt, entities_list, translated_query)\n",
    "        new_query = replace_words(result['translated_text'], replacements)\n",
    "        logging.debug(f\"Translation with adv translator with out replacer: {result}\")\n",
    "        logging.debug(f\"Translation with replacer: {new_query}\")\n",
    "\n",
    "        translated_entities_used = result['entities']\n",
    "        \n",
    "        logging.info(\"Translation completed successfully.\")\n",
    "        return new_query, translated_entities_used\n",
    "\n",
    "    except Exception as e:\n",
    "        logging.error(f\"An error occurred during translation: {e}\", exc_info=True)\n",
    "        return {\"error\": \"Translation failed.\", \"details\": str(e)}\n",
    "\n",
    "\n",
    "# def process_ner_entities(ner_item, ner_res, ner_res_list, lang_type):\n",
    "#     \"\"\"\n",
    "#     Helper function to process NER entities and apply RAG and filtering.\n",
    "    \n",
    "#     Parameters:\n",
    "#     - ner_item: The named entity to process.\n",
    "#     - ner_res: List to store filtered NER results.\n",
    "#     - ner_res_list: List to store final NER results.\n",
    "#     - lang_type: String indicating whether the NER is 'Arabic' or 'English'.\n",
    "#     \"\"\"\n",
    "#     try:\n",
    "#         ner_rag = entity_translate_retriever.get_relevant_documents(ner_item)\n",
    "#         ner_rag_list = list({doc.page_content for doc in ner_rag})\n",
    "\n",
    "#         if ner_rag_list:\n",
    "#             ner_re_rank = re_rank_doc(ner_item, ner_rag_list, CROSS_ENCODER_MODEL)\n",
    "#             ner_filter = filter_context(ner_item, ner_rag_list, INTERPRETOR_MODEL, entity_query=False, entity=True)\n",
    "#             ner_res.append(list(ner_filter))\n",
    "#             ner_res_list.extend(sum(ner_res, []))\n",
    "\n",
    "#         logging.debug(f\"{lang_type} NER re-ranked: {ner_re_rank}\")\n",
    "#         logging.debug(f\"{lang_type} NER filtered: {ner_filter}\")\n",
    "\n",
    "#     except Exception as e:\n",
    "#         logging.error(f\"Error processing {lang_type} NER entity: {e}\", exc_info=True)\n",
    "\n",
    "\n",
    "def process_ner(ner, language):\n",
    "    ner_res = []\n",
    "    start_time = time.time()\n",
    "\n",
    "    for ele in ner:\n",
    "        ############# RAG #############\n",
    "        ner_rag = entity_translate_retriever.get_relevant_documents(ele)\n",
    "        ner_rag_list = list({doc.page_content for doc in ner_rag})  # Unique results\n",
    "        \n",
    "        ############# Re-Rank and filter #############\n",
    "        if ner_rag_list:\n",
    "            # ner_re_rank = re_rank_doc(ele, ner_rag_list, CROSS_ENCODER_MODEL)\n",
    "            ner_filter = filter_context(ele, ner_rag_list, interpret_data_model, entity_query=False, entity=True)\n",
    "            ner_res.append(list(ner_filter))\n",
    "\n",
    "    ner_res_future = ner_res.result()\n",
    "    ner_res_list = sum(ner_res_future, [])\n",
    "\n",
    "    return ner_res_list\n",
    "\n",
    "\n",
    "def process_fuzzy_matches(ner_top_matches, ar_ner, en_ner_res_list, ar_ner_res_list):\n",
    "    \"\"\"\n",
    "    Helper function to process fuzzy matches for NER entities.\n",
    "    \n",
    "    Parameters:\n",
    "    - ner_top_matches: The top matches from the fuzzy search.\n",
    "    - ar_ner: Arabic NER results.\n",
    "    - en_ner_res_list: List to store English NER results.\n",
    "    - ar_ner_res_list: List to store Arabic NER results.\n",
    "    \"\"\"\n",
    "    try:\n",
    "        ner_re_rank_match = re_rank_doc(ar_ner, ner_top_matches, CROSS_ENCODER_MODEL, len(ar_ner) * 2)\n",
    "        ner_rr_match_entities = map_fuzzy_to_entity_translator_context(ner_re_rank_match, translated_texts_dict, entity_translate_map)\n",
    "        ner_filtered_match = filter_context(ar_ner, ner_top_matches, INTERPRETOR_MODEL, fuzzy_entity=True)\n",
    "        ner_match_entities = map_fuzzy_to_entity_translator_context(ner_filtered_match, translated_texts_dict, entity_translate_map)\n",
    "\n",
    "        en_ner_res_list.extend(ner_rr_match_entities)\n",
    "        ar_ner_res_list.extend(ner_match_entities)\n",
    "\n",
    "        logging.debug(f\"Fuzzy NER matches processed successfully.\")\n",
    "\n",
    "    except Exception as e:\n",
    "        logging.error(f\"Error processing fuzzy NER matches: {e}\", exc_info=True)\n"
   ]
  },
  {
   "cell_type": "code",
   "execution_count": null,
   "metadata": {},
   "outputs": [],
   "source": [
    "# ### q = \"اعطيني معلومات عن الخليج\"\n",
    "# # q = \"هل يمكنك أن تعطيني بعض المعلومات عن محطة سمرة ؟\"\n",
    "# # q = \"في أي وقت يفتح مادو؟\"\n",
    "# # q = \"محطة المزيدة مفتوحة\"\n",
    "# # opt, ent = \n",
    "# # q = \"أعطني ملخصًا موجزًا للمعاملات التي تمت في مايو 2024\"\n",
    "# # q = \"عطني ملخص العمليات التي تمت في شهر مايو سنة 2024\"\n",
    "# q = \"اعطيني معلومات عن الخليج\"\n",
    "# a,b = translate_text_v2(CHAT_BISON, q, \"en\")\n",
    "# # print(opt)\n",
    "# # print(ent)"
   ]
  },
  {
   "cell_type": "code",
   "execution_count": null,
   "metadata": {
    "tags": []
   },
   "outputs": [],
   "source": [
    "# b"
   ]
  },
  {
   "cell_type": "code",
   "execution_count": null,
   "metadata": {
    "tags": []
   },
   "outputs": [],
   "source": [
    "# from langchain.prompts import PromptTemplate\n",
    "# from langchain.chains import LLMChain\n",
    "# import re\n",
    "# from concurrent.futures import ThreadPoolExecutor\n",
    "# #############################\n",
    "# # Translator with RAG\n",
    "# #############################\n",
    "\n",
    "# do_print = False\n",
    "# def translate_text_v2(llm, text: str, tgt: str): #-> dict:\n",
    "    \n",
    "#     translate_client = translate.Client()\n",
    "\n",
    "#     if isinstance(text, bytes):\n",
    "#         text = text.decode(\"utf-8\")\n",
    "    \n",
    "#     detected_source_language = translate_client.detect_language(text)[\"language\"] # time taken 0.117 sec\n",
    "    \n",
    "#     translated_entities_used = []\n",
    "#     if detected_source_language == tgt:\n",
    "#         new_query = text\n",
    "#     else:\n",
    "#         translated_query = translate_text(text, tgt) # time taken 0.188 sec\n",
    "\n",
    "#         ar_ner_res = []\n",
    "#         en_ner_res = []\n",
    "#         query_filter = []\n",
    "#         query_match_entities_list = []\n",
    "#         en_ner_res_list = [] \n",
    "#         ar_ner_res_list = []\n",
    "#         ner_match_entites_list = []\n",
    "#         #####################################################################################\n",
    "#         ############################# query RAG #############################\n",
    "#         #####################################################################################\n",
    "#         start_time = time.time()\n",
    "        \n",
    "#         query_rag = entity_translate_retriever.get_relevant_documents(text)\n",
    "#         query_rag_list = list({doc.page_content for doc in query_rag})\n",
    "        \n",
    "#         ############# Re-Rank and filter ############# \n",
    "#         if query_rag_list:\n",
    "#             query_re_rank = re_rank_doc(text, query_rag_list, CROSS_ENCODER_MODEL, 2)\n",
    "\n",
    "#             query_filter = filter_context(text, query_rag_list, interpret_data_model)\n",
    "            \n",
    "#             if do_print:\n",
    "#                 print(\"query_re_rank !!!!!!!!!!!!!!!!\")\n",
    "#                 print(query_re_rank)\n",
    "#                 print(\"query_filter !!!!!!!!!!!!!!!!\")\n",
    "#                 print(query_filter)\n",
    "\n",
    "#         end_time = time.time()\n",
    "#         print(\"!!!!!!!!!!!!!!!!!!!!!!!!!!!!!!!!!!!! TIME !!!!!!!!!!!!!!!!!!!!!!!!!!!!!!!!!!!!\")\n",
    "#         print(f\"Time taken by query RAG: {end_time - start_time} seconds\")\n",
    "        \n",
    "#         #####################################################################################\n",
    "#         ############################# Fuzzy search query ############################# # time taken 0.244\n",
    "#         #####################################################################################\n",
    "\n",
    "#         query_match_entites_list = \"\"\n",
    "#         query_cleaned = remove_stopwords(text)\n",
    "#         query_split = query_cleaned.split()\n",
    "#         query_top_match = get_matches(query_split, all_translated_words)\n",
    "\n",
    "#         if query_top_match:\n",
    "#             if 'محطة' in query_top_match:\n",
    "#                 query_top_match.remove('محطة')\n",
    "#             if do_print:\n",
    "#                 print(\"query_top_match #####################################################################################\")\n",
    "#                 print(query_top_match)\n",
    "#             ###################################### Re-Rank ##############################################\n",
    "\n",
    "#             query_re_ranked_match = re_rank_doc(text, query_top_match, CROSS_ENCODER_MODEL, 3)\n",
    "#             query_re_ranked_match_entites = map_fuzzy_to_entity_translator_context(query_re_ranked_match, translated_texts_dict, entity_translate_map )\n",
    "#             query_re_ranked_match_entites_list = [str(ele) for ele in query_re_ranked_match_entites]\n",
    "#             if do_print:\n",
    "#                 print(\"query_re_ranked_match #####################################################################################\")\n",
    "#                 print(query_re_ranked_match)\n",
    "\n",
    "#                 print(\"query_re_ranked_match_entites #####################################################################################\")\n",
    "#                 print(query_re_ranked_match_entites)\n",
    "            \n",
    "#             ###################################### Filter ##############################################\n",
    "#             query_filtered_match = filter_context(text, query_top_match, interpret_data_model, fuzzy_entity=True)\n",
    "\n",
    "#             query_match_entities = map_fuzzy_to_entity_translator_context(query_filtered_match, translated_texts_dict, entity_translate_map )\n",
    "#             if do_print:\n",
    "#                 print(\"query_filtered_match #####################################################################################\")\n",
    "#                 print(query_filtered_match)\n",
    "\n",
    "#                 print(\"query_match_entities #####################################################################################\")\n",
    "#                 print(query_match_entities)\n",
    "            \n",
    "#             query_match_entities_list = [str(ele) for ele in query_match_entities]\n",
    "\n",
    "#         #####################################################################################\n",
    "#         ############################# NER Chain ############################# # Time taken 1.767 sec\n",
    "#         #####################################################################################\n",
    "        \n",
    "#         ar_ner = ner_identifier(translation_model, text)\n",
    "\n",
    "#         if ar_ner:\n",
    "#             # en_ner = [ner_translator(translation_model, ner) for ner in ar_ner]\n",
    "#             en_ner = [translated for ner in ar_ner for translated in ner_translator(translation_model, ner)]\n",
    "#             if do_print:\n",
    "#                 print(\"Arabic NER !!!!!!!!!!!!!!!!\")\n",
    "#                 print(ar_ner)\n",
    "#                 print(\"English NER !!!!!!!!!!!!!!!!\")\n",
    "#                 print(en_ner)\n",
    "\n",
    "#         #####################################################################################\n",
    "#         ############################# ar+en NER #############################\n",
    "#         #####################################################################################\n",
    "#         entity_count=1\n",
    "#         if ar_ner:\n",
    "#             entity_count = len(ar_ner)\n",
    "        \n",
    "#             ner_res = []\n",
    "#             ner = []\n",
    "#             ner = ar_ner + en_ner\n",
    "#             # ner.append(en_ner)\n",
    "#             start_time = time.time()\n",
    "#             with ThreadPoolExecutor() as executor:\n",
    "#                 ar_future = executor.submit(process_ner, ar_ner, 'ar')\n",
    "#                 en_future = executor.submit(process_ner, en_ner, 'en')\n",
    "                \n",
    "#                 ar_ner_res = ar_future\n",
    "#                 en_ner_res = en_future\n",
    "\n",
    "#                 print(ar_ner_res_list)\n",
    "#                 print(en_ner_res_list)\n",
    "                \n",
    "                \n",
    "#             end_time = time.time()\n",
    "#             print(\"!!!!!!!!!!!!!!!!!!!!!!!!!!!!!!!!!!!! TIME !!!!!!!!!!!!!!!!!!!!!!!!!!!!!!!!!!!!\")\n",
    "#             print(f\"Time taken by ar + en NER: {end_time - start_time} seconds\")\n",
    "        \n",
    "# #         #####################################################################################\n",
    "# #         ############################# ar NER #############################\n",
    "# #         #####################################################################################\n",
    "\n",
    "# #         if ar_ner:\n",
    "# #             start_time = time.time()\n",
    "            \n",
    "\n",
    "# #             for ele in ar_ner:\n",
    "# #                 ############# RAG ############# \n",
    "# #                 ar_ner_rag = entity_translate_retriever.get_relevant_documents(ele)\n",
    "# #                 ar_ner_rag_list = list({doc.page_content for doc in ar_ner_rag})  # Unique results\n",
    "# #                 if do_print:\n",
    "# #                     print(\"ar_ner_rag_list #####################################################################################\")\n",
    "# #                     print(f\"ele : {ele}\")\n",
    "# #                     print(ar_ner_rag_list)\n",
    "\n",
    "# #                 ############# Re-Rank and filter ############# \n",
    "# #                 if ar_ner_rag_list:\n",
    "# #                     ar_ner_re_rank = re_rank_doc(ele, ar_ner_rag_list, CROSS_ENCODER_MODEL)\n",
    "                    \n",
    "# #                     ar_ner_filter = filter_context(ele, ar_ner_rag_list, interpret_data_model, entity_query= False, entity=True)\n",
    "# #                     ar_ner_res.append(list(ar_ner_filter))\n",
    "# #                     ar_ner_res_list = sum(ar_ner_res, [])\n",
    "\n",
    "# #                     # if do_print:\n",
    "# #                     print(\"ar_ner_re_rank #####################################################################################\")\n",
    "# #                     print(ar_ner_re_rank)\n",
    "\n",
    "# #                     print(\"ar_ner_filter #####################################################################################\")\n",
    "# #                     print(ar_ner_filter)\n",
    "\n",
    "# #             end_time = time.time()\n",
    "# #             print(\"!!!!!!!!!!!!!!!!!!!!!!!!!!!!!!!!!!!! TIME !!!!!!!!!!!!!!!!!!!!!!!!!!!!!!!!!!!!\")\n",
    "# #             print(f\"Time taken by ar NER: {end_time - start_time} seconds\")\n",
    "# #         #####################################################################################\n",
    "# #         ############################# en NER #############################\n",
    "# #         #####################################################################################\n",
    "# #             start_time = time.time()\n",
    "\n",
    "# #             for ele in en_ner:\n",
    "# #                 ############# RAG ############# \n",
    "# #                 en_ner_rag = entity_translate_retriever.get_relevant_documents(ele)\n",
    "# #                 en_ner_rag_list = list({doc.page_content for doc in en_ner_rag})\n",
    "# #                 if do_print:\n",
    "# #                     print(\"en_ner_rag_list #####################################################################################\")\n",
    "# #                     print(f\"ele : {ele}\")\n",
    "# #                     print(en_ner_rag_list)\n",
    "\n",
    "# #                 # all_en_ner_rag_res.append(en_ner_rag_list)\n",
    "\n",
    "# #                 ############# Re-Rank ############# \n",
    "# #                 if en_ner_rag_list:\n",
    "# #                     en_ner_re_rank = re_rank_doc(ele, en_ner_rag_list, CROSS_ENCODER_MODEL)\n",
    "\n",
    "# #                     en_ner_filter = filter_context(ele, en_ner_rag_list, interpret_data_model, entity_query= False, entity=True)\n",
    "# #                     en_ner_res.append(list(en_ner_filter))\n",
    "# #                     en_ner_res_list = sum(en_ner_res, [])\n",
    "                    \n",
    "# #                     # if do_print:\n",
    "# #                     print(\"en_ner_re_rank #####################################################################################\")\n",
    "# #                     print(en_ner_re_rank)\n",
    "# #                     print(\"en_ner_filter #####################################################################################\")\n",
    "# #                     print(en_ner_filter)\n",
    "# #             end_time = time.time()\n",
    "# #             print(\"!!!!!!!!!!!!!!!!!!!!!!!!!!!!!!!!!!!! TIME !!!!!!!!!!!!!!!!!!!!!!!!!!!!!!!!!!!!\")\n",
    "# #             print(f\"Time taken by en NER: {end_time - start_time} seconds\")\n",
    "#         #####################################################################################\n",
    "#         ############################# Fuzzy search ar entities ############################# # time take 0.17057 sec\n",
    "#         #####################################################################################\n",
    "\n",
    "#             ner_cleaned = [remove_stopwords(ele) for ele in ar_ner] \n",
    "#             ner_split = [ele.split() for ele in ner_cleaned]\n",
    "#             ner_split_flattened = [item for sublist in ner_split for item in sublist]\n",
    "#             if 'محطة' in ner_split_flattened:\n",
    "#                 ner_split_flattened.remove('محطة')\n",
    "\n",
    "            \n",
    "#             ner_top_matches = get_matches(ner_split_flattened, all_translated_words, 5)\n",
    "#             if do_print:\n",
    "#                 print(ner_split_flattened)\n",
    "#                 print(\"ner_top_matches #####################################################################################\")\n",
    "#                 print(ner_top_matches)\n",
    "\n",
    "#             if ner_top_matches:\n",
    "#                 ner_re_rank_match = re_rank_doc(text, ner_top_matches, CROSS_ENCODER_MODEL, entity_count*2)\n",
    "#                 ner_rr_match_entites = map_fuzzy_to_entity_translator_context(ner_re_rank_match, translated_texts_dict, entity_translate_map )\n",
    "#                 ner_rr_match_entites_list = [str(ele) for ele in ner_rr_match_entites]   \n",
    "                \n",
    "#                 ner_filtered_match = filter_context(text, ner_top_matches, interpret_data_model, fuzzy_entity=True)\n",
    "#                 ner_match_entites = map_fuzzy_to_entity_translator_context(ner_filtered_match, translated_texts_dict, entity_translate_map )\n",
    "#                 ner_match_entites_list = [str(ele) for ele in ner_match_entites]        \n",
    "                \n",
    "#                 if do_print:\n",
    "#                     print(\"ner_match_entites #####################################################################################\")\n",
    "#                     print(ner_match_entites)\n",
    "\n",
    "#                     print(\"ner_re_rank_match #####################################################################################\")\n",
    "#                     print(ner_re_rank_match)\n",
    "\n",
    "#         #####################################################################################\n",
    "#         ############################# Final RAG and fuzzy result #############################\n",
    "#         #####################################################################################\n",
    "\n",
    "#         entities_set = set(query_filter + query_match_entities_list + en_ner_res_list + ar_ner_res_list + ner_match_entites_list)\n",
    "#         entities_list = list(entities_set)\n",
    "#         if do_print:\n",
    "#             # query_filter\n",
    "#             # query_match_entities_list\n",
    "#             # en_ner_res\n",
    "#             # ar_ner_res\n",
    "#             # ner_match_entites_list\n",
    "#             print(query_filter)\n",
    "#             print(query_match_entities_list)\n",
    "#             print(en_ner_res_list)\n",
    "#             print(ar_ner_res_list)\n",
    "#             print(ner_match_entites_list)\n",
    "#         print(entities_list)\n",
    "\n",
    "#         ############################# LLM Chain ############################# # time taken 0.345 sec\n",
    "        \n",
    "#         result = translator_with_rag(translation_model, text, tgt, entities_list, translated_query)\n",
    "#         print(result['translated_text'])\n",
    "#         new_query = replace_words(result['translated_text'], replacements)\n",
    "#         translated_entities_used = result['entities']\n",
    "\n",
    "#     return new_query, translated_entities_used\n",
    "\n",
    "\n",
    "\n",
    "# def process_ner(ner, language):\n",
    "#     ner_res = []\n",
    "#     start_time = time.time()\n",
    "\n",
    "#     for ele in ner:\n",
    "#         ############# RAG #############\n",
    "#         ner_rag = entity_translate_retriever.get_relevant_documents(ele)\n",
    "#         ner_rag_list = list({doc.page_content for doc in ner_rag})  # Unique results\n",
    "        \n",
    "#         if do_print:\n",
    "#             print(f\"{language}_ner_rag_list #####################################################################################\")\n",
    "#             print(f\"ele : {ele}\")\n",
    "#             print(ner_rag_list)\n",
    "\n",
    "#         ############# Re-Rank and filter #############\n",
    "#         if ner_rag_list:\n",
    "#             # ner_re_rank = re_rank_doc(ele, ner_rag_list, CROSS_ENCODER_MODEL)\n",
    "#             ner_filter = filter_context(ele, ner_rag_list, interpret_data_model, entity_query=False, entity=True)\n",
    "#             ner_res.append(list(ner_filter))\n",
    "\n",
    "#             # if do_print:\n",
    "#             # print(f\"{language}_ner_re_rank #####################################################################################\")\n",
    "#             # print(ner_re_rank)\n",
    "#             print(f\"{language}_ner_filter #####################################################################################\")\n",
    "#             print(ner_filter)\n",
    "\n",
    "#     ner_res_future = ner_res.result()\n",
    "#     ner_res_list = sum(ner_res_future, [])\n",
    "#     end_time = time.time()\n",
    "#     print(\"!!!!!!!!!!!!!!!!!!!!!!!!!!!!!!!!!!!! TIME !!!!!!!!!!!!!!!!!!!!!!!!!!!!!!!!!!!!\")\n",
    "#     print(f\"Time taken by {language} NER: {end_time - start_time} seconds\")\n",
    "#     return ner_res_list\n"
   ]
  },
  {
   "cell_type": "code",
   "execution_count": null,
   "metadata": {
    "tags": []
   },
   "outputs": [],
   "source": []
  },
  {
   "cell_type": "code",
   "execution_count": null,
   "metadata": {
    "tags": []
   },
   "outputs": [],
   "source": []
  },
  {
   "cell_type": "code",
   "execution_count": null,
   "metadata": {
    "tags": []
   },
   "outputs": [],
   "source": []
  },
  {
   "cell_type": "code",
   "execution_count": null,
   "metadata": {
    "tags": []
   },
   "outputs": [],
   "source": []
  },
  {
   "cell_type": "markdown",
   "metadata": {
    "tags": []
   },
   "source": [
    "# Agent"
   ]
  },
  {
   "cell_type": "code",
   "execution_count": null,
   "metadata": {
    "tags": []
   },
   "outputs": [],
   "source": [
    "AGENT_PROMPT = \"\"\"You are a very powerful assistant that can answer questions. \n",
    "\n",
    "ALWAYS USE user_question_tool to answer fuel, fuel stations, station locations, transcations and bills related questions.\n",
    "\n",
    "You can invoke the tool Calculator if you need to do mathematical operations.\n",
    "\n",
    "Always use the tools to try to answer the questions. Use the chat history for context. Never try to use any other external information.\n",
    "\n",
    "Assume that the user may write with misspellings, fix the spelling of the user before passing the question to any tool.\n",
    "\n",
    "Don't mention what tool you have used in your answer.\n",
    "\"\"\""
   ]
  },
  {
   "cell_type": "code",
   "execution_count": null,
   "metadata": {
    "id": "xJ8UAYRKYC_j",
    "tags": []
   },
   "outputs": [],
   "source": [
    "# from langchain.tools import tool\n",
    "# from langchain.callbacks.tracers import ConsoleCallbackHandler\n",
    "\n",
    "# @tool\n",
    "# def user_question_tool(input) -> str:\n",
    "#     \"\"\"Answers natural language questions related to fuel, fuel stations, station locations, transcations and bills.\"\"\"\n",
    "    \n",
    "#     config = {'callbacks': [ConsoleCallbackHandler()]}\n",
    "    \n",
    "#     try:\n",
    "#         # Fetch user memory\n",
    "#         user_memory = user_memories.get(user_id)\n",
    "#         if not user_memory:\n",
    "#             raise ValueError(\"User memory not found.\")\n",
    "#         memory = user_memory.buffer_as_str.strip()\n",
    "\n",
    "#         # Translate input to English\n",
    "#         try:\n",
    "#             translated_text, entities_list = translate_text_v2(CHAT_BISON, input, \"en\")\n",
    "#             logger.info(f\"Translated text: {translated_text}, Entities: {entities_list}\")\n",
    "#         except Exception as e:\n",
    "#             logger.error(f\"Error during translation: {str(e)}\")\n",
    "#             raise\n",
    "\n",
    "#         # Prepare query\n",
    "#         question = {\"input\": translated_text, \"chat_history\": memory, \"entities\": entities_list}\n",
    "        \n",
    "#         # Generate SQL query\n",
    "#         try:\n",
    "#             query = sql_query_generator(question, config)\n",
    "#             logger.info(f\"Generated SQL query: {query}\")\n",
    "#         except Exception as e:\n",
    "#             logger.error(f\"Error in SQL query generation: {str(e)}\")\n",
    "#             raise\n",
    "\n",
    "#         # Interpret query response\n",
    "#         try:\n",
    "#             query_response = interpret_data(query, config)\n",
    "#             logger.info(f\"Query response: {query_response}\")\n",
    "#         except Exception as e:\n",
    "#             logger.error(f\"Error interpreting query response: {str(e)}\")\n",
    "#             raise\n",
    "\n",
    "#         # Translate query response back to Arabic\n",
    "#         try:\n",
    "#             translated_result = translate_en_to_ar(query, query_response, entities_list, config)\n",
    "#             logger.info(f\"Translated result: {translated_result}\")\n",
    "#         except Exception as e:\n",
    "#             logger.error(f\"Error translating result to Arabic: {str(e)}\")\n",
    "#             raise\n",
    "\n",
    "#         # Save conversation context\n",
    "#         try:\n",
    "#             user_memory.save_context({\"input\": translated_text}, {\"output\": translated_result.strip()})\n",
    "#         except Exception as e:\n",
    "#             logger.error(f\"Error saving user memory: {str(e)}\")\n",
    "#             raise\n",
    "\n",
    "#         return translated_result.strip()\n",
    "\n",
    "#     except Exception as e:\n",
    "#         logger.error(f\"An error occurred in user_question_tool: {str(e)}\")\n",
    "#         return \"An error occurred while processing your request.\"\n",
    "\n"
   ]
  },
  {
   "cell_type": "code",
   "execution_count": null,
   "metadata": {},
   "outputs": [],
   "source": [
    "from langchain.tools import tool\n",
    "from langchain.callbacks.tracers import ConsoleCallbackHandler\n",
    "from pydantic import BaseModel, Field\n",
    "\n",
    "\n",
    "class UserQuestionToolInput(BaseModel):\n",
    "    input: int = Field(description=\"User natural language questions to be answered.\")\n",
    "    user_id: int = Field(description=\"User Id\")\n",
    "\n",
    "\n",
    "@tool(\"user-question-tool\", args_schema= UserQuestionToolInput)\n",
    "def user_question_tool(input: str, user_id: str ) -> str:\n",
    "    \"\"\"Answers natural language questions related to fuel, fuel stations, station locations, transcations and bills using data from database\"\"\"\n",
    "    \n",
    "    config = {'callbacks': [ConsoleCallbackHandler()]}\n",
    "    \n",
    "    try:\n",
    "        logger.info(f\"Using user_question_tool for user: {user_id}\")\n",
    "        logger.info(f\"Using user_question_tool for user question: {input}\")\n",
    "\n",
    "\n",
    "        # Fetch user memory\n",
    "        user_memory = user_memories.get(user_id)\n",
    "        if not user_memory:\n",
    "            raise ValueError(\"User memory not found.\")\n",
    "        memory = user_memory.buffer_as_str.strip()\n",
    "\n",
    "        # Translate input to English\n",
    "        try:\n",
    "            translated_text, entities_list = translate_text_v2(CHAT_BISON, input, \"en\")\n",
    "            logger.info(f\"Translated text: {translated_text}, Entities: {entities_list}\")\n",
    "        except Exception as e:\n",
    "            logger.error(f\"Error during translation: {str(e)}\")\n",
    "            raise\n",
    "\n",
    "        # Prepare query\n",
    "        question = {\"input\": translated_text, \"chat_history\": memory, \"entities\": entities_list}\n",
    "        \n",
    "        # Generate SQL query\n",
    "        try:\n",
    "            query = sql_query_generator(question, config)\n",
    "            logger.info(f\"Generated SQL query: {query}\")\n",
    "        except Exception as e:\n",
    "            logger.error(f\"Error in SQL query generation: {str(e)}\")\n",
    "            raise\n",
    "\n",
    "        # Interpret query response\n",
    "        try:\n",
    "            query_response = interpret_data(query, config)\n",
    "            logger.info(f\"Query response: {query_response}\")\n",
    "        except Exception as e:\n",
    "            logger.error(f\"Error interpreting query response: {str(e)}\")\n",
    "            raise\n",
    "\n",
    "        # Translate query response back to Arabic\n",
    "        try:\n",
    "            translated_result = translate_en_to_ar(query, query_response, entities_list, config)\n",
    "            logger.info(f\"Translated result: {translated_result}\")\n",
    "        except Exception as e:\n",
    "            logger.error(f\"Error translating result to Arabic: {str(e)}\")\n",
    "            raise\n",
    "\n",
    "        # Save conversation context\n",
    "        try:\n",
    "            user_memory.save_context({\"input\": translated_text}, {\"output\": translated_result.strip()})\n",
    "        except Exception as e:\n",
    "            logger.error(f\"Error saving user memory: {str(e)}\")\n",
    "            raise\n",
    "\n",
    "        return translated_result.strip()\n",
    "\n",
    "    except Exception as e:\n",
    "        logger.error(f\"An error occurred in user_question_tool: {str(e)}\")\n",
    "        return \"An error occurred while processing your request.\"\n",
    "\n"
   ]
  },
  {
   "cell_type": "code",
   "execution_count": null,
   "metadata": {
    "tags": []
   },
   "outputs": [],
   "source": [
    "from collections import defaultdict\n",
    "from langchain.memory import ConversationBufferWindowMemory\n",
    "\n",
    "user_memories = defaultdict(lambda: ConversationBufferWindowMemory(memory_key=\"chat_history\", k=50, return_messages=True))\n",
    "user_agents = {}"
   ]
  },
  {
   "cell_type": "code",
   "execution_count": 27,
   "metadata": {
    "id": "lkKHQn3baaEi",
    "tags": []
   },
   "outputs": [
    {
     "ename": "SyntaxError",
     "evalue": "invalid syntax (2867925098.py, line 1)",
     "output_type": "error",
     "traceback": [
      "\u001b[0;36m  Cell \u001b[0;32mIn[27], line 1\u001b[0;36m\u001b[0m\n\u001b[0;31m    https://python.langchain.com/v0.1/docs/modules/agents/agent_types/# https://python.langchain.com/v0.1/docs/modules/agents/agent_types/react/#initialize-tools\u001b[0m\n\u001b[0m          ^\u001b[0m\n\u001b[0;31mSyntaxError\u001b[0m\u001b[0;31m:\u001b[0m invalid syntax\n"
     ]
    }
   ],
   "source": [
    "# https://python.langchain.com/v0.1/docs/modules/agents/agent_types/\n",
    "# https://python.langchain.com/v0.1/docs/modules/agents/agent_types/react/#initialize-tools\n",
    "\n",
    "from langchain.agents import AgentType, initialize_agent, AgentExecutor\n",
    "\n",
    "    \n",
    "agent_kwgards = {\"system_message\": AGENT_PROMPT}\n",
    "agent_tools = [math_tool, user_question_tool]  # List of tools used by the agent\n",
    "\n",
    "def get_or_create_agent(user_id):\n",
    "    try:\n",
    "        # Check if the user agent already exists\n",
    "        if user_id in user_agents:\n",
    "            logging.info(f\"Reusing existing agent for user_id: {user_id}\")\n",
    "            return user_agents[user_id]\n",
    "\n",
    "        logging.info(f\"Creating new agent for user_id: {user_id}\")\n",
    "        # Create/Get the memory for the user (here its creating)\n",
    "        agent_memory = user_memories.get(user_id)\n",
    "\n",
    "        if not agent_memory:\n",
    "            logging.error(f\"No memory found for user_id: {user_id}\")\n",
    "            raise ValueError(f\"Memory for user_id {user_id} not initialized.\")\n",
    "\n",
    "        # Initialize a new agent with the required tools, memory, and configuration\n",
    "        agent = initialize_agent(\n",
    "            tools=agent_tools,\n",
    "            llm=AGENT_MODEL,\n",
    "            agent=AgentType.CHAT_CONVERSATIONAL_REACT_DESCRIPTION,\n",
    "            memory=agent_memory,\n",
    "            agent_kwgards=agent_kwgards,\n",
    "            max_iterations=5,\n",
    "            early_stopping_method='generate',\n",
    "            verbose=True\n",
    "        )\n",
    "\n",
    "        # Store the newly created agent for future use\n",
    "        user_agents[user_id] = agent\n",
    "        logging.info(f\"Agent successfully created for user_id: {user_id}\")\n",
    "\n",
    "        return agent\n",
    "\n",
    "    except Exception as e:\n",
    "        logging.error(f\"Failed to create or retrieve agent for user_id: {user_id}. Error: {e}\")\n",
    "        raise e\n",
    "\n"
   ]
  },
  {
   "cell_type": "code",
   "execution_count": null,
   "metadata": {},
   "outputs": [],
   "source": [
    "# from langchain.prompts.chat import ChatPromptTemplate #chatGPT\n",
    "from langchain_core.prompts import ChatPromptTemplate # https://python.langchain.com/api_reference/langchain/agents/langchain.agents.tool_calling_agent.base.create_tool_calling_agent.html\n",
    "from langchain.agents import AgentExecutor, create_tool_calling_agent, tool\n",
    "\n",
    "\n",
    "# Define the agent's system prompt\n",
    "AGENT_PROMPT = ChatPromptTemplate.from_messages([\n",
    "    (\"system\", \"You are a very powerful assistant that can answer questions using postgres.\"),\n",
    "    (\"placeholder\", \"{chat_history}\"),\n",
    "    (\"human\", \"{input}\"),\n",
    "    (\"placeholder\", \"{agent_scratchpad}\")\n",
    "])\n",
    "\n",
    "# List of tools available for the agent\n",
    "agent_tools = [math_tool, user_question_tool]\n",
    "\n",
    "def get_or_create_agent(user_id):\n",
    "    try:\n",
    "        # Check if the user agent already exists\n",
    "        if user_id in user_agents:\n",
    "            logging.info(f\"Reusing existing agent for user_id: {user_id}\")\n",
    "            return user_agents[user_id]\n",
    "\n",
    "        logging.info(f\"Creating new agent for user_id: {user_id}\")\n",
    "        # Get the memory associated with the user\n",
    "        agent_memory = user_memories.get(user_id)\n",
    "\n",
    "        if not agent_memory:\n",
    "            logging.error(f\"No memory found for user_id: {user_id}\")\n",
    "            raise ValueError(f\"Memory for user_id {user_id} not initialized.\")\n",
    "\n",
    "        # Create a new agent using create_tool_calling_agent\n",
    "        agent = create_tool_calling_agent(\n",
    "            llm=AGENT_MODEL,\n",
    "            tools=agent_tools,\n",
    "            prompt=AGENT_PROMPT\n",
    "        )\n",
    "\n",
    "        # Wrap the agent in an executor with settings like max iterations and verbose logging\n",
    "        agent_executor = AgentExecutor(\n",
    "            agent=agent,\n",
    "            tools=agent_tools,\n",
    "            memory=agent_memory,\n",
    "            max_iterations=5,\n",
    "            early_stopping_method='generate',\n",
    "            verbose=True\n",
    "        )\n",
    "\n",
    "        # Store the agent executor for future use\n",
    "        user_agents[user_id] = agent_executor\n",
    "        logging.info(f\"Agent successfully created for user_id: {user_id}\")\n",
    "\n",
    "        return agent_executor\n",
    "\n",
    "    except Exception as e:\n",
    "        logging.error(f\"Failed to create or retrieve agent for user_id: {user_id}. Error: {e}\")\n",
    "        raise e\n"
   ]
  },
  {
   "cell_type": "code",
   "execution_count": null,
   "metadata": {},
   "outputs": [],
   "source": [
    "import jwt\n",
    "import json\n",
    "from jwt import DecodeError, ExpiredSignatureError\n",
    "\n",
    "# Decoding JWT (without verification)\n",
    "def decode_jwt(token):\n",
    "    try:\n",
    "        # Decode the token to view its payload and header without verifying the signature\n",
    "        decoded = jwt.decode(token, options={\"verify_signature\": False})\n",
    "        \n",
    "        return decoded\n",
    "    except DecodeError as e:\n",
    "        return f\"Failed to decode token: {e}\"\n",
    "\n",
    "\n",
    "# Verifying JWT Signature\n",
    "def verify_jwt(token, pub_key):\n",
    "    try:\n",
    "        # Verifying the token with the public key (for RS256)\n",
    "        verified = jwt.decode(token, pub_key, algorithms=[\"RS256\"])\n",
    "        print(\"Verified JWT Payload: \", verified)\n",
    "        print(\"Verified JWT Header: \", verified.header)\n",
    "        return verified\n",
    "    except ExpiredSignatureError:\n",
    "        return \"Token has expired!\"\n",
    "    except DecodeError:\n",
    "        return \"Invalid token signature!\""
   ]
  },
  {
   "cell_type": "code",
   "execution_count": null,
   "metadata": {
    "tags": []
   },
   "outputs": [],
   "source": [
    "# def process_user_query(user_id: str, query: str) -> str:\n",
    "#     \"\"\"Process the user query and return the response.\"\"\"\n",
    "#     agent = get_or_create_agent(user_id)\n",
    "#     response = agent({\"input\": query})\n",
    "#     output = response['output']\n",
    "#     return output\n",
    "\n",
    "def process_user_query(token: str, query: str) -> str: \n",
    "    \"\"\"Process the user query and return the response.\"\"\"\n",
    "    try:\n",
    "        if not token or not query:\n",
    "            logging.error(\"Token or query is missing.\")\n",
    "            raise ValueError(\"Token and query are required.\")\n",
    "        \n",
    "        # Decode JWT to get user data\n",
    "        user_data = decode_jwt(token)\n",
    "        \n",
    "        if 'TenantID' not in user_data or 'user_id' not in user_data:\n",
    "            logging.error(\"Invalid user data received from JWT.\")\n",
    "            raise ValueError(\"Invalid user data.\")\n",
    "        \n",
    "        tenant_id = user_data['TenantID']\n",
    "        user_id = user_data['user_id']\n",
    "        \n",
    "        logging.info(f\"Processing query for user_id: {user_id} with tenant_id: {tenant_id}\")\n",
    "\n",
    "        # Get or create the agent for the user\n",
    "        agent = get_or_create_agent(user_id)\n",
    "        \n",
    "        # Process the query using the agent\n",
    "        response = agent({\"input\": query})\n",
    "\n",
    "        if 'output' not in response:\n",
    "            logging.error(f\"No output found in response for user_id: {user_id}\")\n",
    "            raise ValueError(\"No output found in the response.\")\n",
    "        \n",
    "        output = response['output']\n",
    "        logging.info(f\"Query processed successfully for user_id: {user_id}\")\n",
    "        \n",
    "        return output\n",
    "\n",
    "    except Exception as e:\n",
    "        logging.error(f\"Error processing user query for token: {token}. Error: {e}\")\n",
    "        raise  # Re-raise the exception after logging"
   ]
  },
  {
   "cell_type": "code",
   "execution_count": null,
   "metadata": {
    "tags": []
   },
   "outputs": [],
   "source": [
    "user_memories.clear()\n",
    "user_agents.clear()\n",
    "user_agents\n",
    "user_memories"
   ]
  },
  {
   "cell_type": "markdown",
   "metadata": {
    "jp-MarkdownHeadingCollapsed": true,
    "tags": []
   },
   "source": [
    "# Query"
   ]
  },
  {
   "cell_type": "code",
   "execution_count": null,
   "metadata": {
    "tags": []
   },
   "outputs": [],
   "source": [
    "# query = \"ماهو متوسط عدد العمليات في شهر خمسة سنة 2024؟ متوسط قيمة جميع العمليات للشهر.\" # What is the average transaction amount for May 2024? Include the average value of all transactions for the month.\n",
    "user_id = \"user12\"  # Example user ID\n",
    "# query = \"هل يمكنك أن تعطيني بعض المعلومات عن محطة سمرة ؟\" # samara\n",
    "query = \"ما هي مبيعات الموظفين بتاريخ 18 مايو 2024؟\"  # \"what were the employee sales for the date 18th of May 2024?\"\n",
    "# query =  \"كم عدد المعاملات التي تم الانتهاء منها في 23 مايو 2024 ؟\" # How many transactions were completed on May 25, 2024? \n",
    "# query = \"2024 كم عدد طلبات الوقود في الأسبوع الأول من شهر مايو\" # How much fuel was requested on the 1st week of May 2024?\n",
    "# query = \"no, give me average value of all transactions for the whole month, not only 18th\"\n",
    "\n",
    "response = process_user_query(user_id, query)"
   ]
  },
  {
   "cell_type": "code",
   "execution_count": null,
   "metadata": {
    "tags": []
   },
   "outputs": [],
   "source": [
    "# Example usage\n",
    "user_id = \"user12\"  # Example user ID\n",
    "\n",
    "# query = \"Which stations have charging?\"\n",
    "# query = \"ما هي المحطات التي لديها الشحن؟\"\n",
    "\n",
    "# query = \"Which stations have restrooms?\"\n",
    "# query = \"Can you give me name of 2 stations?\"\n",
    "\n",
    "# query = \"what were the employee sales for the date 18th of May 2024?\"\n",
    "# query = \"ما هي مبيعات الموظفين بتاريخ 18 مايو 2024؟\"\n",
    "\n",
    "# query = \"what is the employee sales of the 1st 2 week of may 2024\"\n",
    "# query = \"How much fuel was requested on 1st week of may 2024\"\n",
    "# query = \"give me a brief summary on the transactions done in may 2024\"\n",
    "# query = \"Who approved the fuel requested on 19th may 2024\"\n",
    "\n",
    "# query = \"Tell me about the bill processed by Amal\"\n",
    "# query = \"أخبريني عن الفاتورة التي عالجتها أمل\"\n",
    "\n",
    "\n",
    "# query = \"What were the employee sales for the date 18th of May 2024?\"\n",
    "# query = \"عطني ملخص العمليات التي تمت في شهر مايو سنة 2024\"\n",
    "# query = \"كم مبيعات الموظفين في يوم 18 مايو سنة 2024\"\n"
   ]
  },
  {
   "cell_type": "code",
   "execution_count": null,
   "metadata": {
    "tags": []
   },
   "outputs": [],
   "source": [
    "li = [\"كم مبيعات الموظفين في يوم 18 مايو سنة 2024\", \"ما هي مبيعات الموظفين بتاريخ 18 مايو 2024 ؟\", \"كم كانت مبيعات الموظفين في تاريخ 18/05/2024\", \"كم عدد الوقود الذي تم طلبه في اول أسبوع من شهر مايو\", \"ما مقدار الوقود المطلوب في الأسبوع الأول من مايو 2024 ؟\", \"كم عدد طلبات الوقود في الأسبوع الأول من شهر مايو\", \"ماهي مبيعات الموظفين في اول أسبوعين من شهر مايو سنة 2024\", \"ما هي مبيعات الموظفين في الأسابيع الاثنين الأولى من مايو 2024 ؟\", \"كم كانت مبيعات الموظفين في الأسبوعين الأولى من شهر مايو \", \"عطني ملخص العمليات التي تمت في شهر مايو سنة 2024\", \"أعطني ملخصًا موجزًا للمعاملات التي تمت في مايو 2024\", \"اعطيني ملخص العمليات اللي صارت في شهر مايو\", \"اعطيني معلومات عن الخليج\", \"زودني بمعلومات عن الخليج\", \"عطني معلومات عن الخليج \", \"اعطيني بعض المعلومات عن محطة سمرة\", \"هل يمكنك أن تعطيني بعض المعلومات عن محطة سمرة ؟\", \"تقدر تعطيني بعض الملعومات عن محطة سمرة\", \"ما هي المحطات التي تحتوي على دورة مياه ومحطة شحن وغسيل سيارات ؟\", \"ايش هي المحطات التي تحتوي على دورة مياه ومحطة شحن وغسيل سيارات ؟\", \"وش هي المحطات اللي فيها دورات مياه وشاحن كهربائي ومغسلة سيارات ؟\", \"مين وافق على طلب الوقود في يوم 19 شهر 5 سنة 2024\", \"من وافق على الوقود المطلوب في 19 مايو 2024 ؟\", \"من اعتمد طلبات الوقود في 19 مايو 2024 ؟\", \"كم عدد مبيعات الوقود في شهر 5 سنة 2024؟ اعطيني تراكمي المبيعات \", \"ما هو إجمالي مبيعات الوقود لشهر مايو 2024 ؟ مبلغ المبيعات التراكمي.\", \"كم كان اجمالي مبيعات الوقود في شهر مايو 2024 ؟ عطني اجمالي قيمة المبيعات \", \"كم عدد الحوالات المكتملة في يوم 25 شهر 5 سنة 2024؟\", \"كم عدد المعاملات التي تم الانتهاء منها في 25 مايو 2024 ؟\", \"كم كانت العمليات اللي تمت في 25 مايو سنة 2024\", \"اعطيني اجمالي الحولات في هذاك اليوم\", \"هل يمكنك إعطاء إجمالي عدد المعاملات لذلك اليوم ؟\", \"تقدر تعطيني اجمالي العمليات في ذاك اليوم \", \"من هم أفضل ثلاثة موظفين من حيث المبيعات لشهر 5 سنة 2024 ؟ يرجى ذكر أسمائهم ومبالغ مبيعاتهم.\", \"مين افضل ثلاثة موظفين من حيث المبيعات لشهر مايو سنة 2024؟ اذكر أسمائهم ومبالغ مبيعاتهم\", \"مين اعلى ثلاثة عمال في المبيعات لشهر مايو سنة 2024؟ عطني أسمائهم مع المبيعات \", \"ما مقدار الإيرادات التي تم تحقيقها من مبيعات الوقود في الأسبوع الثاني من مايو 2024 ؟ توفير إجمالي الإيرادات لتلك الفترة.\", \"كم عدد الإيرادات من مبيعات الوقود في الأسبوع الثاني من شهر خمسة سنة 2024؟ اعطيني اجمالي الإيرادات في ذيك الفترة\", \"كم كان دخل مبيعات الوقود في الأسبوع الثاني من شهر 5 سنة 2024؟ عطني اجمالي الدخل في هذيك الفترة \", \"ماهو متوسط عدد العمليات في شهر خمسة سنة 2024؟ متوسط قيمة جميع العمليات للشهر.\", \"ما هو متوسط مبلغ الصفقة لشهر مايو 2024 ؟ تضمين متوسط قيمة جميع المعاملات للشهر.\", \"وش متوسط عدد العمليات في مايو 2024؟ اضف متوسط قيمة كل العمليات للشهر\", \"هل يمكنك تقديم العدد الإجمالي لطلبات الوقود المقدمة في مايو 2024 ؟ أحتاج إلى إحصاء جميع طلبات الوقود المقدمة في ذلك الشهر.\", \"اعطيني مجموع طلبات الوقود في شهر 5 سنة 2024؟ احتاج جميع طلبات الوقود في ذلك الشهر\", \"كم مجموع طلبات الوقود في شهر مايو 2024؟ ابي عدد كل الطلبات المعتمدة في هذا الشهر\"]\n",
    "li_en = [ \"How much are employee sales on May 18, 2024?\", \"What are employee sales on May 18, 2024?\", ]\n"
   ]
  },
  {
   "cell_type": "code",
   "execution_count": null,
   "metadata": {
    "tags": []
   },
   "outputs": [],
   "source": [
    "user_memories.clear()\n",
    "user_agents.clear()\n",
    "user_agents\n",
    "user_memories"
   ]
  },
  {
   "cell_type": "code",
   "execution_count": null,
   "metadata": {
    "tags": []
   },
   "outputs": [],
   "source": [
    "\n",
    "response = process_user_query(user_id, li[4])"
   ]
  },
  {
   "cell_type": "code",
   "execution_count": null,
   "metadata": {
    "tags": []
   },
   "outputs": [],
   "source": [
    "print(response)\n",
    "li_res = [\"بلغت مبيعات الموظفين في 18 مايو 2024 مبلغ 85140.05.\" , \"إجمالي مبيعات الموظفين في 18 مايو 2024 هو 85140.05.\", \"\", \"\", \"إجمالي الوقود المطلوب في الأسبوع الأول من شهر مايو 2024 هو 400000.\", ]"
   ]
  },
  {
   "cell_type": "markdown",
   "metadata": {
    "tags": []
   },
   "source": [
    "# Test"
   ]
  },
  {
   "cell_type": "code",
   "execution_count": null,
   "metadata": {
    "tags": []
   },
   "outputs": [],
   "source": [
    "q = \"How many operations took place on May 25, 2024?\"\n",
    "# q = \"what were the total employee sales for the date 18th of May 2024\"\n",
    "q =\"Give me a summary of the operations that took place in May 2024\"\n",
    "result = replace_words(q, replacements)\n",
    "print(result)"
   ]
  },
  {
   "cell_type": "code",
   "execution_count": null,
   "metadata": {
    "tags": []
   },
   "outputs": [],
   "source": [
    "# # question = {\"input\": \"what were the total employee sales for the date 18th of May 2024\", \"chat_history\": \"\", \"entities\": []}\n",
    "# q = \"How many transactions took place on May 25, 2024?\"\n",
    "# q = \"How many fuel orders are there in the first week of May 2024? and how much of each fuel, give fuel name not id?\"\n",
    "q = \"How much revenue will be generated from fuel sales in the second week of May 2024? Give me the total revenues in that period\"\n",
    "question = {\"input\": q , \"entities\" : [\"\"], \"chat_history\": \"\"}\n",
    "\n",
    "config={} # 'callbacks': [ConsoleCallbackHandler()]\n",
    "\n",
    "query = sql_query_generator(question, config)\n",
    "\n",
    "query_response, query_result = interpret_data(query, config=config)\n",
    "\n",
    "# translated_result = translate_en_to_ar(query, query_response, query_result, config)"
   ]
  },
  {
   "cell_type": "code",
   "execution_count": null,
   "metadata": {
    "tags": []
   },
   "outputs": [],
   "source": [
    "print(query) "
   ]
  },
  {
   "cell_type": "code",
   "execution_count": null,
   "metadata": {
    "tags": []
   },
   "outputs": [],
   "source": [
    "\n",
    "li = [\"كم مبيعات الموظفين في يوم 18 مايو سنة 2024\", \"ما هي مبيعات الموظفين بتاريخ 18 مايو 2024 ؟\", \"كم كانت مبيعات الموظفين في تاريخ 18/05/2024\", \"كم عدد الوقود الذي تم طلبه في اول أسبوع من شهر مايو\", \"ما مقدار الوقود المطلوب في الأسبوع الأول من مايو 2024 ؟\", \"كم عدد طلبات الوقود في الأسبوع الأول من شهر مايو\", \"ماهي مبيعات الموظفين في اول أسبوعين من شهر مايو سنة 2024\", \"ما هي مبيعات الموظفين في الأسابيع الاثنين الأولى من مايو 2024 ؟\", \"كم كانت مبيعات الموظفين في الأسبوعين الأولى من شهر مايو \", \"عطني ملخص العمليات التي تمت في شهر مايو سنة 2024\", \"أعطني ملخصًا موجزًا للمعاملات التي تمت في مايو 2024\", \"اعطيني ملخص العمليات اللي صارت في شهر مايو\", \"اعطيني معلومات عن الخليج\", \"زودني بمعلومات عن الخليج\", \"عطني معلومات عن الخليج \", \"اعطيني بعض المعلومات عن محطة سمرة\", \"هل يمكنك أن تعطيني بعض المعلومات عن محطة سمرة ؟\", \"تقدر تعطيني بعض الملعومات عن محطة سمرة\", \"ما هي المحطات التي تحتوي على دورة مياه ومحطة شحن وغسيل سيارات ؟\", \"ايش هي المحطات التي تحتوي على دورة مياه ومحطة شحن وغسيل سيارات ؟\", \"وش هي المحطات اللي فيها دورات مياه وشاحن كهربائي ومغسلة سيارات ؟\", \"مين وافق على طلب الوقود في يوم 19 شهر 5 سنة 2024\", \"من وافق على الوقود المطلوب في 19 مايو 2024 ؟\", \"من اعتمد طلبات الوقود في 19 مايو 2024 ؟\", \"كم عدد مبيعات الوقود في شهر 5 سنة 2024؟ اعطيني تراكمي المبيعات \", \"ما هو إجمالي مبيعات الوقود لشهر مايو 2024 ؟ مبلغ المبيعات التراكمي.\", \"كم كان اجمالي مبيعات الوقود في شهر مايو 2024 ؟ عطني اجمالي قيمة المبيعات \", \"كم عدد الحوالات المكتملة في يوم 25 شهر 5 سنة 2024؟\", \"كم عدد المعاملات التي تم الانتهاء منها في 25 مايو 2024 ؟\", \"كم كانت العمليات اللي تمت في 25 مايو سنة 2024\", \"اعطيني اجمالي الحولات في هذاك اليوم\", \"هل يمكنك إعطاء إجمالي عدد المعاملات لذلك اليوم ؟\", \"تقدر تعطيني اجمالي العمليات في ذاك اليوم \", \"من هم أفضل ثلاثة موظفين من حيث المبيعات لشهر 5 سنة 2024 ؟ يرجى ذكر أسمائهم ومبالغ مبيعاتهم.\", \"مين افضل ثلاثة موظفين من حيث المبيعات لشهر مايو سنة 2024؟ اذكر أسمائهم ومبالغ مبيعاتهم\", \"مين اعلى ثلاثة عمال في المبيعات لشهر مايو سنة 2024؟ عطني أسمائهم مع المبيعات \", \"ما مقدار الإيرادات التي تم تحقيقها من مبيعات الوقود في الأسبوع الثاني من مايو 2024 ؟ توفير إجمالي الإيرادات لتلك الفترة.\", \"كم عدد الإيرادات من مبيعات الوقود في الأسبوع الثاني من شهر خمسة سنة 2024؟ اعطيني اجمالي الإيرادات في ذيك الفترة\", \"كم كان دخل مبيعات الوقود في الأسبوع الثاني من شهر 5 سنة 2024؟ عطني اجمالي الدخل في هذيك الفترة \", \"ماهو متوسط عدد العمليات في شهر خمسة سنة 2024؟ متوسط قيمة جميع العمليات للشهر.\", \"ما هو متوسط مبلغ الصفقة لشهر مايو 2024 ؟ تضمين متوسط قيمة جميع المعاملات للشهر.\", \"وش متوسط عدد العمليات في مايو 2024؟ اضف متوسط قيمة كل العمليات للشهر\", \"هل يمكنك تقديم العدد الإجمالي لطلبات الوقود المقدمة في مايو 2024 ؟ أحتاج إلى إحصاء جميع طلبات الوقود المقدمة في ذلك الشهر.\", \"اعطيني مجموع طلبات الوقود في شهر 5 سنة 2024؟ احتاج جميع طلبات الوقود في ذلك الشهر\", \"كم مجموع طلبات الوقود في شهر مايو 2024؟ ابي عدد كل الطلبات المعتمدة في هذا الشهر\"]\n"
   ]
  },
  {
   "cell_type": "code",
   "execution_count": null,
   "metadata": {
    "tags": []
   },
   "outputs": [],
   "source": [
    "for ele in li[37:-1]:\n",
    "    translated_text, entities = translate_text_v2(AGENT_MODEL, ele, \"en\") # , entities_list\n",
    "    print(translated_text) # , entities_list\n",
    "    print(ele) # , entities_list\n"
   ]
  },
  {
   "cell_type": "code",
   "execution_count": null,
   "metadata": {
    "tags": []
   },
   "outputs": [],
   "source": [
    "# t = \"زودني بمعلومات عن الخليج\"\n",
    "\n",
    "t = \"كم عدد الوقود الذي تم طلبه في اول أسبوع من شهر مايو\"\n",
    "translated_text, entities = translate_text_v2(AGENT_MODEL, t, \"en\") # , entities_list\n",
    "print(translated_text)"
   ]
  },
  {
   "cell_type": "code",
   "execution_count": null,
   "metadata": {
    "tags": []
   },
   "outputs": [],
   "source": [
    "entities"
   ]
  },
  {
   "cell_type": "code",
   "execution_count": null,
   "metadata": {},
   "outputs": [],
   "source": [
    "\n",
    "# query = \"كم مبيعات الموظفين في يوم 18 مايو سنة 2024\"  # What are the employee sales on May 18, 2024?\n",
    "# query = \"ما هي مبيعات الموظفين بتاريخ 18 مايو 2024 ؟\"  # What are the employee sales on May 18, 2024?\n",
    "# query = \"كم كانت مبيعات الموظفين في تاريخ 18/05/2024\"   # How much were the employee sales on May 18, 2024?\n",
    "\n",
    "# query = \"How much fuel was requested on the 1st week of May 2024?\"\n",
    "# query = \"كم عدد الوقود الذي تم طلبه في اول أسبوع من شهر مايو\"  # How much fuel was ordered in the first week of May?\n",
    "# query = \"ما مقدار الوقود المطلوب في الأسبوع الأول من مايو 2024 ؟\"  # How much fuel is required in the first week of May 2024?\n",
    "# query = \"كم عدد طلبات الوقود في الأسبوع الأول من شهر مايو\"  # How many fuel orders are there in the first week of May?\n",
    "\n",
    "# query = \"ماهي مبيعات الموظفين في اول أسبوعين من شهر مايو سنة 2024\"  # What are the employee sales in the first two weeks of May 2024?\n",
    "# query = \"ما هي مبيعات الموظفين في الأسابيع الاثنين الأولى من مايو 2024 ؟\"  # What are the employee sales in the first two weeks of May 2024?\n",
    "# query = \"كم كانت مبيعات الموظفين في الأسبوعين الأولى من شهر مايو \"  # How much were the sales of employees in the first two weeks of May?\n",
    "\n",
    "# query = \"عطني ملخص العمليات التي تمت في شهر مايو سنة 2024\" # Give me a summary of the operations that took place in May 2024.\n",
    "# query = \"أعطني ملخصًا موجزًا للمعاملات التي تمت في مايو 2024\" # Provide a concise summary of the transactions that occurred in May 2024.\n",
    "# query = \"اعطيني ملخص العمليات اللي صارت في شهر مايو\" # Give me a summary of the operations that took place in May.\n",
    "\n",
    "# query = \"اعطيني معلومات عن الخليج\"  # Give me information about the Persian Gulf. # \n",
    "# query = \"زودني بمعلومات عن الخليج\"  # Provide me with information about the Gulf. \n",
    "# query = \"\"\n",
    "\n",
    "# query = \"اعطيني بعض المعلومات عن محطة سمرة\"  # Give me some information about Samra petrol station.\n",
    "# query = \"هل يمكنك أن تعطيني بعض المعلومات عن محطة سمرة ؟\" # Can you provide me with some details about Samra petrol station? # WARNING:root:Applied processor reduces input query to empty string, all comparisons will have score 0. [Query: '؟']\n",
    "# query = \"تقدر تعطيني بعض الملعومات عن محطة سمرة\"  # Can you provide me with some information about Samra petrol station?\n",
    "\n",
    "# ما هي المحطات التي تحتوي على دورة مياه ومحطة شحن وغسيل سيارات ؟  #  Which stations have a restroom, a charging station, and a car wash?\n",
    "# ايش هي المحطات التي تحتوي على دورة مياه ومحطة شحن وغسيل سيارات ؟  #  Which stations have a restroom, a charging station, and a car wash?\n",
    "# وش هي المحطات اللي فيها دورات مياه وشاحن كهربائي ومغسلة سيارات ؟  #  Which stations have restrooms, an electric charger, and a car wash?\n",
    "\n",
    "# مين وافق على طلب الوقود في يوم 19 شهر 5 سنة 2024  #  Who approved the fuel request on May 19, 2024?\n",
    "# مين وافق على طلب الوقود في يوم 19 شهر 5 سنة 2024  #  Who approved the fuel request on May 19, 2024?\n",
    "# من وافق على الوقود المطلوب في 19 مايو 2024 ؟  #  Who approved the fuel required on May 19, 2024?\n",
    "# من اعتمد طلبات الوقود في 19 مايو 2024 ؟  #  Who approved fuel requests on May 19, 2024?\n",
    "# كم عدد مبيعات الوقود في شهر 5 سنة 2024؟ اعطيني تراكمي المبيعات   #  How many fuel sales in May 2024? Give me your cumulative sales.\n",
    "# ما هو إجمالي مبيعات الوقود لشهر مايو 2024 ؟ مبلغ المبيعات التراكمي.  #  What are the total fuel sales for May 2024? Cumulative sales amount.\n",
    "# كم كان اجمالي مبيعات الوقود في شهر مايو 2024 ؟ عطني اجمالي قيمة المبيعات   #  What were the total fuel sales in May 2024? Provide the total sales value.\n",
    "# كم عدد الحوالات المكتملة في يوم 25 شهر 5 سنة 2024؟  #  How many transfers were completed on May 25, 2024?\n",
    "# كم عدد المعاملات التي تم الانتهاء منها في 25 مايو 2024 ؟  #  How many transactions were completed on May 25, 2024?\n",
    "\n",
    "# كم كانت العمليات اللي تمت في 25 مايو سنة 2024  #  How many operations were there on May 25, 2024?\n",
    "# اعطيني اجمالي الحولات في هذاك اليوم  #  Give me the total transfers on that day\n",
    "# هل يمكنك إعطاء إجمالي عدد المعاملات لذلك اليوم ؟  #  Can you provide the total number of transactions for that day?\n",
    "# تقدر تعطيني اجمالي العمليات في ذاك اليوم   #  Can you give me the total number of operations on that day?\n",
    "# من هم أفضل ثلاثة موظفين من حيث المبيعات لشهر 5 سنة 2024 ؟ يرجى ذكر أسمائهم ومبالغ مبيعاتهم.  #  Who are the top three employees in terms of sales for May 2024? Please provide their names and sales amounts.\n",
    "# مين افضل ثلاثة موظفين من حيث المبيعات لشهر مايو سنة 2024؟ اذكر أسمائهم ومبالغ مبيعاتهم  #  Who are the top three employees in terms of sales for May 2024? Please provide their names and sales amounts.\n",
    "\n",
    "# مين اعلى ثلاثة عمال في المبيعات لشهر مايو سنة 2024؟ عطني أسمائهم مع المبيعات   #  Who are the top three sales workers for May 2024? Provide their names and sales figures.\n",
    "# ما مقدار الإيرادات التي تم تحقيقها من مبيعات الوقود في الأسبوع الثاني من مايو 2024 ؟ توفير إجمالي الإيرادات لتلك الفترة.  #  How much revenue was generated from fuel sales during the second week of May 2024? Provide the total revenue for that period.\n",
    "# كم عدد الإيرادات من مبيعات الوقود في الأسبوع الثاني من شهر خمسة سنة 2024؟ اعطيني اجمالي الإيرادات في ذيك الفترة  #  How much revenue will be generated from fuel sales in the second week of May 2024? Give me the total revenues in that period.\n",
    "\n",
    "# كم كان دخل مبيعات الوقود في الأسبوع الثاني من شهر 5 سنة 2024؟ عطني اجمالي الدخل في هذيك الفترة   #  What was the fuel sales revenue in the second week of May 2024? Give me the total revenue during that period.\n",
    "# ماهو متوسط عدد العمليات في شهر خمسة سنة 2024؟ متوسط قيمة جميع العمليات للشهر.  #  What is the average number of operations in May 2024? Average value of all operations for the month.\n",
    "# ما هو متوسط مبلغ الصفقة لشهر مايو 2024 ؟ تضمين متوسط قيمة جميع المعاملات للشهر.  #  What is the average deal amount for May 2024? Include the average value of all transactions for the month.\n",
    "# وش متوسط عدد العمليات في مايو 2024؟ اضف متوسط قيمة كل العمليات للشهر  #  What is the average number of operations in May 2024? Also, add the average value of all operations for the month.\n",
    "\n",
    "# هل يمكنك تقديم العدد الإجمالي لطلبات الوقود المقدمة في مايو 2024 ؟ أحتاج إلى إحصاء جميع طلبات الوقود المقدمة في ذلك الشهر.  #  Can you provide the total number of fuel orders placed in May 2024? I need to count all fuel orders placed that month.\n",
    "# اعطيني مجموع طلبات الوقود في شهر 5 سنة 2024؟ احتاج جميع طلبات الوقود في ذلك الشهر  #  Give me the total fuel orders in May 2024. I need all fuel orders for that month."
   ]
  },
  {
   "cell_type": "code",
   "execution_count": null,
   "metadata": {},
   "outputs": [],
   "source": []
  },
  {
   "cell_type": "code",
   "execution_count": null,
   "metadata": {},
   "outputs": [],
   "source": []
  },
  {
   "cell_type": "code",
   "execution_count": null,
   "metadata": {
    "tags": []
   },
   "outputs": [],
   "source": []
  },
  {
   "cell_type": "code",
   "execution_count": null,
   "metadata": {
    "tags": []
   },
   "outputs": [],
   "source": []
  },
  {
   "cell_type": "code",
   "execution_count": null,
   "metadata": {},
   "outputs": [],
   "source": []
  },
  {
   "cell_type": "code",
   "execution_count": null,
   "metadata": {},
   "outputs": [],
   "source": []
  },
  {
   "cell_type": "code",
   "execution_count": null,
   "metadata": {
    "id": "q0aM6V9BY6dv",
    "tags": []
   },
   "outputs": [],
   "source": []
  },
  {
   "cell_type": "code",
   "execution_count": null,
   "metadata": {
    "tags": []
   },
   "outputs": [],
   "source": []
  },
  {
   "cell_type": "code",
   "execution_count": null,
   "metadata": {
    "tags": []
   },
   "outputs": [],
   "source": [
    "listt = [{'Sharq': 'شرق'},\n",
    "{'Riyadh, KSA': 'الرياض، المملكة العربية السعودية'},\n",
    "{'Fujairah': 'الفجيرة'},\n",
    "{'Dubai': 'دبي'},\n",
    "{'Al-Khaleej station': 'محطة الخليج'},\n",
    "{'Umm Al Quwain': 'ام القيوين'},\n",
    "{'Al-Khaleej': 'الخليج'},\n",
    "{'Sharjah': 'الشارقة'}]\n",
    "\n",
    "ent = '\\n'.join([str(doc) for doc in listt])"
   ]
  },
  {
   "cell_type": "code",
   "execution_count": null,
   "metadata": {
    "tags": []
   },
   "outputs": [],
   "source": []
  },
  {
   "cell_type": "code",
   "execution_count": null,
   "metadata": {},
   "outputs": [],
   "source": []
  },
  {
   "cell_type": "code",
   "execution_count": null,
   "metadata": {
    "tags": []
   },
   "outputs": [],
   "source": []
  },
  {
   "cell_type": "code",
   "execution_count": null,
   "metadata": {
    "tags": []
   },
   "outputs": [],
   "source": []
  },
  {
   "cell_type": "code",
   "execution_count": null,
   "metadata": {
    "tags": []
   },
   "outputs": [],
   "source": []
  },
  {
   "cell_type": "code",
   "execution_count": null,
   "metadata": {
    "tags": []
   },
   "outputs": [],
   "source": []
  },
  {
   "cell_type": "code",
   "execution_count": null,
   "metadata": {
    "tags": []
   },
   "outputs": [],
   "source": []
  },
  {
   "cell_type": "code",
   "execution_count": null,
   "metadata": {
    "tags": []
   },
   "outputs": [],
   "source": []
  },
  {
   "cell_type": "markdown",
   "metadata": {},
   "source": [
    "# Lanagchain set_llm_cache"
   ]
  },
  {
   "cell_type": "code",
   "execution_count": null,
   "metadata": {},
   "outputs": [],
   "source": [
    "CODE_BISON = ChatVertexAI(model_name=\"codechat-bison\", max_output_tokens=1024)\n",
    "INTERPRETOR_MODEL = ChatVertexAI(max_output_tokens=1024)\n",
    "AGENT_MODEL = ChatVertexAI(max_output_tokens=1024)\n",
    "CHAT_BISON = ChatVertexAI(model_name=\"chat-bison@002\", max_output_tokens=1024)"
   ]
  },
  {
   "cell_type": "code",
   "execution_count": 7,
   "metadata": {
    "tags": []
   },
   "outputs": [],
   "source": [
    "from langchain_core.caches import InMemoryCache\n",
    "from langchain_core.globals import set_llm_cache\n",
    "\n",
    "set_llm_cache(InMemoryCache())"
   ]
  },
  {
   "cell_type": "code",
   "execution_count": 13,
   "metadata": {
    "tags": []
   },
   "outputs": [
    {
     "name": "stdout",
     "output_type": "stream",
     "text": [
      "CPU times: user 727 µs, sys: 115 µs, total: 842 µs\n",
      "Wall time: 729 µs\n"
     ]
    },
    {
     "data": {
      "text/plain": [
       "AIMessage(content=' Machine learning (ML) is a subfield of artificial intelligence (AI) that gives computers the ability to learn without being explicitly programmed. ML algorithms are able to learn from and make decisions or predictions based on data. These algorithms are typically trained on large datasets and can be used for a variety of tasks, such as image recognition, natural language processing, and predictive analytics.')"
      ]
     },
     "execution_count": 13,
     "metadata": {},
     "output_type": "execute_result"
    }
   ],
   "source": [
    "%%time\n",
    "res = INTERPRETOR_MODEL.invoke(\"what is ML\")\n",
    "res"
   ]
  },
  {
   "cell_type": "code",
   "execution_count": 12,
   "metadata": {
    "tags": []
   },
   "outputs": [
    {
     "name": "stdout",
     "output_type": "stream",
     "text": [
      "CPU times: user 9.71 ms, sys: 856 µs, total: 10.6 ms\n",
      "Wall time: 2.6 s\n"
     ]
    },
    {
     "data": {
      "text/plain": [
       "AIMessage(content=' Machine learning (ML) is a subfield of artificial intelligence (AI) that gives computers the ability to learn without being explicitly programmed. ML algorithms are able to learn from and make decisions or predictions based on data.\\n\\nThere are many different types of ML algorithms, each with its own strengths and weaknesses. Some of the most common types of ML algorithms include:\\n\\n* **Supervised learning:** In supervised learning, the ML algorithm is trained on a dataset of labeled data. This means that each data point in the dataset is associated with a known output. The ML algorithm learns to map input data to output data by finding patterns in the labeled data.\\n* **Unsupervised learning:** In unsupervised learning, the ML algorithm is trained on a dataset of unlabeled data. This means that each data point in the dataset does not have a known output. The ML algorithm learns to find patterns in the unlabeled data without being explicitly told what to look for.\\n* **Reinforcement learning:** In reinforcement learning, the ML algorithm learns by interacting with its environment. The ML algorithm receives rewards for good actions and punishments for bad actions, and it learns to take actions that maximize its rewards.\\n\\nML is used in a wide variety of applications, including:\\n\\n* **Image recognition:** ML algorithms can be used to identify objects in images. This technology is used in a variety of applications, such as facial recognition, object detection, and medical imaging.\\n* **Natural language processing:** ML algorithms can be used to understand and generate human language. This technology is used in a variety of applications, such as machine translation, spam filtering, and sentiment analysis.\\n* **Speech recognition:** ML algorithms can be used to convert spoken words into text. This technology is used in a variety of applications, such as voice control, dictation, and customer service.\\n* **Predictive analytics:** ML algorithms can be used to predict future events. This technology is used in a variety of applications, such as weather forecasting, stock market analysis, and fraud detection.\\n\\nML is a powerful tool that has the potential to revolutionize many industries. As ML algorithms become more sophisticated, we can expect to see even more innovative and groundbreaking applications of this technology in the years to come.')"
      ]
     },
     "execution_count": 12,
     "metadata": {},
     "output_type": "execute_result"
    }
   ],
   "source": [
    "%%time\n",
    "res = INTERPRETOR_MODEL.invoke(\"Tell me about ML\")\n",
    "res"
   ]
  },
  {
   "cell_type": "code",
   "execution_count": 14,
   "metadata": {
    "tags": []
   },
   "outputs": [
    {
     "name": "stdout",
     "output_type": "stream",
     "text": [
      "CPU times: user 847 µs, sys: 135 µs, total: 982 µs\n",
      "Wall time: 869 µs\n"
     ]
    },
    {
     "data": {
      "text/plain": [
       "AIMessage(content=' Machine learning (ML) is a subfield of artificial intelligence (AI) that gives computers the ability to learn without being explicitly programmed. ML algorithms are able to learn from and make decisions or predictions based on data.\\n\\nThere are many different types of ML algorithms, each with its own strengths and weaknesses. Some of the most common types of ML algorithms include:\\n\\n* **Supervised learning:** In supervised learning, the ML algorithm is trained on a dataset of labeled data. This means that each data point in the dataset is associated with a known output. The ML algorithm learns to map input data to output data by finding patterns in the labeled data.\\n* **Unsupervised learning:** In unsupervised learning, the ML algorithm is trained on a dataset of unlabeled data. This means that each data point in the dataset does not have a known output. The ML algorithm learns to find patterns in the unlabeled data without being explicitly told what to look for.\\n* **Reinforcement learning:** In reinforcement learning, the ML algorithm learns by interacting with its environment. The ML algorithm receives rewards for good actions and punishments for bad actions, and it learns to take actions that maximize its rewards.\\n\\nML is used in a wide variety of applications, including:\\n\\n* **Image recognition:** ML algorithms can be used to identify objects in images. This technology is used in a variety of applications, such as facial recognition, object detection, and medical imaging.\\n* **Natural language processing:** ML algorithms can be used to understand and generate human language. This technology is used in a variety of applications, such as machine translation, spam filtering, and sentiment analysis.\\n* **Speech recognition:** ML algorithms can be used to convert spoken words into text. This technology is used in a variety of applications, such as voice control, dictation, and customer service.\\n* **Predictive analytics:** ML algorithms can be used to predict future events. This technology is used in a variety of applications, such as weather forecasting, stock market analysis, and fraud detection.\\n\\nML is a powerful tool that has the potential to revolutionize many industries. As ML algorithms become more sophisticated, we can expect to see even more innovative and groundbreaking applications of this technology in the years to come.')"
      ]
     },
     "execution_count": 14,
     "metadata": {},
     "output_type": "execute_result"
    }
   ],
   "source": [
    "%%time\n",
    "res = INTERPRETOR_MODEL.invoke(\"Tell me about ML\")\n",
    "res"
   ]
  },
  {
   "cell_type": "code",
   "execution_count": null,
   "metadata": {},
   "outputs": [],
   "source": []
  },
  {
   "cell_type": "code",
   "execution_count": 20,
   "metadata": {
    "tags": []
   },
   "outputs": [],
   "source": []
  },
  {
   "cell_type": "code",
   "execution_count": 24,
   "metadata": {
    "tags": []
   },
   "outputs": [
    {
     "name": "stdout",
     "output_type": "stream",
     "text": [
      "Collecting langchainhub\n",
      "  Downloading langchainhub-0.1.21-py3-none-any.whl.metadata (659 bytes)\n",
      "Requirement already satisfied: packaging<25,>=23.2 in /opt/conda/lib/python3.10/site-packages (from langchainhub) (24.1)\n",
      "Requirement already satisfied: requests<3,>=2 in /opt/conda/lib/python3.10/site-packages (from langchainhub) (2.32.3)\n",
      "Collecting types-requests<3.0.0.0,>=2.31.0.2 (from langchainhub)\n",
      "  Downloading types_requests-2.32.0.20240914-py3-none-any.whl.metadata (1.9 kB)\n",
      "Requirement already satisfied: charset-normalizer<4,>=2 in /opt/conda/lib/python3.10/site-packages (from requests<3,>=2->langchainhub) (2.0.4)\n",
      "Requirement already satisfied: idna<4,>=2.5 in /opt/conda/lib/python3.10/site-packages (from requests<3,>=2->langchainhub) (3.3)\n",
      "Requirement already satisfied: urllib3<3,>=1.21.1 in /opt/conda/lib/python3.10/site-packages (from requests<3,>=2->langchainhub) (1.26.19)\n",
      "Requirement already satisfied: certifi>=2017.4.17 in /opt/conda/lib/python3.10/site-packages (from requests<3,>=2->langchainhub) (2024.7.4)\n",
      "Collecting urllib3<3,>=1.21.1 (from requests<3,>=2->langchainhub)\n",
      "  Downloading urllib3-2.2.3-py3-none-any.whl.metadata (6.5 kB)\n",
      "Downloading langchainhub-0.1.21-py3-none-any.whl (5.2 kB)\n",
      "Downloading types_requests-2.32.0.20240914-py3-none-any.whl (15 kB)\n",
      "Downloading urllib3-2.2.3-py3-none-any.whl (126 kB)\n",
      "Installing collected packages: urllib3, types-requests, langchainhub\n",
      "  Attempting uninstall: urllib3\n",
      "    Found existing installation: urllib3 1.26.19\n",
      "    Uninstalling urllib3-1.26.19:\n",
      "      Successfully uninstalled urllib3-1.26.19\n",
      "\u001b[31mERROR: pip's dependency resolver does not currently take into account all the packages that are installed. This behaviour is the source of the following dependency conflicts.\n",
      "kfp 2.5.0 requires urllib3<2.0.0, but you have urllib3 2.2.3 which is incompatible.\u001b[0m\u001b[31m\n",
      "\u001b[0mSuccessfully installed langchainhub-0.1.21 types-requests-2.32.0.20240914 urllib3-2.2.3\n"
     ]
    }
   ],
   "source": [
    "!pip install langchainhub\n",
    "from langchain import hub"
   ]
  },
  {
   "cell_type": "code",
   "execution_count": 25,
   "metadata": {
    "tags": []
   },
   "outputs": [
    {
     "name": "stderr",
     "output_type": "stream",
     "text": [
      "/opt/conda/lib/python3.10/site-packages/langchain/hub.py:80: DeprecationWarning: The `langchainhub sdk` is deprecated.\n",
      "Please use the `langsmith sdk` instead:\n",
      "  pip install langsmith\n",
      "Use the `pull_prompt` method.\n",
      "  resp: str = client.pull(owner_repo_commit)\n",
      "/opt/conda/lib/python3.10/site-packages/langchainhub/client.py:326: DeprecationWarning: The `langchainhub sdk` is deprecated.\n",
      "Please use the `langsmith sdk` instead:\n",
      "  pip install langsmith\n",
      "Use the `pull_prompt` method.\n",
      "  res_dict = self.pull_repo(owner_repo_commit)\n"
     ]
    }
   ],
   "source": [
    "prompt = hub.pull(\"hwchase17/react\")"
   ]
  },
  {
   "cell_type": "code",
   "execution_count": 26,
   "metadata": {
    "tags": []
   },
   "outputs": [
    {
     "data": {
      "text/plain": [
       "PromptTemplate(input_variables=['agent_scratchpad', 'input', 'tool_names', 'tools'], template='Answer the following questions as best you can. You have access to the following tools:\\n\\n{tools}\\n\\nUse the following format:\\n\\nQuestion: the input question you must answer\\nThought: you should always think about what to do\\nAction: the action to take, should be one of [{tool_names}]\\nAction Input: the input to the action\\nObservation: the result of the action\\n... (this Thought/Action/Action Input/Observation can repeat N times)\\nThought: I now know the final answer\\nFinal Answer: the final answer to the original input question\\n\\nBegin!\\n\\nQuestion: {input}\\nThought:{agent_scratchpad}')"
      ]
     },
     "execution_count": 26,
     "metadata": {},
     "output_type": "execute_result"
    }
   ],
   "source": [
    "prompt"
   ]
  },
  {
   "cell_type": "code",
   "execution_count": null,
   "metadata": {},
   "outputs": [],
   "source": []
  },
  {
   "cell_type": "markdown",
   "metadata": {},
   "source": [
    "# CONTEXT_PROMPT"
   ]
  },
  {
   "cell_type": "code",
   "execution_count": null,
   "metadata": {},
   "outputs": [],
   "source": [
    "CONTEXT_PROMPT = \"\"\"You are a helpful assistant. Your task is to determine if the current user question is a follow-up to any previous questions.\n",
    "\n",
    "Current question:\n",
    "{question}\n",
    "\n",
    "Chat history:\n",
    "{chat_history}\n",
    "\n",
    "If the current question is indeed a follow-up, please formulate a new question that highlights the current question while incorporating relevant context from the related question and its answer.\n",
    "If the current question is not a  follow-up, return the current question as is.\n",
    "\n",
    "New question:\n",
    "\"\"\"\n",
    "\n",
    "# \" and its answer\" is optional\n",
    "\n",
    "# question adjusted for possible follow up \n",
    "adujusted_question = GEMINI_PRO(CONTEXT_PROMPT)"
   ]
  },
  {
   "cell_type": "markdown",
   "metadata": {},
   "source": [
    "# Agent executer"
   ]
  },
  {
   "cell_type": "code",
   "execution_count": null,
   "metadata": {},
   "outputs": [],
   "source": [
    "# https://js.langchain.com/docs/integrations/chat/google_vertex_ai/\n",
    "# https://python.langchain.com/docs/integrations/chat/google_generative_ai/\n",
    "# https://python.langchain.com/docs/integrations/llms/google_vertex_ai_palm/\n",
    "\n",
    "# https://python.langchain.com/docs/how_to/tool_calling/      # Tool calling \n",
    "# https://python.langchain.com/docs/concepts/#agents           # ReAct\n",
    "# https://python.langchain.com/docs/how_to/custom_tools/      # Create custom tools\n",
    "# https://python.langchain.com/docs/concepts/#tools          # Tools\n",
    "# https://python.langchain.com/v0.1/docs/modules/model_io/chat/function_calling/     # Tools/function calling\n",
    "# https://python.langchain.com/docs/how_to/agent_executor/#concepts        # will tell AgentExecutor is not the best For more flexibility and give more info on chat history management\n",
    "# https://python.langchain.com/v0.1/docs/modules/agents/agent_types/tool_calling/    # create_tool_calling_agent      \n",
    "# https://python.langchain.com/v0.1/docs/modules/agents/agent_types/           # agent_types\n",
    "# https://python.langchain.com/api_reference/google_vertexai/chat_models/langchain_google_vertexai.chat_models.ChatVertexAI.html\n",
    "\n",
    "\n",
    "#Batch - https://api.python.langchain.com/en/latest/agents/langchain.agents.agent.AgentExecutor.html\n"
   ]
  },
  {
   "cell_type": "code",
   "execution_count": null,
   "metadata": {},
   "outputs": [],
   "source": []
  },
  {
   "cell_type": "markdown",
   "metadata": {},
   "source": [
    "# Guard Rails"
   ]
  },
  {
   "cell_type": "code",
   "execution_count": null,
   "metadata": {},
   "outputs": [],
   "source": [
    "def calling_dummy_api(user_id):\n",
    "    return\n",
    "    \n",
    "def table_access_check():\n",
    "    # call API\n",
    "    permited_tables = calling_dummy_api(user_id)\n",
    "\n",
    "    # From RAG get table id, if restricted id are there remove that table\n",
    "    # from SQL query generated, check if table_id in query, if is there re generate query with restricted_prompt\n",
    "    # get the id of the user from tenant_id table, see how you can add filter to make sure only selected tenant and stations are seleted, \n",
    "        # Maybe use a function to that adds to WHERE clause if it exists if not, adds the WHERE clause   \n",
    "    # Get the sql result, make sure labels are there (wont work if aggregation are performed)\n",
    "        # and turn it into  DF,\n",
    "        # use it to filter out the ID  \n",
    "    "
   ]
  }
 ],
 "metadata": {
  "colab": {
   "provenance": []
  },
  "environment": {
   "kernel": "conda-base-py",
   "name": "workbench-notebooks.m124",
   "type": "gcloud",
   "uri": "us-docker.pkg.dev/deeplearning-platform-release/gcr.io/workbench-notebooks:m124"
  },
  "kernelspec": {
   "display_name": "Python 3 (ipykernel) (Local)",
   "language": "python",
   "name": "conda-base-py"
  },
  "language_info": {
   "codemirror_mode": {
    "name": "ipython",
    "version": 3
   },
   "file_extension": ".py",
   "mimetype": "text/x-python",
   "name": "python",
   "nbconvert_exporter": "python",
   "pygments_lexer": "ipython3",
   "version": "3.10.14"
  }
 },
 "nbformat": 4,
 "nbformat_minor": 4
}
